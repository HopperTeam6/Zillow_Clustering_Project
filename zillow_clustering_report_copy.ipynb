{
 "cells": [
  {
   "cell_type": "markdown",
   "id": "a97bea00",
   "metadata": {},
   "source": [
    "# <font color ='blue'>Zillow Clustering Project\n",
    "    \n",
    "<img src=\"zillow_logo.png\" alt=\"Zillow Logo\" title=\"Zillow Logo\" width=\"300\" height=\"100\" align=\"right\"/>\n",
    "    \n",
    "    \n",
    "# <p style=\"font-size:50px\" align=\"center\">Zestimate Error</p> <sub>By Kaniela Denis and Mason Sherbondy - 7 Jan 2022</sub>"
   ]
  },
  {
   "cell_type": "markdown",
   "id": "ef591d7d",
   "metadata": {},
   "source": [
    "## Project Goal\n",
    "\n",
    "## Project Description\n",
    "\n",
    "## Data Dictionary\n",
    "\n",
    "<hr style=\"border:2px solid blue\"> </hr>"
   ]
  },
  {
   "cell_type": "code",
   "execution_count": 1,
   "id": "c0cecd56",
   "metadata": {},
   "outputs": [],
   "source": [
    "# import pandas and numpy to start coding\n",
    "import pandas as pd\n",
    "import numpy as np\n",
    "import matplotlib.pyplot as plt\n",
    "import seaborn as sns\n",
    "import scipy.stats as stats\n",
    "import acquire\n",
    "import prepare\n",
    "import explore\n",
    "import modeling\n",
    "\n",
    "import warnings\n",
    "warnings.filterwarnings(\"ignore\")"
   ]
  },
  {
   "cell_type": "markdown",
   "id": "c2a9152f",
   "metadata": {},
   "source": [
    "<hr style=\"border:2px solid blue\"> </hr>\n",
    "\n",
    "# Wrangle"
   ]
  },
  {
   "cell_type": "markdown",
   "id": "dc31eb62",
   "metadata": {},
   "source": [
    "## Actions Taken:\n",
    "1. Data aquired from MySQL database and included only 2017 single family home transactions\n",
    "2. 52K records pulled, included 1.7M nulls\n",
    "3. Removed rows that have no bedrooms or no bathroms or have too smal an area\n",
    "4. Removed columns with more than 50% null values and rows with more than 30% null values\n",
    "5. Dropped all left over nulls as amounts were relatively small\n",
    "6. Removed outliers that were 1.5 times Interquartile Range above third quartile or below first quartile\n",
    "7. Dropped columns that couldn't be used or were redundant\n",
    "8. Renamed columns for readability\n",
    "9. Created new columns for dimension reduction\n",
    "10. Split the data into train, test, validate using 56%, 24%, 20% ratio for each set\n",
    "11. Created scaled columns for exploration, clustering, and modeling"
   ]
  },
  {
   "cell_type": "code",
   "execution_count": 2,
   "id": "17dedf59",
   "metadata": {},
   "outputs": [],
   "source": [
    "df = acquire.get_zillow()"
   ]
  },
  {
   "cell_type": "code",
   "execution_count": 3,
   "id": "7c3cbabc",
   "metadata": {},
   "outputs": [
    {
     "ename": "KeyError",
     "evalue": "\"['parcelid' 'id' 'propertyzoningdesc' 'finishedsquarefeet12'\\n 'censustractandblock' 'propertylandusetypeid' 'heatingorsystemtypeid'\\n 'unitcnt' 'rawcensustractandblock' 'assessmentyear' 'transactiondate'\\n 'calculatedbathnbr' 'roomcnt' 'propertylandusedesc' 'id.1'] not found in axis\"",
     "output_type": "error",
     "traceback": [
      "\u001b[0;31m---------------------------------------------------------------------------\u001b[0m",
      "\u001b[0;31mKeyError\u001b[0m                                  Traceback (most recent call last)",
      "\u001b[0;32m<ipython-input-3-0795acf9777f>\u001b[0m in \u001b[0;36m<module>\u001b[0;34m\u001b[0m\n\u001b[0;32m----> 1\u001b[0;31m \u001b[0mdf\u001b[0m\u001b[0;34m,\u001b[0m \u001b[0mtrain\u001b[0m\u001b[0;34m,\u001b[0m \u001b[0mvalidate\u001b[0m\u001b[0;34m,\u001b[0m \u001b[0mtest\u001b[0m\u001b[0;34m,\u001b[0m \u001b[0mtrain_scaled\u001b[0m\u001b[0;34m,\u001b[0m \u001b[0mvalidate_scaled\u001b[0m\u001b[0;34m,\u001b[0m \u001b[0mtest_scaled\u001b[0m \u001b[0;34m=\u001b[0m \u001b[0mprepare\u001b[0m\u001b[0;34m.\u001b[0m\u001b[0mwrangle\u001b[0m\u001b[0;34m(\u001b[0m\u001b[0mdf\u001b[0m\u001b[0;34m)\u001b[0m\u001b[0;34m\u001b[0m\u001b[0;34m\u001b[0m\u001b[0m\n\u001b[0m",
      "\u001b[0;32m~/codeup-data-science/zillow-clustering-project/prepare.py\u001b[0m in \u001b[0;36mwrangle\u001b[0;34m(df)\u001b[0m\n\u001b[1;32m    238\u001b[0m \u001b[0;34m\u001b[0m\u001b[0m\n\u001b[1;32m    239\u001b[0m     \u001b[0;31m# removes columns and rows that meet null percent values\u001b[0m\u001b[0;34m\u001b[0m\u001b[0;34m\u001b[0m\u001b[0;34m\u001b[0m\u001b[0m\n\u001b[0;32m--> 240\u001b[0;31m     \u001b[0mdf\u001b[0m \u001b[0;34m=\u001b[0m \u001b[0mhandle_nulls\u001b[0m\u001b[0;34m(\u001b[0m\u001b[0mdf\u001b[0m\u001b[0;34m,\u001b[0m \u001b[0mpercent_required_cols\u001b[0m \u001b[0;34m=\u001b[0m \u001b[0;36m.5\u001b[0m\u001b[0;34m,\u001b[0m \u001b[0mpercent_required_rows\u001b[0m \u001b[0;34m=\u001b[0m \u001b[0;36m.7\u001b[0m\u001b[0;34m)\u001b[0m\u001b[0;34m\u001b[0m\u001b[0;34m\u001b[0m\u001b[0m\n\u001b[0m\u001b[1;32m    241\u001b[0m \u001b[0;34m\u001b[0m\u001b[0m\n\u001b[1;32m    242\u001b[0m     \u001b[0;31m# remove outliers that 1.5 times IQR above or below first or third quartile\u001b[0m\u001b[0;34m\u001b[0m\u001b[0;34m\u001b[0m\u001b[0;34m\u001b[0m\u001b[0m\n",
      "\u001b[0;32m~/codeup-data-science/zillow-clustering-project/prepare.py\u001b[0m in \u001b[0;36mhandle_nulls\u001b[0;34m(df, percent_required_cols, percent_required_rows)\u001b[0m\n\u001b[1;32m     37\u001b[0m \u001b[0;34m\u001b[0m\u001b[0m\n\u001b[1;32m     38\u001b[0m     \u001b[0;31m# remove columns that are not useful\u001b[0m\u001b[0;34m\u001b[0m\u001b[0;34m\u001b[0m\u001b[0;34m\u001b[0m\u001b[0m\n\u001b[0;32m---> 39\u001b[0;31m     df = df.drop(columns=[\n\u001b[0m\u001b[1;32m     40\u001b[0m         \u001b[0;31m# uniquie identifer to lot\u001b[0m\u001b[0;34m\u001b[0m\u001b[0;34m\u001b[0m\u001b[0;34m\u001b[0m\u001b[0m\n\u001b[1;32m     41\u001b[0m         \u001b[0;34m'parcelid'\u001b[0m\u001b[0;34m,\u001b[0m\u001b[0;34m\u001b[0m\u001b[0;34m\u001b[0m\u001b[0m\n",
      "\u001b[0;32m/opt/homebrew/anaconda3/lib/python3.8/site-packages/pandas/core/frame.py\u001b[0m in \u001b[0;36mdrop\u001b[0;34m(self, labels, axis, index, columns, level, inplace, errors)\u001b[0m\n\u001b[1;32m   4306\u001b[0m                 \u001b[0mweight\u001b[0m  \u001b[0;36m1.0\u001b[0m     \u001b[0;36m0.8\u001b[0m\u001b[0;34m\u001b[0m\u001b[0;34m\u001b[0m\u001b[0m\n\u001b[1;32m   4307\u001b[0m         \"\"\"\n\u001b[0;32m-> 4308\u001b[0;31m         return super().drop(\n\u001b[0m\u001b[1;32m   4309\u001b[0m             \u001b[0mlabels\u001b[0m\u001b[0;34m=\u001b[0m\u001b[0mlabels\u001b[0m\u001b[0;34m,\u001b[0m\u001b[0;34m\u001b[0m\u001b[0;34m\u001b[0m\u001b[0m\n\u001b[1;32m   4310\u001b[0m             \u001b[0maxis\u001b[0m\u001b[0;34m=\u001b[0m\u001b[0maxis\u001b[0m\u001b[0;34m,\u001b[0m\u001b[0;34m\u001b[0m\u001b[0;34m\u001b[0m\u001b[0m\n",
      "\u001b[0;32m/opt/homebrew/anaconda3/lib/python3.8/site-packages/pandas/core/generic.py\u001b[0m in \u001b[0;36mdrop\u001b[0;34m(self, labels, axis, index, columns, level, inplace, errors)\u001b[0m\n\u001b[1;32m   4151\u001b[0m         \u001b[0;32mfor\u001b[0m \u001b[0maxis\u001b[0m\u001b[0;34m,\u001b[0m \u001b[0mlabels\u001b[0m \u001b[0;32min\u001b[0m \u001b[0maxes\u001b[0m\u001b[0;34m.\u001b[0m\u001b[0mitems\u001b[0m\u001b[0;34m(\u001b[0m\u001b[0;34m)\u001b[0m\u001b[0;34m:\u001b[0m\u001b[0;34m\u001b[0m\u001b[0;34m\u001b[0m\u001b[0m\n\u001b[1;32m   4152\u001b[0m             \u001b[0;32mif\u001b[0m \u001b[0mlabels\u001b[0m \u001b[0;32mis\u001b[0m \u001b[0;32mnot\u001b[0m \u001b[0;32mNone\u001b[0m\u001b[0;34m:\u001b[0m\u001b[0;34m\u001b[0m\u001b[0;34m\u001b[0m\u001b[0m\n\u001b[0;32m-> 4153\u001b[0;31m                 \u001b[0mobj\u001b[0m \u001b[0;34m=\u001b[0m \u001b[0mobj\u001b[0m\u001b[0;34m.\u001b[0m\u001b[0m_drop_axis\u001b[0m\u001b[0;34m(\u001b[0m\u001b[0mlabels\u001b[0m\u001b[0;34m,\u001b[0m \u001b[0maxis\u001b[0m\u001b[0;34m,\u001b[0m \u001b[0mlevel\u001b[0m\u001b[0;34m=\u001b[0m\u001b[0mlevel\u001b[0m\u001b[0;34m,\u001b[0m \u001b[0merrors\u001b[0m\u001b[0;34m=\u001b[0m\u001b[0merrors\u001b[0m\u001b[0;34m)\u001b[0m\u001b[0;34m\u001b[0m\u001b[0;34m\u001b[0m\u001b[0m\n\u001b[0m\u001b[1;32m   4154\u001b[0m \u001b[0;34m\u001b[0m\u001b[0m\n\u001b[1;32m   4155\u001b[0m         \u001b[0;32mif\u001b[0m \u001b[0minplace\u001b[0m\u001b[0;34m:\u001b[0m\u001b[0;34m\u001b[0m\u001b[0;34m\u001b[0m\u001b[0m\n",
      "\u001b[0;32m/opt/homebrew/anaconda3/lib/python3.8/site-packages/pandas/core/generic.py\u001b[0m in \u001b[0;36m_drop_axis\u001b[0;34m(self, labels, axis, level, errors)\u001b[0m\n\u001b[1;32m   4205\u001b[0m                 \u001b[0mlabels_missing\u001b[0m \u001b[0;34m=\u001b[0m \u001b[0;34m(\u001b[0m\u001b[0maxis\u001b[0m\u001b[0;34m.\u001b[0m\u001b[0mget_indexer_for\u001b[0m\u001b[0;34m(\u001b[0m\u001b[0mlabels\u001b[0m\u001b[0;34m)\u001b[0m \u001b[0;34m==\u001b[0m \u001b[0;34m-\u001b[0m\u001b[0;36m1\u001b[0m\u001b[0;34m)\u001b[0m\u001b[0;34m.\u001b[0m\u001b[0many\u001b[0m\u001b[0;34m(\u001b[0m\u001b[0;34m)\u001b[0m\u001b[0;34m\u001b[0m\u001b[0;34m\u001b[0m\u001b[0m\n\u001b[1;32m   4206\u001b[0m                 \u001b[0;32mif\u001b[0m \u001b[0merrors\u001b[0m \u001b[0;34m==\u001b[0m \u001b[0;34m\"raise\"\u001b[0m \u001b[0;32mand\u001b[0m \u001b[0mlabels_missing\u001b[0m\u001b[0;34m:\u001b[0m\u001b[0;34m\u001b[0m\u001b[0;34m\u001b[0m\u001b[0m\n\u001b[0;32m-> 4207\u001b[0;31m                     \u001b[0;32mraise\u001b[0m \u001b[0mKeyError\u001b[0m\u001b[0;34m(\u001b[0m\u001b[0;34mf\"{labels} not found in axis\"\u001b[0m\u001b[0;34m)\u001b[0m\u001b[0;34m\u001b[0m\u001b[0;34m\u001b[0m\u001b[0m\n\u001b[0m\u001b[1;32m   4208\u001b[0m \u001b[0;34m\u001b[0m\u001b[0m\n\u001b[1;32m   4209\u001b[0m             \u001b[0mslicer\u001b[0m \u001b[0;34m=\u001b[0m \u001b[0;34m[\u001b[0m\u001b[0mslice\u001b[0m\u001b[0;34m(\u001b[0m\u001b[0;32mNone\u001b[0m\u001b[0;34m)\u001b[0m\u001b[0;34m]\u001b[0m \u001b[0;34m*\u001b[0m \u001b[0mself\u001b[0m\u001b[0;34m.\u001b[0m\u001b[0mndim\u001b[0m\u001b[0;34m\u001b[0m\u001b[0;34m\u001b[0m\u001b[0m\n",
      "\u001b[0;31mKeyError\u001b[0m: \"['parcelid' 'id' 'propertyzoningdesc' 'finishedsquarefeet12'\\n 'censustractandblock' 'propertylandusetypeid' 'heatingorsystemtypeid'\\n 'unitcnt' 'rawcensustractandblock' 'assessmentyear' 'transactiondate'\\n 'calculatedbathnbr' 'roomcnt' 'propertylandusedesc' 'id.1'] not found in axis\""
     ]
    }
   ],
   "source": [
    "df, train, validate, test, train_scaled, validate_scaled, test_scaled = prepare.wrangle(df)"
   ]
  },
  {
   "cell_type": "code",
   "execution_count": null,
   "id": "34878219",
   "metadata": {},
   "outputs": [],
   "source": [
    "df.shape, train.shape, validate.shape, test.shape"
   ]
  },
  {
   "cell_type": "code",
   "execution_count": null,
   "id": "ace647dd",
   "metadata": {},
   "outputs": [],
   "source": [
    "df.info()"
   ]
  },
  {
   "cell_type": "markdown",
   "id": "97f23f79",
   "metadata": {},
   "source": [
    "<hr style=\"border:2px solid blue\"> </hr>\n",
    "\n",
    "# Exploratory Data Analysis"
   ]
  },
  {
   "cell_type": "markdown",
   "id": "ed4482d2",
   "metadata": {},
   "source": [
    "## Context\n",
    "- After Wrangle, \n",
    "\n",
    "## Initital Questions\n",
    "- Do any of the counties have on average greater log error?\n",
    "- Which tax rate has the most log error?\n",
    "- What combinatin of bedroom and bathroom has the most log error?\n",
    "- Is there a range of home values that has the most log error?\n",
    "- Does log error correlate to house size?\n",
    "- Does log error correlate to lot size?\n",
    "\n",
    "## Question 1: ???"
   ]
  },
  {
   "cell_type": "markdown",
   "id": "62d889fa",
   "metadata": {},
   "source": [
    "## Statistical Testing"
   ]
  },
  {
   "cell_type": "markdown",
   "id": "9acd61d0",
   "metadata": {},
   "source": [
    "## Exploration Summary\n",
    "### Take Away:\n",
    "- ???"
   ]
  },
  {
   "cell_type": "markdown",
   "id": "379656ad",
   "metadata": {},
   "source": [
    "<hr style=\"border:2px solid blue\"> </hr>\n",
    "\n",
    "# Clustering"
   ]
  },
  {
   "cell_type": "markdown",
   "id": "833a74b8",
   "metadata": {},
   "source": [
    "<hr style=\"border:2px solid blue\"> </hr>\n",
    "\n",
    "# Modeling"
   ]
  },
  {
   "cell_type": "markdown",
   "id": "44d68489",
   "metadata": {},
   "source": [
    "## Scaling & Feature Engineering"
   ]
  },
  {
   "cell_type": "code",
   "execution_count": null,
   "id": "7a356579",
   "metadata": {},
   "outputs": [],
   "source": [
    "X_train, X_validate, X_test, y_train, y_validate, y_test, X_train_scaled, X_validate_scaled, X_test_scaled, skb_feature, rfe_feature = prepare.wrangle(train, validate, test)"
   ]
  },
  {
   "cell_type": "markdown",
   "id": "73dd7678",
   "metadata": {},
   "source": [
    "### MinMax to Scale\n",
    "\n",
    "### Select K Best and Recursive Feature Elimination (RFE) to Select 3 Best Features"
   ]
  },
  {
   "cell_type": "code",
   "execution_count": null,
   "id": "b8f61574",
   "metadata": {},
   "outputs": [],
   "source": [
    "skb_feature"
   ]
  },
  {
   "cell_type": "code",
   "execution_count": null,
   "id": "dfb39536",
   "metadata": {},
   "outputs": [],
   "source": [
    "rfe_feature"
   ]
  },
  {
   "cell_type": "markdown",
   "id": "2443c332",
   "metadata": {},
   "source": [
    "###  Select K Best chose: House Area, Year Built, and Bathrooms\n",
    "\n",
    "### RFE chose: House Area, Lattitude, and Longitude\n",
    "\n",
    "### Powers Combined: House Area, Latitude, Longitude, Year Built, Bathrooms, County, "
   ]
  },
  {
   "cell_type": "markdown",
   "id": "59a79029",
   "metadata": {},
   "source": [
    "# Modeling\n",
    "-  Foward with 10 Features: House Area, Year Built, Bedrooms, Bathrooms, FIPS, Zipcode, Lot Size, Lattitude, Longitude \n",
    "- Experimented with features with no improvement"
   ]
  },
  {
   "cell_type": "markdown",
   "id": "2aeaebbf",
   "metadata": {},
   "source": [
    "### Model 0: Baseline = Mean\n",
    "\n",
    "### Model 1: Linear Regression\n",
    "\n",
    "### Model 2: LassoLars with Alpha = .01\n",
    "\n",
    "### Model 3: TweedieRegressor set for Poisson Distribution and Alpha = .01\n",
    "\n",
    "### Model 4: Polynomial Regressor with Degree = 2 and Alpha = .01"
   ]
  },
  {
   "cell_type": "code",
   "execution_count": null,
   "id": "e65c7c75",
   "metadata": {},
   "outputs": [],
   "source": [
    "metric_df, X_test_degree2, lm2, y_test, y_validate = modeling.metric(y_train, y_validate, y_test,X_train_scaled, X_validate_scaled, X_test_scaled)"
   ]
  },
  {
   "cell_type": "code",
   "execution_count": null,
   "id": "f5cc621a",
   "metadata": {},
   "outputs": [],
   "source": [
    "metric_df"
   ]
  },
  {
   "cell_type": "markdown",
   "id": "989b0daf",
   "metadata": {},
   "source": [
    "## Results:\n",
    "- Polynomial Regressor Performed the Best: 209K RMSE (48K from Baseline / 18K from other models)\n",
    "- Others Performd the Same: 217K RMSE\n",
    "\n",
    "# Visualize Predictions:\n",
    "\n",
    "### Plot Actual vs. Predicted House Values"
   ]
  },
  {
   "cell_type": "code",
   "execution_count": null,
   "id": "97bd9792",
   "metadata": {},
   "outputs": [],
   "source": [
    "import viz"
   ]
  },
  {
   "cell_type": "code",
   "execution_count": null,
   "id": "89166fab",
   "metadata": {},
   "outputs": [],
   "source": [
    "viz.viz_1(y_validate)"
   ]
  },
  {
   "cell_type": "markdown",
   "id": "ba7a145c",
   "metadata": {},
   "source": [
    "## Note: Model Needs Improvement. Points Do Not Follow Ideal Line\n",
    "\n",
    "### Plot Distribution of Actual vs. Predicted House Values"
   ]
  },
  {
   "cell_type": "code",
   "execution_count": null,
   "id": "a957fe7e",
   "metadata": {},
   "outputs": [],
   "source": [
    "viz.viz_2(y_validate)"
   ]
  },
  {
   "cell_type": "markdown",
   "id": "40159db2",
   "metadata": {},
   "source": [
    "## Note: Model Needs Improvement. Prediction Distribution Misses Actuals\n",
    "\n",
    "### Plot Residuals of Predicted House Values"
   ]
  },
  {
   "cell_type": "code",
   "execution_count": null,
   "id": "61273588",
   "metadata": {},
   "outputs": [],
   "source": [
    "viz.viz_3(y_validate)"
   ]
  },
  {
   "cell_type": "markdown",
   "id": "a94e09b0",
   "metadata": {},
   "source": [
    "## Note: Model Needs Improvement. Residuals Form a Trend\n",
    "\n",
    "# Final Test Using Polynomial Model"
   ]
  },
  {
   "cell_type": "code",
   "execution_count": null,
   "id": "2558e14c",
   "metadata": {},
   "outputs": [],
   "source": [
    "rmse_test = modeling.poly_final(y_test, X_test_degree2, lm2)"
   ]
  },
  {
   "cell_type": "code",
   "execution_count": null,
   "id": "36e0d9a4",
   "metadata": {},
   "outputs": [],
   "source": [
    "rmse_test"
   ]
  },
  {
   "cell_type": "markdown",
   "id": "cf5c7fd3",
   "metadata": {},
   "source": [
    "## Results: Polynomial Model has 18M RMSE\n",
    "- But There is Hope!!!"
   ]
  },
  {
   "cell_type": "markdown",
   "id": "ab7531e8",
   "metadata": {},
   "source": [
    "# Conclusion\n",
    "\n",
    "## Summary\n",
    "\n",
    "### Project Goal\n",
    "- Create a Model that predicts house tax assessment value\n",
    "    - Sort of..\n",
    "- Create new features to model.\n",
    "    - Next Steps\n",
    "- Find ways to make a better model for Zillow.\n",
    "    - The Polynomial Model works but...\n",
    "\n",
    "Take Aways:\n",
    "- Los Angeles has significantly more houses than the other countied and on average they are valued less\n",
    "    - Subgrouping by county will improve model results\n",
    "- Highest valued houses are along the coast, some in Los Angeles County, some in Orange County\n",
    "    - Subgrouping by coorindates will improve model results\n",
    "\n",
    "## Recommendations\n",
    "- Model Not Ready...More Time\n",
    "- Need More Features\n",
    "- Keep Features: House Size, Location, County\n",
    "\n",
    "## Next Steps\n",
    "- With more time, I would add more features, feature engineering, and subgroup by county or coordinates\n",
    "- There's hope!!!"
   ]
  },
  {
   "cell_type": "markdown",
   "id": "0ebcde68",
   "metadata": {},
   "source": [
    "### Thank You!!!"
   ]
  },
  {
   "cell_type": "code",
   "execution_count": null,
   "id": "d765a37b",
   "metadata": {},
   "outputs": [],
   "source": []
  }
 ],
 "metadata": {
  "kernelspec": {
   "display_name": "Python 3",
   "language": "python",
   "name": "python3"
  },
  "language_info": {
   "codemirror_mode": {
    "name": "ipython",
    "version": 3
   },
   "file_extension": ".py",
   "mimetype": "text/x-python",
   "name": "python",
   "nbconvert_exporter": "python",
   "pygments_lexer": "ipython3",
   "version": "3.8.8"
  }
 },
 "nbformat": 4,
 "nbformat_minor": 5
}
