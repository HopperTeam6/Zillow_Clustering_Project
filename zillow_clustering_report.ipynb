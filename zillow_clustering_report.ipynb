{
 "cells": [
  {
   "cell_type": "markdown",
   "id": "a97bea00",
   "metadata": {},
   "source": [
    "# <font color ='blue'>Zillow Clustering Project\n",
    "    \n",
    "<img src=\"zillow_logo.png\" alt=\"Zillow Logo\" title=\"Zillow Logo\" width=\"300\" height=\"100\" align=\"right\"/>\n",
    "    \n",
    "    \n",
    "# <p style=\"font-size:50px\" align=\"center\">Zestimate Error</p> <sub>By Kaniela Denis and Mason Bondy - 7 Jan 2022</sub>"
   ]
  },
  {
   "cell_type": "code",
   "execution_count": 1,
   "id": "c0cecd56",
   "metadata": {},
   "outputs": [],
   "source": [
    "# import pandas and numpy to start coding\n",
    "import pandas as pd\n",
    "import numpy as np\n",
    "import matplotlib.pyplot as plt\n",
    "import seaborn as sns\n",
    "import scipy.stats as stats\n",
    "import acquire\n",
    "import prepare\n",
    "import modeling\n",
    "\n",
    "import warnings\n",
    "warnings.filterwarnings(\"ignore\")"
   ]
  },
  {
   "cell_type": "code",
   "execution_count": 2,
   "id": "17dedf59",
   "metadata": {},
   "outputs": [],
   "source": [
    "df = acquire.get_zillow()"
   ]
  },
  {
   "cell_type": "code",
   "execution_count": null,
   "id": "7c3cbabc",
   "metadata": {},
   "outputs": [],
   "source": [
    "train,validate,test, df = prepare.split(df)"
   ]
  },
  {
   "cell_type": "markdown",
   "id": "97f23f79",
   "metadata": {},
   "source": [
    "# Exploration"
   ]
  },
  {
   "cell_type": "markdown",
   "id": "ed4482d2",
   "metadata": {},
   "source": [
    "## Context\n",
    "- 43K houses\n",
    "- Highest valued house is 1.3M\n",
    "- Average house value is 340K\n",
    "- Most houses are below 380K\n",
    "- Most common bedroom count: 3 (2-5)\n",
    "- Most common bathroom count: 2 (1-4)\n",
    "- Most common lot size is between 5K-7K sqft\n",
    "- Most common house size is between 1K and 2K sqft"
   ]
  },
  {
   "cell_type": "markdown",
   "id": "1765d88e",
   "metadata": {},
   "source": [
    "### What are the 2017 transactions?\n",
    "- Started with 52.5K houses, removed 5K for outliers/nulls, 43K houses remaining"
   ]
  },
  {
   "cell_type": "markdown",
   "id": "45f5320a",
   "metadata": {},
   "source": [
    "### Where are the properties located in?\n",
    "- Los Angeles County (6037), Orange County (6059), Ventura County (6111), in California. "
   ]
  },
  {
   "cell_type": "markdown",
   "id": "a927df45",
   "metadata": {},
   "source": [
    "### What is the average house value per county?"
   ]
  },
  {
   "cell_type": "code",
   "execution_count": null,
   "id": "71695449",
   "metadata": {
    "scrolled": true
   },
   "outputs": [],
   "source": [
    "# Show Average Tax Value across counties\n",
    "plt.figure(figsize=(15,5))\n",
    "sns.barplot(x=train.fips, y=train.tax_value)\n",
    "plt.axhline(y=train.tax_value.mean(), color='red')\n",
    "plt.xlabel('County Identifer')\n",
    "plt.ylabel('Average Tax Value')\n",
    "plt.show()"
   ]
  },
  {
   "cell_type": "markdown",
   "id": "30bfcd3e",
   "metadata": {},
   "source": [
    "### Los Angeles County has a lower average house value than either Orange or Ventury County individually or combinedd\n",
    "\n",
    "### What is the distribution of house values for each county?"
   ]
  },
  {
   "cell_type": "code",
   "execution_count": null,
   "id": "6f3f7307",
   "metadata": {},
   "outputs": [],
   "source": [
    "# Show distribution of House Values for each county\n",
    "sns.displot(x=train.tax_value, hue=train.fips, height=5, aspect=2.5)\n",
    "plt.xlabel('House Tax Value')\n",
    "plt.ylabel('House Count')\n",
    "plt.show()"
   ]
  },
  {
   "cell_type": "markdown",
   "id": "0ae0c58f",
   "metadata": {},
   "source": [
    "### LA County has the most houses with most of those peaking between 100-300K. Ventura and Orange County have less houses and peak between 300-500K\n",
    "\n",
    "### What are the locations of the high value houses? "
   ]
  },
  {
   "cell_type": "code",
   "execution_count": null,
   "id": "fdd712f8",
   "metadata": {},
   "outputs": [],
   "source": [
    "# Show house vlaues create than mean by coorindates, shows a map\n",
    "value_map = df[df.tax_value > df.tax_value.mean()]\n",
    "sns.relplot(data=value_map, x='longitude', y='latitude', hue='tax_value', height=5, aspect=2)\n",
    "plt.show()"
   ]
  },
  {
   "cell_type": "markdown",
   "id": "59a1e527",
   "metadata": {},
   "source": [
    "### High value house are along the coast, in Los Angeles county, and in Orange county\n",
    "\n",
    "### What are the drivers of single family property values?"
   ]
  },
  {
   "cell_type": "code",
   "execution_count": null,
   "id": "afd39954",
   "metadata": {},
   "outputs": [],
   "source": [
    "corr_table = train.drop(columns=['fips']).corr()\n",
    "plt.figure(figsize=(10,8))\n",
    "sns.heatmap(corr_table, cmap='Purples', annot=True, linewidth=0.5, mask= np.triu(corr_table))\n",
    "plt.show()"
   ]
  },
  {
   "cell_type": "markdown",
   "id": "c082220c",
   "metadata": {},
   "source": [
    "### Drivers indicated are House Area, Bathrooms, Bedrooms, and Year Built\n",
    "\n",
    "### What is the relationship between value, house area, and year built?"
   ]
  },
  {
   "cell_type": "code",
   "execution_count": null,
   "id": "d9e2b497",
   "metadata": {},
   "outputs": [],
   "source": [
    "# Shows increased area has  year increased and more high areas have high value\n",
    "sns.relplot(x='year_built', y='tax_value', data=train, hue='area', kind='scatter', height=5, aspect=2)\n",
    "plt.xlabel('Year Built')\n",
    "plt.ylabel('House Tax Value')\n",
    "plt.show()"
   ]
  },
  {
   "cell_type": "markdown",
   "id": "1699104d",
   "metadata": {},
   "source": [
    "### Newer houses got bigger over the years and bigger houses are valued higher\n",
    "\n",
    "### What is the relationship between value, house area, and bathrooms?"
   ]
  },
  {
   "cell_type": "code",
   "execution_count": null,
   "id": "1258f690",
   "metadata": {},
   "outputs": [],
   "source": [
    "# Shows that bedrooms does not associate to value. Mostly to area.\n",
    "sns.relplot(x='area', y='tax_value', data=train, hue='bathrooms', kind='scatter', height=5, aspect=2)\n",
    "plt.xlabel('House Area Sqft')\n",
    "plt.ylabel('House Tax Value')\n",
    "plt.show()"
   ]
  },
  {
   "cell_type": "markdown",
   "id": "75d4a784",
   "metadata": {},
   "source": [
    "### Houses got bigger, bathrooms increased but did not increase value\n",
    "\n",
    "### What is the relationship between value, house area, and bedrooms?"
   ]
  },
  {
   "cell_type": "code",
   "execution_count": null,
   "id": "105f530b",
   "metadata": {},
   "outputs": [],
   "source": [
    "# Shows that bedrooms does not associate to value. Mostly to area.\n",
    "sns.relplot(x='area', y='tax_value', data=train, hue='bedrooms', kind='scatter', height=5, aspect=2)\n",
    "plt.xlabel('House Area Sqft')\n",
    "plt.ylabel('House Tax Value')\n",
    "plt.show()"
   ]
  },
  {
   "cell_type": "markdown",
   "id": "9acd61d0",
   "metadata": {},
   "source": [
    "### Shows as houses got bigger, the beddrooms  increased but it did not increase value\n",
    "\n",
    "## Exploration Summary\n",
    "### Take Away:\n",
    "- Los Angeles County has significanly more house then the other counties\n",
    "- Los Angeles County has a lower average house values than either Orange or Ventury County individually or combined\n",
    "- Highest valued houses are along the coast, in Los Angeles county, or in Orange county\n",
    "- Value Indicators: House Area, Longitude, Latitude, and County\n",
    "- Value Non-Indicators: bedrooms, bathrooms, pool, and lot size"
   ]
  },
  {
   "cell_type": "markdown",
   "id": "44d68489",
   "metadata": {},
   "source": [
    "# Scaling & Feature Engineering"
   ]
  },
  {
   "cell_type": "code",
   "execution_count": null,
   "id": "7a356579",
   "metadata": {},
   "outputs": [],
   "source": [
    "X_train, X_validate, X_test, y_train, y_validate, y_test, X_train_scaled, X_validate_scaled, X_test_scaled, skb_feature, rfe_feature = prepare.wrangle(train, validate, test)"
   ]
  },
  {
   "cell_type": "markdown",
   "id": "73dd7678",
   "metadata": {},
   "source": [
    "### MinMax to Scale\n",
    "\n",
    "### Select K Best and Recursive Feature Elimination (RFE) to Select 3 Best Features"
   ]
  },
  {
   "cell_type": "code",
   "execution_count": null,
   "id": "b8f61574",
   "metadata": {},
   "outputs": [],
   "source": [
    "skb_feature"
   ]
  },
  {
   "cell_type": "code",
   "execution_count": null,
   "id": "dfb39536",
   "metadata": {},
   "outputs": [],
   "source": [
    "rfe_feature"
   ]
  },
  {
   "cell_type": "markdown",
   "id": "2443c332",
   "metadata": {},
   "source": [
    "###  Select K Best chose: House Area, Year Built, and Bathrooms\n",
    "\n",
    "### RFE chose: House Area, Lattitude, and Longitude\n",
    "\n",
    "### Powers Combined: House Area, Latitude, Longitude, Year Built, Bathrooms, County, "
   ]
  },
  {
   "cell_type": "markdown",
   "id": "59a79029",
   "metadata": {},
   "source": [
    "# Modeling\n",
    "-  Foward with 10 Features: House Area, Year Built, Bedrooms, Bathrooms, FIPS, Zipcode, Lot Size, Lattitude, Longitude \n",
    "- Experimented with features with no improvement"
   ]
  },
  {
   "cell_type": "markdown",
   "id": "2aeaebbf",
   "metadata": {},
   "source": [
    "### Model 0: Baseline = Mean\n",
    "\n",
    "### Model 1: Linear Regression\n",
    "\n",
    "### Model 2: LassoLars with Alpha = .01\n",
    "\n",
    "### Model 3: TweedieRegressor set for Poisson Distribution and Alpha = .01\n",
    "\n",
    "### Model 4: Polynomial Regressor with Degree = 2 and Alpha = .01"
   ]
  },
  {
   "cell_type": "code",
   "execution_count": null,
   "id": "e65c7c75",
   "metadata": {},
   "outputs": [],
   "source": [
    "metric_df, X_test_degree2, lm2, y_test, y_validate = modeling.metric(y_train, y_validate, y_test,X_train_scaled, X_validate_scaled, X_test_scaled)"
   ]
  },
  {
   "cell_type": "code",
   "execution_count": null,
   "id": "f5cc621a",
   "metadata": {},
   "outputs": [],
   "source": [
    "metric_df"
   ]
  },
  {
   "cell_type": "markdown",
   "id": "989b0daf",
   "metadata": {},
   "source": [
    "## Results:\n",
    "- Polynomial Regressor Performed the Best: 209K RMSE (48K from Baseline / 18K from other models)\n",
    "- Others Performd the Same: 217K RMSE\n",
    "\n",
    "# Visualize Predictions:\n",
    "\n",
    "### Plot Actual vs. Predicted House Values"
   ]
  },
  {
   "cell_type": "code",
   "execution_count": null,
   "id": "97bd9792",
   "metadata": {},
   "outputs": [],
   "source": [
    "import viz"
   ]
  },
  {
   "cell_type": "code",
   "execution_count": null,
   "id": "89166fab",
   "metadata": {},
   "outputs": [],
   "source": [
    "viz.viz_1(y_validate)"
   ]
  },
  {
   "cell_type": "markdown",
   "id": "ba7a145c",
   "metadata": {},
   "source": [
    "## Note: Model Needs Improvement. Points Do Not Follow Ideal Line\n",
    "\n",
    "### Plot Distribution of Actual vs. Predicted House Values"
   ]
  },
  {
   "cell_type": "code",
   "execution_count": null,
   "id": "a957fe7e",
   "metadata": {},
   "outputs": [],
   "source": [
    "viz.viz_2(y_validate)"
   ]
  },
  {
   "cell_type": "markdown",
   "id": "40159db2",
   "metadata": {},
   "source": [
    "## Note: Model Needs Improvement. Prediction Distribution Misses Actuals\n",
    "\n",
    "### Plot Residuals of Predicted House Values"
   ]
  },
  {
   "cell_type": "code",
   "execution_count": null,
   "id": "61273588",
   "metadata": {},
   "outputs": [],
   "source": [
    "viz.viz_3(y_validate)"
   ]
  },
  {
   "cell_type": "markdown",
   "id": "a94e09b0",
   "metadata": {},
   "source": [
    "## Note: Model Needs Improvement. Residuals Form a Trend\n",
    "\n",
    "# Final Test Using Polynomial Model"
   ]
  },
  {
   "cell_type": "code",
   "execution_count": null,
   "id": "2558e14c",
   "metadata": {},
   "outputs": [],
   "source": [
    "rmse_test = modeling.poly_final(y_test, X_test_degree2, lm2)"
   ]
  },
  {
   "cell_type": "code",
   "execution_count": null,
   "id": "36e0d9a4",
   "metadata": {},
   "outputs": [],
   "source": [
    "rmse_test"
   ]
  },
  {
   "cell_type": "markdown",
   "id": "cf5c7fd3",
   "metadata": {},
   "source": [
    "## Results: Polynomial Model has 18M RMSE\n",
    "- But There is Hope!!!"
   ]
  },
  {
   "cell_type": "markdown",
   "id": "ab7531e8",
   "metadata": {},
   "source": [
    "# Conclusion\n",
    "\n",
    "## Summary\n",
    "\n",
    "### Project Goal\n",
    "- Create a Model that predicts house tax assessment value\n",
    "    - Sort of..\n",
    "- Create new features to model.\n",
    "    - Next Steps\n",
    "- Find ways to make a better model for Zillow.\n",
    "    - The Polynomial Model works but...\n",
    "\n",
    "Take Aways:\n",
    "- Los Angeles has significantly more houses than the other countied and on average they are valued less\n",
    "    - Subgrouping by county will improve model results\n",
    "- Highest valued houses are along the coast, some in Los Angeles County, some in Orange County\n",
    "    - Subgrouping by coorindates will improve model results\n",
    "\n",
    "## Recommendations\n",
    "- Model Not Ready...More Time\n",
    "- Need More Features\n",
    "- Keep Features: House Size, Location, County\n",
    "\n",
    "## Next Steps\n",
    "- With more time, I would add more features, feature engineering, and subgroup by county or coordinates\n",
    "- There's hope!!!"
   ]
  },
  {
   "cell_type": "markdown",
   "id": "0ebcde68",
   "metadata": {},
   "source": [
    "### Thank You!!!"
   ]
  },
  {
   "cell_type": "code",
   "execution_count": null,
   "id": "d765a37b",
   "metadata": {},
   "outputs": [],
   "source": []
  }
 ],
 "metadata": {
  "kernelspec": {
   "display_name": "Python 3",
   "language": "python",
   "name": "python3"
  },
  "language_info": {
   "codemirror_mode": {
    "name": "ipython",
    "version": 3
   },
   "file_extension": ".py",
   "mimetype": "text/x-python",
   "name": "python",
   "nbconvert_exporter": "python",
   "pygments_lexer": "ipython3",
   "version": "3.8.8"
  }
 },
 "nbformat": 4,
 "nbformat_minor": 5
}
