{
 "cells": [
  {
   "cell_type": "markdown",
   "id": "b43b4692",
   "metadata": {},
   "source": [
    "## Mason's workbook on zestimate log errors\n",
    "\n",
    "##### Due: 2022.01.07"
   ]
  },
  {
   "cell_type": "code",
   "execution_count": 1,
   "id": "314d508b",
   "metadata": {},
   "outputs": [],
   "source": [
    "#learn gong fu\n",
    "import numpy as np\n",
    "import pandas as pd\n",
    "import matplotlib.pyplot as plt\n",
    "import seaborn as sns\n",
    "import mason_functions as mf\n",
    "import scaler as sc\n",
    "import sklearn.preprocessing\n",
    "\n",
    "import os\n",
    "import warnings\n",
    "warnings.filterwarnings('ignore')\n",
    "\n",
    "from sklearn.linear_model import LinearRegression, LassoLars, TweedieRegressor\n",
    "from sklearn.feature_selection import SelectKBest, f_regression, RFE"
   ]
  },
  {
   "cell_type": "code",
   "execution_count": null,
   "id": "89177864",
   "metadata": {},
   "outputs": [],
   "source": []
  }
 ],
 "metadata": {
  "kernelspec": {
   "display_name": "Python 3",
   "language": "python",
   "name": "python3"
  },
  "language_info": {
   "codemirror_mode": {
    "name": "ipython",
    "version": 3
   },
   "file_extension": ".py",
   "mimetype": "text/x-python",
   "name": "python",
   "nbconvert_exporter": "python",
   "pygments_lexer": "ipython3",
   "version": "3.8.8"
  }
 },
 "nbformat": 4,
 "nbformat_minor": 5
}
