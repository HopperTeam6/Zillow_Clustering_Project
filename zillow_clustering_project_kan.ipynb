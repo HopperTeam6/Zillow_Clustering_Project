{
 "cells": [
  {
   "cell_type": "markdown",
   "id": "0c03120d",
   "metadata": {},
   "source": [
    "# <font color ='blue'>Zillow Clustering Project - Working Copy\n",
    "    \n",
    "<img src=\"zillow_logo.png\" alt=\"Zillow Logo\" title=\"Zillow Logo\" width=\"300\" height=\"100\" align=\"right\"/>\n",
    "    \n",
    "    \n",
    "# <p style=\"font-size:50px\" align=\"center\">Zestimate Error</p> <sub>By Kaniela Denis - 13 Dec 2021</sub>"
   ]
  },
  {
   "cell_type": "code",
   "execution_count": 1,
   "id": "a41407df",
   "metadata": {},
   "outputs": [],
   "source": [
    "# import pandas and numpy to start coding\n",
    "import pandas as pd\n",
    "import numpy as np\n",
    "import matplotlib.pyplot as plt\n",
    "import seaborn as sns\n",
    "import scipy.stats as stats\n",
    "\n",
    "# prep methods\n",
    "from sklearn.model_selection import train_test_split\n",
    "\n",
    "# Feature Engineering methods\n",
    "import sklearn.linear_model\n",
    "import sklearn.feature_selection\n",
    "import sklearn.preprocessing\n",
    "\n",
    "# Modeling methods\n",
    "from sklearn.metrics import mean_squared_error\n",
    "from sklearn.linear_model import LinearRegression, LassoLars, TweedieRegressor\n",
    "from sklearn.preprocessing import PolynomialFeatures\n",
    "from sklearn.metrics import explained_variance_score\n",
    "\n",
    "import warnings\n",
    "warnings.filterwarnings(\"ignore\")"
   ]
  },
  {
   "cell_type": "markdown",
   "id": "088eb263",
   "metadata": {},
   "source": [
    "<hr style=\"border:2px solid blue\"> </hr>"
   ]
  },
  {
   "cell_type": "markdown",
   "id": "9adf48be",
   "metadata": {},
   "source": [
    "# <font color = 'red'>Planning"
   ]
  },
  {
   "cell_type": "markdown",
   "id": "02ccaade",
   "metadata": {},
   "source": [
    "### Project Goals\n",
    "\n",
    "- Predict logerror of Zestimate\n",
    "- Discover the drivers of the error in the Zcestimate\n",
    "- Compare four different clustering models\n",
    "- Conclude if clustering helps with discovering drivers\n",
    "- \n",
    "\n",
    "\n",
    "- A model that predicts property tax assessed values of single family properties based on 2017 transactions.\n",
    "- Identify ways to make a better model for Zillow.\n",
    "- Create new features out of existing features.\n",
    "- Try non-linear regression model or try a model for each county.\n",
    "\n",
    "\n",
    "### Project Description\n",
    "\n",
    "Deliver:\n",
    "1. Github Repo\n",
    "    - README.md\n",
    "    - Final Report\n",
    "    - Working Notebook\n",
    "    - Modules (Acquire, Prepare, Model)\n",
    "    - Misc Artifacts\n",
    "2. Further Requirements:\n",
    "    - Aquistion:\n",
    "        - SQL Query\n",
    "    - Prep:\n",
    "        - Columns have appropriate Data Types\n",
    "        - Missing values and Outliers are investigated/handled\n",
    "    - Explore:\n",
    "        - Use vizulization and statistical testing for target/independ variable interations\n",
    "        - Clustering is used to explore the data. Minumum of 3 combinations of features tried. A conclusion is made on whether clustering helped, supported by visualizations and statistical testing.\n",
    "    - Modeling: \n",
    "        - Minimum 4 different models created and performance compared\n",
    "3. Final Notebook with Recommendation\n",
    "    - 4 Visuals, 2 with stats tests\n",
    "        - Data Context of Target Variable (Distribution of values)\n",
    "    - 3 Best Models (show steps/code to fit/eval/select)\n",
    "    - Visual of how best Model performed\n",
    "4. Working Notebook:\n",
    "    - Reproducible comments\n",
    "    - Exploration with at least two stats test during exploration\n",
    "5. Presentation\n",
    "    - Findings\n",
    "    - Methodologies\n",
    "    - Conclusions\n",
    "\n",
    "### Initial Questions\n",
    "\n",
    "- What are the transactions are in 2017?\n",
    "- What states and counties are the properties located in?\n",
    "- What is the tax rate per county or fips? (might have to combine columns to calcualate)\n",
    "- What is the distribution of tax rates for each county?\n",
    "- What is the distribution of taxes across fips?\n",
    "- What are the drivers of single family property values?\n",
    "- Why do some properties have a much higher value than others when they are located so close to each other?\n",
    "- Why are some properties valued so differently from others when they have nearly the same physical attributes but only differ in location? \n",
    "- Is having 1 bathroom worse than having 2 bedrooms?"
   ]
  },
  {
   "cell_type": "markdown",
   "id": "8ff9f968",
   "metadata": {},
   "source": [
    "### Data Dictionary (Add to README)"
   ]
  },
  {
   "cell_type": "code",
   "execution_count": 2,
   "id": "784d3567",
   "metadata": {},
   "outputs": [
    {
     "data": {
      "text/html": [
       "<div>\n",
       "<style scoped>\n",
       "    .dataframe tbody tr th:only-of-type {\n",
       "        vertical-align: middle;\n",
       "    }\n",
       "\n",
       "    .dataframe tbody tr th {\n",
       "        vertical-align: top;\n",
       "    }\n",
       "\n",
       "    .dataframe thead th {\n",
       "        text-align: right;\n",
       "    }\n",
       "</style>\n",
       "<table border=\"1\" class=\"dataframe\">\n",
       "  <thead>\n",
       "    <tr style=\"text-align: right;\">\n",
       "      <th></th>\n",
       "      <th>Feature</th>\n",
       "      <th>Description</th>\n",
       "    </tr>\n",
       "  </thead>\n",
       "  <tbody>\n",
       "    <tr>\n",
       "      <th>0</th>\n",
       "      <td>'airconditioningtypeid'</td>\n",
       "      <td>Type of cooling system present in the home (i...</td>\n",
       "    </tr>\n",
       "    <tr>\n",
       "      <th>1</th>\n",
       "      <td>'architecturalstyletypeid'</td>\n",
       "      <td>Architectural style of the home (i.e. ranch, ...</td>\n",
       "    </tr>\n",
       "    <tr>\n",
       "      <th>2</th>\n",
       "      <td>'basementsqft'</td>\n",
       "      <td>Finished living area below or partially below...</td>\n",
       "    </tr>\n",
       "    <tr>\n",
       "      <th>3</th>\n",
       "      <td>'bathroomcnt'</td>\n",
       "      <td>Number of bathrooms in home including fractio...</td>\n",
       "    </tr>\n",
       "    <tr>\n",
       "      <th>4</th>\n",
       "      <td>'bedroomcnt'</td>\n",
       "      <td>Number of bedrooms in home</td>\n",
       "    </tr>\n",
       "    <tr>\n",
       "      <th>5</th>\n",
       "      <td>'buildingqualitytypeid'</td>\n",
       "      <td>Overall assessment of condition of the buildi...</td>\n",
       "    </tr>\n",
       "    <tr>\n",
       "      <th>6</th>\n",
       "      <td>'buildingclasstypeid'</td>\n",
       "      <td>The building framing type (steel frame, wood f...</td>\n",
       "    </tr>\n",
       "    <tr>\n",
       "      <th>7</th>\n",
       "      <td>'calculatedbathnbr'</td>\n",
       "      <td>Number of bathrooms in home including fractio...</td>\n",
       "    </tr>\n",
       "    <tr>\n",
       "      <th>8</th>\n",
       "      <td>'decktypeid'</td>\n",
       "      <td>Type of deck (if any) present on parcel</td>\n",
       "    </tr>\n",
       "    <tr>\n",
       "      <th>9</th>\n",
       "      <td>'threequarterbathnbr'</td>\n",
       "      <td>Number of 3/4 bathrooms in house (shower + si...</td>\n",
       "    </tr>\n",
       "    <tr>\n",
       "      <th>10</th>\n",
       "      <td>'finishedfloor1squarefeet'</td>\n",
       "      <td>Size of the finished living area on the first...</td>\n",
       "    </tr>\n",
       "    <tr>\n",
       "      <th>11</th>\n",
       "      <td>'calculatedfinishedsquarefeet'</td>\n",
       "      <td>Calculated total finished living area of the ...</td>\n",
       "    </tr>\n",
       "    <tr>\n",
       "      <th>12</th>\n",
       "      <td>'finishedsquarefeet6'</td>\n",
       "      <td>Base unfinished and finished area</td>\n",
       "    </tr>\n",
       "    <tr>\n",
       "      <th>13</th>\n",
       "      <td>'finishedsquarefeet12'</td>\n",
       "      <td>Finished living area</td>\n",
       "    </tr>\n",
       "    <tr>\n",
       "      <th>14</th>\n",
       "      <td>'finishedsquarefeet13'</td>\n",
       "      <td>Perimeter  living area</td>\n",
       "    </tr>\n",
       "    <tr>\n",
       "      <th>15</th>\n",
       "      <td>'finishedsquarefeet15'</td>\n",
       "      <td>Total area</td>\n",
       "    </tr>\n",
       "    <tr>\n",
       "      <th>16</th>\n",
       "      <td>'finishedsquarefeet50'</td>\n",
       "      <td>Size of the finished living area on the first...</td>\n",
       "    </tr>\n",
       "    <tr>\n",
       "      <th>17</th>\n",
       "      <td>'fips'</td>\n",
       "      <td>Federal Information Processing Standard code ...</td>\n",
       "    </tr>\n",
       "    <tr>\n",
       "      <th>18</th>\n",
       "      <td>'fireplacecnt'</td>\n",
       "      <td>Number of fireplaces in a home (if any)</td>\n",
       "    </tr>\n",
       "    <tr>\n",
       "      <th>19</th>\n",
       "      <td>'fireplaceflag'</td>\n",
       "      <td>Is a fireplace present in this home</td>\n",
       "    </tr>\n",
       "    <tr>\n",
       "      <th>20</th>\n",
       "      <td>'fullbathcnt'</td>\n",
       "      <td>Number of full bathrooms (sink, shower + bath...</td>\n",
       "    </tr>\n",
       "    <tr>\n",
       "      <th>21</th>\n",
       "      <td>'garagecarcnt'</td>\n",
       "      <td>Total number of garages on the lot including ...</td>\n",
       "    </tr>\n",
       "    <tr>\n",
       "      <th>22</th>\n",
       "      <td>'garagetotalsqft'</td>\n",
       "      <td>Total number of square feet of all garages on...</td>\n",
       "    </tr>\n",
       "    <tr>\n",
       "      <th>23</th>\n",
       "      <td>'hashottuborspa'</td>\n",
       "      <td>Does the home have a hot tub or spa</td>\n",
       "    </tr>\n",
       "    <tr>\n",
       "      <th>24</th>\n",
       "      <td>'heatingorsystemtypeid'</td>\n",
       "      <td>Type of home heating system</td>\n",
       "    </tr>\n",
       "    <tr>\n",
       "      <th>25</th>\n",
       "      <td>'latitude'</td>\n",
       "      <td>Latitude of the middle of the parcel multipli...</td>\n",
       "    </tr>\n",
       "    <tr>\n",
       "      <th>26</th>\n",
       "      <td>'longitude'</td>\n",
       "      <td>Longitude of the middle of the parcel multipl...</td>\n",
       "    </tr>\n",
       "    <tr>\n",
       "      <th>27</th>\n",
       "      <td>'lotsizesquarefeet'</td>\n",
       "      <td>Area of the lot in square feet</td>\n",
       "    </tr>\n",
       "    <tr>\n",
       "      <th>28</th>\n",
       "      <td>'numberofstories'</td>\n",
       "      <td>Number of stories or levels the home has</td>\n",
       "    </tr>\n",
       "    <tr>\n",
       "      <th>29</th>\n",
       "      <td>'parcelid'</td>\n",
       "      <td>Unique identifier for parcels (lots)</td>\n",
       "    </tr>\n",
       "    <tr>\n",
       "      <th>30</th>\n",
       "      <td>'poolcnt'</td>\n",
       "      <td>Number of pools on the lot (if any)</td>\n",
       "    </tr>\n",
       "    <tr>\n",
       "      <th>31</th>\n",
       "      <td>'poolsizesum'</td>\n",
       "      <td>Total square footage of all pools on property</td>\n",
       "    </tr>\n",
       "    <tr>\n",
       "      <th>32</th>\n",
       "      <td>'pooltypeid10'</td>\n",
       "      <td>Spa or Hot Tub</td>\n",
       "    </tr>\n",
       "    <tr>\n",
       "      <th>33</th>\n",
       "      <td>'pooltypeid2'</td>\n",
       "      <td>Pool with Spa/Hot Tub</td>\n",
       "    </tr>\n",
       "    <tr>\n",
       "      <th>34</th>\n",
       "      <td>'pooltypeid7'</td>\n",
       "      <td>Pool without hot tub</td>\n",
       "    </tr>\n",
       "    <tr>\n",
       "      <th>35</th>\n",
       "      <td>'propertycountylandusecode'</td>\n",
       "      <td>County land use code i.e. it's zoning at the ...</td>\n",
       "    </tr>\n",
       "    <tr>\n",
       "      <th>36</th>\n",
       "      <td>'propertylandusetypeid'</td>\n",
       "      <td>Type of land use the property is zoned for</td>\n",
       "    </tr>\n",
       "    <tr>\n",
       "      <th>37</th>\n",
       "      <td>'propertyzoningdesc'</td>\n",
       "      <td>Description of the allowed land uses (zoning)...</td>\n",
       "    </tr>\n",
       "    <tr>\n",
       "      <th>38</th>\n",
       "      <td>'rawcensustractandblock'</td>\n",
       "      <td>Census tract and block ID combined - also con...</td>\n",
       "    </tr>\n",
       "    <tr>\n",
       "      <th>39</th>\n",
       "      <td>'censustractandblock'</td>\n",
       "      <td>Census tract and block ID combined - also con...</td>\n",
       "    </tr>\n",
       "    <tr>\n",
       "      <th>40</th>\n",
       "      <td>'regionidcounty'</td>\n",
       "      <td>County in which the property is located</td>\n",
       "    </tr>\n",
       "    <tr>\n",
       "      <th>41</th>\n",
       "      <td>'regionidcity'</td>\n",
       "      <td>City in which the property is located (if any)</td>\n",
       "    </tr>\n",
       "    <tr>\n",
       "      <th>42</th>\n",
       "      <td>'regionidzip'</td>\n",
       "      <td>Zip code in which the property is located</td>\n",
       "    </tr>\n",
       "    <tr>\n",
       "      <th>43</th>\n",
       "      <td>'regionidneighborhood'</td>\n",
       "      <td>Neighborhood in which the property is located</td>\n",
       "    </tr>\n",
       "    <tr>\n",
       "      <th>44</th>\n",
       "      <td>'roomcnt'</td>\n",
       "      <td>Total number of rooms in the principal residence</td>\n",
       "    </tr>\n",
       "    <tr>\n",
       "      <th>45</th>\n",
       "      <td>'storytypeid'</td>\n",
       "      <td>Type of floors in a multi-story house (i.e. b...</td>\n",
       "    </tr>\n",
       "    <tr>\n",
       "      <th>46</th>\n",
       "      <td>'typeconstructiontypeid'</td>\n",
       "      <td>What type of construction material was used t...</td>\n",
       "    </tr>\n",
       "    <tr>\n",
       "      <th>47</th>\n",
       "      <td>'unitcnt'</td>\n",
       "      <td>Number of units the structure is built into (...</td>\n",
       "    </tr>\n",
       "    <tr>\n",
       "      <th>48</th>\n",
       "      <td>'yardbuildingsqft17'</td>\n",
       "      <td>Patio in  yard</td>\n",
       "    </tr>\n",
       "    <tr>\n",
       "      <th>49</th>\n",
       "      <td>'yardbuildingsqft26'</td>\n",
       "      <td>Storage shed/building in yard</td>\n",
       "    </tr>\n",
       "    <tr>\n",
       "      <th>50</th>\n",
       "      <td>'yearbuilt'</td>\n",
       "      <td>The Year the principal residence was built</td>\n",
       "    </tr>\n",
       "    <tr>\n",
       "      <th>51</th>\n",
       "      <td>'taxvaluedollarcnt'</td>\n",
       "      <td>The total tax assessed value of the parcel</td>\n",
       "    </tr>\n",
       "    <tr>\n",
       "      <th>52</th>\n",
       "      <td>'structuretaxvaluedollarcnt'</td>\n",
       "      <td>The assessed value of the built structure on t...</td>\n",
       "    </tr>\n",
       "    <tr>\n",
       "      <th>53</th>\n",
       "      <td>'landtaxvaluedollarcnt'</td>\n",
       "      <td>The assessed value of the land area of the parcel</td>\n",
       "    </tr>\n",
       "    <tr>\n",
       "      <th>54</th>\n",
       "      <td>'taxamount'</td>\n",
       "      <td>The total property tax assessed for that asses...</td>\n",
       "    </tr>\n",
       "    <tr>\n",
       "      <th>55</th>\n",
       "      <td>'assessmentyear'</td>\n",
       "      <td>The year of the property tax assessment</td>\n",
       "    </tr>\n",
       "    <tr>\n",
       "      <th>56</th>\n",
       "      <td>'taxdelinquencyflag'</td>\n",
       "      <td>Property taxes for this parcel are past due as...</td>\n",
       "    </tr>\n",
       "    <tr>\n",
       "      <th>57</th>\n",
       "      <td>'taxdelinquencyyear'</td>\n",
       "      <td>Year for which the unpaid propert taxes were due</td>\n",
       "    </tr>\n",
       "  </tbody>\n",
       "</table>\n",
       "</div>"
      ],
      "text/plain": [
       "                           Feature  \\\n",
       "0          'airconditioningtypeid'   \n",
       "1       'architecturalstyletypeid'   \n",
       "2                   'basementsqft'   \n",
       "3                    'bathroomcnt'   \n",
       "4                     'bedroomcnt'   \n",
       "5          'buildingqualitytypeid'   \n",
       "6            'buildingclasstypeid'   \n",
       "7              'calculatedbathnbr'   \n",
       "8                     'decktypeid'   \n",
       "9            'threequarterbathnbr'   \n",
       "10      'finishedfloor1squarefeet'   \n",
       "11  'calculatedfinishedsquarefeet'   \n",
       "12           'finishedsquarefeet6'   \n",
       "13          'finishedsquarefeet12'   \n",
       "14          'finishedsquarefeet13'   \n",
       "15          'finishedsquarefeet15'   \n",
       "16          'finishedsquarefeet50'   \n",
       "17                          'fips'   \n",
       "18                  'fireplacecnt'   \n",
       "19                 'fireplaceflag'   \n",
       "20                   'fullbathcnt'   \n",
       "21                  'garagecarcnt'   \n",
       "22               'garagetotalsqft'   \n",
       "23                'hashottuborspa'   \n",
       "24         'heatingorsystemtypeid'   \n",
       "25                      'latitude'   \n",
       "26                     'longitude'   \n",
       "27             'lotsizesquarefeet'   \n",
       "28               'numberofstories'   \n",
       "29                      'parcelid'   \n",
       "30                       'poolcnt'   \n",
       "31                   'poolsizesum'   \n",
       "32                  'pooltypeid10'   \n",
       "33                   'pooltypeid2'   \n",
       "34                   'pooltypeid7'   \n",
       "35     'propertycountylandusecode'   \n",
       "36         'propertylandusetypeid'   \n",
       "37            'propertyzoningdesc'   \n",
       "38        'rawcensustractandblock'   \n",
       "39           'censustractandblock'   \n",
       "40                'regionidcounty'   \n",
       "41                  'regionidcity'   \n",
       "42                   'regionidzip'   \n",
       "43          'regionidneighborhood'   \n",
       "44                       'roomcnt'   \n",
       "45                   'storytypeid'   \n",
       "46        'typeconstructiontypeid'   \n",
       "47                       'unitcnt'   \n",
       "48            'yardbuildingsqft17'   \n",
       "49            'yardbuildingsqft26'   \n",
       "50                     'yearbuilt'   \n",
       "51             'taxvaluedollarcnt'   \n",
       "52    'structuretaxvaluedollarcnt'   \n",
       "53         'landtaxvaluedollarcnt'   \n",
       "54                     'taxamount'   \n",
       "55                'assessmentyear'   \n",
       "56            'taxdelinquencyflag'   \n",
       "57            'taxdelinquencyyear'   \n",
       "\n",
       "                                          Description  \n",
       "0    Type of cooling system present in the home (i...  \n",
       "1    Architectural style of the home (i.e. ranch, ...  \n",
       "2    Finished living area below or partially below...  \n",
       "3    Number of bathrooms in home including fractio...  \n",
       "4                         Number of bedrooms in home   \n",
       "5    Overall assessment of condition of the buildi...  \n",
       "6   The building framing type (steel frame, wood f...  \n",
       "7    Number of bathrooms in home including fractio...  \n",
       "8             Type of deck (if any) present on parcel  \n",
       "9    Number of 3/4 bathrooms in house (shower + si...  \n",
       "10   Size of the finished living area on the first...  \n",
       "11   Calculated total finished living area of the ...  \n",
       "12                  Base unfinished and finished area  \n",
       "13                               Finished living area  \n",
       "14                             Perimeter  living area  \n",
       "15                                         Total area  \n",
       "16   Size of the finished living area on the first...  \n",
       "17   Federal Information Processing Standard code ...  \n",
       "18            Number of fireplaces in a home (if any)  \n",
       "19               Is a fireplace present in this home   \n",
       "20   Number of full bathrooms (sink, shower + bath...  \n",
       "21   Total number of garages on the lot including ...  \n",
       "22   Total number of square feet of all garages on...  \n",
       "23                Does the home have a hot tub or spa  \n",
       "24                        Type of home heating system  \n",
       "25   Latitude of the middle of the parcel multipli...  \n",
       "26   Longitude of the middle of the parcel multipl...  \n",
       "27                     Area of the lot in square feet  \n",
       "28           Number of stories or levels the home has  \n",
       "29              Unique identifier for parcels (lots)   \n",
       "30                Number of pools on the lot (if any)  \n",
       "31      Total square footage of all pools on property  \n",
       "32                                     Spa or Hot Tub  \n",
       "33                              Pool with Spa/Hot Tub  \n",
       "34                               Pool without hot tub  \n",
       "35   County land use code i.e. it's zoning at the ...  \n",
       "36         Type of land use the property is zoned for  \n",
       "37   Description of the allowed land uses (zoning)...  \n",
       "38   Census tract and block ID combined - also con...  \n",
       "39   Census tract and block ID combined - also con...  \n",
       "40            County in which the property is located  \n",
       "41     City in which the property is located (if any)  \n",
       "42          Zip code in which the property is located  \n",
       "43      Neighborhood in which the property is located  \n",
       "44   Total number of rooms in the principal residence  \n",
       "45   Type of floors in a multi-story house (i.e. b...  \n",
       "46   What type of construction material was used t...  \n",
       "47   Number of units the structure is built into (...  \n",
       "48                                     Patio in  yard  \n",
       "49                      Storage shed/building in yard  \n",
       "50        The Year the principal residence was built   \n",
       "51         The total tax assessed value of the parcel  \n",
       "52  The assessed value of the built structure on t...  \n",
       "53  The assessed value of the land area of the parcel  \n",
       "54  The total property tax assessed for that asses...  \n",
       "55           The year of the property tax assessment   \n",
       "56  Property taxes for this parcel are past due as...  \n",
       "57  Year for which the unpaid propert taxes were due   "
      ]
     },
     "execution_count": 2,
     "metadata": {},
     "output_type": "execute_result"
    }
   ],
   "source": [
    "# Read Data Dictionary from working directory\n",
    "dd = pd.read_excel('zillow_data_dictionary.xlsx')\n",
    "dd"
   ]
  },
  {
   "cell_type": "code",
   "execution_count": 3,
   "id": "9fb11feb",
   "metadata": {},
   "outputs": [],
   "source": [
    "## References are available on my GitHub "
   ]
  },
  {
   "cell_type": "code",
   "execution_count": 4,
   "id": "0bb47697",
   "metadata": {},
   "outputs": [],
   "source": [
    "#[click me](https://github.com/kanieladenis/zillow_regression_project)"
   ]
  },
  {
   "cell_type": "markdown",
   "id": "9606164b",
   "metadata": {},
   "source": [
    "# <font color = 'red'> Acquisition (Get and Clean Data)"
   ]
  },
  {
   "cell_type": "markdown",
   "id": "16ba7abd",
   "metadata": {},
   "source": [
    "## <font color = 'red'>Get Data"
   ]
  },
  {
   "cell_type": "markdown",
   "id": "0b779f63",
   "metadata": {},
   "source": [
    "- Added env.py to the repo .gitignore file so env.py won't be pushed to github\n",
    "- Created an env file that contains my username, password, and host address fo the MySQL Server."
   ]
  },
  {
   "cell_type": "code",
   "execution_count": 5,
   "id": "349acee9",
   "metadata": {},
   "outputs": [],
   "source": [
    "# import env file for hostname, username, password, and db_name\n",
    "from env import host, user, password, db_name"
   ]
  },
  {
   "cell_type": "code",
   "execution_count": 6,
   "id": "3708fdfa",
   "metadata": {},
   "outputs": [],
   "source": [
    "# Pass env file authentication to container 'url'\n",
    "url = f'mysql+pymysql://{user}:{password}@{host}/{db_name}'"
   ]
  },
  {
   "cell_type": "markdown",
   "id": "04d5e784",
   "metadata": {},
   "source": [
    "### Pull records of houses with transactions from 2017"
   ]
  },
  {
   "cell_type": "code",
   "execution_count": 7,
   "id": "6b3aa512",
   "metadata": {},
   "outputs": [],
   "source": [
    "# define sql search for all records from all tables\n",
    "sql = \"\"\"\n",
    "SELECT prop.*,\n",
    "       pred.logerror, \n",
    "       pred.transactiondate, \n",
    "       air.airconditioningdesc, \n",
    "       arch.architecturalstyledesc, \n",
    "       build.buildingclassdesc, \n",
    "       heat.heatingorsystemdesc, \n",
    "       landuse.propertylandusedesc, \n",
    "       story.storydesc, \n",
    "       construct.typeconstructiondesc \n",
    "FROM   properties_2017 prop  \n",
    "JOIN (SELECT parcelid,\n",
    "                  logerror,\n",
    "                  Max(transactiondate) transactiondate \n",
    "           FROM   predictions_2017 \n",
    "           GROUP  BY parcelid, logerror) pred\n",
    "       USING (parcelid)\n",
    "JOIN propertylandusetype USING (propertylandusetypeid)\n",
    "LEFT JOIN airconditioningtype air USING (airconditioningtypeid) \n",
    "LEFT JOIN architecturalstyletype arch USING (architecturalstyletypeid) \n",
    "LEFT JOIN buildingclasstype build USING (buildingclasstypeid) \n",
    "LEFT JOIN heatingorsystemtype heat USING (heatingorsystemtypeid) \n",
    "LEFT JOIN propertylandusetype landuse USING (propertylandusetypeid) \n",
    "LEFT JOIN storytype story USING (storytypeid) \n",
    "LEFT JOIN typeconstructiontype construct USING (typeconstructiontypeid) \n",
    "WHERE  prop.latitude IS NOT NULL \n",
    "AND prop.longitude IS NOT NULL\n",
    "AND transactiondate < '2018-01-01' \n",
    "AND propertylandusetypeid = 261 \n",
    "\"\"\""
   ]
  },
  {
   "cell_type": "markdown",
   "id": "c2dec85b",
   "metadata": {},
   "source": [
    "### Note:\n",
    "- ????\n",
    "\n",
    "### Create Dataframe"
   ]
  },
  {
   "cell_type": "code",
   "execution_count": 8,
   "id": "45507e4d",
   "metadata": {},
   "outputs": [
    {
     "data": {
      "text/html": [
       "<div>\n",
       "<style scoped>\n",
       "    .dataframe tbody tr th:only-of-type {\n",
       "        vertical-align: middle;\n",
       "    }\n",
       "\n",
       "    .dataframe tbody tr th {\n",
       "        vertical-align: top;\n",
       "    }\n",
       "\n",
       "    .dataframe thead th {\n",
       "        text-align: right;\n",
       "    }\n",
       "</style>\n",
       "<table border=\"1\" class=\"dataframe\">\n",
       "  <thead>\n",
       "    <tr style=\"text-align: right;\">\n",
       "      <th></th>\n",
       "      <th>id</th>\n",
       "      <th>parcelid</th>\n",
       "      <th>airconditioningtypeid</th>\n",
       "      <th>architecturalstyletypeid</th>\n",
       "      <th>basementsqft</th>\n",
       "      <th>bathroomcnt</th>\n",
       "      <th>bedroomcnt</th>\n",
       "      <th>buildingclasstypeid</th>\n",
       "      <th>buildingqualitytypeid</th>\n",
       "      <th>calculatedbathnbr</th>\n",
       "      <th>...</th>\n",
       "      <th>censustractandblock</th>\n",
       "      <th>logerror</th>\n",
       "      <th>transactiondate</th>\n",
       "      <th>airconditioningdesc</th>\n",
       "      <th>architecturalstyledesc</th>\n",
       "      <th>buildingclassdesc</th>\n",
       "      <th>heatingorsystemdesc</th>\n",
       "      <th>propertylandusedesc</th>\n",
       "      <th>storydesc</th>\n",
       "      <th>typeconstructiondesc</th>\n",
       "    </tr>\n",
       "  </thead>\n",
       "  <tbody>\n",
       "    <tr>\n",
       "      <th>0</th>\n",
       "      <td>1727539</td>\n",
       "      <td>14297519</td>\n",
       "      <td>NaN</td>\n",
       "      <td>NaN</td>\n",
       "      <td>NaN</td>\n",
       "      <td>3.5</td>\n",
       "      <td>4.0</td>\n",
       "      <td>NaN</td>\n",
       "      <td>NaN</td>\n",
       "      <td>3.5</td>\n",
       "      <td>...</td>\n",
       "      <td>6.059063e+13</td>\n",
       "      <td>0.025595</td>\n",
       "      <td>2017-01-01</td>\n",
       "      <td>NaN</td>\n",
       "      <td>NaN</td>\n",
       "      <td>NaN</td>\n",
       "      <td>NaN</td>\n",
       "      <td>Single Family Residential</td>\n",
       "      <td>NaN</td>\n",
       "      <td>NaN</td>\n",
       "    </tr>\n",
       "    <tr>\n",
       "      <th>1</th>\n",
       "      <td>1387261</td>\n",
       "      <td>17052889</td>\n",
       "      <td>NaN</td>\n",
       "      <td>NaN</td>\n",
       "      <td>NaN</td>\n",
       "      <td>1.0</td>\n",
       "      <td>2.0</td>\n",
       "      <td>NaN</td>\n",
       "      <td>NaN</td>\n",
       "      <td>1.0</td>\n",
       "      <td>...</td>\n",
       "      <td>6.111001e+13</td>\n",
       "      <td>0.055619</td>\n",
       "      <td>2017-01-01</td>\n",
       "      <td>NaN</td>\n",
       "      <td>NaN</td>\n",
       "      <td>NaN</td>\n",
       "      <td>NaN</td>\n",
       "      <td>Single Family Residential</td>\n",
       "      <td>NaN</td>\n",
       "      <td>NaN</td>\n",
       "    </tr>\n",
       "    <tr>\n",
       "      <th>2</th>\n",
       "      <td>11677</td>\n",
       "      <td>14186244</td>\n",
       "      <td>NaN</td>\n",
       "      <td>NaN</td>\n",
       "      <td>NaN</td>\n",
       "      <td>2.0</td>\n",
       "      <td>3.0</td>\n",
       "      <td>NaN</td>\n",
       "      <td>NaN</td>\n",
       "      <td>2.0</td>\n",
       "      <td>...</td>\n",
       "      <td>6.059022e+13</td>\n",
       "      <td>0.005383</td>\n",
       "      <td>2017-01-01</td>\n",
       "      <td>NaN</td>\n",
       "      <td>NaN</td>\n",
       "      <td>NaN</td>\n",
       "      <td>NaN</td>\n",
       "      <td>Single Family Residential</td>\n",
       "      <td>NaN</td>\n",
       "      <td>NaN</td>\n",
       "    </tr>\n",
       "    <tr>\n",
       "      <th>3</th>\n",
       "      <td>2288172</td>\n",
       "      <td>12177905</td>\n",
       "      <td>NaN</td>\n",
       "      <td>NaN</td>\n",
       "      <td>NaN</td>\n",
       "      <td>3.0</td>\n",
       "      <td>4.0</td>\n",
       "      <td>NaN</td>\n",
       "      <td>8.0</td>\n",
       "      <td>3.0</td>\n",
       "      <td>...</td>\n",
       "      <td>6.037300e+13</td>\n",
       "      <td>-0.103410</td>\n",
       "      <td>2017-01-01</td>\n",
       "      <td>NaN</td>\n",
       "      <td>NaN</td>\n",
       "      <td>NaN</td>\n",
       "      <td>Central</td>\n",
       "      <td>Single Family Residential</td>\n",
       "      <td>NaN</td>\n",
       "      <td>NaN</td>\n",
       "    </tr>\n",
       "    <tr>\n",
       "      <th>4</th>\n",
       "      <td>781532</td>\n",
       "      <td>12095076</td>\n",
       "      <td>1.0</td>\n",
       "      <td>NaN</td>\n",
       "      <td>NaN</td>\n",
       "      <td>3.0</td>\n",
       "      <td>4.0</td>\n",
       "      <td>NaN</td>\n",
       "      <td>9.0</td>\n",
       "      <td>3.0</td>\n",
       "      <td>...</td>\n",
       "      <td>6.037461e+13</td>\n",
       "      <td>-0.001011</td>\n",
       "      <td>2017-01-01</td>\n",
       "      <td>Central</td>\n",
       "      <td>NaN</td>\n",
       "      <td>NaN</td>\n",
       "      <td>Central</td>\n",
       "      <td>Single Family Residential</td>\n",
       "      <td>NaN</td>\n",
       "      <td>NaN</td>\n",
       "    </tr>\n",
       "  </tbody>\n",
       "</table>\n",
       "<p>5 rows × 68 columns</p>\n",
       "</div>"
      ],
      "text/plain": [
       "        id  parcelid  airconditioningtypeid  architecturalstyletypeid  \\\n",
       "0  1727539  14297519                    NaN                       NaN   \n",
       "1  1387261  17052889                    NaN                       NaN   \n",
       "2    11677  14186244                    NaN                       NaN   \n",
       "3  2288172  12177905                    NaN                       NaN   \n",
       "4   781532  12095076                    1.0                       NaN   \n",
       "\n",
       "   basementsqft  bathroomcnt  bedroomcnt  buildingclasstypeid  \\\n",
       "0           NaN          3.5         4.0                  NaN   \n",
       "1           NaN          1.0         2.0                  NaN   \n",
       "2           NaN          2.0         3.0                  NaN   \n",
       "3           NaN          3.0         4.0                  NaN   \n",
       "4           NaN          3.0         4.0                  NaN   \n",
       "\n",
       "   buildingqualitytypeid  calculatedbathnbr  ...  censustractandblock  \\\n",
       "0                    NaN                3.5  ...         6.059063e+13   \n",
       "1                    NaN                1.0  ...         6.111001e+13   \n",
       "2                    NaN                2.0  ...         6.059022e+13   \n",
       "3                    8.0                3.0  ...         6.037300e+13   \n",
       "4                    9.0                3.0  ...         6.037461e+13   \n",
       "\n",
       "   logerror  transactiondate  airconditioningdesc  architecturalstyledesc  \\\n",
       "0  0.025595       2017-01-01                  NaN                     NaN   \n",
       "1  0.055619       2017-01-01                  NaN                     NaN   \n",
       "2  0.005383       2017-01-01                  NaN                     NaN   \n",
       "3 -0.103410       2017-01-01                  NaN                     NaN   \n",
       "4 -0.001011       2017-01-01              Central                     NaN   \n",
       "\n",
       "   buildingclassdesc  heatingorsystemdesc        propertylandusedesc  \\\n",
       "0                NaN                  NaN  Single Family Residential   \n",
       "1                NaN                  NaN  Single Family Residential   \n",
       "2                NaN                  NaN  Single Family Residential   \n",
       "3                NaN              Central  Single Family Residential   \n",
       "4                NaN              Central  Single Family Residential   \n",
       "\n",
       "   storydesc  typeconstructiondesc  \n",
       "0        NaN                   NaN  \n",
       "1        NaN                   NaN  \n",
       "2        NaN                   NaN  \n",
       "3        NaN                   NaN  \n",
       "4        NaN                   NaN  \n",
       "\n",
       "[5 rows x 68 columns]"
      ]
     },
     "execution_count": 8,
     "metadata": {},
     "output_type": "execute_result"
    }
   ],
   "source": [
    "# load zillow data from saved csv or pull from sql server and save to csv\n",
    "import os\n",
    "file = 'zillow_data.csv'\n",
    "if os.path.isfile(file):\n",
    "    df = pd.read_csv(file, index_col=0)\n",
    "else:\n",
    "    df = pd.read_sql(sql,url)\n",
    "    df.to_csv(file)\n",
    "df.head()"
   ]
  },
  {
   "cell_type": "markdown",
   "id": "5e2764fd",
   "metadata": {},
   "source": [
    "### Show df info()"
   ]
  },
  {
   "cell_type": "code",
   "execution_count": 9,
   "id": "349a6908",
   "metadata": {},
   "outputs": [
    {
     "name": "stdout",
     "output_type": "stream",
     "text": [
      "<class 'pandas.core.frame.DataFrame'>\n",
      "Int64Index: 52438 entries, 0 to 52437\n",
      "Data columns (total 68 columns):\n",
      " #   Column                        Non-Null Count  Dtype  \n",
      "---  ------                        --------------  -----  \n",
      " 0   id                            52438 non-null  int64  \n",
      " 1   parcelid                      52438 non-null  int64  \n",
      " 2   airconditioningtypeid         13638 non-null  float64\n",
      " 3   architecturalstyletypeid      70 non-null     float64\n",
      " 4   basementsqft                  47 non-null     float64\n",
      " 5   bathroomcnt                   52438 non-null  float64\n",
      " 6   bedroomcnt                    52438 non-null  float64\n",
      " 7   buildingclasstypeid           0 non-null      float64\n",
      " 8   buildingqualitytypeid         33739 non-null  float64\n",
      " 9   calculatedbathnbr             52301 non-null  float64\n",
      " 10  decktypeid                    389 non-null    float64\n",
      " 11  finishedfloor1squarefeet      4379 non-null   float64\n",
      " 12  calculatedfinishedsquarefeet  52356 non-null  float64\n",
      " 13  finishedsquarefeet12          52191 non-null  float64\n",
      " 14  finishedsquarefeet13          0 non-null      float64\n",
      " 15  finishedsquarefeet15          0 non-null      float64\n",
      " 16  finishedsquarefeet50          4379 non-null   float64\n",
      " 17  finishedsquarefeet6           165 non-null    float64\n",
      " 18  fips                          52438 non-null  float64\n",
      " 19  fireplacecnt                  7241 non-null   float64\n",
      " 20  fullbathcnt                   52301 non-null  float64\n",
      " 21  garagecarcnt                  18013 non-null  float64\n",
      " 22  garagetotalsqft               18013 non-null  float64\n",
      " 23  hashottuborspa                1515 non-null   float64\n",
      " 24  heatingorsystemtypeid         33934 non-null  float64\n",
      " 25  latitude                      52438 non-null  float64\n",
      " 26  longitude                     52438 non-null  float64\n",
      " 27  lotsizesquarefeet             52069 non-null  float64\n",
      " 28  poolcnt                       11096 non-null  float64\n",
      " 29  poolsizesum                   867 non-null    float64\n",
      " 30  pooltypeid10                  444 non-null    float64\n",
      " 31  pooltypeid2                   1071 non-null   float64\n",
      " 32  pooltypeid7                   10009 non-null  float64\n",
      " 33  propertycountylandusecode     52438 non-null  object \n",
      " 34  propertylandusetypeid         52438 non-null  float64\n",
      " 35  propertyzoningdesc            33847 non-null  object \n",
      " 36  rawcensustractandblock        52438 non-null  float64\n",
      " 37  regionidcity                  51401 non-null  float64\n",
      " 38  regionidcounty                52438 non-null  float64\n",
      " 39  regionidneighborhood          19033 non-null  float64\n",
      " 40  regionidzip                   52412 non-null  float64\n",
      " 41  roomcnt                       52438 non-null  float64\n",
      " 42  storytypeid                   47 non-null     float64\n",
      " 43  threequarterbathnbr           6724 non-null   float64\n",
      " 44  typeconstructiontypeid        76 non-null     float64\n",
      " 45  unitcnt                       33846 non-null  float64\n",
      " 46  yardbuildingsqft17            1937 non-null   float64\n",
      " 47  yardbuildingsqft26            63 non-null     float64\n",
      " 48  yearbuilt                     52322 non-null  float64\n",
      " 49  numberofstories               14559 non-null  float64\n",
      " 50  fireplaceflag                 81 non-null     float64\n",
      " 51  structuretaxvaluedollarcnt    52354 non-null  float64\n",
      " 52  taxvaluedollarcnt             52437 non-null  float64\n",
      " 53  assessmentyear                52438 non-null  float64\n",
      " 54  landtaxvaluedollarcnt         52437 non-null  float64\n",
      " 55  taxamount                     52434 non-null  float64\n",
      " 56  taxdelinquencyflag            2079 non-null   object \n",
      " 57  taxdelinquencyyear            2079 non-null   float64\n",
      " 58  censustractandblock           52315 non-null  float64\n",
      " 59  logerror                      52438 non-null  float64\n",
      " 60  transactiondate               52438 non-null  object \n",
      " 61  airconditioningdesc           13638 non-null  object \n",
      " 62  architecturalstyledesc        70 non-null     object \n",
      " 63  buildingclassdesc             0 non-null      float64\n",
      " 64  heatingorsystemdesc           33934 non-null  object \n",
      " 65  propertylandusedesc           52438 non-null  object \n",
      " 66  storydesc                     47 non-null     object \n",
      " 67  typeconstructiondesc          76 non-null     object \n",
      "dtypes: float64(56), int64(2), object(10)\n",
      "memory usage: 27.6+ MB\n"
     ]
    }
   ],
   "source": [
    "df.info()"
   ]
  },
  {
   "cell_type": "code",
   "execution_count": 10,
   "id": "e41d6b45",
   "metadata": {},
   "outputs": [
    {
     "data": {
      "text/plain": [
       "(52438, 68)"
      ]
     },
     "execution_count": 10,
     "metadata": {},
     "output_type": "execute_result"
    }
   ],
   "source": [
    "# df shape\n",
    "df.shape"
   ]
  },
  {
   "cell_type": "code",
   "execution_count": 11,
   "id": "5bea919d",
   "metadata": {},
   "outputs": [
    {
     "data": {
      "text/plain": [
       "118"
      ]
     },
     "execution_count": 11,
     "metadata": {},
     "output_type": "execute_result"
    }
   ],
   "source": [
    "# Show duplicated observations even with SQL filter\n",
    "df.parcelid.duplicated().sum()"
   ]
  },
  {
   "cell_type": "code",
   "execution_count": 12,
   "id": "96879bb9",
   "metadata": {},
   "outputs": [
    {
     "data": {
      "text/html": [
       "<div>\n",
       "<style scoped>\n",
       "    .dataframe tbody tr th:only-of-type {\n",
       "        vertical-align: middle;\n",
       "    }\n",
       "\n",
       "    .dataframe tbody tr th {\n",
       "        vertical-align: top;\n",
       "    }\n",
       "\n",
       "    .dataframe thead th {\n",
       "        text-align: right;\n",
       "    }\n",
       "</style>\n",
       "<table border=\"1\" class=\"dataframe\">\n",
       "  <thead>\n",
       "    <tr style=\"text-align: right;\">\n",
       "      <th></th>\n",
       "      <th>id</th>\n",
       "      <th>parcelid</th>\n",
       "      <th>airconditioningtypeid</th>\n",
       "      <th>architecturalstyletypeid</th>\n",
       "      <th>basementsqft</th>\n",
       "      <th>bathroomcnt</th>\n",
       "      <th>bedroomcnt</th>\n",
       "      <th>buildingclasstypeid</th>\n",
       "      <th>buildingqualitytypeid</th>\n",
       "      <th>calculatedbathnbr</th>\n",
       "      <th>...</th>\n",
       "      <th>censustractandblock</th>\n",
       "      <th>logerror</th>\n",
       "      <th>transactiondate</th>\n",
       "      <th>airconditioningdesc</th>\n",
       "      <th>architecturalstyledesc</th>\n",
       "      <th>buildingclassdesc</th>\n",
       "      <th>heatingorsystemdesc</th>\n",
       "      <th>propertylandusedesc</th>\n",
       "      <th>storydesc</th>\n",
       "      <th>typeconstructiondesc</th>\n",
       "    </tr>\n",
       "  </thead>\n",
       "  <tbody>\n",
       "    <tr>\n",
       "      <th>37223</th>\n",
       "      <td>1087254</td>\n",
       "      <td>10711855</td>\n",
       "      <td>NaN</td>\n",
       "      <td>NaN</td>\n",
       "      <td>NaN</td>\n",
       "      <td>2.0</td>\n",
       "      <td>3.0</td>\n",
       "      <td>NaN</td>\n",
       "      <td>8.0</td>\n",
       "      <td>2.0</td>\n",
       "      <td>...</td>\n",
       "      <td>6.037113e+13</td>\n",
       "      <td>-0.007357</td>\n",
       "      <td>2017-07-07</td>\n",
       "      <td>NaN</td>\n",
       "      <td>NaN</td>\n",
       "      <td>NaN</td>\n",
       "      <td>Central</td>\n",
       "      <td>Single Family Residential</td>\n",
       "      <td>NaN</td>\n",
       "      <td>NaN</td>\n",
       "    </tr>\n",
       "    <tr>\n",
       "      <th>48246</th>\n",
       "      <td>1072280</td>\n",
       "      <td>10711877</td>\n",
       "      <td>1.0</td>\n",
       "      <td>NaN</td>\n",
       "      <td>NaN</td>\n",
       "      <td>2.0</td>\n",
       "      <td>4.0</td>\n",
       "      <td>NaN</td>\n",
       "      <td>8.0</td>\n",
       "      <td>2.0</td>\n",
       "      <td>...</td>\n",
       "      <td>6.037113e+13</td>\n",
       "      <td>0.021066</td>\n",
       "      <td>2017-08-29</td>\n",
       "      <td>Central</td>\n",
       "      <td>NaN</td>\n",
       "      <td>NaN</td>\n",
       "      <td>Central</td>\n",
       "      <td>Single Family Residential</td>\n",
       "      <td>NaN</td>\n",
       "      <td>NaN</td>\n",
       "    </tr>\n",
       "    <tr>\n",
       "      <th>15536</th>\n",
       "      <td>1340933</td>\n",
       "      <td>10711888</td>\n",
       "      <td>1.0</td>\n",
       "      <td>NaN</td>\n",
       "      <td>NaN</td>\n",
       "      <td>2.0</td>\n",
       "      <td>4.0</td>\n",
       "      <td>NaN</td>\n",
       "      <td>8.0</td>\n",
       "      <td>2.0</td>\n",
       "      <td>...</td>\n",
       "      <td>6.037113e+13</td>\n",
       "      <td>0.077174</td>\n",
       "      <td>2017-04-04</td>\n",
       "      <td>Central</td>\n",
       "      <td>NaN</td>\n",
       "      <td>NaN</td>\n",
       "      <td>Central</td>\n",
       "      <td>Single Family Residential</td>\n",
       "      <td>NaN</td>\n",
       "      <td>NaN</td>\n",
       "    </tr>\n",
       "    <tr>\n",
       "      <th>12106</th>\n",
       "      <td>1878109</td>\n",
       "      <td>10711910</td>\n",
       "      <td>NaN</td>\n",
       "      <td>NaN</td>\n",
       "      <td>NaN</td>\n",
       "      <td>2.0</td>\n",
       "      <td>3.0</td>\n",
       "      <td>NaN</td>\n",
       "      <td>8.0</td>\n",
       "      <td>2.0</td>\n",
       "      <td>...</td>\n",
       "      <td>6.037113e+13</td>\n",
       "      <td>-0.041238</td>\n",
       "      <td>2017-03-17</td>\n",
       "      <td>NaN</td>\n",
       "      <td>NaN</td>\n",
       "      <td>NaN</td>\n",
       "      <td>Central</td>\n",
       "      <td>Single Family Residential</td>\n",
       "      <td>NaN</td>\n",
       "      <td>NaN</td>\n",
       "    </tr>\n",
       "    <tr>\n",
       "      <th>13666</th>\n",
       "      <td>2190858</td>\n",
       "      <td>10711923</td>\n",
       "      <td>NaN</td>\n",
       "      <td>NaN</td>\n",
       "      <td>NaN</td>\n",
       "      <td>2.0</td>\n",
       "      <td>4.0</td>\n",
       "      <td>NaN</td>\n",
       "      <td>8.0</td>\n",
       "      <td>2.0</td>\n",
       "      <td>...</td>\n",
       "      <td>6.037113e+13</td>\n",
       "      <td>-0.009496</td>\n",
       "      <td>2017-03-24</td>\n",
       "      <td>NaN</td>\n",
       "      <td>NaN</td>\n",
       "      <td>NaN</td>\n",
       "      <td>Central</td>\n",
       "      <td>Single Family Residential</td>\n",
       "      <td>NaN</td>\n",
       "      <td>NaN</td>\n",
       "    </tr>\n",
       "  </tbody>\n",
       "</table>\n",
       "<p>5 rows × 68 columns</p>\n",
       "</div>"
      ],
      "text/plain": [
       "            id  parcelid  airconditioningtypeid  architecturalstyletypeid  \\\n",
       "37223  1087254  10711855                    NaN                       NaN   \n",
       "48246  1072280  10711877                    1.0                       NaN   \n",
       "15536  1340933  10711888                    1.0                       NaN   \n",
       "12106  1878109  10711910                    NaN                       NaN   \n",
       "13666  2190858  10711923                    NaN                       NaN   \n",
       "\n",
       "       basementsqft  bathroomcnt  bedroomcnt  buildingclasstypeid  \\\n",
       "37223           NaN          2.0         3.0                  NaN   \n",
       "48246           NaN          2.0         4.0                  NaN   \n",
       "15536           NaN          2.0         4.0                  NaN   \n",
       "12106           NaN          2.0         3.0                  NaN   \n",
       "13666           NaN          2.0         4.0                  NaN   \n",
       "\n",
       "       buildingqualitytypeid  calculatedbathnbr  ...  censustractandblock  \\\n",
       "37223                    8.0                2.0  ...         6.037113e+13   \n",
       "48246                    8.0                2.0  ...         6.037113e+13   \n",
       "15536                    8.0                2.0  ...         6.037113e+13   \n",
       "12106                    8.0                2.0  ...         6.037113e+13   \n",
       "13666                    8.0                2.0  ...         6.037113e+13   \n",
       "\n",
       "       logerror  transactiondate  airconditioningdesc  architecturalstyledesc  \\\n",
       "37223 -0.007357       2017-07-07                  NaN                     NaN   \n",
       "48246  0.021066       2017-08-29              Central                     NaN   \n",
       "15536  0.077174       2017-04-04              Central                     NaN   \n",
       "12106 -0.041238       2017-03-17                  NaN                     NaN   \n",
       "13666 -0.009496       2017-03-24                  NaN                     NaN   \n",
       "\n",
       "       buildingclassdesc  heatingorsystemdesc        propertylandusedesc  \\\n",
       "37223                NaN              Central  Single Family Residential   \n",
       "48246                NaN              Central  Single Family Residential   \n",
       "15536                NaN              Central  Single Family Residential   \n",
       "12106                NaN              Central  Single Family Residential   \n",
       "13666                NaN              Central  Single Family Residential   \n",
       "\n",
       "       storydesc  typeconstructiondesc  \n",
       "37223        NaN                   NaN  \n",
       "48246        NaN                   NaN  \n",
       "15536        NaN                   NaN  \n",
       "12106        NaN                   NaN  \n",
       "13666        NaN                   NaN  \n",
       "\n",
       "[5 rows x 68 columns]"
      ]
     },
     "execution_count": 12,
     "metadata": {},
     "output_type": "execute_result"
    }
   ],
   "source": [
    "# Sort df by parcelid and then by transaction date to group by parcelid and to make sure transaction date is last\n",
    "df = df.sort_values(by=['parcelid','transactiondate'])\n",
    "df.head()"
   ]
  },
  {
   "cell_type": "code",
   "execution_count": 13,
   "id": "34545e6d",
   "metadata": {},
   "outputs": [
    {
     "data": {
      "text/html": [
       "<div>\n",
       "<style scoped>\n",
       "    .dataframe tbody tr th:only-of-type {\n",
       "        vertical-align: middle;\n",
       "    }\n",
       "\n",
       "    .dataframe tbody tr th {\n",
       "        vertical-align: top;\n",
       "    }\n",
       "\n",
       "    .dataframe thead th {\n",
       "        text-align: right;\n",
       "    }\n",
       "</style>\n",
       "<table border=\"1\" class=\"dataframe\">\n",
       "  <thead>\n",
       "    <tr style=\"text-align: right;\">\n",
       "      <th></th>\n",
       "      <th>id</th>\n",
       "      <th>parcelid</th>\n",
       "      <th>airconditioningtypeid</th>\n",
       "      <th>architecturalstyletypeid</th>\n",
       "      <th>basementsqft</th>\n",
       "      <th>bathroomcnt</th>\n",
       "      <th>bedroomcnt</th>\n",
       "      <th>buildingclasstypeid</th>\n",
       "      <th>buildingqualitytypeid</th>\n",
       "      <th>calculatedbathnbr</th>\n",
       "      <th>...</th>\n",
       "      <th>censustractandblock</th>\n",
       "      <th>logerror</th>\n",
       "      <th>transactiondate</th>\n",
       "      <th>airconditioningdesc</th>\n",
       "      <th>architecturalstyledesc</th>\n",
       "      <th>buildingclassdesc</th>\n",
       "      <th>heatingorsystemdesc</th>\n",
       "      <th>propertylandusedesc</th>\n",
       "      <th>storydesc</th>\n",
       "      <th>typeconstructiondesc</th>\n",
       "    </tr>\n",
       "  </thead>\n",
       "  <tbody>\n",
       "    <tr>\n",
       "      <th>9384</th>\n",
       "      <td>16179</td>\n",
       "      <td>10722858</td>\n",
       "      <td>NaN</td>\n",
       "      <td>NaN</td>\n",
       "      <td>NaN</td>\n",
       "      <td>2.0</td>\n",
       "      <td>4.0</td>\n",
       "      <td>NaN</td>\n",
       "      <td>6.0</td>\n",
       "      <td>2.0</td>\n",
       "      <td>...</td>\n",
       "      <td>6.037135e+13</td>\n",
       "      <td>0.095171</td>\n",
       "      <td>2017-03-02</td>\n",
       "      <td>NaN</td>\n",
       "      <td>NaN</td>\n",
       "      <td>NaN</td>\n",
       "      <td>Central</td>\n",
       "      <td>Single Family Residential</td>\n",
       "      <td>NaN</td>\n",
       "      <td>NaN</td>\n",
       "    </tr>\n",
       "    <tr>\n",
       "      <th>9385</th>\n",
       "      <td>16179</td>\n",
       "      <td>10722858</td>\n",
       "      <td>NaN</td>\n",
       "      <td>NaN</td>\n",
       "      <td>NaN</td>\n",
       "      <td>2.0</td>\n",
       "      <td>4.0</td>\n",
       "      <td>NaN</td>\n",
       "      <td>6.0</td>\n",
       "      <td>2.0</td>\n",
       "      <td>...</td>\n",
       "      <td>6.037135e+13</td>\n",
       "      <td>-0.172843</td>\n",
       "      <td>2017-07-28</td>\n",
       "      <td>NaN</td>\n",
       "      <td>NaN</td>\n",
       "      <td>NaN</td>\n",
       "      <td>Central</td>\n",
       "      <td>Single Family Residential</td>\n",
       "      <td>NaN</td>\n",
       "      <td>NaN</td>\n",
       "    </tr>\n",
       "    <tr>\n",
       "      <th>9306</th>\n",
       "      <td>1836115</td>\n",
       "      <td>10732347</td>\n",
       "      <td>NaN</td>\n",
       "      <td>NaN</td>\n",
       "      <td>NaN</td>\n",
       "      <td>2.0</td>\n",
       "      <td>4.0</td>\n",
       "      <td>NaN</td>\n",
       "      <td>8.0</td>\n",
       "      <td>2.0</td>\n",
       "      <td>...</td>\n",
       "      <td>6.037137e+13</td>\n",
       "      <td>0.077198</td>\n",
       "      <td>2017-03-01</td>\n",
       "      <td>NaN</td>\n",
       "      <td>NaN</td>\n",
       "      <td>NaN</td>\n",
       "      <td>Central</td>\n",
       "      <td>Single Family Residential</td>\n",
       "      <td>NaN</td>\n",
       "      <td>NaN</td>\n",
       "    </tr>\n",
       "    <tr>\n",
       "      <th>9307</th>\n",
       "      <td>1836115</td>\n",
       "      <td>10732347</td>\n",
       "      <td>NaN</td>\n",
       "      <td>NaN</td>\n",
       "      <td>NaN</td>\n",
       "      <td>2.0</td>\n",
       "      <td>4.0</td>\n",
       "      <td>NaN</td>\n",
       "      <td>8.0</td>\n",
       "      <td>2.0</td>\n",
       "      <td>...</td>\n",
       "      <td>6.037137e+13</td>\n",
       "      <td>-0.221145</td>\n",
       "      <td>2017-07-25</td>\n",
       "      <td>NaN</td>\n",
       "      <td>NaN</td>\n",
       "      <td>NaN</td>\n",
       "      <td>Central</td>\n",
       "      <td>Single Family Residential</td>\n",
       "      <td>NaN</td>\n",
       "      <td>NaN</td>\n",
       "    </tr>\n",
       "    <tr>\n",
       "      <th>1940</th>\n",
       "      <td>2119208</td>\n",
       "      <td>10739478</td>\n",
       "      <td>1.0</td>\n",
       "      <td>NaN</td>\n",
       "      <td>NaN</td>\n",
       "      <td>3.0</td>\n",
       "      <td>4.0</td>\n",
       "      <td>NaN</td>\n",
       "      <td>8.0</td>\n",
       "      <td>3.0</td>\n",
       "      <td>...</td>\n",
       "      <td>6.037800e+13</td>\n",
       "      <td>0.083280</td>\n",
       "      <td>2017-01-13</td>\n",
       "      <td>Central</td>\n",
       "      <td>NaN</td>\n",
       "      <td>NaN</td>\n",
       "      <td>Central</td>\n",
       "      <td>Single Family Residential</td>\n",
       "      <td>NaN</td>\n",
       "      <td>NaN</td>\n",
       "    </tr>\n",
       "  </tbody>\n",
       "</table>\n",
       "<p>5 rows × 68 columns</p>\n",
       "</div>"
      ],
      "text/plain": [
       "           id  parcelid  airconditioningtypeid  architecturalstyletypeid  \\\n",
       "9384    16179  10722858                    NaN                       NaN   \n",
       "9385    16179  10722858                    NaN                       NaN   \n",
       "9306  1836115  10732347                    NaN                       NaN   \n",
       "9307  1836115  10732347                    NaN                       NaN   \n",
       "1940  2119208  10739478                    1.0                       NaN   \n",
       "\n",
       "      basementsqft  bathroomcnt  bedroomcnt  buildingclasstypeid  \\\n",
       "9384           NaN          2.0         4.0                  NaN   \n",
       "9385           NaN          2.0         4.0                  NaN   \n",
       "9306           NaN          2.0         4.0                  NaN   \n",
       "9307           NaN          2.0         4.0                  NaN   \n",
       "1940           NaN          3.0         4.0                  NaN   \n",
       "\n",
       "      buildingqualitytypeid  calculatedbathnbr  ...  censustractandblock  \\\n",
       "9384                    6.0                2.0  ...         6.037135e+13   \n",
       "9385                    6.0                2.0  ...         6.037135e+13   \n",
       "9306                    8.0                2.0  ...         6.037137e+13   \n",
       "9307                    8.0                2.0  ...         6.037137e+13   \n",
       "1940                    8.0                3.0  ...         6.037800e+13   \n",
       "\n",
       "      logerror  transactiondate  airconditioningdesc  architecturalstyledesc  \\\n",
       "9384  0.095171       2017-03-02                  NaN                     NaN   \n",
       "9385 -0.172843       2017-07-28                  NaN                     NaN   \n",
       "9306  0.077198       2017-03-01                  NaN                     NaN   \n",
       "9307 -0.221145       2017-07-25                  NaN                     NaN   \n",
       "1940  0.083280       2017-01-13              Central                     NaN   \n",
       "\n",
       "      buildingclassdesc  heatingorsystemdesc        propertylandusedesc  \\\n",
       "9384                NaN              Central  Single Family Residential   \n",
       "9385                NaN              Central  Single Family Residential   \n",
       "9306                NaN              Central  Single Family Residential   \n",
       "9307                NaN              Central  Single Family Residential   \n",
       "1940                NaN              Central  Single Family Residential   \n",
       "\n",
       "      storydesc  typeconstructiondesc  \n",
       "9384        NaN                   NaN  \n",
       "9385        NaN                   NaN  \n",
       "9306        NaN                   NaN  \n",
       "9307        NaN                   NaN  \n",
       "1940        NaN                   NaN  \n",
       "\n",
       "[5 rows x 68 columns]"
      ]
     },
     "execution_count": 13,
     "metadata": {},
     "output_type": "execute_result"
    }
   ],
   "source": [
    "# Show duplicated parcel id\n",
    "df[df.duplicated(subset='parcelid', keep=False)].head()"
   ]
  },
  {
   "cell_type": "code",
   "execution_count": 14,
   "id": "3ff7754c",
   "metadata": {},
   "outputs": [],
   "source": [
    "# drop dulicates  but keep last transaction date\n",
    "df = df.drop_duplicates(subset='parcelid', keep='last')"
   ]
  },
  {
   "cell_type": "code",
   "execution_count": 15,
   "id": "676bc568",
   "metadata": {},
   "outputs": [
    {
     "data": {
      "text/html": [
       "<div>\n",
       "<style scoped>\n",
       "    .dataframe tbody tr th:only-of-type {\n",
       "        vertical-align: middle;\n",
       "    }\n",
       "\n",
       "    .dataframe tbody tr th {\n",
       "        vertical-align: top;\n",
       "    }\n",
       "\n",
       "    .dataframe thead th {\n",
       "        text-align: right;\n",
       "    }\n",
       "</style>\n",
       "<table border=\"1\" class=\"dataframe\">\n",
       "  <thead>\n",
       "    <tr style=\"text-align: right;\">\n",
       "      <th></th>\n",
       "      <th>id</th>\n",
       "      <th>parcelid</th>\n",
       "      <th>airconditioningtypeid</th>\n",
       "      <th>architecturalstyletypeid</th>\n",
       "      <th>basementsqft</th>\n",
       "      <th>bathroomcnt</th>\n",
       "      <th>bedroomcnt</th>\n",
       "      <th>buildingclasstypeid</th>\n",
       "      <th>buildingqualitytypeid</th>\n",
       "      <th>calculatedbathnbr</th>\n",
       "      <th>...</th>\n",
       "      <th>censustractandblock</th>\n",
       "      <th>logerror</th>\n",
       "      <th>transactiondate</th>\n",
       "      <th>airconditioningdesc</th>\n",
       "      <th>architecturalstyledesc</th>\n",
       "      <th>buildingclassdesc</th>\n",
       "      <th>heatingorsystemdesc</th>\n",
       "      <th>propertylandusedesc</th>\n",
       "      <th>storydesc</th>\n",
       "      <th>typeconstructiondesc</th>\n",
       "    </tr>\n",
       "  </thead>\n",
       "  <tbody>\n",
       "  </tbody>\n",
       "</table>\n",
       "<p>0 rows × 68 columns</p>\n",
       "</div>"
      ],
      "text/plain": [
       "Empty DataFrame\n",
       "Columns: [id, parcelid, airconditioningtypeid, architecturalstyletypeid, basementsqft, bathroomcnt, bedroomcnt, buildingclasstypeid, buildingqualitytypeid, calculatedbathnbr, decktypeid, finishedfloor1squarefeet, calculatedfinishedsquarefeet, finishedsquarefeet12, finishedsquarefeet13, finishedsquarefeet15, finishedsquarefeet50, finishedsquarefeet6, fips, fireplacecnt, fullbathcnt, garagecarcnt, garagetotalsqft, hashottuborspa, heatingorsystemtypeid, latitude, longitude, lotsizesquarefeet, poolcnt, poolsizesum, pooltypeid10, pooltypeid2, pooltypeid7, propertycountylandusecode, propertylandusetypeid, propertyzoningdesc, rawcensustractandblock, regionidcity, regionidcounty, regionidneighborhood, regionidzip, roomcnt, storytypeid, threequarterbathnbr, typeconstructiontypeid, unitcnt, yardbuildingsqft17, yardbuildingsqft26, yearbuilt, numberofstories, fireplaceflag, structuretaxvaluedollarcnt, taxvaluedollarcnt, assessmentyear, landtaxvaluedollarcnt, taxamount, taxdelinquencyflag, taxdelinquencyyear, censustractandblock, logerror, transactiondate, airconditioningdesc, architecturalstyledesc, buildingclassdesc, heatingorsystemdesc, propertylandusedesc, storydesc, typeconstructiondesc]\n",
       "Index: []\n",
       "\n",
       "[0 rows x 68 columns]"
      ]
     },
     "execution_count": 15,
     "metadata": {},
     "output_type": "execute_result"
    }
   ],
   "source": [
    "# Show duplicated parcel id\n",
    "df[df.duplicated(subset='parcelid', keep=False)].head()"
   ]
  },
  {
   "cell_type": "code",
   "execution_count": 16,
   "id": "3ad8a46a",
   "metadata": {},
   "outputs": [
    {
     "data": {
      "text/plain": [
       "0"
      ]
     },
     "execution_count": 16,
     "metadata": {},
     "output_type": "execute_result"
    }
   ],
   "source": [
    "# confirm duplicated parcel id removed\n",
    "df.parcelid.duplicated().sum()"
   ]
  },
  {
   "cell_type": "code",
   "execution_count": 17,
   "id": "a749455a",
   "metadata": {},
   "outputs": [
    {
     "data": {
      "text/plain": [
       "(52320, 68)"
      ]
     },
     "execution_count": 17,
     "metadata": {},
     "output_type": "execute_result"
    }
   ],
   "source": [
    "# check new shape\n",
    "df.shape"
   ]
  },
  {
   "cell_type": "code",
   "execution_count": 18,
   "id": "a222e24a",
   "metadata": {},
   "outputs": [],
   "source": [
    "# Replace blank values with NaN\n",
    "df = df.replace('',np.nan)"
   ]
  },
  {
   "cell_type": "code",
   "execution_count": 19,
   "id": "41e1e5da",
   "metadata": {},
   "outputs": [
    {
     "data": {
      "text/plain": [
       "(0, 0)"
      ]
     },
     "execution_count": 19,
     "metadata": {},
     "output_type": "execute_result"
    }
   ],
   "source": [
    "# check if long/lat columns have nulls\n",
    "df.longitude.isnull().sum(), df.latitude.isnull().sum()"
   ]
  },
  {
   "cell_type": "code",
   "execution_count": 20,
   "id": "e1b2f83f",
   "metadata": {},
   "outputs": [
    {
     "data": {
      "text/plain": [
       "id                              0\n",
       "parcelid                        0\n",
       "airconditioningtypeid       38705\n",
       "architecturalstyletypeid    52250\n",
       "basementsqft                52273\n",
       "                            ...  \n",
       "buildingclassdesc           52320\n",
       "heatingorsystemdesc         18470\n",
       "propertylandusedesc             0\n",
       "storydesc                   52273\n",
       "typeconstructiondesc        52244\n",
       "Length: 68, dtype: int64"
      ]
     },
     "execution_count": 20,
     "metadata": {},
     "output_type": "execute_result"
    }
   ],
   "source": [
    "# number of nulls per column\n",
    "df.isna().sum()"
   ]
  },
  {
   "cell_type": "code",
   "execution_count": 21,
   "id": "fe98b77a",
   "metadata": {},
   "outputs": [
    {
     "data": {
      "text/plain": [
       "id                          0.000000\n",
       "parcelid                    0.000000\n",
       "airconditioningtypeid       0.739774\n",
       "architecturalstyletypeid    0.998662\n",
       "basementsqft                0.999102\n",
       "                              ...   \n",
       "buildingclassdesc           1.000000\n",
       "heatingorsystemdesc         0.353020\n",
       "propertylandusedesc         0.000000\n",
       "storydesc                   0.999102\n",
       "typeconstructiondesc        0.998547\n",
       "Length: 68, dtype: float64"
      ]
     },
     "execution_count": 21,
     "metadata": {},
     "output_type": "execute_result"
    }
   ],
   "source": [
    "# percent of nulls per column\n",
    "df.isna().mean()"
   ]
  },
  {
   "cell_type": "code",
   "execution_count": 22,
   "id": "945723cf",
   "metadata": {},
   "outputs": [
    {
     "data": {
      "text/plain": [
       "37223    31\n",
       "48246    29\n",
       "15536    31\n",
       "12106    31\n",
       "13666    31\n",
       "         ..\n",
       "42306    35\n",
       "31148    36\n",
       "23911    36\n",
       "9001     48\n",
       "28113    48\n",
       "Length: 52320, dtype: int64"
      ]
     },
     "execution_count": 22,
     "metadata": {},
     "output_type": "execute_result"
    }
   ],
   "source": [
    "# number of nulls per row\n",
    "df.isna().sum(axis=1)"
   ]
  },
  {
   "cell_type": "code",
   "execution_count": 23,
   "id": "f04a53ee",
   "metadata": {},
   "outputs": [
    {
     "data": {
      "text/plain": [
       "33    11967\n",
       "34    11158\n",
       "32     8885\n",
       "31     5989\n",
       "36     4138\n",
       "35     3469\n",
       "29     2527\n",
       "30     2199\n",
       "37     1020\n",
       "28      390\n",
       "38      223\n",
       "27      177\n",
       "44       46\n",
       "26       30\n",
       "39       29\n",
       "40       15\n",
       "24       12\n",
       "25       11\n",
       "43       10\n",
       "42        7\n",
       "45        6\n",
       "41        6\n",
       "23        2\n",
       "48        2\n",
       "46        1\n",
       "47        1\n",
       "dtype: int64"
      ]
     },
     "execution_count": 23,
     "metadata": {},
     "output_type": "execute_result"
    }
   ],
   "source": [
    "# number of rows with a specific number of nulls\n",
    "df.isna().sum(axis=1).value_counts()"
   ]
  },
  {
   "cell_type": "code",
   "execution_count": 24,
   "id": "a4131907",
   "metadata": {},
   "outputs": [
    {
     "data": {
      "text/html": [
       "<div>\n",
       "<style scoped>\n",
       "    .dataframe tbody tr th:only-of-type {\n",
       "        vertical-align: middle;\n",
       "    }\n",
       "\n",
       "    .dataframe tbody tr th {\n",
       "        vertical-align: top;\n",
       "    }\n",
       "\n",
       "    .dataframe thead th {\n",
       "        text-align: right;\n",
       "    }\n",
       "</style>\n",
       "<table border=\"1\" class=\"dataframe\">\n",
       "  <thead>\n",
       "    <tr style=\"text-align: right;\">\n",
       "      <th></th>\n",
       "      <th>columns_name</th>\n",
       "    </tr>\n",
       "  </thead>\n",
       "  <tbody>\n",
       "    <tr>\n",
       "      <th>0</th>\n",
       "      <td>id</td>\n",
       "    </tr>\n",
       "    <tr>\n",
       "      <th>1</th>\n",
       "      <td>parcelid</td>\n",
       "    </tr>\n",
       "    <tr>\n",
       "      <th>2</th>\n",
       "      <td>airconditioningtypeid</td>\n",
       "    </tr>\n",
       "    <tr>\n",
       "      <th>3</th>\n",
       "      <td>architecturalstyletypeid</td>\n",
       "    </tr>\n",
       "    <tr>\n",
       "      <th>4</th>\n",
       "      <td>basementsqft</td>\n",
       "    </tr>\n",
       "    <tr>\n",
       "      <th>...</th>\n",
       "      <td>...</td>\n",
       "    </tr>\n",
       "    <tr>\n",
       "      <th>63</th>\n",
       "      <td>buildingclassdesc</td>\n",
       "    </tr>\n",
       "    <tr>\n",
       "      <th>64</th>\n",
       "      <td>heatingorsystemdesc</td>\n",
       "    </tr>\n",
       "    <tr>\n",
       "      <th>65</th>\n",
       "      <td>propertylandusedesc</td>\n",
       "    </tr>\n",
       "    <tr>\n",
       "      <th>66</th>\n",
       "      <td>storydesc</td>\n",
       "    </tr>\n",
       "    <tr>\n",
       "      <th>67</th>\n",
       "      <td>typeconstructiondesc</td>\n",
       "    </tr>\n",
       "  </tbody>\n",
       "</table>\n",
       "<p>68 rows × 1 columns</p>\n",
       "</div>"
      ],
      "text/plain": [
       "                columns_name\n",
       "0                         id\n",
       "1                   parcelid\n",
       "2      airconditioningtypeid\n",
       "3   architecturalstyletypeid\n",
       "4               basementsqft\n",
       "..                       ...\n",
       "63         buildingclassdesc\n",
       "64       heatingorsystemdesc\n",
       "65       propertylandusedesc\n",
       "66                 storydesc\n",
       "67      typeconstructiondesc\n",
       "\n",
       "[68 rows x 1 columns]"
      ]
     },
     "execution_count": 24,
     "metadata": {},
     "output_type": "execute_result"
    }
   ],
   "source": [
    "# create dataframe that has column name as first column\n",
    "col_nulls = pd.DataFrame()\n",
    "col_nulls['columns_name'] = df.isna().sum().index\n",
    "col_nulls"
   ]
  },
  {
   "cell_type": "code",
   "execution_count": 25,
   "id": "f9e2a2b8",
   "metadata": {},
   "outputs": [
    {
     "data": {
      "text/html": [
       "<div>\n",
       "<style scoped>\n",
       "    .dataframe tbody tr th:only-of-type {\n",
       "        vertical-align: middle;\n",
       "    }\n",
       "\n",
       "    .dataframe tbody tr th {\n",
       "        vertical-align: top;\n",
       "    }\n",
       "\n",
       "    .dataframe thead th {\n",
       "        text-align: right;\n",
       "    }\n",
       "</style>\n",
       "<table border=\"1\" class=\"dataframe\">\n",
       "  <thead>\n",
       "    <tr style=\"text-align: right;\">\n",
       "      <th></th>\n",
       "      <th>columns_name</th>\n",
       "      <th>row_null_count</th>\n",
       "    </tr>\n",
       "  </thead>\n",
       "  <tbody>\n",
       "    <tr>\n",
       "      <th>0</th>\n",
       "      <td>id</td>\n",
       "      <td>0</td>\n",
       "    </tr>\n",
       "    <tr>\n",
       "      <th>1</th>\n",
       "      <td>parcelid</td>\n",
       "      <td>0</td>\n",
       "    </tr>\n",
       "    <tr>\n",
       "      <th>2</th>\n",
       "      <td>airconditioningtypeid</td>\n",
       "      <td>38705</td>\n",
       "    </tr>\n",
       "    <tr>\n",
       "      <th>3</th>\n",
       "      <td>architecturalstyletypeid</td>\n",
       "      <td>52250</td>\n",
       "    </tr>\n",
       "    <tr>\n",
       "      <th>4</th>\n",
       "      <td>basementsqft</td>\n",
       "      <td>52273</td>\n",
       "    </tr>\n",
       "    <tr>\n",
       "      <th>...</th>\n",
       "      <td>...</td>\n",
       "      <td>...</td>\n",
       "    </tr>\n",
       "    <tr>\n",
       "      <th>63</th>\n",
       "      <td>buildingclassdesc</td>\n",
       "      <td>52320</td>\n",
       "    </tr>\n",
       "    <tr>\n",
       "      <th>64</th>\n",
       "      <td>heatingorsystemdesc</td>\n",
       "      <td>18470</td>\n",
       "    </tr>\n",
       "    <tr>\n",
       "      <th>65</th>\n",
       "      <td>propertylandusedesc</td>\n",
       "      <td>0</td>\n",
       "    </tr>\n",
       "    <tr>\n",
       "      <th>66</th>\n",
       "      <td>storydesc</td>\n",
       "      <td>52273</td>\n",
       "    </tr>\n",
       "    <tr>\n",
       "      <th>67</th>\n",
       "      <td>typeconstructiondesc</td>\n",
       "      <td>52244</td>\n",
       "    </tr>\n",
       "  </tbody>\n",
       "</table>\n",
       "<p>68 rows × 2 columns</p>\n",
       "</div>"
      ],
      "text/plain": [
       "                columns_name  row_null_count\n",
       "0                         id               0\n",
       "1                   parcelid               0\n",
       "2      airconditioningtypeid           38705\n",
       "3   architecturalstyletypeid           52250\n",
       "4               basementsqft           52273\n",
       "..                       ...             ...\n",
       "63         buildingclassdesc           52320\n",
       "64       heatingorsystemdesc           18470\n",
       "65       propertylandusedesc               0\n",
       "66                 storydesc           52273\n",
       "67      typeconstructiondesc           52244\n",
       "\n",
       "[68 rows x 2 columns]"
      ]
     },
     "execution_count": 25,
     "metadata": {},
     "output_type": "execute_result"
    }
   ],
   "source": [
    "# create new column that hold the sum of nulls from each column\n",
    "col_nulls['row_null_count'] = df.isna().sum().values\n",
    "col_nulls"
   ]
  },
  {
   "cell_type": "code",
   "execution_count": 26,
   "id": "bf44b84c",
   "metadata": {},
   "outputs": [
    {
     "data": {
      "text/html": [
       "<div>\n",
       "<style scoped>\n",
       "    .dataframe tbody tr th:only-of-type {\n",
       "        vertical-align: middle;\n",
       "    }\n",
       "\n",
       "    .dataframe tbody tr th {\n",
       "        vertical-align: top;\n",
       "    }\n",
       "\n",
       "    .dataframe thead th {\n",
       "        text-align: right;\n",
       "    }\n",
       "</style>\n",
       "<table border=\"1\" class=\"dataframe\">\n",
       "  <thead>\n",
       "    <tr style=\"text-align: right;\">\n",
       "      <th></th>\n",
       "      <th>columns_name</th>\n",
       "      <th>row_null_count</th>\n",
       "      <th>row_null_percent</th>\n",
       "    </tr>\n",
       "  </thead>\n",
       "  <tbody>\n",
       "    <tr>\n",
       "      <th>0</th>\n",
       "      <td>id</td>\n",
       "      <td>0</td>\n",
       "      <td>0.000000</td>\n",
       "    </tr>\n",
       "    <tr>\n",
       "      <th>1</th>\n",
       "      <td>parcelid</td>\n",
       "      <td>0</td>\n",
       "      <td>0.000000</td>\n",
       "    </tr>\n",
       "    <tr>\n",
       "      <th>2</th>\n",
       "      <td>airconditioningtypeid</td>\n",
       "      <td>38705</td>\n",
       "      <td>0.739774</td>\n",
       "    </tr>\n",
       "    <tr>\n",
       "      <th>3</th>\n",
       "      <td>architecturalstyletypeid</td>\n",
       "      <td>52250</td>\n",
       "      <td>0.998662</td>\n",
       "    </tr>\n",
       "    <tr>\n",
       "      <th>4</th>\n",
       "      <td>basementsqft</td>\n",
       "      <td>52273</td>\n",
       "      <td>0.999102</td>\n",
       "    </tr>\n",
       "    <tr>\n",
       "      <th>...</th>\n",
       "      <td>...</td>\n",
       "      <td>...</td>\n",
       "      <td>...</td>\n",
       "    </tr>\n",
       "    <tr>\n",
       "      <th>63</th>\n",
       "      <td>buildingclassdesc</td>\n",
       "      <td>52320</td>\n",
       "      <td>1.000000</td>\n",
       "    </tr>\n",
       "    <tr>\n",
       "      <th>64</th>\n",
       "      <td>heatingorsystemdesc</td>\n",
       "      <td>18470</td>\n",
       "      <td>0.353020</td>\n",
       "    </tr>\n",
       "    <tr>\n",
       "      <th>65</th>\n",
       "      <td>propertylandusedesc</td>\n",
       "      <td>0</td>\n",
       "      <td>0.000000</td>\n",
       "    </tr>\n",
       "    <tr>\n",
       "      <th>66</th>\n",
       "      <td>storydesc</td>\n",
       "      <td>52273</td>\n",
       "      <td>0.999102</td>\n",
       "    </tr>\n",
       "    <tr>\n",
       "      <th>67</th>\n",
       "      <td>typeconstructiondesc</td>\n",
       "      <td>52244</td>\n",
       "      <td>0.998547</td>\n",
       "    </tr>\n",
       "  </tbody>\n",
       "</table>\n",
       "<p>68 rows × 3 columns</p>\n",
       "</div>"
      ],
      "text/plain": [
       "                columns_name  row_null_count  row_null_percent\n",
       "0                         id               0          0.000000\n",
       "1                   parcelid               0          0.000000\n",
       "2      airconditioningtypeid           38705          0.739774\n",
       "3   architecturalstyletypeid           52250          0.998662\n",
       "4               basementsqft           52273          0.999102\n",
       "..                       ...             ...               ...\n",
       "63         buildingclassdesc           52320          1.000000\n",
       "64       heatingorsystemdesc           18470          0.353020\n",
       "65       propertylandusedesc               0          0.000000\n",
       "66                 storydesc           52273          0.999102\n",
       "67      typeconstructiondesc           52244          0.998547\n",
       "\n",
       "[68 rows x 3 columns]"
      ]
     },
     "execution_count": 26,
     "metadata": {},
     "output_type": "execute_result"
    }
   ],
   "source": [
    "# create new column that hold the average of nulls from each column\n",
    "col_nulls['row_null_percent'] = df.isna().mean().values\n",
    "col_nulls"
   ]
  },
  {
   "cell_type": "code",
   "execution_count": 27,
   "id": "cffa5d54",
   "metadata": {},
   "outputs": [
    {
     "data": {
      "text/html": [
       "<div>\n",
       "<style scoped>\n",
       "    .dataframe tbody tr th:only-of-type {\n",
       "        vertical-align: middle;\n",
       "    }\n",
       "\n",
       "    .dataframe tbody tr th {\n",
       "        vertical-align: top;\n",
       "    }\n",
       "\n",
       "    .dataframe thead th {\n",
       "        text-align: right;\n",
       "    }\n",
       "</style>\n",
       "<table border=\"1\" class=\"dataframe\">\n",
       "  <thead>\n",
       "    <tr style=\"text-align: right;\">\n",
       "      <th></th>\n",
       "      <th>columns_name</th>\n",
       "      <th>row_null_count</th>\n",
       "      <th>row_null_percent</th>\n",
       "    </tr>\n",
       "  </thead>\n",
       "  <tbody>\n",
       "    <tr>\n",
       "      <th>63</th>\n",
       "      <td>buildingclassdesc</td>\n",
       "      <td>52320</td>\n",
       "      <td>1.000000</td>\n",
       "    </tr>\n",
       "    <tr>\n",
       "      <th>7</th>\n",
       "      <td>buildingclasstypeid</td>\n",
       "      <td>52320</td>\n",
       "      <td>1.000000</td>\n",
       "    </tr>\n",
       "    <tr>\n",
       "      <th>15</th>\n",
       "      <td>finishedsquarefeet15</td>\n",
       "      <td>52320</td>\n",
       "      <td>1.000000</td>\n",
       "    </tr>\n",
       "    <tr>\n",
       "      <th>14</th>\n",
       "      <td>finishedsquarefeet13</td>\n",
       "      <td>52320</td>\n",
       "      <td>1.000000</td>\n",
       "    </tr>\n",
       "    <tr>\n",
       "      <th>42</th>\n",
       "      <td>storytypeid</td>\n",
       "      <td>52273</td>\n",
       "      <td>0.999102</td>\n",
       "    </tr>\n",
       "    <tr>\n",
       "      <th>...</th>\n",
       "      <td>...</td>\n",
       "      <td>...</td>\n",
       "      <td>...</td>\n",
       "    </tr>\n",
       "    <tr>\n",
       "      <th>25</th>\n",
       "      <td>latitude</td>\n",
       "      <td>0</td>\n",
       "      <td>0.000000</td>\n",
       "    </tr>\n",
       "    <tr>\n",
       "      <th>18</th>\n",
       "      <td>fips</td>\n",
       "      <td>0</td>\n",
       "      <td>0.000000</td>\n",
       "    </tr>\n",
       "    <tr>\n",
       "      <th>6</th>\n",
       "      <td>bedroomcnt</td>\n",
       "      <td>0</td>\n",
       "      <td>0.000000</td>\n",
       "    </tr>\n",
       "    <tr>\n",
       "      <th>5</th>\n",
       "      <td>bathroomcnt</td>\n",
       "      <td>0</td>\n",
       "      <td>0.000000</td>\n",
       "    </tr>\n",
       "    <tr>\n",
       "      <th>34</th>\n",
       "      <td>propertylandusetypeid</td>\n",
       "      <td>0</td>\n",
       "      <td>0.000000</td>\n",
       "    </tr>\n",
       "  </tbody>\n",
       "</table>\n",
       "<p>68 rows × 3 columns</p>\n",
       "</div>"
      ],
      "text/plain": [
       "             columns_name  row_null_count  row_null_percent\n",
       "63      buildingclassdesc           52320          1.000000\n",
       "7     buildingclasstypeid           52320          1.000000\n",
       "15   finishedsquarefeet15           52320          1.000000\n",
       "14   finishedsquarefeet13           52320          1.000000\n",
       "42            storytypeid           52273          0.999102\n",
       "..                    ...             ...               ...\n",
       "25               latitude               0          0.000000\n",
       "18                   fips               0          0.000000\n",
       "6              bedroomcnt               0          0.000000\n",
       "5             bathroomcnt               0          0.000000\n",
       "34  propertylandusetypeid               0          0.000000\n",
       "\n",
       "[68 rows x 3 columns]"
      ]
     },
     "execution_count": 27,
     "metadata": {},
     "output_type": "execute_result"
    }
   ],
   "source": [
    "# sort values by percent\n",
    "col_nulls = col_nulls.sort_values(by=['row_null_percent'], ascending=False)\n",
    "col_nulls"
   ]
  },
  {
   "cell_type": "code",
   "execution_count": 28,
   "id": "9f141cef",
   "metadata": {},
   "outputs": [
    {
     "data": {
      "text/html": [
       "<div>\n",
       "<style scoped>\n",
       "    .dataframe tbody tr th:only-of-type {\n",
       "        vertical-align: middle;\n",
       "    }\n",
       "\n",
       "    .dataframe tbody tr th {\n",
       "        vertical-align: top;\n",
       "    }\n",
       "\n",
       "    .dataframe thead th {\n",
       "        text-align: right;\n",
       "    }\n",
       "</style>\n",
       "<table border=\"1\" class=\"dataframe\">\n",
       "  <thead>\n",
       "    <tr style=\"text-align: right;\">\n",
       "      <th></th>\n",
       "      <th>row_nulls</th>\n",
       "    </tr>\n",
       "  </thead>\n",
       "  <tbody>\n",
       "    <tr>\n",
       "      <th>37223</th>\n",
       "      <td>31</td>\n",
       "    </tr>\n",
       "    <tr>\n",
       "      <th>48246</th>\n",
       "      <td>29</td>\n",
       "    </tr>\n",
       "    <tr>\n",
       "      <th>15536</th>\n",
       "      <td>31</td>\n",
       "    </tr>\n",
       "    <tr>\n",
       "      <th>12106</th>\n",
       "      <td>31</td>\n",
       "    </tr>\n",
       "    <tr>\n",
       "      <th>13666</th>\n",
       "      <td>31</td>\n",
       "    </tr>\n",
       "  </tbody>\n",
       "</table>\n",
       "</div>"
      ],
      "text/plain": [
       "       row_nulls\n",
       "37223         31\n",
       "48246         29\n",
       "15536         31\n",
       "12106         31\n",
       "13666         31"
      ]
     },
     "execution_count": 28,
     "metadata": {},
     "output_type": "execute_result"
    }
   ],
   "source": [
    "# shows column nulls in each row\n",
    "row_nulls = pd.DataFrame(df.isnull().sum(axis=1), columns=['row_nulls'])\n",
    "row_nulls.head()"
   ]
  },
  {
   "cell_type": "code",
   "execution_count": 29,
   "id": "f9b466fd",
   "metadata": {},
   "outputs": [
    {
     "data": {
      "text/html": [
       "<div>\n",
       "<style scoped>\n",
       "    .dataframe tbody tr th:only-of-type {\n",
       "        vertical-align: middle;\n",
       "    }\n",
       "\n",
       "    .dataframe tbody tr th {\n",
       "        vertical-align: top;\n",
       "    }\n",
       "\n",
       "    .dataframe thead th {\n",
       "        text-align: right;\n",
       "    }\n",
       "</style>\n",
       "<table border=\"1\" class=\"dataframe\">\n",
       "  <thead>\n",
       "    <tr style=\"text-align: right;\">\n",
       "      <th></th>\n",
       "      <th>index</th>\n",
       "      <th>row_nulls</th>\n",
       "    </tr>\n",
       "  </thead>\n",
       "  <tbody>\n",
       "    <tr>\n",
       "      <th>0</th>\n",
       "      <td>37223</td>\n",
       "      <td>31</td>\n",
       "    </tr>\n",
       "    <tr>\n",
       "      <th>1</th>\n",
       "      <td>48246</td>\n",
       "      <td>29</td>\n",
       "    </tr>\n",
       "    <tr>\n",
       "      <th>2</th>\n",
       "      <td>15536</td>\n",
       "      <td>31</td>\n",
       "    </tr>\n",
       "    <tr>\n",
       "      <th>3</th>\n",
       "      <td>12106</td>\n",
       "      <td>31</td>\n",
       "    </tr>\n",
       "    <tr>\n",
       "      <th>4</th>\n",
       "      <td>13666</td>\n",
       "      <td>31</td>\n",
       "    </tr>\n",
       "  </tbody>\n",
       "</table>\n",
       "</div>"
      ],
      "text/plain": [
       "   index  row_nulls\n",
       "0  37223         31\n",
       "1  48246         29\n",
       "2  15536         31\n",
       "3  12106         31\n",
       "4  13666         31"
      ]
     },
     "execution_count": 29,
     "metadata": {},
     "output_type": "execute_result"
    }
   ],
   "source": [
    "# shows index as id\n",
    "row_nulls = row_nulls.reset_index()\n",
    "row_nulls.head()"
   ]
  },
  {
   "cell_type": "code",
   "execution_count": 30,
   "id": "22706641",
   "metadata": {},
   "outputs": [
    {
     "data": {
      "text/html": [
       "<div>\n",
       "<style scoped>\n",
       "    .dataframe tbody tr th:only-of-type {\n",
       "        vertical-align: middle;\n",
       "    }\n",
       "\n",
       "    .dataframe tbody tr th {\n",
       "        vertical-align: top;\n",
       "    }\n",
       "\n",
       "    .dataframe thead th {\n",
       "        text-align: right;\n",
       "    }\n",
       "</style>\n",
       "<table border=\"1\" class=\"dataframe\">\n",
       "  <thead>\n",
       "    <tr style=\"text-align: right;\">\n",
       "      <th></th>\n",
       "      <th>num_rows_with_n_null_cols</th>\n",
       "    </tr>\n",
       "  </thead>\n",
       "  <tbody>\n",
       "    <tr>\n",
       "      <th>33</th>\n",
       "      <td>11967</td>\n",
       "    </tr>\n",
       "    <tr>\n",
       "      <th>34</th>\n",
       "      <td>11158</td>\n",
       "    </tr>\n",
       "    <tr>\n",
       "      <th>32</th>\n",
       "      <td>8885</td>\n",
       "    </tr>\n",
       "    <tr>\n",
       "      <th>31</th>\n",
       "      <td>5989</td>\n",
       "    </tr>\n",
       "    <tr>\n",
       "      <th>36</th>\n",
       "      <td>4138</td>\n",
       "    </tr>\n",
       "  </tbody>\n",
       "</table>\n",
       "</div>"
      ],
      "text/plain": [
       "    num_rows_with_n_null_cols\n",
       "33                      11967\n",
       "34                      11158\n",
       "32                       8885\n",
       "31                       5989\n",
       "36                       4138"
      ]
     },
     "execution_count": 30,
     "metadata": {},
     "output_type": "execute_result"
    }
   ],
   "source": [
    "# Create df with number of rows with a specific number of null columns\n",
    "row_nulls = pd.DataFrame(df.isna().sum(axis=1).value_counts(), columns=['num_rows_with_n_null_cols'])\n",
    "row_nulls.head()"
   ]
  },
  {
   "cell_type": "code",
   "execution_count": 31,
   "id": "b02ad9fd",
   "metadata": {},
   "outputs": [
    {
     "data": {
      "text/html": [
       "<div>\n",
       "<style scoped>\n",
       "    .dataframe tbody tr th:only-of-type {\n",
       "        vertical-align: middle;\n",
       "    }\n",
       "\n",
       "    .dataframe tbody tr th {\n",
       "        vertical-align: top;\n",
       "    }\n",
       "\n",
       "    .dataframe thead th {\n",
       "        text-align: right;\n",
       "    }\n",
       "</style>\n",
       "<table border=\"1\" class=\"dataframe\">\n",
       "  <thead>\n",
       "    <tr style=\"text-align: right;\">\n",
       "      <th></th>\n",
       "      <th>index</th>\n",
       "      <th>num_rows_with_n_null_cols</th>\n",
       "    </tr>\n",
       "  </thead>\n",
       "  <tbody>\n",
       "    <tr>\n",
       "      <th>0</th>\n",
       "      <td>33</td>\n",
       "      <td>11967</td>\n",
       "    </tr>\n",
       "    <tr>\n",
       "      <th>1</th>\n",
       "      <td>34</td>\n",
       "      <td>11158</td>\n",
       "    </tr>\n",
       "    <tr>\n",
       "      <th>2</th>\n",
       "      <td>32</td>\n",
       "      <td>8885</td>\n",
       "    </tr>\n",
       "    <tr>\n",
       "      <th>3</th>\n",
       "      <td>31</td>\n",
       "      <td>5989</td>\n",
       "    </tr>\n",
       "    <tr>\n",
       "      <th>4</th>\n",
       "      <td>36</td>\n",
       "      <td>4138</td>\n",
       "    </tr>\n",
       "  </tbody>\n",
       "</table>\n",
       "</div>"
      ],
      "text/plain": [
       "   index  num_rows_with_n_null_cols\n",
       "0     33                      11967\n",
       "1     34                      11158\n",
       "2     32                       8885\n",
       "3     31                       5989\n",
       "4     36                       4138"
      ]
     },
     "execution_count": 31,
     "metadata": {},
     "output_type": "execute_result"
    }
   ],
   "source": [
    "# make first columnb the number of nulls\n",
    "row_nulls = row_nulls.reset_index()\n",
    "row_nulls.head()"
   ]
  },
  {
   "cell_type": "code",
   "execution_count": 32,
   "id": "54f9eafc",
   "metadata": {},
   "outputs": [
    {
     "data": {
      "text/html": [
       "<div>\n",
       "<style scoped>\n",
       "    .dataframe tbody tr th:only-of-type {\n",
       "        vertical-align: middle;\n",
       "    }\n",
       "\n",
       "    .dataframe tbody tr th {\n",
       "        vertical-align: top;\n",
       "    }\n",
       "\n",
       "    .dataframe thead th {\n",
       "        text-align: right;\n",
       "    }\n",
       "</style>\n",
       "<table border=\"1\" class=\"dataframe\">\n",
       "  <thead>\n",
       "    <tr style=\"text-align: right;\">\n",
       "      <th></th>\n",
       "      <th>n_null_cols</th>\n",
       "      <th>num_rows_with_n_null_cols</th>\n",
       "    </tr>\n",
       "  </thead>\n",
       "  <tbody>\n",
       "    <tr>\n",
       "      <th>0</th>\n",
       "      <td>33</td>\n",
       "      <td>11967</td>\n",
       "    </tr>\n",
       "    <tr>\n",
       "      <th>1</th>\n",
       "      <td>34</td>\n",
       "      <td>11158</td>\n",
       "    </tr>\n",
       "    <tr>\n",
       "      <th>2</th>\n",
       "      <td>32</td>\n",
       "      <td>8885</td>\n",
       "    </tr>\n",
       "    <tr>\n",
       "      <th>3</th>\n",
       "      <td>31</td>\n",
       "      <td>5989</td>\n",
       "    </tr>\n",
       "    <tr>\n",
       "      <th>4</th>\n",
       "      <td>36</td>\n",
       "      <td>4138</td>\n",
       "    </tr>\n",
       "  </tbody>\n",
       "</table>\n",
       "</div>"
      ],
      "text/plain": [
       "   n_null_cols  num_rows_with_n_null_cols\n",
       "0           33                      11967\n",
       "1           34                      11158\n",
       "2           32                       8885\n",
       "3           31                       5989\n",
       "4           36                       4138"
      ]
     },
     "execution_count": 32,
     "metadata": {},
     "output_type": "execute_result"
    }
   ],
   "source": [
    "# rename index to match values\n",
    "row_nulls = row_nulls.rename(columns={'index':'n_null_cols'})\n",
    "row_nulls.head()"
   ]
  },
  {
   "cell_type": "code",
   "execution_count": 33,
   "id": "b6c23719",
   "metadata": {},
   "outputs": [
    {
     "data": {
      "text/html": [
       "<div>\n",
       "<style scoped>\n",
       "    .dataframe tbody tr th:only-of-type {\n",
       "        vertical-align: middle;\n",
       "    }\n",
       "\n",
       "    .dataframe tbody tr th {\n",
       "        vertical-align: top;\n",
       "    }\n",
       "\n",
       "    .dataframe thead th {\n",
       "        text-align: right;\n",
       "    }\n",
       "</style>\n",
       "<table border=\"1\" class=\"dataframe\">\n",
       "  <thead>\n",
       "    <tr style=\"text-align: right;\">\n",
       "      <th></th>\n",
       "      <th>n_null_cols</th>\n",
       "      <th>num_rows_with_n_null_cols</th>\n",
       "      <th>percent_null_cols</th>\n",
       "    </tr>\n",
       "  </thead>\n",
       "  <tbody>\n",
       "    <tr>\n",
       "      <th>0</th>\n",
       "      <td>33</td>\n",
       "      <td>11967</td>\n",
       "      <td>0.485294</td>\n",
       "    </tr>\n",
       "    <tr>\n",
       "      <th>1</th>\n",
       "      <td>34</td>\n",
       "      <td>11158</td>\n",
       "      <td>0.500000</td>\n",
       "    </tr>\n",
       "    <tr>\n",
       "      <th>2</th>\n",
       "      <td>32</td>\n",
       "      <td>8885</td>\n",
       "      <td>0.470588</td>\n",
       "    </tr>\n",
       "    <tr>\n",
       "      <th>3</th>\n",
       "      <td>31</td>\n",
       "      <td>5989</td>\n",
       "      <td>0.455882</td>\n",
       "    </tr>\n",
       "    <tr>\n",
       "      <th>4</th>\n",
       "      <td>36</td>\n",
       "      <td>4138</td>\n",
       "      <td>0.529412</td>\n",
       "    </tr>\n",
       "  </tbody>\n",
       "</table>\n",
       "</div>"
      ],
      "text/plain": [
       "   n_null_cols  num_rows_with_n_null_cols  percent_null_cols\n",
       "0           33                      11967           0.485294\n",
       "1           34                      11158           0.500000\n",
       "2           32                       8885           0.470588\n",
       "3           31                       5989           0.455882\n",
       "4           36                       4138           0.529412"
      ]
     },
     "execution_count": 33,
     "metadata": {},
     "output_type": "execute_result"
    }
   ],
   "source": [
    "# create columsn for percent of null cols\n",
    "row_nulls['percent_null_cols'] = row_nulls.n_null_cols / df.shape[1]\n",
    "row_nulls.head()"
   ]
  },
  {
   "cell_type": "code",
   "execution_count": 34,
   "id": "768a1af1",
   "metadata": {},
   "outputs": [
    {
     "data": {
      "text/html": [
       "<div>\n",
       "<style scoped>\n",
       "    .dataframe tbody tr th:only-of-type {\n",
       "        vertical-align: middle;\n",
       "    }\n",
       "\n",
       "    .dataframe tbody tr th {\n",
       "        vertical-align: top;\n",
       "    }\n",
       "\n",
       "    .dataframe thead th {\n",
       "        text-align: right;\n",
       "    }\n",
       "</style>\n",
       "<table border=\"1\" class=\"dataframe\">\n",
       "  <thead>\n",
       "    <tr style=\"text-align: right;\">\n",
       "      <th></th>\n",
       "      <th>n_null_cols</th>\n",
       "      <th>num_rows_with_n_null_cols</th>\n",
       "      <th>percent_null_cols</th>\n",
       "    </tr>\n",
       "  </thead>\n",
       "  <tbody>\n",
       "    <tr>\n",
       "      <th>23</th>\n",
       "      <td>48</td>\n",
       "      <td>2</td>\n",
       "      <td>0.705882</td>\n",
       "    </tr>\n",
       "    <tr>\n",
       "      <th>25</th>\n",
       "      <td>47</td>\n",
       "      <td>1</td>\n",
       "      <td>0.691176</td>\n",
       "    </tr>\n",
       "    <tr>\n",
       "      <th>24</th>\n",
       "      <td>46</td>\n",
       "      <td>1</td>\n",
       "      <td>0.676471</td>\n",
       "    </tr>\n",
       "    <tr>\n",
       "      <th>20</th>\n",
       "      <td>45</td>\n",
       "      <td>6</td>\n",
       "      <td>0.661765</td>\n",
       "    </tr>\n",
       "    <tr>\n",
       "      <th>12</th>\n",
       "      <td>44</td>\n",
       "      <td>46</td>\n",
       "      <td>0.647059</td>\n",
       "    </tr>\n",
       "    <tr>\n",
       "      <th>18</th>\n",
       "      <td>43</td>\n",
       "      <td>10</td>\n",
       "      <td>0.632353</td>\n",
       "    </tr>\n",
       "    <tr>\n",
       "      <th>19</th>\n",
       "      <td>42</td>\n",
       "      <td>7</td>\n",
       "      <td>0.617647</td>\n",
       "    </tr>\n",
       "    <tr>\n",
       "      <th>21</th>\n",
       "      <td>41</td>\n",
       "      <td>6</td>\n",
       "      <td>0.602941</td>\n",
       "    </tr>\n",
       "    <tr>\n",
       "      <th>15</th>\n",
       "      <td>40</td>\n",
       "      <td>15</td>\n",
       "      <td>0.588235</td>\n",
       "    </tr>\n",
       "    <tr>\n",
       "      <th>14</th>\n",
       "      <td>39</td>\n",
       "      <td>29</td>\n",
       "      <td>0.573529</td>\n",
       "    </tr>\n",
       "    <tr>\n",
       "      <th>10</th>\n",
       "      <td>38</td>\n",
       "      <td>223</td>\n",
       "      <td>0.558824</td>\n",
       "    </tr>\n",
       "    <tr>\n",
       "      <th>8</th>\n",
       "      <td>37</td>\n",
       "      <td>1020</td>\n",
       "      <td>0.544118</td>\n",
       "    </tr>\n",
       "    <tr>\n",
       "      <th>4</th>\n",
       "      <td>36</td>\n",
       "      <td>4138</td>\n",
       "      <td>0.529412</td>\n",
       "    </tr>\n",
       "    <tr>\n",
       "      <th>5</th>\n",
       "      <td>35</td>\n",
       "      <td>3469</td>\n",
       "      <td>0.514706</td>\n",
       "    </tr>\n",
       "    <tr>\n",
       "      <th>1</th>\n",
       "      <td>34</td>\n",
       "      <td>11158</td>\n",
       "      <td>0.500000</td>\n",
       "    </tr>\n",
       "    <tr>\n",
       "      <th>0</th>\n",
       "      <td>33</td>\n",
       "      <td>11967</td>\n",
       "      <td>0.485294</td>\n",
       "    </tr>\n",
       "    <tr>\n",
       "      <th>2</th>\n",
       "      <td>32</td>\n",
       "      <td>8885</td>\n",
       "      <td>0.470588</td>\n",
       "    </tr>\n",
       "    <tr>\n",
       "      <th>3</th>\n",
       "      <td>31</td>\n",
       "      <td>5989</td>\n",
       "      <td>0.455882</td>\n",
       "    </tr>\n",
       "    <tr>\n",
       "      <th>7</th>\n",
       "      <td>30</td>\n",
       "      <td>2199</td>\n",
       "      <td>0.441176</td>\n",
       "    </tr>\n",
       "    <tr>\n",
       "      <th>6</th>\n",
       "      <td>29</td>\n",
       "      <td>2527</td>\n",
       "      <td>0.426471</td>\n",
       "    </tr>\n",
       "    <tr>\n",
       "      <th>9</th>\n",
       "      <td>28</td>\n",
       "      <td>390</td>\n",
       "      <td>0.411765</td>\n",
       "    </tr>\n",
       "    <tr>\n",
       "      <th>11</th>\n",
       "      <td>27</td>\n",
       "      <td>177</td>\n",
       "      <td>0.397059</td>\n",
       "    </tr>\n",
       "    <tr>\n",
       "      <th>13</th>\n",
       "      <td>26</td>\n",
       "      <td>30</td>\n",
       "      <td>0.382353</td>\n",
       "    </tr>\n",
       "    <tr>\n",
       "      <th>17</th>\n",
       "      <td>25</td>\n",
       "      <td>11</td>\n",
       "      <td>0.367647</td>\n",
       "    </tr>\n",
       "    <tr>\n",
       "      <th>16</th>\n",
       "      <td>24</td>\n",
       "      <td>12</td>\n",
       "      <td>0.352941</td>\n",
       "    </tr>\n",
       "    <tr>\n",
       "      <th>22</th>\n",
       "      <td>23</td>\n",
       "      <td>2</td>\n",
       "      <td>0.338235</td>\n",
       "    </tr>\n",
       "  </tbody>\n",
       "</table>\n",
       "</div>"
      ],
      "text/plain": [
       "    n_null_cols  num_rows_with_n_null_cols  percent_null_cols\n",
       "23           48                          2           0.705882\n",
       "25           47                          1           0.691176\n",
       "24           46                          1           0.676471\n",
       "20           45                          6           0.661765\n",
       "12           44                         46           0.647059\n",
       "18           43                         10           0.632353\n",
       "19           42                          7           0.617647\n",
       "21           41                          6           0.602941\n",
       "15           40                         15           0.588235\n",
       "14           39                         29           0.573529\n",
       "10           38                        223           0.558824\n",
       "8            37                       1020           0.544118\n",
       "4            36                       4138           0.529412\n",
       "5            35                       3469           0.514706\n",
       "1            34                      11158           0.500000\n",
       "0            33                      11967           0.485294\n",
       "2            32                       8885           0.470588\n",
       "3            31                       5989           0.455882\n",
       "7            30                       2199           0.441176\n",
       "6            29                       2527           0.426471\n",
       "9            28                        390           0.411765\n",
       "11           27                        177           0.397059\n",
       "13           26                         30           0.382353\n",
       "17           25                         11           0.367647\n",
       "16           24                         12           0.352941\n",
       "22           23                          2           0.338235"
      ]
     },
     "execution_count": 34,
     "metadata": {},
     "output_type": "execute_result"
    }
   ],
   "source": [
    "# sort df by percentn of null cols\n",
    "row_nulls = row_nulls.sort_values(by=['percent_null_cols'], ascending=False)\n",
    "row_nulls"
   ]
  },
  {
   "cell_type": "markdown",
   "id": "6a7469e0",
   "metadata": {},
   "source": [
    "# Prepare"
   ]
  },
  {
   "cell_type": "code",
   "execution_count": 35,
   "id": "68d5a2e9",
   "metadata": {},
   "outputs": [
    {
     "name": "stdout",
     "output_type": "stream",
     "text": [
      "-------------id-----------------\n",
      "2232322    1\n",
      "2324100    1\n",
      "151139     1\n",
      "949861     1\n",
      "2538363    1\n",
      "          ..\n",
      "738319     1\n",
      "115949     1\n",
      "1692911    1\n",
      "2960624    1\n",
      "657407     1\n",
      "Name: id, Length: 52320, dtype: int64\n",
      "-------------parcelid-----------------\n",
      "10913809    1\n",
      "14004381    1\n",
      "12888190    1\n",
      "14243968    1\n",
      "11227265    1\n",
      "           ..\n",
      "14147054    1\n",
      "13096431    1\n",
      "12660208    1\n",
      "12789233    1\n",
      "12853244    1\n",
      "Name: parcelid, Length: 52320, dtype: int64\n",
      "-------------airconditioningtypeid-----------------\n",
      "1.0     11873\n",
      "13.0     1567\n",
      "5.0       159\n",
      "11.0       16\n",
      "Name: airconditioningtypeid, dtype: int64\n",
      "-------------architecturalstyletypeid-----------------\n",
      "7.0     62\n",
      "3.0      3\n",
      "2.0      2\n",
      "21.0     2\n",
      "8.0      1\n",
      "Name: architecturalstyletypeid, dtype: int64\n",
      "-------------basementsqft-----------------\n",
      "273.0     2\n",
      "515.0     2\n",
      "100.0     2\n",
      "900.0     2\n",
      "912.0     2\n",
      "640.0     2\n",
      "352.0     1\n",
      "90.0      1\n",
      "300.0     1\n",
      "588.0     1\n",
      "1252.0    1\n",
      "280.0     1\n",
      "384.0     1\n",
      "3560.0    1\n",
      "396.0     1\n",
      "1969.0    1\n",
      "252.0     1\n",
      "1218.0    1\n",
      "800.0     1\n",
      "394.0     1\n",
      "645.0     1\n",
      "200.0     1\n",
      "512.0     1\n",
      "112.0     1\n",
      "604.0     1\n",
      "126.0     1\n",
      "38.0      1\n",
      "254.0     1\n",
      "204.0     1\n",
      "224.0     1\n",
      "600.0     1\n",
      "669.0     1\n",
      "786.0     1\n",
      "314.0     1\n",
      "1809.0    1\n",
      "168.0     1\n",
      "405.0     1\n",
      "819.0     1\n",
      "3112.0    1\n",
      "380.0     1\n",
      "1416.0    1\n",
      "Name: basementsqft, dtype: int64\n",
      "-------------bathroomcnt-----------------\n",
      "2.0     21840\n",
      "3.0     10650\n",
      "1.0      9536\n",
      "2.5      3932\n",
      "4.0      2225\n",
      "3.5       916\n",
      "1.5       839\n",
      "5.0       803\n",
      "4.5       686\n",
      "6.0       320\n",
      "5.5       224\n",
      "0.0       119\n",
      "7.0        88\n",
      "8.0        53\n",
      "6.5        47\n",
      "7.5        16\n",
      "9.0        13\n",
      "10.0        5\n",
      "8.5         3\n",
      "11.0        3\n",
      "18.0        1\n",
      "13.0        1\n",
      "Name: bathroomcnt, dtype: int64\n",
      "-------------bedroomcnt-----------------\n",
      "3.0     23303\n",
      "4.0     15210\n",
      "2.0      8317\n",
      "5.0      3967\n",
      "6.0       634\n",
      "1.0       611\n",
      "0.0       135\n",
      "7.0       106\n",
      "8.0        24\n",
      "9.0         8\n",
      "10.0        2\n",
      "14.0        1\n",
      "11.0        1\n",
      "12.0        1\n",
      "Name: bedroomcnt, dtype: int64\n",
      "-------------buildingclasstypeid-----------------\n",
      "Series([], Name: buildingclasstypeid, dtype: int64)\n",
      "-------------buildingqualitytypeid-----------------\n",
      "6.0     10260\n",
      "8.0      8222\n",
      "4.0      8136\n",
      "7.0      3424\n",
      "5.0      1507\n",
      "9.0      1119\n",
      "11.0      514\n",
      "10.0      230\n",
      "3.0       149\n",
      "12.0       81\n",
      "1.0         8\n",
      "2.0         5\n",
      "Name: buildingqualitytypeid, dtype: int64\n",
      "-------------calculatedbathnbr-----------------\n",
      "2.0     21840\n",
      "3.0     10650\n",
      "1.0      9536\n",
      "2.5      3924\n",
      "4.0      2225\n",
      "3.5       916\n",
      "1.5       832\n",
      "5.0       803\n",
      "4.5       686\n",
      "6.0       320\n",
      "5.5       223\n",
      "7.0        88\n",
      "8.0        53\n",
      "6.5        47\n",
      "7.5        16\n",
      "9.0        13\n",
      "10.0        5\n",
      "8.5         3\n",
      "11.0        3\n",
      "18.0        1\n",
      "13.0        1\n",
      "Name: calculatedbathnbr, dtype: int64\n",
      "-------------decktypeid-----------------\n",
      "66.0    389\n",
      "Name: decktypeid, dtype: int64\n",
      "-------------finishedfloor1squarefeet-----------------\n",
      "1252.0    22\n",
      "1462.0    21\n",
      "1205.0    21\n",
      "1227.0    19\n",
      "1226.0    17\n",
      "          ..\n",
      "3023.0     1\n",
      "2800.0     1\n",
      "783.0      1\n",
      "6553.0     1\n",
      "3896.0     1\n",
      "Name: finishedfloor1squarefeet, Length: 1553, dtype: int64\n",
      "-------------calculatedfinishedsquarefeet-----------------\n",
      "1120.0    128\n",
      "1200.0    118\n",
      "1080.0    101\n",
      "1040.0     86\n",
      "936.0      86\n",
      "         ... \n",
      "4368.0      1\n",
      "4807.0      1\n",
      "5300.0      1\n",
      "5271.0      1\n",
      "4787.0      1\n",
      "Name: calculatedfinishedsquarefeet, Length: 4723, dtype: int64\n",
      "-------------finishedsquarefeet12-----------------\n",
      "1120.0    127\n",
      "1200.0    117\n",
      "1080.0    101\n",
      "936.0      86\n",
      "1040.0     85\n",
      "         ... \n",
      "6494.0      1\n",
      "3996.0      1\n",
      "5626.0      1\n",
      "6743.0      1\n",
      "5264.0      1\n",
      "Name: finishedsquarefeet12, Length: 4716, dtype: int64\n",
      "-------------finishedsquarefeet13-----------------\n",
      "Series([], Name: finishedsquarefeet13, dtype: int64)\n",
      "-------------finishedsquarefeet15-----------------\n",
      "Series([], Name: finishedsquarefeet15, dtype: int64)\n",
      "-------------finishedsquarefeet50-----------------\n",
      "1252.0    22\n",
      "1462.0    21\n",
      "1205.0    21\n",
      "1227.0    19\n",
      "1431.0    17\n",
      "          ..\n",
      "2101.0     1\n",
      "876.0      1\n",
      "1670.0     1\n",
      "2460.0     1\n",
      "3896.0     1\n",
      "Name: finishedsquarefeet50, Length: 1572, dtype: int64\n",
      "-------------finishedsquarefeet6-----------------\n",
      "952.0     4\n",
      "520.0     3\n",
      "935.0     2\n",
      "765.0     2\n",
      "845.0     2\n",
      "         ..\n",
      "600.0     1\n",
      "955.0     1\n",
      "1939.0    1\n",
      "942.0     1\n",
      "622.0     1\n",
      "Name: finishedsquarefeet6, Length: 155, dtype: int64\n",
      "-------------fips-----------------\n",
      "6037.0    33824\n",
      "6059.0    14111\n",
      "6111.0     4385\n",
      "Name: fips, dtype: int64\n",
      "-------------fireplacecnt-----------------\n",
      "1.0    6024\n",
      "2.0     942\n",
      "3.0     229\n",
      "4.0      35\n",
      "5.0       3\n",
      "Name: fireplacecnt, dtype: int64\n",
      "-------------fullbathcnt-----------------\n",
      "2.0     25776\n",
      "3.0     11575\n",
      "1.0     10368\n",
      "4.0      2912\n",
      "5.0      1022\n",
      "6.0       357\n",
      "7.0        96\n",
      "8.0        56\n",
      "9.0        13\n",
      "10.0        5\n",
      "11.0        3\n",
      "18.0        1\n",
      "13.0        1\n",
      "Name: fullbathcnt, dtype: int64\n",
      "-------------garagecarcnt-----------------\n",
      "2.0     14777\n",
      "1.0      2197\n",
      "3.0       621\n",
      "4.0       253\n",
      "0.0        65\n",
      "5.0        45\n",
      "6.0        13\n",
      "7.0         3\n",
      "10.0        3\n",
      "8.0         2\n",
      "9.0         2\n",
      "14.0        1\n",
      "11.0        1\n",
      "13.0        1\n",
      "Name: garagecarcnt, dtype: int64\n",
      "-------------garagetotalsqft-----------------\n",
      "400.0     786\n",
      "441.0     678\n",
      "462.0     658\n",
      "360.0     646\n",
      "460.0     569\n",
      "         ... \n",
      "1286.0      1\n",
      "958.0       1\n",
      "764.0       1\n",
      "975.0       1\n",
      "346.0       1\n",
      "Name: garagetotalsqft, Length: 839, dtype: int64\n",
      "-------------hashottuborspa-----------------\n",
      "1.0    1514\n",
      "Name: hashottuborspa, dtype: int64\n",
      "-------------heatingorsystemtypeid-----------------\n",
      "2.0     20689\n",
      "7.0     12527\n",
      "6.0       517\n",
      "20.0       85\n",
      "13.0       16\n",
      "1.0         7\n",
      "18.0        6\n",
      "10.0        2\n",
      "24.0        1\n",
      "Name: heatingorsystemtypeid, dtype: int64\n",
      "-------------latitude-----------------\n",
      "34047500.0    12\n",
      "33494800.0     7\n",
      "34487900.0     7\n",
      "34101300.0     7\n",
      "34041200.0     6\n",
      "              ..\n",
      "33848993.0     1\n",
      "33875303.0     1\n",
      "33773606.0     1\n",
      "33693518.0     1\n",
      "33734652.0     1\n",
      "Name: latitude, Length: 50478, dtype: int64\n",
      "-------------longitude-----------------\n",
      "-118249000.0    12\n",
      "-117830000.0     7\n",
      "-118327000.0     7\n",
      "-117670000.0     7\n",
      "-117835000.0     7\n",
      "                ..\n",
      "-119162121.0     1\n",
      "-117982973.0     1\n",
      "-117843764.0     1\n",
      "-117727948.0     1\n",
      "-118105060.0     1\n",
      "Name: longitude, Length: 50764, dtype: int64\n",
      "-------------lotsizesquarefeet-----------------\n",
      "6000.0     873\n",
      "5000.0     413\n",
      "7200.0     306\n",
      "7000.0     285\n",
      "6500.0     272\n",
      "          ... \n",
      "7886.0       1\n",
      "13283.0      1\n",
      "10475.0      1\n",
      "13636.0      1\n",
      "16446.0      1\n",
      "Name: lotsizesquarefeet, Length: 14292, dtype: int64\n",
      "-------------poolcnt-----------------\n",
      "1.0    11077\n",
      "Name: poolcnt, dtype: int64\n",
      "-------------poolsizesum-----------------\n",
      "450.0     89\n",
      "400.0     38\n",
      "500.0     30\n",
      "600.0     27\n",
      "800.0     25\n",
      "          ..\n",
      "850.0      1\n",
      "1070.0     1\n",
      "747.0      1\n",
      "516.0      1\n",
      "642.0      1\n",
      "Name: poolsizesum, Length: 262, dtype: int64\n",
      "-------------pooltypeid10-----------------\n",
      "1.0    443\n",
      "Name: pooltypeid10, dtype: int64\n",
      "-------------pooltypeid2-----------------\n",
      "1.0    1071\n",
      "Name: pooltypeid2, dtype: int64\n",
      "-------------pooltypeid7-----------------\n",
      "1.0    9990\n",
      "Name: pooltypeid7, dtype: int64\n",
      "-------------propertycountylandusecode-----------------\n",
      "0100    26714\n",
      "122     13045\n",
      "0101     6399\n",
      "1111     3353\n",
      "1        1066\n",
      "1110     1024\n",
      "0104      367\n",
      "010G       93\n",
      "0103       91\n",
      "0108       57\n",
      "010M       52\n",
      "0109       18\n",
      "1112        8\n",
      "0113        6\n",
      "0110        6\n",
      "0141        4\n",
      "0102        3\n",
      "0105        3\n",
      "0130        2\n",
      "010V        2\n",
      "0111        2\n",
      "0115        1\n",
      "0133        1\n",
      "0131        1\n",
      "0114        1\n",
      "010L        1\n",
      "Name: propertycountylandusecode, dtype: int64\n",
      "-------------propertylandusetypeid-----------------\n",
      "261.0    52320\n",
      "Name: propertylandusetypeid, dtype: int64\n",
      "-------------propertyzoningdesc-----------------\n",
      "LAR1      6480\n",
      "LARS      1380\n",
      "LBR1N     1109\n",
      "SCUR2      712\n",
      "LARE11     611\n",
      "          ... \n",
      "LCRA1Y       1\n",
      "LRCR*        1\n",
      "LCR1VV       1\n",
      "ATMRV*       1\n",
      "SPR2B*       1\n",
      "Name: propertyzoningdesc, Length: 1286, dtype: int64\n",
      "-------------rawcensustractandblock-----------------\n",
      "6.037920e+07    36\n",
      "6.037920e+07    32\n",
      "6.059032e+07    24\n",
      "6.037142e+07    24\n",
      "6.059032e+07    23\n",
      "                ..\n",
      "6.059111e+07     1\n",
      "6.037106e+07     1\n",
      "6.111005e+07     1\n",
      "6.037111e+07     1\n",
      "6.111004e+07     1\n",
      "Name: rawcensustractandblock, Length: 31440, dtype: int64\n",
      "-------------regionidcity-----------------\n",
      "12447.0    11418\n",
      "5534.0      1791\n",
      "40227.0     1491\n",
      "46298.0     1424\n",
      "16764.0     1085\n",
      "           ...  \n",
      "32927.0        3\n",
      "31134.0        2\n",
      "10815.0        1\n",
      "36078.0        1\n",
      "21395.0        1\n",
      "Name: regionidcity, Length: 175, dtype: int64\n",
      "-------------regionidcounty-----------------\n",
      "3101.0    33824\n",
      "1286.0    14111\n",
      "2061.0     4385\n",
      "Name: regionidcounty, dtype: int64\n",
      "-------------regionidneighborhood-----------------\n",
      "48570.0     501\n",
      "118208.0    473\n",
      "27080.0     448\n",
      "274049.0    391\n",
      "51906.0     373\n",
      "           ... \n",
      "761543.0      1\n",
      "762963.0      1\n",
      "764167.0      1\n",
      "762934.0      1\n",
      "762527.0      1\n",
      "Name: regionidneighborhood, Length: 437, dtype: int64\n",
      "-------------regionidzip-----------------\n",
      "97319.0    776\n",
      "97318.0    670\n",
      "97329.0    563\n",
      "97328.0    519\n",
      "97118.0    497\n",
      "          ... \n",
      "96467.0      1\n",
      "97088.0      1\n",
      "96038.0      1\n",
      "96148.0      1\n",
      "97092.0      1\n",
      "Name: regionidzip, Length: 381, dtype: int64\n",
      "-------------roomcnt-----------------\n",
      "0.0     37761\n",
      "6.0      3974\n",
      "7.0      3608\n",
      "8.0      2810\n",
      "5.0      1886\n",
      "9.0      1173\n",
      "4.0       518\n",
      "10.0      338\n",
      "11.0      108\n",
      "3.0        79\n",
      "12.0       35\n",
      "2.0        12\n",
      "13.0       10\n",
      "14.0        6\n",
      "15.0        1\n",
      "1.0         1\n",
      "Name: roomcnt, dtype: int64\n",
      "-------------storytypeid-----------------\n",
      "7.0    47\n",
      "Name: storytypeid, dtype: int64\n",
      "-------------threequarterbathnbr-----------------\n",
      "1.0    6638\n",
      "2.0      70\n",
      "3.0       8\n",
      "7.0       1\n",
      "Name: threequarterbathnbr, dtype: int64\n",
      "-------------typeconstructiontypeid-----------------\n",
      "6.0    75\n",
      "4.0     1\n",
      "Name: typeconstructiontypeid, dtype: int64\n",
      "-------------unitcnt-----------------\n",
      "1.0    33734\n",
      "2.0       27\n",
      "3.0        1\n",
      "Name: unitcnt, dtype: int64\n",
      "-------------yardbuildingsqft17-----------------\n",
      "200.0     85\n",
      "240.0     71\n",
      "300.0     49\n",
      "400.0     37\n",
      "288.0     34\n",
      "          ..\n",
      "894.0      1\n",
      "68.0       1\n",
      "1035.0     1\n",
      "409.0      1\n",
      "415.0      1\n",
      "Name: yardbuildingsqft17, Length: 504, dtype: int64\n",
      "-------------yardbuildingsqft26-----------------\n",
      "120.0    3\n",
      "448.0    2\n",
      "300.0    2\n",
      "240.0    2\n",
      "56.0     2\n",
      "200.0    1\n",
      "320.0    1\n",
      "108.0    1\n",
      "113.0    1\n",
      "37.0     1\n",
      "284.0    1\n",
      "91.0     1\n",
      "30.0     1\n",
      "461.0    1\n",
      "72.0     1\n",
      "12.0     1\n",
      "88.0     1\n",
      "576.0    1\n",
      "216.0    1\n",
      "28.0     1\n",
      "336.0    1\n",
      "174.0    1\n",
      "71.0     1\n",
      "868.0    1\n",
      "292.0    1\n",
      "48.0     1\n",
      "218.0    1\n",
      "39.0     1\n",
      "752.0    1\n",
      "648.0    1\n",
      "250.0    1\n",
      "21.0     1\n",
      "196.0    1\n",
      "133.0    1\n",
      "368.0    1\n",
      "204.0    1\n",
      "45.0     1\n",
      "462.0    1\n",
      "414.0    1\n",
      "144.0    1\n",
      "180.0    1\n",
      "49.0     1\n",
      "160.0    1\n",
      "66.0     1\n",
      "486.0    1\n",
      "41.0     1\n",
      "195.0    1\n",
      "491.0    1\n",
      "384.0    1\n",
      "314.0    1\n",
      "105.0    1\n",
      "16.0     1\n",
      "60.0     1\n",
      "360.0    1\n",
      "169.0    1\n",
      "231.0    1\n",
      "140.0    1\n",
      "Name: yardbuildingsqft26, dtype: int64\n",
      "-------------yearbuilt-----------------\n",
      "1955.0    1893\n",
      "1950.0    1605\n",
      "1954.0    1513\n",
      "1953.0    1481\n",
      "1956.0    1384\n",
      "          ... \n",
      "1897.0       1\n",
      "1882.0       1\n",
      "1894.0       1\n",
      "1880.0       1\n",
      "1889.0       1\n",
      "Name: yearbuilt, Length: 133, dtype: int64\n",
      "-------------numberofstories-----------------\n",
      "1.0    8868\n",
      "2.0    5312\n",
      "3.0     351\n",
      "6.0       1\n",
      "Name: numberofstories, dtype: int64\n",
      "-------------fireplaceflag-----------------\n",
      "1.0    81\n",
      "Name: fireplaceflag, dtype: int64\n",
      "-------------structuretaxvaluedollarcnt-----------------\n",
      "100000.0    50\n",
      "200000.0    36\n",
      "90000.0     32\n",
      "32489.0     28\n",
      "95000.0     27\n",
      "            ..\n",
      "330743.0     1\n",
      "225627.0     1\n",
      "173683.0     1\n",
      "93922.0      1\n",
      "154255.0     1\n",
      "Name: structuretaxvaluedollarcnt, Length: 37333, dtype: int64\n",
      "-------------taxvaluedollarcnt-----------------\n",
      "455000.0    33\n",
      "600000.0    30\n",
      "550000.0    24\n",
      "500000.0    24\n",
      "450000.0    24\n",
      "            ..\n",
      "477594.0     1\n",
      "529596.0     1\n",
      "210423.0     1\n",
      "426536.0     1\n",
      "19211.0      1\n",
      "Name: taxvaluedollarcnt, Length: 38942, dtype: int64\n",
      "-------------assessmentyear-----------------\n",
      "2016.0    52320\n",
      "Name: assessmentyear, dtype: int64\n",
      "-------------landtaxvaluedollarcnt-----------------\n",
      "21299.0     95\n",
      "22755.0     63\n",
      "30210.0     63\n",
      "16522.0     53\n",
      "16749.0     51\n",
      "            ..\n",
      "926880.0     1\n",
      "256938.0     1\n",
      "613101.0     1\n",
      "261592.0     1\n",
      "365784.0     1\n",
      "Name: landtaxvaluedollarcnt, Length: 36912, dtype: int64\n",
      "-------------taxamount-----------------\n",
      "345.72      4\n",
      "3509.14     3\n",
      "5871.38     3\n",
      "1554.42     3\n",
      "4386.16     3\n",
      "           ..\n",
      "9150.86     1\n",
      "5253.51     1\n",
      "1103.98     1\n",
      "3827.44     1\n",
      "21590.39    1\n",
      "Name: taxamount, Length: 50834, dtype: int64\n",
      "-------------taxdelinquencyflag-----------------\n",
      "Y    2068\n",
      "Name: taxdelinquencyflag, dtype: int64\n",
      "-------------taxdelinquencyyear-----------------\n",
      "15.0    1124\n",
      "14.0     559\n",
      "13.0     126\n",
      "12.0      81\n",
      "11.0      79\n",
      "10.0      47\n",
      "9.0       33\n",
      "8.0        8\n",
      "7.0        8\n",
      "6.0        1\n",
      "99.0       1\n",
      "4.0        1\n",
      "Name: taxdelinquencyyear, dtype: int64\n",
      "-------------censustractandblock-----------------\n",
      "6.037920e+13    32\n",
      "6.037920e+13    27\n",
      "6.059032e+13    24\n",
      "6.037142e+13    24\n",
      "6.059032e+13    23\n",
      "                ..\n",
      "6.037601e+13     1\n",
      "6.037141e+13     1\n",
      "6.111000e+13     1\n",
      "6.037702e+13     1\n",
      "6.037134e+13     1\n",
      "Name: censustractandblock, Length: 31404, dtype: int64\n",
      "-------------logerror-----------------\n",
      " 0.000231    5\n",
      " 0.002652    5\n",
      " 0.000727    5\n",
      " 0.001878    5\n",
      " 0.000420    4\n",
      "            ..\n",
      " 0.035055    1\n",
      "-0.153667    1\n",
      " 0.087675    1\n",
      "-0.005029    1\n",
      " 0.025578    1\n",
      "Name: logerror, Length: 52061, dtype: int64\n",
      "-------------transactiondate-----------------\n",
      "2017-06-30    809\n",
      "2017-04-28    614\n",
      "2017-05-31    565\n",
      "2017-07-28    546\n",
      "2017-08-31    528\n",
      "             ... \n",
      "2017-09-09      1\n",
      "2017-08-12      1\n",
      "2017-09-25      1\n",
      "2017-03-12      1\n",
      "2017-05-20      1\n",
      "Name: transactiondate, Length: 257, dtype: int64\n",
      "-------------airconditioningdesc-----------------\n",
      "Central      11873\n",
      "Yes           1567\n",
      "None           159\n",
      "Wall Unit       16\n",
      "Name: airconditioningdesc, dtype: int64\n",
      "-------------architecturalstyledesc-----------------\n",
      "Contemporary     62\n",
      "Cape Cod          3\n",
      "Bungalow          2\n",
      "Ranch/Rambler     2\n",
      "Conventional      1\n",
      "Name: architecturalstyledesc, dtype: int64\n",
      "-------------buildingclassdesc-----------------\n",
      "Series([], Name: buildingclassdesc, dtype: int64)\n",
      "-------------heatingorsystemdesc-----------------\n"
     ]
    },
    {
     "name": "stdout",
     "output_type": "stream",
     "text": [
      "Central       20689\n",
      "Floor/Wall    12527\n",
      "Forced air      517\n",
      "Solar            85\n",
      "None             16\n",
      "Baseboard         7\n",
      "Radiant           6\n",
      "Gravity           2\n",
      "Yes               1\n",
      "Name: heatingorsystemdesc, dtype: int64\n",
      "-------------propertylandusedesc-----------------\n",
      "Single Family Residential    52320\n",
      "Name: propertylandusedesc, dtype: int64\n",
      "-------------storydesc-----------------\n",
      "Basement    47\n",
      "Name: storydesc, dtype: int64\n",
      "-------------typeconstructiondesc-----------------\n",
      "Frame       75\n",
      "Concrete     1\n",
      "Name: typeconstructiondesc, dtype: int64\n"
     ]
    }
   ],
   "source": [
    "# show value counts for each column, does not include nulls\n",
    "for col in df.columns:\n",
    "    print(f'-------------{col}-----------------')\n",
    "    print(df[df[col].notna()][col].value_counts(dropna=False))"
   ]
  },
  {
   "cell_type": "code",
   "execution_count": 36,
   "id": "cf891439",
   "metadata": {},
   "outputs": [],
   "source": [
    "# remove propeties that have no bedrooms and no bathrooms and too small of an area\n",
    "df = df[(df.bedroomcnt > 0) & (df.bathroomcnt > 0) & (df.unitcnt <= 1) | df.unitcnt.isna() & (df.calculatedfinishedsquarefeet > 500) & (df.bedroomcnt > 0) & (df.bathroomcnt > 0)]"
   ]
  },
  {
   "cell_type": "code",
   "execution_count": 37,
   "id": "c91d7d09",
   "metadata": {},
   "outputs": [
    {
     "data": {
      "text/plain": [
       "(52115, 68)"
      ]
     },
     "execution_count": 37,
     "metadata": {},
     "output_type": "execute_result"
    }
   ],
   "source": [
    "df.shape"
   ]
  },
  {
   "cell_type": "code",
   "execution_count": 38,
   "id": "f5f1963d",
   "metadata": {},
   "outputs": [
    {
     "data": {
      "text/plain": [
       "26057.5"
      ]
     },
     "execution_count": 38,
     "metadata": {},
     "output_type": "execute_result"
    }
   ],
   "source": [
    "# set threshhold for number of non-null rows in each column to determine drop\n",
    "thresh_col = .5 * df.shape[0]\n",
    "thresh_col"
   ]
  },
  {
   "cell_type": "code",
   "execution_count": 39,
   "id": "e94eb706",
   "metadata": {},
   "outputs": [
    {
     "data": {
      "text/plain": [
       "(52115, 34)"
      ]
     },
     "execution_count": 39,
     "metadata": {},
     "output_type": "execute_result"
    }
   ],
   "source": [
    "# drop columns that meet null-rows threshhold\n",
    "df = df.dropna(axis=1, thresh=thresh_col)\n",
    "df.shape"
   ]
  },
  {
   "cell_type": "code",
   "execution_count": 40,
   "id": "84c17d16",
   "metadata": {},
   "outputs": [
    {
     "data": {
      "text/plain": [
       "23.799999999999997"
      ]
     },
     "execution_count": 40,
     "metadata": {},
     "output_type": "execute_result"
    }
   ],
   "source": [
    "# set threshhold for number of non-null columns each row must to determine drop\n",
    "thresh_row = .7 * df.shape[1]\n",
    "thresh_row"
   ]
  },
  {
   "cell_type": "code",
   "execution_count": 41,
   "id": "839ba6c1",
   "metadata": {},
   "outputs": [
    {
     "data": {
      "text/plain": [
       "(52115, 34)"
      ]
     },
     "execution_count": 41,
     "metadata": {},
     "output_type": "execute_result"
    }
   ],
   "source": [
    "df = df.dropna(axis=0, thresh=thresh_row)\n",
    "df.shape"
   ]
  },
  {
   "cell_type": "code",
   "execution_count": 42,
   "id": "2cf8fff9",
   "metadata": {},
   "outputs": [],
   "source": [
    "def handle_missing_values(df, percent_required_cols = .5, percent_required_rows = .7):\n",
    "    \n",
    "    # set threshold for min of values in columns for dropping\n",
    "    thresh_col = int(round(percent_required_cols * df.shape[0]))\n",
    "    \n",
    "    # drop columns that don't meed threshhold for non-null values (rows without nulls)\n",
    "    df = df.dropna(axis=1, thresh=thresh_col)\n",
    "    \n",
    "    # set threshold for min non-null values for rows (cols without nulls)\n",
    "    thresh_row = int(round(percent_required_rows * df.shape[1]))\n",
    "    \n",
    "    # drop rows with don't meet threshold for non-null values for columns\n",
    "    df = df.dropna(axis=0, thresh=thresh_row)\n",
    "    \n",
    "    return df, thresh_col, thresh_row,"
   ]
  },
  {
   "cell_type": "code",
   "execution_count": 43,
   "id": "a4fcd850",
   "metadata": {},
   "outputs": [],
   "source": [
    "# Run fucntion to remove columns and rows that meet thresh hold\n",
    "df, thresh_col, thresh_row  = handle_missing_values(df, percent_required_cols = .5, percent_required_rows = .5)"
   ]
  },
  {
   "cell_type": "code",
   "execution_count": 44,
   "id": "ca91642b",
   "metadata": {},
   "outputs": [
    {
     "data": {
      "text/plain": [
       "((52115, 34), 26058, 17)"
      ]
     },
     "execution_count": 44,
     "metadata": {},
     "output_type": "execute_result"
    }
   ],
   "source": [
    "# see new df shape, \n",
    "df.shape, thresh_col, thresh_row"
   ]
  },
  {
   "cell_type": "markdown",
   "id": "7f105b2d",
   "metadata": {},
   "source": [
    "### Deal with the rest of the nulls"
   ]
  },
  {
   "cell_type": "code",
   "execution_count": 45,
   "id": "c74eb9ff",
   "metadata": {},
   "outputs": [
    {
     "data": {
      "text/plain": [
       "id                                  0\n",
       "parcelid                            0\n",
       "bathroomcnt                         0\n",
       "bedroomcnt                          0\n",
       "buildingqualitytypeid           18510\n",
       "calculatedbathnbr                  15\n",
       "calculatedfinishedsquarefeet        0\n",
       "finishedsquarefeet12              153\n",
       "fips                                0\n",
       "fullbathcnt                        15\n",
       "heatingorsystemtypeid           18307\n",
       "latitude                            0\n",
       "longitude                           0\n",
       "lotsizesquarefeet                 350\n",
       "propertycountylandusecode           0\n",
       "propertylandusetypeid               0\n",
       "propertyzoningdesc              18449\n",
       "rawcensustractandblock              0\n",
       "regionidcity                     1028\n",
       "regionidcounty                      0\n",
       "regionidzip                        23\n",
       "roomcnt                             0\n",
       "unitcnt                         18424\n",
       "yearbuilt                          33\n",
       "structuretaxvaluedollarcnt         69\n",
       "taxvaluedollarcnt                   1\n",
       "assessmentyear                      0\n",
       "landtaxvaluedollarcnt               1\n",
       "taxamount                           4\n",
       "censustractandblock               109\n",
       "logerror                            0\n",
       "transactiondate                     0\n",
       "heatingorsystemdesc             18307\n",
       "propertylandusedesc                 0\n",
       "dtype: int64"
      ]
     },
     "execution_count": 45,
     "metadata": {},
     "output_type": "execute_result"
    }
   ],
   "source": [
    "df.isna().sum()"
   ]
  },
  {
   "cell_type": "markdown",
   "id": "b30e36f2",
   "metadata": {},
   "source": [
    "### Dropping Unneeded Columns:\n",
    "- parcel id, id, popertylandusetype, unitcnt: no longer needed after data filtering\n",
    "- propertyzoningdesc, finishedsquarefeet12, censustracdtandblock, rawcensustracdtandblock, heatingorsystemtupeid, assessmentyear, transactiondate: Not useful"
   ]
  },
  {
   "cell_type": "code",
   "execution_count": 46,
   "id": "142bf90b",
   "metadata": {},
   "outputs": [],
   "source": [
    "# remove columns that are not useful\n",
    "df = df.drop(columns=[\n",
    "    # uniquie identifer to lot\n",
    "    'parcelid',\n",
    "    # uniquie identifer for table        \n",
    "    'id',\n",
    "     #Description of the allowed land uses (zoning) for that property\n",
    "     'propertyzoningdesc', \n",
    "     # Finished living area\n",
    "     'finishedsquarefeet12',\n",
    "     #  Census tract and block ID combined - also contains blockgroup assignment by extension\n",
    "         'censustractandblock',\n",
    "      # Type of land use the property is zoned for\n",
    "      'propertylandusetypeid',\n",
    "      #  Type of home heating system\n",
    "      'heatingorsystemtypeid',\n",
    "    # unit type cnt: filtered out to only 1 cnt, no longer needed\n",
    "    'unitcnt',\n",
    "    # Census tract and block ID combined, not needed\n",
    "    'rawcensustractandblock',\n",
    "    # year assessed\n",
    "    'assessmentyear',\n",
    "    # date of transaction\n",
    "    'transactiondate'\n",
    "    ])"
   ]
  },
  {
   "cell_type": "code",
   "execution_count": 47,
   "id": "1b918bb5",
   "metadata": {},
   "outputs": [
    {
     "data": {
      "text/plain": [
       "(52115, 23)"
      ]
     },
     "execution_count": 47,
     "metadata": {},
     "output_type": "execute_result"
    }
   ],
   "source": [
    "df.shape"
   ]
  },
  {
   "cell_type": "code",
   "execution_count": 48,
   "id": "5e56e564",
   "metadata": {},
   "outputs": [
    {
     "data": {
      "text/plain": [
       "Central       20670\n",
       "NaN           18307\n",
       "Floor/Wall    12504\n",
       "Forced air      517\n",
       "Solar            85\n",
       "None             16\n",
       "Baseboard         7\n",
       "Radiant           6\n",
       "Gravity           2\n",
       "Yes               1\n",
       "Name: heatingorsystemdesc, dtype: int64"
      ]
     },
     "execution_count": 48,
     "metadata": {},
     "output_type": "execute_result"
    }
   ],
   "source": [
    "# check value counts for heating systems\n",
    "df.heatingorsystemdesc.value_counts(dropna=False)"
   ]
  },
  {
   "cell_type": "code",
   "execution_count": 49,
   "id": "0ba31797",
   "metadata": {},
   "outputs": [
    {
     "data": {
      "text/plain": [
       "Central       20670\n",
       "Floor/Wall    12475\n",
       "NaN             498\n",
       "Solar            85\n",
       "Name: heatingorsystemdesc, dtype: int64"
      ]
     },
     "execution_count": 49,
     "metadata": {},
     "output_type": "execute_result"
    }
   ],
   "source": [
    "# check value counts for heating sytems in LA\n",
    "df[df.fips == 6037].heatingorsystemdesc.value_counts(dropna=False)"
   ]
  },
  {
   "cell_type": "code",
   "execution_count": 50,
   "id": "d902be10",
   "metadata": {},
   "outputs": [
    {
     "data": {
      "text/plain": [
       "NaN           13463\n",
       "Forced air      517\n",
       "Floor/Wall       29\n",
       "None             16\n",
       "Baseboard         7\n",
       "Radiant           6\n",
       "Gravity           2\n",
       "Yes               1\n",
       "Name: heatingorsystemdesc, dtype: int64"
      ]
     },
     "execution_count": 50,
     "metadata": {},
     "output_type": "execute_result"
    }
   ],
   "source": [
    "# check value counts for heating sytems in OC\n",
    "df[df.fips == 6059].heatingorsystemdesc.value_counts(dropna=False)"
   ]
  },
  {
   "cell_type": "code",
   "execution_count": 51,
   "id": "ebc248d1",
   "metadata": {},
   "outputs": [
    {
     "data": {
      "text/plain": [
       "NaN    4346\n",
       "Name: heatingorsystemdesc, dtype: int64"
      ]
     },
     "execution_count": 51,
     "metadata": {},
     "output_type": "execute_result"
    }
   ],
   "source": [
    "# check value counts for heating sytems in Ventura\n",
    "df[df.fips == 6111].heatingorsystemdesc.value_counts(dropna=False)"
   ]
  },
  {
   "cell_type": "code",
   "execution_count": 52,
   "id": "2ca85961",
   "metadata": {},
   "outputs": [],
   "source": [
    "# relacing nulls with 'None', assuming null was for not having a heating system\n",
    "df.heatingorsystemdesc.fillna('None', inplace=True)"
   ]
  },
  {
   "cell_type": "code",
   "execution_count": 53,
   "id": "d1e5e0c2",
   "metadata": {},
   "outputs": [
    {
     "data": {
      "text/plain": [
       "0"
      ]
     },
     "execution_count": 53,
     "metadata": {},
     "output_type": "execute_result"
    }
   ],
   "source": [
    "# checking nulls were removed\n",
    "df.heatingorsystemdesc.isna().sum()"
   ]
  },
  {
   "cell_type": "code",
   "execution_count": 54,
   "id": "552a3b1f",
   "metadata": {},
   "outputs": [
    {
     "data": {
      "text/plain": [
       "6.0     10250\n",
       "8.0      8218\n",
       "4.0      8125\n",
       "7.0      3419\n",
       "5.0      1495\n",
       "9.0      1118\n",
       "11.0      514\n",
       "10.0      228\n",
       "3.0       147\n",
       "NaN       123\n",
       "12.0       80\n",
       "1.0         8\n",
       "2.0         3\n",
       "Name: buildingqualitytypeid, dtype: int64"
      ]
     },
     "execution_count": 54,
     "metadata": {},
     "output_type": "execute_result"
    }
   ],
   "source": [
    "# checking building quality type id for LA\n",
    "df[df.fips == 6037].buildingqualitytypeid.value_counts(dropna=False)"
   ]
  },
  {
   "cell_type": "code",
   "execution_count": 55,
   "id": "5cefea35",
   "metadata": {},
   "outputs": [
    {
     "data": {
      "text/plain": [
       "NaN    14041\n",
       "Name: buildingqualitytypeid, dtype: int64"
      ]
     },
     "execution_count": 55,
     "metadata": {},
     "output_type": "execute_result"
    }
   ],
   "source": [
    "# checking building quality type id for OC\n",
    "df[df.fips == 6059].buildingqualitytypeid.value_counts(dropna=False)"
   ]
  },
  {
   "cell_type": "code",
   "execution_count": 56,
   "id": "6599e991",
   "metadata": {},
   "outputs": [
    {
     "data": {
      "text/plain": [
       "NaN    4346\n",
       "Name: buildingqualitytypeid, dtype: int64"
      ]
     },
     "execution_count": 56,
     "metadata": {},
     "output_type": "execute_result"
    }
   ],
   "source": [
    "# checking building quality type id for Vetura\n",
    "df[df.fips == 6111].buildingqualitytypeid.value_counts(dropna=False)"
   ]
  },
  {
   "cell_type": "markdown",
   "id": "48f6f0f9",
   "metadata": {},
   "source": [
    "### Looks like building quality type was not collected for OC or Ventura. Dropping column."
   ]
  },
  {
   "cell_type": "code",
   "execution_count": 57,
   "id": "cba5611b",
   "metadata": {},
   "outputs": [],
   "source": [
    "# droping buildingqualitytypeid because they are not collected for Ventura and Orange\n",
    "df.drop(columns=['buildingqualitytypeid'], inplace=True)"
   ]
  },
  {
   "cell_type": "code",
   "execution_count": 58,
   "id": "cfd5a80a",
   "metadata": {},
   "outputs": [
    {
     "data": {
      "text/plain": [
       "(52115, 22)"
      ]
     },
     "execution_count": 58,
     "metadata": {},
     "output_type": "execute_result"
    }
   ],
   "source": [
    "df.shape"
   ]
  },
  {
   "cell_type": "code",
   "execution_count": 59,
   "id": "b287933f",
   "metadata": {},
   "outputs": [
    {
     "data": {
      "text/plain": [
       "bathroomcnt                        0\n",
       "bedroomcnt                         0\n",
       "calculatedbathnbr                 15\n",
       "calculatedfinishedsquarefeet       0\n",
       "fips                               0\n",
       "fullbathcnt                       15\n",
       "latitude                           0\n",
       "longitude                          0\n",
       "lotsizesquarefeet                350\n",
       "propertycountylandusecode          0\n",
       "regionidcity                    1028\n",
       "regionidcounty                     0\n",
       "regionidzip                       23\n",
       "roomcnt                            0\n",
       "yearbuilt                         33\n",
       "structuretaxvaluedollarcnt        69\n",
       "taxvaluedollarcnt                  1\n",
       "landtaxvaluedollarcnt              1\n",
       "taxamount                          4\n",
       "logerror                           0\n",
       "heatingorsystemdesc                0\n",
       "propertylandusedesc                0\n",
       "dtype: int64"
      ]
     },
     "execution_count": 59,
     "metadata": {},
     "output_type": "execute_result"
    }
   ],
   "source": [
    "df.isna().sum()"
   ]
  },
  {
   "cell_type": "code",
   "execution_count": 60,
   "id": "59010869",
   "metadata": {},
   "outputs": [],
   "source": [
    "# dropping the rest of the nulls\n",
    "df.dropna(inplace=True)"
   ]
  },
  {
   "cell_type": "code",
   "execution_count": 61,
   "id": "335390ce",
   "metadata": {},
   "outputs": [
    {
     "data": {
      "text/plain": [
       "bathroomcnt                     0\n",
       "bedroomcnt                      0\n",
       "calculatedbathnbr               0\n",
       "calculatedfinishedsquarefeet    0\n",
       "fips                            0\n",
       "fullbathcnt                     0\n",
       "latitude                        0\n",
       "longitude                       0\n",
       "lotsizesquarefeet               0\n",
       "propertycountylandusecode       0\n",
       "regionidcity                    0\n",
       "regionidcounty                  0\n",
       "regionidzip                     0\n",
       "roomcnt                         0\n",
       "yearbuilt                       0\n",
       "structuretaxvaluedollarcnt      0\n",
       "taxvaluedollarcnt               0\n",
       "landtaxvaluedollarcnt           0\n",
       "taxamount                       0\n",
       "logerror                        0\n",
       "heatingorsystemdesc             0\n",
       "propertylandusedesc             0\n",
       "dtype: int64"
      ]
     },
     "execution_count": 61,
     "metadata": {},
     "output_type": "execute_result"
    }
   ],
   "source": [
    "df.isna().sum()"
   ]
  },
  {
   "cell_type": "markdown",
   "id": "631be6c9",
   "metadata": {},
   "source": [
    "## Remove Outliers"
   ]
  },
  {
   "cell_type": "code",
   "execution_count": 62,
   "id": "5297df12",
   "metadata": {},
   "outputs": [
    {
     "data": {
      "image/png": "[encoded data removed]",
      "text/plain": [
       "<Figure size 1080x360 with 13 Axes>"
      ]
     },
     "metadata": {
      "needs_background": "light"
     },
     "output_type": "display_data"
    }
   ],
   "source": [
    "plt.figure(figsize=(15, 5))\n",
    "\n",
    "# List of columns\n",
    "cols = [col for col in df.columns.drop(['fips',\n",
    "                                        'latitude',\n",
    "                                       'longitude',\n",
    "                                       'propertycountylandusecode',\n",
    "                                       'regionidcity',\n",
    "                                       'regionidcounty',\n",
    "                                       'regionidzip',\n",
    "                                        'heatingorsystemdesc',\n",
    "                             'propertylandusedesc'\n",
    "                                       ])]\n",
    "\n",
    "for i, col in enumerate(cols,1):\n",
    "\n",
    "    # i starts at 0, but plot nos should start at 1\n",
    "    plot_number = i\n",
    "\n",
    "    # Create subplot.\n",
    "    plt.subplot(1, len(cols), plot_number)\n",
    "\n",
    "    # Title with column name.\n",
    "    plt.title(col)\n",
    "\n",
    "    # Display histogram for column.\n",
    "    df[col].hist()\n",
    "\n",
    "    # Hide gridlines.\n",
    "    plt.grid()\n",
    "    \n",
    "    # turn off scientific notation\n",
    "    #plt.ticklabel_format(useOffset=False)\n",
    "    \n",
    "plt.show()"
   ]
  },
  {
   "cell_type": "code",
   "execution_count": 63,
   "id": "9cdf7e9c",
   "metadata": {},
   "outputs": [
    {
     "data": {
      "text/plain": [
       "(50677, 22)"
      ]
     },
     "execution_count": 63,
     "metadata": {},
     "output_type": "execute_result"
    }
   ],
   "source": [
    "df.shape"
   ]
  },
  {
   "cell_type": "code",
   "execution_count": 64,
   "id": "8233425a",
   "metadata": {},
   "outputs": [
    {
     "data": {
      "text/plain": [
       "['bathroomcnt',\n",
       " 'calculatedbathnbr',\n",
       " 'calculatedfinishedsquarefeet',\n",
       " 'fullbathcnt',\n",
       " 'latitude',\n",
       " 'longitude',\n",
       " 'lotsizesquarefeet',\n",
       " 'regionidcity',\n",
       " 'regionidcounty',\n",
       " 'regionidzip',\n",
       " 'roomcnt',\n",
       " 'yearbuilt',\n",
       " 'structuretaxvaluedollarcnt',\n",
       " 'taxvaluedollarcnt',\n",
       " 'landtaxvaluedollarcnt',\n",
       " 'taxamount',\n",
       " 'logerror']"
      ]
     },
     "execution_count": 64,
     "metadata": {},
     "output_type": "execute_result"
    }
   ],
   "source": [
    "# List of columns\n",
    "cols = [col for col in df.columns.drop(['bedroomcnt',\n",
    "                                        'fips',\n",
    "                                        'propertycountylandusecode',\n",
    "                                        'heatingorsystemdesc',\n",
    "                                        'propertylandusedesc'\n",
    "                                       ])]\n",
    "cols"
   ]
  },
  {
   "cell_type": "code",
   "execution_count": 65,
   "id": "aedb9eb8",
   "metadata": {},
   "outputs": [],
   "source": [
    "# remove outliers from each column in cols_list\n",
    "\n",
    "\n",
    "\n",
    "# remove outliers from each column\n",
    "for col in cols:\n",
    "\n",
    "    q1, q3 = df[col].quantile([.25, .75])  # get quartiles\n",
    "\n",
    "    iqr = q3 - q1   # calculate interquartile range\n",
    "\n",
    "    upper_bound = q3 + 1.5 * iqr   # get upper bound\n",
    "    lower_bound = q1 - 1.5 * iqr   # get lower bound\n",
    "\n",
    "    # return dataframe without outliers\n",
    "\n",
    "    df = df[(df[col] > lower_bound) & (df[col] < upper_bound)]"
   ]
  },
  {
   "cell_type": "code",
   "execution_count": 66,
   "id": "ad002dc3",
   "metadata": {},
   "outputs": [
    {
     "data": {
      "text/plain": [
       "(31456, 22)"
      ]
     },
     "execution_count": 66,
     "metadata": {},
     "output_type": "execute_result"
    }
   ],
   "source": [
    "df.shape"
   ]
  },
  {
   "cell_type": "code",
   "execution_count": 67,
   "id": "62a7b4bc",
   "metadata": {},
   "outputs": [
    {
     "data": {
      "image/png": "[encoded data removed]",
      "text/plain": [
       "<Figure size 1080x360 with 17 Axes>"
      ]
     },
     "metadata": {
      "needs_background": "light"
     },
     "output_type": "display_data"
    }
   ],
   "source": [
    "plt.figure(figsize=(15, 5))\n",
    "\n",
    "for i, col in enumerate(cols,1):\n",
    "\n",
    "    # i starts at 0, but plot nos should start at 1\n",
    "    plot_number = i\n",
    "\n",
    "    # Create subplot.\n",
    "    plt.subplot(1, len(cols), plot_number)\n",
    "\n",
    "    # Title with column name.\n",
    "    plt.title(col)\n",
    "\n",
    "    # Display histogram for column.\n",
    "    df[col].hist()\n",
    "\n",
    "    # Hide gridlines.\n",
    "    plt.grid()\n",
    "    \n",
    "    # turn off scientific notation\n",
    "    #plt.ticklabel_format(useOffset=False)\n",
    "    \n",
    "plt.show()"
   ]
  },
  {
   "cell_type": "code",
   "execution_count": 68,
   "id": "5c318032",
   "metadata": {},
   "outputs": [
    {
     "data": {
      "image/png": "[encoded data removed]",
      "text/plain": [
       "<Figure size 1080x576 with 1 Axes>"
      ]
     },
     "metadata": {
      "needs_background": "light"
     },
     "output_type": "display_data"
    }
   ],
   "source": [
    "# plot box plots for columns except fips\n",
    "plt.figure(figsize=(15,8))\n",
    "plt.ticklabel_format(useOffset=False, style='plain')\n",
    "sns.boxplot(data=df[cols])\n",
    "plt.show()"
   ]
  },
  {
   "cell_type": "code",
   "execution_count": 77,
   "id": "9def8337",
   "metadata": {},
   "outputs": [
    {
     "data": {
      "text/plain": [
       "['bathroomcnt',\n",
       " 'bedroomcnt',\n",
       " 'calculatedbathnbr',\n",
       " 'calculatedfinishedsquarefeet',\n",
       " 'fullbathcnt',\n",
       " 'latitude',\n",
       " 'longitude',\n",
       " 'lotsizesquarefeet',\n",
       " 'propertycountylandusecode',\n",
       " 'regionidcity',\n",
       " 'regionidcounty',\n",
       " 'regionidzip',\n",
       " 'roomcnt',\n",
       " 'yearbuilt',\n",
       " 'structuretaxvaluedollarcnt',\n",
       " 'taxvaluedollarcnt',\n",
       " 'landtaxvaluedollarcnt',\n",
       " 'taxamount',\n",
       " 'logerror',\n",
       " 'heatingorsystemdesc',\n",
       " 'propertylandusedesc']"
      ]
     },
     "execution_count": 77,
     "metadata": {},
     "output_type": "execute_result"
    }
   ],
   "source": [
    "cols"
   ]
  },
  {
   "cell_type": "code",
   "execution_count": 75,
   "id": "4ee60675",
   "metadata": {},
   "outputs": [
    {
     "ename": "ValueError",
     "evalue": "min() arg is an empty sequence",
     "output_type": "error",
     "traceback": [
      "\u001b[0;31m---------------------------------------------------------------------------\u001b[0m",
      "\u001b[0;31mValueError\u001b[0m                                Traceback (most recent call last)",
      "\u001b[0;32m<ipython-input-75-6c82610af792>\u001b[0m in \u001b[0;36m<module>\u001b[0;34m\u001b[0m\n\u001b[1;32m     14\u001b[0m \u001b[0;34m\u001b[0m\u001b[0m\n\u001b[1;32m     15\u001b[0m     \u001b[0;31m# Display boxplot for column.\u001b[0m\u001b[0;34m\u001b[0m\u001b[0;34m\u001b[0m\u001b[0;34m\u001b[0m\u001b[0m\n\u001b[0;32m---> 16\u001b[0;31m     \u001b[0msns\u001b[0m\u001b[0;34m.\u001b[0m\u001b[0mboxplot\u001b[0m\u001b[0;34m(\u001b[0m\u001b[0mdata\u001b[0m\u001b[0;34m=\u001b[0m\u001b[0mdf\u001b[0m\u001b[0;34m[\u001b[0m\u001b[0;34m[\u001b[0m\u001b[0mcol\u001b[0m\u001b[0;34m]\u001b[0m\u001b[0;34m]\u001b[0m\u001b[0;34m)\u001b[0m\u001b[0;34m\u001b[0m\u001b[0;34m\u001b[0m\u001b[0m\n\u001b[0m\u001b[1;32m     17\u001b[0m \u001b[0;34m\u001b[0m\u001b[0m\n\u001b[1;32m     18\u001b[0m     \u001b[0;31m# Hide gridlines.\u001b[0m\u001b[0;34m\u001b[0m\u001b[0;34m\u001b[0m\u001b[0;34m\u001b[0m\u001b[0m\n",
      "\u001b[0;32m/opt/homebrew/anaconda3/lib/python3.8/site-packages/seaborn/_decorators.py\u001b[0m in \u001b[0;36minner_f\u001b[0;34m(*args, **kwargs)\u001b[0m\n\u001b[1;32m     44\u001b[0m             )\n\u001b[1;32m     45\u001b[0m         \u001b[0mkwargs\u001b[0m\u001b[0;34m.\u001b[0m\u001b[0mupdate\u001b[0m\u001b[0;34m(\u001b[0m\u001b[0;34m{\u001b[0m\u001b[0mk\u001b[0m\u001b[0;34m:\u001b[0m \u001b[0marg\u001b[0m \u001b[0;32mfor\u001b[0m \u001b[0mk\u001b[0m\u001b[0;34m,\u001b[0m \u001b[0marg\u001b[0m \u001b[0;32min\u001b[0m \u001b[0mzip\u001b[0m\u001b[0;34m(\u001b[0m\u001b[0msig\u001b[0m\u001b[0;34m.\u001b[0m\u001b[0mparameters\u001b[0m\u001b[0;34m,\u001b[0m \u001b[0margs\u001b[0m\u001b[0;34m)\u001b[0m\u001b[0;34m}\u001b[0m\u001b[0;34m)\u001b[0m\u001b[0;34m\u001b[0m\u001b[0;34m\u001b[0m\u001b[0m\n\u001b[0;32m---> 46\u001b[0;31m         \u001b[0;32mreturn\u001b[0m \u001b[0mf\u001b[0m\u001b[0;34m(\u001b[0m\u001b[0;34m**\u001b[0m\u001b[0mkwargs\u001b[0m\u001b[0;34m)\u001b[0m\u001b[0;34m\u001b[0m\u001b[0;34m\u001b[0m\u001b[0m\n\u001b[0m\u001b[1;32m     47\u001b[0m     \u001b[0;32mreturn\u001b[0m \u001b[0minner_f\u001b[0m\u001b[0;34m\u001b[0m\u001b[0;34m\u001b[0m\u001b[0m\n\u001b[1;32m     48\u001b[0m \u001b[0;34m\u001b[0m\u001b[0m\n",
      "\u001b[0;32m/opt/homebrew/anaconda3/lib/python3.8/site-packages/seaborn/categorical.py\u001b[0m in \u001b[0;36mboxplot\u001b[0;34m(x, y, hue, data, order, hue_order, orient, color, palette, saturation, width, dodge, fliersize, linewidth, whis, ax, **kwargs)\u001b[0m\n\u001b[1;32m   2238\u001b[0m ):\n\u001b[1;32m   2239\u001b[0m \u001b[0;34m\u001b[0m\u001b[0m\n\u001b[0;32m-> 2240\u001b[0;31m     plotter = _BoxPlotter(x, y, hue, data, order, hue_order,\n\u001b[0m\u001b[1;32m   2241\u001b[0m                           \u001b[0morient\u001b[0m\u001b[0;34m,\u001b[0m \u001b[0mcolor\u001b[0m\u001b[0;34m,\u001b[0m \u001b[0mpalette\u001b[0m\u001b[0;34m,\u001b[0m \u001b[0msaturation\u001b[0m\u001b[0;34m,\u001b[0m\u001b[0;34m\u001b[0m\u001b[0;34m\u001b[0m\u001b[0m\n\u001b[1;32m   2242\u001b[0m                           width, dodge, fliersize, linewidth)\n",
      "\u001b[0;32m/opt/homebrew/anaconda3/lib/python3.8/site-packages/seaborn/categorical.py\u001b[0m in \u001b[0;36m__init__\u001b[0;34m(self, x, y, hue, data, order, hue_order, orient, color, palette, saturation, width, dodge, fliersize, linewidth)\u001b[0m\n\u001b[1;32m    405\u001b[0m \u001b[0;34m\u001b[0m\u001b[0m\n\u001b[1;32m    406\u001b[0m         \u001b[0mself\u001b[0m\u001b[0;34m.\u001b[0m\u001b[0mestablish_variables\u001b[0m\u001b[0;34m(\u001b[0m\u001b[0mx\u001b[0m\u001b[0;34m,\u001b[0m \u001b[0my\u001b[0m\u001b[0;34m,\u001b[0m \u001b[0mhue\u001b[0m\u001b[0;34m,\u001b[0m \u001b[0mdata\u001b[0m\u001b[0;34m,\u001b[0m \u001b[0morient\u001b[0m\u001b[0;34m,\u001b[0m \u001b[0morder\u001b[0m\u001b[0;34m,\u001b[0m \u001b[0mhue_order\u001b[0m\u001b[0;34m)\u001b[0m\u001b[0;34m\u001b[0m\u001b[0;34m\u001b[0m\u001b[0m\n\u001b[0;32m--> 407\u001b[0;31m         \u001b[0mself\u001b[0m\u001b[0;34m.\u001b[0m\u001b[0mestablish_colors\u001b[0m\u001b[0;34m(\u001b[0m\u001b[0mcolor\u001b[0m\u001b[0;34m,\u001b[0m \u001b[0mpalette\u001b[0m\u001b[0;34m,\u001b[0m \u001b[0msaturation\u001b[0m\u001b[0;34m)\u001b[0m\u001b[0;34m\u001b[0m\u001b[0;34m\u001b[0m\u001b[0m\n\u001b[0m\u001b[1;32m    408\u001b[0m \u001b[0;34m\u001b[0m\u001b[0m\n\u001b[1;32m    409\u001b[0m         \u001b[0mself\u001b[0m\u001b[0;34m.\u001b[0m\u001b[0mdodge\u001b[0m \u001b[0;34m=\u001b[0m \u001b[0mdodge\u001b[0m\u001b[0;34m\u001b[0m\u001b[0;34m\u001b[0m\u001b[0m\n",
      "\u001b[0;32m/opt/homebrew/anaconda3/lib/python3.8/site-packages/seaborn/categorical.py\u001b[0m in \u001b[0;36mestablish_colors\u001b[0;34m(self, color, palette, saturation)\u001b[0m\n\u001b[1;32m    317\u001b[0m         \u001b[0;31m# Determine the gray color to use for the lines framing the plot\u001b[0m\u001b[0;34m\u001b[0m\u001b[0;34m\u001b[0m\u001b[0;34m\u001b[0m\u001b[0m\n\u001b[1;32m    318\u001b[0m         \u001b[0mlight_vals\u001b[0m \u001b[0;34m=\u001b[0m \u001b[0;34m[\u001b[0m\u001b[0mcolorsys\u001b[0m\u001b[0;34m.\u001b[0m\u001b[0mrgb_to_hls\u001b[0m\u001b[0;34m(\u001b[0m\u001b[0;34m*\u001b[0m\u001b[0mc\u001b[0m\u001b[0;34m)\u001b[0m\u001b[0;34m[\u001b[0m\u001b[0;36m1\u001b[0m\u001b[0;34m]\u001b[0m \u001b[0;32mfor\u001b[0m \u001b[0mc\u001b[0m \u001b[0;32min\u001b[0m \u001b[0mrgb_colors\u001b[0m\u001b[0;34m]\u001b[0m\u001b[0;34m\u001b[0m\u001b[0;34m\u001b[0m\u001b[0m\n\u001b[0;32m--> 319\u001b[0;31m         \u001b[0mlum\u001b[0m \u001b[0;34m=\u001b[0m \u001b[0mmin\u001b[0m\u001b[0;34m(\u001b[0m\u001b[0mlight_vals\u001b[0m\u001b[0;34m)\u001b[0m \u001b[0;34m*\u001b[0m \u001b[0;36m.6\u001b[0m\u001b[0;34m\u001b[0m\u001b[0;34m\u001b[0m\u001b[0m\n\u001b[0m\u001b[1;32m    320\u001b[0m         \u001b[0mgray\u001b[0m \u001b[0;34m=\u001b[0m \u001b[0mmpl\u001b[0m\u001b[0;34m.\u001b[0m\u001b[0mcolors\u001b[0m\u001b[0;34m.\u001b[0m\u001b[0mrgb2hex\u001b[0m\u001b[0;34m(\u001b[0m\u001b[0;34m(\u001b[0m\u001b[0mlum\u001b[0m\u001b[0;34m,\u001b[0m \u001b[0mlum\u001b[0m\u001b[0;34m,\u001b[0m \u001b[0mlum\u001b[0m\u001b[0;34m)\u001b[0m\u001b[0;34m)\u001b[0m\u001b[0;34m\u001b[0m\u001b[0;34m\u001b[0m\u001b[0m\n\u001b[1;32m    321\u001b[0m \u001b[0;34m\u001b[0m\u001b[0m\n",
      "\u001b[0;31mValueError\u001b[0m: min() arg is an empty sequence"
     ]
    },
    {
     "data": {
      "image/png": "[encoded data removed]",
      "text/plain": [
       "<Figure size 1152x1440 with 9 Axes>"
      ]
     },
     "metadata": {
      "needs_background": "light"
     },
     "output_type": "display_data"
    }
   ],
   "source": [
    "# List of columns\n",
    "cols = [col for col in df.columns if col not in ['fips', 'year_built']]\n",
    "plt.figure(figsize=(16, 20))\n",
    "for i, col in enumerate(cols):\n",
    "\n",
    "    # i starts at 0, but plot nos should start at 1\n",
    "    plot_number = i + 1\n",
    "\n",
    "    # Create subplot.\n",
    "    plt.subplot(1, len(cols), plot_number)\n",
    "\n",
    "    # Title with column name.\n",
    "    plt.title(col)\n",
    "\n",
    "    # Display boxplot for column.\n",
    "    sns.boxplot(data=df[[col]])\n",
    "\n",
    "    # Hide gridlines.\n",
    "    plt.grid(False)\n",
    "    \n",
    "    # sets proper spacing between plots\n",
    "    plt.tight_layout()\n",
    "\n",
    "plt.show()"
   ]
  },
  {
   "cell_type": "code",
   "execution_count": null,
   "id": "d2184af4",
   "metadata": {},
   "outputs": [],
   "source": []
  },
  {
   "cell_type": "code",
   "execution_count": null,
   "id": "66dccfee",
   "metadata": {},
   "outputs": [],
   "source": [
    "df.shape"
   ]
  },
  {
   "cell_type": "code",
   "execution_count": null,
   "id": "267db8d8",
   "metadata": {},
   "outputs": [],
   "source": []
  },
  {
   "cell_type": "code",
   "execution_count": null,
   "id": "633687ab",
   "metadata": {},
   "outputs": [],
   "source": []
  },
  {
   "cell_type": "code",
   "execution_count": null,
   "id": "812fcbf1",
   "metadata": {},
   "outputs": [],
   "source": [
    "plt.figure(figsize=(15, 20))\n",
    "\n",
    "# List of columns\n",
    "cols = [col for col in df.columns.drop(['fips']).to_list()]\n",
    "\n",
    "for i, col in enumerate(cols,1):\n",
    "\n",
    "    # i starts at 0, but plot nos should start at 1\n",
    "    plot_number = i\n",
    "\n",
    "    # Create subplot.\n",
    "    plt.subplot(1, len(cols), plot_number)\n",
    "\n",
    "    # Title with column name.\n",
    "    plt.title(col)\n",
    "\n",
    "    # Display histogram for column.\n",
    "    sns.boxplot(data=df[col])\n",
    "\n",
    "    # Hide gridlines.\n",
    "    plt.grid()\n",
    "    \n",
    "    # turn off scientific notation\n",
    "    #plt.ticklabel_format(useOffset=False)\n",
    "    \n",
    "plt.show()"
   ]
  },
  {
   "cell_type": "code",
   "execution_count": null,
   "id": "0ca3aed6",
   "metadata": {},
   "outputs": [],
   "source": [
    "df.dtypes"
   ]
  },
  {
   "cell_type": "code",
   "execution_count": null,
   "id": "06f4a5ec",
   "metadata": {},
   "outputs": [],
   "source": [
    "df.dtypes."
   ]
  },
  {
   "cell_type": "code",
   "execution_count": null,
   "id": "56424580",
   "metadata": {},
   "outputs": [],
   "source": [
    "# remove outliers from each column in cols_list\n",
    "for col in cols_list:\n",
    "\n",
    "    q1, q3 = df[col].quantile([.25, .75])  # get quartiles\n",
    "\n",
    "    iqr = q3 - q1   # calculate interquartile range\n",
    "\n",
    "    upper_bound = q3 + 2 * iqr   # get upper bound\n",
    "    lower_bound = q1 - 2 * iqr   # get lower bound\n",
    "\n",
    "    # return dataframe without outliers\n",
    "\n",
    "    df = df[(df[col] > lower_bound) & (df[col] < upper_bound)]"
   ]
  },
  {
   "cell_type": "code",
   "execution_count": null,
   "id": "bac2308a",
   "metadata": {},
   "outputs": [],
   "source": [
    "df.shape"
   ]
  },
  {
   "cell_type": "code",
   "execution_count": null,
   "id": "00e22d64",
   "metadata": {},
   "outputs": [],
   "source": []
  },
  {
   "cell_type": "code",
   "execution_count": null,
   "id": "2f9804af",
   "metadata": {},
   "outputs": [],
   "source": []
  },
  {
   "cell_type": "code",
   "execution_count": null,
   "id": "1c79e90c",
   "metadata": {},
   "outputs": [],
   "source": []
  },
  {
   "cell_type": "markdown",
   "id": "b692cb13",
   "metadata": {},
   "source": [
    "### Take Aways:\n",
    "- ???K records"
   ]
  },
  {
   "cell_type": "code",
   "execution_count": null,
   "id": "ea008649",
   "metadata": {},
   "outputs": [],
   "source": [
    "df.isnull().sum()"
   ]
  },
  {
   "cell_type": "markdown",
   "id": "afc20095",
   "metadata": {},
   "source": [
    "### Take Aways:\n",
    "- Too many nulls in neighborhood, pools, fireplace, garage\n",
    "### What is the range of the transaction date? Found that "
   ]
  },
  {
   "cell_type": "code",
   "execution_count": null,
   "id": "8cf9d2ce",
   "metadata": {},
   "outputs": [],
   "source": [
    "df.transactiondate.min(), df.transactiondate.max()"
   ]
  },
  {
   "cell_type": "markdown",
   "id": "75da0d08",
   "metadata": {},
   "source": [
    "- Found that 2018 transactions exist\n",
    "### What are the 2018 Transactions?"
   ]
  },
  {
   "cell_type": "code",
   "execution_count": null,
   "id": "9cdc1494",
   "metadata": {},
   "outputs": [],
   "source": [
    "df[df.transactiondate.str.contains('2018')]"
   ]
  },
  {
   "cell_type": "markdown",
   "id": "b44fa9bf",
   "metadata": {},
   "source": [
    "- Found one record\n",
    "### Remove record from df"
   ]
  },
  {
   "cell_type": "code",
   "execution_count": null,
   "id": "875a8d90",
   "metadata": {},
   "outputs": [],
   "source": [
    "df = df.drop(index=52441)\n",
    "df[df.transactiondate.str.contains('2018')]"
   ]
  },
  {
   "cell_type": "markdown",
   "id": "fdbf0e59",
   "metadata": {},
   "source": [
    "- Confirmed 2018 record was remove"
   ]
  },
  {
   "cell_type": "markdown",
   "id": "96c519d0",
   "metadata": {},
   "source": [
    "### Create Functions to Get Zillow Data"
   ]
  },
  {
   "cell_type": "markdown",
   "id": "f4919b62",
   "metadata": {},
   "source": [
    "## <font color = 'red'> Clean Data"
   ]
  },
  {
   "cell_type": "code",
   "execution_count": null,
   "id": "50171bdb",
   "metadata": {},
   "outputs": [],
   "source": [
    "df.head()"
   ]
  },
  {
   "cell_type": "code",
   "execution_count": null,
   "id": "165b96d9",
   "metadata": {},
   "outputs": [],
   "source": []
  },
  {
   "cell_type": "markdown",
   "id": "970631fd",
   "metadata": {},
   "source": [
    "### Rename columns for Readability"
   ]
  },
  {
   "cell_type": "code",
   "execution_count": null,
   "id": "b9ea9c03",
   "metadata": {},
   "outputs": [],
   "source": [
    "df.columns.to_list()"
   ]
  },
  {
   "cell_type": "code",
   "execution_count": null,
   "id": "3f1117cf",
   "metadata": {},
   "outputs": [],
   "source": [
    "# rename columns for readability\n",
    "df = df.rename(columns = {'parcelid':'parcel_id',\n",
    "                          'calculatedfinishedsquarefeet':'area',\n",
    "                          'yearbuilt':'year_built',\n",
    "                          'bedroomcnt':'bedrooms', \n",
    "                          'bathroomcnt':'bathrooms',\n",
    "                          'taxvaluedollarcnt':'tax_value',\n",
    "                          'taxamount':'tax_amount',\n",
    "                          'transactiondate':'transaction_date',\n",
    "                          'regionidzip':'zipcode',\n",
    "                             'regionidneighborhood':'neighborhood',\n",
    "                             'poolcnt':'pools',\n",
    "                             'lotsizesquarefeet':'lot_size',\n",
    "                          'garagecarcnt':'garages'\n",
    "                         })"
   ]
  },
  {
   "cell_type": "markdown",
   "id": "35cbce13",
   "metadata": {},
   "source": [
    "### Check Columns Names Changed"
   ]
  },
  {
   "cell_type": "code",
   "execution_count": null,
   "id": "426ccd2a",
   "metadata": {},
   "outputs": [],
   "source": [
    "df.columns"
   ]
  },
  {
   "cell_type": "markdown",
   "id": "1d4d7b63",
   "metadata": {},
   "source": [
    "### Dropping transaction_date, and parcel_id columns since it doens't help with explore or modeling"
   ]
  },
  {
   "cell_type": "code",
   "execution_count": null,
   "id": "ba58cf9b",
   "metadata": {},
   "outputs": [],
   "source": [
    "df = df.drop(columns=['transaction_date', 'parcel_id'])\n",
    "df.columns"
   ]
  },
  {
   "cell_type": "markdown",
   "id": "746e1c36",
   "metadata": {},
   "source": [
    "### Show describe without scientific notation"
   ]
  },
  {
   "cell_type": "code",
   "execution_count": null,
   "id": "410a27a0",
   "metadata": {
    "scrolled": true
   },
   "outputs": [],
   "source": [
    "df.describe().apply(lambda s: s.apply(lambda x: format(x, 'g')))"
   ]
  },
  {
   "cell_type": "markdown",
   "id": "806580cd",
   "metadata": {},
   "source": [
    "### Take Away: \n",
    "- Huge Skew in tax value, area, lot_size\n",
    "- Counts are off in multiple columns\n",
    "- bedrooms and bathroom contain zero\n",
    "### Change Blanks to Nulls"
   ]
  },
  {
   "cell_type": "code",
   "execution_count": null,
   "id": "5d72d618",
   "metadata": {},
   "outputs": [],
   "source": [
    "# replace banks with NaN \n",
    "df = df.replace('', np.nan)"
   ]
  },
  {
   "cell_type": "markdown",
   "id": "f4f87b5a",
   "metadata": {},
   "source": [
    "### Check for Nulls"
   ]
  },
  {
   "cell_type": "code",
   "execution_count": null,
   "id": "851f48c8",
   "metadata": {},
   "outputs": [],
   "source": [
    "df.isnull().sum()"
   ]
  },
  {
   "cell_type": "code",
   "execution_count": null,
   "id": "2d36bb92",
   "metadata": {},
   "outputs": [],
   "source": [
    "value_cols = df.drop(columns=['area','year_built','tax_value','lot_size'])\n",
    "for col in value_cols:\n",
    "    print(f'----------------{col}--------------------')\n",
    "    print(df[col].value_counts())"
   ]
  },
  {
   "cell_type": "code",
   "execution_count": null,
   "id": "8433f877",
   "metadata": {},
   "outputs": [],
   "source": [
    "df.isna().sum()"
   ]
  },
  {
   "cell_type": "code",
   "execution_count": null,
   "id": "1d907fe6",
   "metadata": {},
   "outputs": [],
   "source": [
    "df.shape"
   ]
  },
  {
   "cell_type": "markdown",
   "id": "4b2c1989",
   "metadata": {},
   "source": [
    "### Replaced Pool NaN with 0"
   ]
  },
  {
   "cell_type": "code",
   "execution_count": null,
   "id": "faf73954",
   "metadata": {},
   "outputs": [],
   "source": [
    "# replace pool, lot_size, l nan with 0\n",
    "df.pools = df.pools.replace(np.nan, 0)"
   ]
  },
  {
   "cell_type": "code",
   "execution_count": null,
   "id": "99e9a103",
   "metadata": {},
   "outputs": [],
   "source": [
    "df.pools.isna().sum()"
   ]
  },
  {
   "cell_type": "code",
   "execution_count": null,
   "id": "87384a3e",
   "metadata": {},
   "outputs": [],
   "source": [
    "df.shape"
   ]
  },
  {
   "cell_type": "markdown",
   "id": "6224e959",
   "metadata": {},
   "source": [
    "### Replace lot_size with median, 6,384"
   ]
  },
  {
   "cell_type": "code",
   "execution_count": null,
   "id": "2c522187",
   "metadata": {},
   "outputs": [],
   "source": [
    "df[df.lot_size < 13000].lot_size.hist()"
   ]
  },
  {
   "cell_type": "code",
   "execution_count": null,
   "id": "57eb4885",
   "metadata": {},
   "outputs": [],
   "source": [
    "# replace lot_size, lot_size, l nan with meian\n",
    "df.lot_size = df.lot_size.replace(np.nan, df.lot_size.mean())\n",
    "df.lot_size.isna().sum()"
   ]
  },
  {
   "cell_type": "code",
   "execution_count": null,
   "id": "d640ce36",
   "metadata": {},
   "outputs": [],
   "source": [
    "df.shape"
   ]
  },
  {
   "cell_type": "markdown",
   "id": "303a7ff1",
   "metadata": {},
   "source": [
    "### Replace Zipcode NaN"
   ]
  },
  {
   "cell_type": "code",
   "execution_count": null,
   "id": "83a73b1a",
   "metadata": {},
   "outputs": [],
   "source": [
    "df.zipcode.describe()"
   ]
  },
  {
   "cell_type": "code",
   "execution_count": null,
   "id": "4b0da9f1",
   "metadata": {},
   "outputs": [],
   "source": [
    "df[df.zipcode < 96995].zipcode.hist()"
   ]
  },
  {
   "cell_type": "code",
   "execution_count": null,
   "id": "3f6dc860",
   "metadata": {},
   "outputs": [],
   "source": [
    "df[(df.zipcode > 96600) & (df.zipcode < 97000)].zipcode.hist()"
   ]
  },
  {
   "cell_type": "code",
   "execution_count": null,
   "id": "c609964f",
   "metadata": {},
   "outputs": [],
   "source": [
    "df[(df.zipcode > 96206) & (df.zipcode < 96995)].zipcode.hist()"
   ]
  },
  {
   "cell_type": "markdown",
   "id": "9cfad361",
   "metadata": {},
   "source": [
    "### Drop records with zipcode NaN, not useful \n",
    "\n",
    "### Replace year_built"
   ]
  },
  {
   "cell_type": "code",
   "execution_count": null,
   "id": "ec1be0be",
   "metadata": {},
   "outputs": [],
   "source": [
    "df.year_built.hist()"
   ]
  },
  {
   "cell_type": "code",
   "execution_count": null,
   "id": "253cd318",
   "metadata": {},
   "outputs": [],
   "source": [
    "df.year_built.describe()"
   ]
  },
  {
   "cell_type": "code",
   "execution_count": null,
   "id": "b9fa188e",
   "metadata": {},
   "outputs": [],
   "source": [
    "df.year_built.value_counts()"
   ]
  },
  {
   "cell_type": "code",
   "execution_count": null,
   "id": "ef05a5f6",
   "metadata": {},
   "outputs": [],
   "source": [
    "#Set year_built to 1955, most used year\n",
    "df.year_built = df.year_built.replace(np.nan, 1955)"
   ]
  },
  {
   "cell_type": "code",
   "execution_count": null,
   "id": "3079e773",
   "metadata": {},
   "outputs": [],
   "source": [
    "df.isna().sum()"
   ]
  },
  {
   "cell_type": "markdown",
   "id": "c797c7cf",
   "metadata": {},
   "source": [
    "### Replace area NaN with most used "
   ]
  },
  {
   "cell_type": "code",
   "execution_count": null,
   "id": "c8b41c32",
   "metadata": {},
   "outputs": [],
   "source": [
    "df.area.describe()"
   ]
  },
  {
   "cell_type": "code",
   "execution_count": null,
   "id": "d4985d30",
   "metadata": {},
   "outputs": [],
   "source": [
    "df.area.hist()"
   ]
  },
  {
   "cell_type": "code",
   "execution_count": null,
   "id": "82ccecf0",
   "metadata": {},
   "outputs": [],
   "source": [
    "df[df.area < 3000].area.hist()"
   ]
  },
  {
   "cell_type": "code",
   "execution_count": null,
   "id": "ad1e4448",
   "metadata": {},
   "outputs": [],
   "source": [
    "df[(df.area > 1268) & (df.area < 2306)].area.hist()"
   ]
  },
  {
   "cell_type": "code",
   "execution_count": null,
   "id": "d51727fa",
   "metadata": {},
   "outputs": [],
   "source": [
    "df.area.value_counts()"
   ]
  },
  {
   "cell_type": "markdown",
   "id": "b0dac9d9",
   "metadata": {},
   "source": [
    "### Replace Area NaN with Most Used 1120"
   ]
  },
  {
   "cell_type": "code",
   "execution_count": null,
   "id": "7c021aa1",
   "metadata": {},
   "outputs": [],
   "source": [
    "# replace area Nan with most used area (1120)\n",
    "df.area = df.area.replace(np.nan, 1120)\n",
    "df.isna().sum()"
   ]
  },
  {
   "cell_type": "markdown",
   "id": "36eb111b",
   "metadata": {},
   "source": [
    "### Drop columns garage and neighborhood, too many missing NaN and not usefult"
   ]
  },
  {
   "cell_type": "code",
   "execution_count": null,
   "id": "80f7c882",
   "metadata": {},
   "outputs": [],
   "source": [
    "# Drop garages and neighborhood, too many NaN in garage and neighborhoo\n",
    "df = df.drop(columns=['garages','neighborhood'])\n",
    "df.isna().sum()"
   ]
  },
  {
   "cell_type": "markdown",
   "id": "46521f59",
   "metadata": {},
   "source": [
    "### Drop Null from the rest beause recordes are few"
   ]
  },
  {
   "cell_type": "code",
   "execution_count": null,
   "id": "74b9bfbe",
   "metadata": {},
   "outputs": [],
   "source": [
    "# NaN left are few, dropping all NaNs\n",
    "df = df.dropna()\n",
    "df.shape"
   ]
  },
  {
   "cell_type": "markdown",
   "id": "38846d9b",
   "metadata": {},
   "source": [
    "### Nulls are removed\n",
    "### Check Data Typ and change data type from float to int"
   ]
  },
  {
   "cell_type": "code",
   "execution_count": null,
   "id": "0bf0e736",
   "metadata": {},
   "outputs": [],
   "source": [
    "df.info()"
   ]
  },
  {
   "cell_type": "code",
   "execution_count": null,
   "id": "d4f2d159",
   "metadata": {},
   "outputs": [],
   "source": [
    "df.head()"
   ]
  },
  {
   "cell_type": "code",
   "execution_count": null,
   "id": "7ab4c466",
   "metadata": {},
   "outputs": [],
   "source": [
    "# convert all columnst to integer for readability\n",
    "df = df.astype('int')"
   ]
  },
  {
   "cell_type": "markdown",
   "id": "5bf228ac",
   "metadata": {},
   "source": [
    "### Confirm Data Type Changed to Integer for readabilityh"
   ]
  },
  {
   "cell_type": "code",
   "execution_count": null,
   "id": "0da464e9",
   "metadata": {},
   "outputs": [],
   "source": [
    "df.info()"
   ]
  },
  {
   "cell_type": "code",
   "execution_count": null,
   "id": "dd35cd8a",
   "metadata": {},
   "outputs": [],
   "source": [
    "df.head()"
   ]
  },
  {
   "cell_type": "markdown",
   "id": "387f9ba8",
   "metadata": {},
   "source": [
    "### Data Type changed to integer\n",
    "## Visualizing Distributions and Outliers"
   ]
  },
  {
   "cell_type": "markdown",
   "id": "82046533",
   "metadata": {},
   "source": [
    "### Plot Histograms"
   ]
  },
  {
   "cell_type": "code",
   "execution_count": null,
   "id": "47e8dc76",
   "metadata": {
    "scrolled": false
   },
   "outputs": [],
   "source": [
    "plt.figure(figsize=(15, 5))\n",
    "\n",
    "# List of columns\n",
    "cols = [col for col in df.columns.drop(['fips']).to_list()]\n",
    "\n",
    "for i, col in enumerate(cols,1):\n",
    "\n",
    "    # i starts at 0, but plot nos should start at 1\n",
    "    plot_number = i\n",
    "\n",
    "    # Create subplot.\n",
    "    plt.subplot(1, len(cols), plot_number)\n",
    "\n",
    "    # Title with column name.\n",
    "    plt.title(col)\n",
    "\n",
    "    # Display histogram for column.\n",
    "    df[col].hist()\n",
    "\n",
    "    # Hide gridlines.\n",
    "    plt.grid()\n",
    "    \n",
    "    # turn off scientific notation\n",
    "    #plt.ticklabel_format(useOffset=False)\n",
    "    \n",
    "plt.show()"
   ]
  },
  {
   "cell_type": "markdown",
   "id": "2145845e",
   "metadata": {},
   "source": [
    "### Take Aways\n",
    "- x axis range is showing with no values meaning they are skewed\n",
    "- tax_value has sever skew since its x-axis got to 1e7 \n",
    "- area has skew"
   ]
  },
  {
   "cell_type": "markdown",
   "id": "81ea64ef",
   "metadata": {},
   "source": [
    "### Plot Box Plots"
   ]
  },
  {
   "cell_type": "code",
   "execution_count": null,
   "id": "522fa2f9",
   "metadata": {},
   "outputs": [],
   "source": [
    "# plot box plots for columns except fips\n",
    "plt.figure(figsize=(15,8))\n",
    "plt.ticklabel_format(useOffset=False, style='plain')\n",
    "sns.boxplot(data=df.drop(columns=['fips']))\n",
    "plt.show()"
   ]
  },
  {
   "cell_type": "markdown",
   "id": "a5a82f18",
   "metadata": {},
   "source": [
    "### Take Aways\n",
    "- tax_value has a severe skew making the other columsn unreadable"
   ]
  },
  {
   "cell_type": "markdown",
   "id": "6498564f",
   "metadata": {},
   "source": [
    "### Visualize Columns with Larger Box Plots"
   ]
  },
  {
   "cell_type": "code",
   "execution_count": null,
   "id": "2ebfac84",
   "metadata": {},
   "outputs": [],
   "source": [
    "plt.figure(figsize=(15, 20))\n",
    "\n",
    "# List of columns\n",
    "cols = [col for col in df.columns.drop(['fips']).to_list()]\n",
    "\n",
    "for i, col in enumerate(cols,1):\n",
    "\n",
    "    # i starts at 0, but plot nos should start at 1\n",
    "    plot_number = i\n",
    "\n",
    "    # Create subplot.\n",
    "    plt.subplot(1, len(cols), plot_number)\n",
    "\n",
    "    # Title with column name.\n",
    "    plt.title(col)\n",
    "\n",
    "    # Display histogram for column.\n",
    "    sns.boxplot(data=df[col])\n",
    "\n",
    "    # Hide gridlines.\n",
    "    plt.grid()\n",
    "    \n",
    "    # turn off scientific notation\n",
    "    #plt.ticklabel_format(useOffset=False)\n",
    "    \n",
    "plt.show()"
   ]
  },
  {
   "cell_type": "markdown",
   "id": "05fd57b8",
   "metadata": {},
   "source": [
    "### Take Aways\n",
    "- Lager Plot Boxesshow many outliers with a huge skew for tax_value"
   ]
  },
  {
   "cell_type": "markdown",
   "id": "0e7fa131",
   "metadata": {},
   "source": [
    "# <font color = 'red'>Prep Data (Tidy, Wrangle, Split)"
   ]
  },
  {
   "cell_type": "markdown",
   "id": "c5ebeef4",
   "metadata": {},
   "source": [
    "## Tidy Data\n",
    "### Remove Outliers"
   ]
  },
  {
   "cell_type": "markdown",
   "id": "6eb7ae70",
   "metadata": {},
   "source": [
    "### Create List of columns to remove outliers from"
   ]
  },
  {
   "cell_type": "code",
   "execution_count": null,
   "id": "aded6bf2",
   "metadata": {},
   "outputs": [],
   "source": [
    "# prep for outlier removal: not including categories fips, pools, zipcode\n",
    "cols_list = df.drop(columns=['fips','zipcode', 'pools'])\n",
    "cols_list.head()"
   ]
  },
  {
   "cell_type": "markdown",
   "id": "9215da3a",
   "metadata": {},
   "source": [
    "### Check Shape and Row Count"
   ]
  },
  {
   "cell_type": "code",
   "execution_count": null,
   "id": "a97b2d43",
   "metadata": {
    "scrolled": true
   },
   "outputs": [],
   "source": [
    "df.shape"
   ]
  },
  {
   "cell_type": "markdown",
   "id": "c1a3df1f",
   "metadata": {},
   "source": [
    "### Find quartile points for upper / lower bounds and remove outliers"
   ]
  },
  {
   "cell_type": "code",
   "execution_count": null,
   "id": "196d9ec4",
   "metadata": {},
   "outputs": [],
   "source": [
    " for col in cols_list:\n",
    "\n",
    "        q1, q3 = df[col].quantile([.25, .75])  # get quartiles\n",
    "        \n",
    "        iqr = q3 - q1   # calculate interquartile range\n",
    "        \n",
    "        upper_bound = q3 + 2 * iqr   # get upper bound\n",
    "        lower_bound = q1 - 2 * iqr   # get lower bound\n",
    "\n",
    "        # return dataframe without outliers\n",
    "        \n",
    "        df = df[(df[col] > lower_bound) & (df[col] < upper_bound)]"
   ]
  },
  {
   "cell_type": "markdown",
   "id": "e005f196",
   "metadata": {},
   "source": [
    "\n",
    "### Check shape and confirmed lost around 5K records"
   ]
  },
  {
   "cell_type": "code",
   "execution_count": null,
   "id": "3400bc3e",
   "metadata": {},
   "outputs": [],
   "source": [
    "df.shape"
   ]
  },
  {
   "cell_type": "markdown",
   "id": "cd0589e2",
   "metadata": {},
   "source": [
    "### Display Box Plots to visualize new ranges"
   ]
  },
  {
   "cell_type": "code",
   "execution_count": null,
   "id": "22e815f3",
   "metadata": {},
   "outputs": [],
   "source": [
    "plt.figure(figsize=(15, 20))\n",
    "\n",
    "# List of columns\n",
    "cols = [col for col in df.columns.drop(['fips']).to_list()]\n",
    "\n",
    "for i, col in enumerate(cols,1):\n",
    "\n",
    "    # i starts at 0, but plot nos should start at 1\n",
    "    plot_number = i\n",
    "\n",
    "    # Create subplot.\n",
    "    plt.subplot(1, len(cols), plot_number)\n",
    "\n",
    "    # Title with column name.\n",
    "    plt.title(col)\n",
    "\n",
    "    # Display histogram for column.\n",
    "    sns.boxplot(data=df[col])\n",
    "\n",
    "    # Hide gridlines.\n",
    "    plt.grid()\n",
    "    \n",
    "    # turn off scientific notation\n",
    "    #plt.ticklabel_format(useOffset=False)\n",
    "    \n",
    "plt.show()"
   ]
  },
  {
   "cell_type": "markdown",
   "id": "fd3779a1",
   "metadata": {},
   "source": [
    "### Take Away:\n",
    "- Box Plot outliers are more visual and boxes are clear\n",
    "### Display historgrams to visualize distributions"
   ]
  },
  {
   "cell_type": "code",
   "execution_count": null,
   "id": "12ce9297",
   "metadata": {},
   "outputs": [],
   "source": [
    "plt.figure(figsize=(15, 5))\n",
    "\n",
    "# List of columns\n",
    "cols = [col for col in df.columns.drop(['fips']).to_list()]\n",
    "\n",
    "for i, col in enumerate(cols,1):\n",
    "\n",
    "    # i starts at 0, but plot nos should start at 1\n",
    "    plot_number = i\n",
    "\n",
    "    # Create subplot.\n",
    "    plt.subplot(1, len(cols), plot_number)\n",
    "\n",
    "    # Title with column name.\n",
    "    plt.title(col)\n",
    "\n",
    "    # Display histogram for column.\n",
    "    df[col].hist()\n",
    "\n",
    "    # Hide gridlines.\n",
    "    plt.grid()\n",
    "    \n",
    "    # turn off scientific notation\n",
    "    #plt.ticklabel_format(useOffset=False)\n",
    "    \n",
    "plt.show()"
   ]
  },
  {
   "cell_type": "markdown",
   "id": "a5c7e027",
   "metadata": {},
   "source": [
    "### Take Away:\n",
    "- Distribution looks good, no more large blanks along the x-axis\n",
    "- Tax_value x-axis has skew but I lowering the limit bounds doens't change\n",
    "- Long/Lat has skew but I don't want to change the values\n",
    "- End with 47.5K records"
   ]
  },
  {
   "cell_type": "markdown",
   "id": "420b9d8d",
   "metadata": {},
   "source": [
    "## Univariate Analysis"
   ]
  },
  {
   "cell_type": "markdown",
   "id": "05b3dda0",
   "metadata": {},
   "source": [
    "### Closer look at columns with histograph"
   ]
  },
  {
   "cell_type": "code",
   "execution_count": null,
   "id": "1530ee83",
   "metadata": {},
   "outputs": [],
   "source": [
    "\n",
    "for col in df.columns:\n",
    "    plt.figure(figsize=(15,5))\n",
    "    plt.hist(df[col])\n",
    "    plt.title(col)\n"
   ]
  },
  {
   "cell_type": "code",
   "execution_count": null,
   "id": "8f6783eb",
   "metadata": {
    "scrolled": true
   },
   "outputs": [],
   "source": [
    "df.info()"
   ]
  },
  {
   "cell_type": "code",
   "execution_count": null,
   "id": "8d79131d",
   "metadata": {},
   "outputs": [],
   "source": [
    "df.describe().apply(lambda s: s.apply(lambda x: format(x, 'g')))"
   ]
  },
  {
   "cell_type": "code",
   "execution_count": null,
   "id": "784402e6",
   "metadata": {},
   "outputs": [],
   "source": [
    "# perform value counts for each column\n",
    "for col in df.columns:\n",
    "    print(f'----------------{col}--------------------')\n",
    "    print(df[col].value_counts())"
   ]
  },
  {
   "cell_type": "markdown",
   "id": "38adcccf",
   "metadata": {},
   "source": [
    "## Data Context\n",
    "- 43.8K records\n",
    "- lowest tax_value is 3.3K\n",
    "- highest tax_value is 1.37M\n",
    "- mean tax_value is about 343.2K\n",
    "- most tax_value below 400K\n",
    "- \n",
    "- bedroom counts: 2,3,4,5 (most have 3)\n",
    "- bathroom counts: 1,2,3,4 (most have 2)\n",
    "- most lot_size between 5K-7K sqft\n",
    "- most house area between 1K and 1.75K sqft\n",
    "- fips (county): 6037 (Los Angeles County),6059 (Orange County) , 6111 (Ventura County)\n",
    "- most houses in fips6037\n",
    "- most houses between latitude 33600000 and 34300000\n",
    "- most houses between longitude -118600000 and -117600000"
   ]
  },
  {
   "cell_type": "markdown",
   "id": "7faad9e9",
   "metadata": {},
   "source": [
    "## Split Data"
   ]
  },
  {
   "cell_type": "code",
   "execution_count": null,
   "id": "310b6b4b",
   "metadata": {},
   "outputs": [],
   "source": [
    " # train/validate/test split\n",
    "train_validate, test = train_test_split(df, test_size=.2, random_state=123)\n",
    "train, validate = train_test_split(train_validate, test_size=.3, random_state=123)"
   ]
  },
  {
   "cell_type": "code",
   "execution_count": null,
   "id": "37107759",
   "metadata": {},
   "outputs": [],
   "source": [
    "df.shape, train.shape, validate.shape, test.shape"
   ]
  },
  {
   "cell_type": "code",
   "execution_count": null,
   "id": "3498ebc4",
   "metadata": {},
   "outputs": [],
   "source": []
  },
  {
   "cell_type": "markdown",
   "id": "26daad51",
   "metadata": {},
   "source": [
    "# <font color ='red'> Exploration and Pre-Processing"
   ]
  },
  {
   "cell_type": "markdown",
   "id": "344b1c78",
   "metadata": {},
   "source": [
    "## Explore Train Data"
   ]
  },
  {
   "cell_type": "markdown",
   "id": "3cd8c2d4",
   "metadata": {},
   "source": [
    "### What are the questions:\n",
    "- What are the transactions are in 2017?\n",
    "    - Started with 52.5K houses, removed 5K for outliers/nulls, 47.5K houses remaining\n",
    "- What states and counties are the properties located in?\n",
    "    - California,. Counties: Los Angeles, Ventura, Orange\n",
    "- What is the tax rate per county? (might have to combine columns to calcualate)\n",
    "    - Los Angele County Tax Rate: 1.42%\n",
    "    - Orange County Tax Rate: 1.21%\n",
    "    - Vetura County Tax Rate: 1.18%\n",
    "- What is the distribution of tax_value for each county?\n",
    "    - LA County has the most houses with most of those peaking between 100-300K\n",
    "    - Ventura and Orange County have less houses and peak between 300-500K\n",
    "- What are the drivers of single family property values?\n",
    "    - Drivers indicated: Area, Bathrooms, Bedrooms\n",
    "- Why do some properties have a much higher value than others when they are located so close to each other?\n",
    "    - ???\n",
    "- Why are some properties valued so differently from others when they have nearly the same physical attributes but only differ in location? \n",
    "    - ???\n",
    "- Is having 1 bathroom worse than having 2 bedrooms?\n",
    "    - Bathroom seems to be more important than bedrooms"
   ]
  },
  {
   "cell_type": "markdown",
   "id": "22bf1fe7",
   "metadata": {},
   "source": [
    "### What is the tax rate per county?"
   ]
  },
  {
   "cell_type": "code",
   "execution_count": null,
   "id": "1dbedc3d",
   "metadata": {},
   "outputs": [],
   "source": [
    "((train[train.fips==6037].tax_amount) / (train[train.fips==6037].tax_value)).mean()"
   ]
  },
  {
   "cell_type": "code",
   "execution_count": null,
   "id": "648d5a95",
   "metadata": {},
   "outputs": [],
   "source": [
    "((train[train.fips==6059].tax_amount) / (train[train.fips==6059].tax_value)).mean()"
   ]
  },
  {
   "cell_type": "code",
   "execution_count": null,
   "id": "c22840eb",
   "metadata": {},
   "outputs": [],
   "source": [
    "((train[train.fips==6111].tax_amount) / (train[train.fips==6111].tax_value)).mean()"
   ]
  },
  {
   "cell_type": "markdown",
   "id": "5bd769ef",
   "metadata": {},
   "source": [
    "## Multivariate Analysis"
   ]
  },
  {
   "cell_type": "markdown",
   "id": "b842f5ed",
   "metadata": {},
   "source": [
    "### What are house values with pools"
   ]
  },
  {
   "cell_type": "code",
   "execution_count": null,
   "id": "5af16cd9",
   "metadata": {},
   "outputs": [],
   "source": [
    "sns.relplot(data=train, x='lot_size', y='tax_value', hue='pools')"
   ]
  },
  {
   "cell_type": "markdown",
   "id": "a83fdba8",
   "metadata": {},
   "source": [
    "### Note: \n",
    "- Pools increase with lot_size\n",
    "\n",
    "### Show value by area with pools"
   ]
  },
  {
   "cell_type": "code",
   "execution_count": null,
   "id": "d1b39605",
   "metadata": {},
   "outputs": [],
   "source": [
    "sns.relplot(data=train, x='area', y='tax_value', hue='pools')"
   ]
  },
  {
   "cell_type": "markdown",
   "id": "62de6879",
   "metadata": {},
   "source": [
    "### Slight correlationo with pools and house value\n",
    "\n",
    "### Show house values by coorinates"
   ]
  },
  {
   "cell_type": "code",
   "execution_count": null,
   "id": "8f6c5376",
   "metadata": {},
   "outputs": [],
   "source": [
    "sns.relplot(data=train, x='longitude', y='latitude', hue='tax_value')\n",
    "plt.show()"
   ]
  },
  {
   "cell_type": "code",
   "execution_count": null,
   "id": "dcbdf089",
   "metadata": {},
   "outputs": [],
   "source": [
    "train.tax_value.describe()"
   ]
  },
  {
   "cell_type": "code",
   "execution_count": null,
   "id": "89e0eb50",
   "metadata": {},
   "outputs": [],
   "source": [
    "# Show house vlaues create than mean by coorindates, shows a map\n",
    "value_map = df[df.tax_value > df.tax_value.mean()]\n",
    "sns.relplot(data=value_map, x='longitude', y='latitude', hue='tax_value', height=5, aspect=2)\n",
    "plt.show()"
   ]
  },
  {
   "cell_type": "code",
   "execution_count": null,
   "id": "362b46a1",
   "metadata": {},
   "outputs": [],
   "source": [
    "# Show relplot of long/lat coords to show map of homes valued at twice the mean\n",
    "value_map = df[df.tax_value > (df.tax_value.mean() * 2)]\n",
    "sns.relplot(data=value_map, x='longitude', y='latitude', hue='tax_value', height=5, aspect=2)\n",
    "plt.show()"
   ]
  },
  {
   "cell_type": "markdown",
   "id": "9b454602",
   "metadata": {},
   "source": [
    "### Notes:\n",
    "- Highest values alongm the coast and "
   ]
  },
  {
   "cell_type": "markdown",
   "id": "c70e5e6c",
   "metadata": {},
   "source": [
    "### What is the distribution of tax_value across counties\n",
    "### Show Average Tax Amounts across Counties"
   ]
  },
  {
   "cell_type": "code",
   "execution_count": null,
   "id": "32a92b84",
   "metadata": {},
   "outputs": [],
   "source": [
    "# Show Average House Tax Amounts Aross Counties\n",
    "plt.figure(figsize=(15,5))\n",
    "sns.barplot(x=train.fips, y=train.tax_amount)\n",
    "plt.axhline(y=train.tax_amount.mean(), color='r')\n",
    "plt.xlabel('County Identifer')\n",
    "plt.ylabel('Average Tax Amount')\n",
    "plt.show()"
   ]
  },
  {
   "cell_type": "markdown",
   "id": "3b9dc1dd",
   "metadata": {},
   "source": [
    "### Notes:\n",
    "- Tax Amounts across counties don't have significant difference\n",
    "### Shows Average Tax Value Across Counties"
   ]
  },
  {
   "cell_type": "code",
   "execution_count": null,
   "id": "d52d3272",
   "metadata": {},
   "outputs": [],
   "source": [
    "# Show Average Tax Value across counties\n",
    "plt.figure(figsize=(15,5))\n",
    "sns.barplot(x=train.fips, y=train.tax_value)\n",
    "plt.axhline(y=train.tax_value.mean(), color='red')\n",
    "plt.xlabel('County Identifer')\n",
    "plt.ylabel('Average Tax Value')\n",
    "plt.show()"
   ]
  },
  {
   "cell_type": "markdown",
   "id": "a39eff74",
   "metadata": {},
   "source": [
    "### Notes:\n",
    "- No significant differnce of tax values between counties however 6037 does drop\n",
    "\n",
    "### T-Test: Is avg tax_value in fips 6059 > avg tax_value in fips 6111\n",
    "- H0: fips 6059 avg tax value <= fips 6111 avg tax_value\n",
    "- H1: fips 6059 avg tax value > fips 6111 avg tax_value"
   ]
  },
  {
   "cell_type": "code",
   "execution_count": null,
   "id": "6bad5ac8",
   "metadata": {},
   "outputs": [],
   "source": [
    "fips_6059 = train[train.fips==6059].tax_value\n",
    "fips_6111 = train[train.fips==6111].tax_value"
   ]
  },
  {
   "cell_type": "code",
   "execution_count": null,
   "id": "52acba26",
   "metadata": {},
   "outputs": [],
   "source": [
    "alpha = .05\n",
    "t,p = stats.ttest_ind(fips_6059, fips_6111)\n",
    "t, p, alpha"
   ]
  },
  {
   "cell_type": "markdown",
   "id": "de6d689b",
   "metadata": {},
   "source": [
    "### Notes:\n",
    "- p < alpha, reject H0, fips 6059 is signficant increase\n",
    "\n",
    "### T-Test: Is avg tax_value in fips 6059 > avg tax-value of all fips\n",
    "- H0: fips 6059 avg tax value <= avg tax_value of all fips\n",
    "- H1: fips 6059 avg tax value > avg tax_value of all fips"
   ]
  },
  {
   "cell_type": "code",
   "execution_count": null,
   "id": "aa538b32",
   "metadata": {},
   "outputs": [],
   "source": [
    "fips_6059 = train[train.fips==6059].tax_value\n",
    "fips_mean = train.tax_value.mean()"
   ]
  },
  {
   "cell_type": "code",
   "execution_count": null,
   "id": "526aad67",
   "metadata": {},
   "outputs": [],
   "source": [
    "alpha = .05\n",
    "t,p = stats.ttest_1samp(fips_6059, fips_mean)\n",
    "t, p, alpha"
   ]
  },
  {
   "cell_type": "markdown",
   "id": "8635b0bf",
   "metadata": {},
   "source": [
    "### Notes:\n",
    "- p > alpha, reject H0, fips 6059 is greater than avg of tax_values across fips\n",
    "\n",
    "### What is the distribution of Value for each Countya"
   ]
  },
  {
   "cell_type": "code",
   "execution_count": null,
   "id": "47c3da6e",
   "metadata": {},
   "outputs": [],
   "source": [
    "# Show distribution of House Values for each county\n",
    "sns.displot(x=train.tax_value, hue=train.fips, height=5, aspect=2.5)\n",
    "plt.xlabel('Home Tax Value')\n",
    "plt.ylabel('Home Count')\n",
    "plt.show()"
   ]
  },
  {
   "cell_type": "markdown",
   "id": "63df58aa",
   "metadata": {},
   "source": [
    "### Note:\n",
    "- In County 6037, More houses are around 100-300K\n",
    "- In other counties, most house around 400K\n",
    "\n",
    "### What is the tax amount distribution across counties?"
   ]
  },
  {
   "cell_type": "markdown",
   "id": "c55c6241",
   "metadata": {},
   "source": [
    "### Note:\n",
    "- county 6037, most around 3K\n",
    "- other counties, most around 4-5K"
   ]
  },
  {
   "cell_type": "markdown",
   "id": "3cf3aca3",
   "metadata": {},
   "source": [
    "### Use Pair Plot to find correlation"
   ]
  },
  {
   "cell_type": "code",
   "execution_count": null,
   "id": "1c5ef40c",
   "metadata": {},
   "outputs": [],
   "source": [
    "#sns.pairplot(train)"
   ]
  },
  {
   "cell_type": "markdown",
   "id": "15ce3032",
   "metadata": {},
   "source": [
    "### Notes:\n",
    "- Nothing siginficant to show\n",
    "### Show Heatmap to find correlation between columns"
   ]
  },
  {
   "cell_type": "code",
   "execution_count": null,
   "id": "9eff21d7",
   "metadata": {},
   "outputs": [],
   "source": [
    "corr_table = train.drop(columns=['fips']).corr()\n",
    "plt.figure(figsize=(10,8))\n",
    "sns.heatmap(corr_table, cmap='Purples', annot=True, linewidth=0.5, mask= np.triu(corr_table))\n",
    "plt.show()"
   ]
  },
  {
   "cell_type": "markdown",
   "id": "7ab5f6d5",
   "metadata": {},
   "source": [
    "### Notes:\n",
    "- tax_value:area = .50\n",
    "- tax_value:bathrooms = .39\n",
    "- tax_value:year_built = .25\n",
    "- tax_value:bedrooms = .22\n",
    "- area:bathrooms = .77\n",
    "- area:bedrooms = .61\n",
    "- area:year_built = .49\n",
    "- bathroom:bedrooms = .58\n",
    "- bathroom:year_built = .51\n",
    "### Largest Correlations to Value is Area. Area to Bathrooms and Bedrooms.\n",
    "\n",
    "### Show correlation between year_built and area with tax_value"
   ]
  },
  {
   "cell_type": "code",
   "execution_count": null,
   "id": "1d67b0cc",
   "metadata": {},
   "outputs": [],
   "source": [
    "# Shows that value increases with area & year_built\n",
    "sns.relplot(x='year_built', y='area', data=train,  hue='tax_value', kind='scatter')\n",
    "plt.xlabel('Year Built')\n",
    "plt.ylabel('House Tax Value')\n",
    "plt.show()"
   ]
  },
  {
   "cell_type": "markdown",
   "id": "2032404a",
   "metadata": {},
   "source": [
    "### Notes:\n",
    "- Show tax_value increases with area increase but year_built has little impact\n",
    "\n",
    "### Show correlation between tax_value and area with bathrooms"
   ]
  },
  {
   "cell_type": "code",
   "execution_count": null,
   "id": "8fedb2b0",
   "metadata": {},
   "outputs": [],
   "source": [
    "#shows that increasd area tends to have increases bathrooms. Slight correlation to increased value.\n",
    "sns.relplot(x='area', y='tax_value', data=train, hue='bathrooms', kind='scatter')\n",
    "plt.xlabel('House Area in Sqft')\n",
    "plt.ylabel('House Tax Value')\n",
    "plt.show()"
   ]
  },
  {
   "cell_type": "markdown",
   "id": "55dca9b1",
   "metadata": {},
   "source": [
    "### Notes:\n",
    "- Shows that increased area has correlatioin with increased  bathroms but little impact to price\n",
    "\n",
    "### Show correlation between area and tax_value with bedrooms"
   ]
  },
  {
   "cell_type": "code",
   "execution_count": null,
   "id": "5c92681a",
   "metadata": {},
   "outputs": [],
   "source": [
    "# Shows that bedrooms does not associate to value. Mostly to area.\n",
    "plt.figure(figsize=(10,10))\n",
    "sns.relplot(x='area', y='tax_value', data=train, hue='bedrooms', kind='scatter')\n",
    "plt.ylabel('House Tax Value')"
   ]
  },
  {
   "cell_type": "markdown",
   "id": "ebc2b278",
   "metadata": {},
   "source": [
    "### Notes:\n",
    "- Show that bedrooms have slight correlatoin to area but not as much as bathroom. And little impact to value\n",
    "\n",
    "### Show correlation between year_built and tax_value with bathrooms"
   ]
  },
  {
   "cell_type": "code",
   "execution_count": null,
   "id": "e9c93076",
   "metadata": {},
   "outputs": [],
   "source": [
    "plt.figure(figsize=(10,10))\n",
    "sns.relplot(x='year_built', y='tax_value', data=train, hue='bathrooms', kind='scatter')\n",
    "plt.ylabel('House Tax Value')"
   ]
  },
  {
   "cell_type": "markdown",
   "id": "8858267c",
   "metadata": {},
   "source": [
    "### Notes:\n",
    "- Show later years have more bathrooms which also have higher tax_value\n",
    "\n",
    "### Show correlation between year_built and tax_value with bedrooms"
   ]
  },
  {
   "cell_type": "code",
   "execution_count": null,
   "id": "43e054a8",
   "metadata": {},
   "outputs": [],
   "source": [
    "# Shows that later years have more bedrooms but seem to impact value\n",
    "plt.figure(figsize=(10,20))\n",
    "sns.relplot(x='year_built', y='tax_value', data=train, hue='bedrooms', kind='scatter')\n",
    "plt.ylabel('House Tax Value')\n",
    "plt.show()"
   ]
  },
  {
   "cell_type": "markdown",
   "id": "85648786",
   "metadata": {},
   "source": [
    "### Notes:\n",
    "- Slight correlation with inceasd bedrooms and new homes which increases value. Most likely because increased bedrooms means increased area.\n",
    "\n",
    "### Show correlation between year_built and value with area"
   ]
  },
  {
   "cell_type": "code",
   "execution_count": null,
   "id": "12a71038",
   "metadata": {},
   "outputs": [],
   "source": [
    "# Shows increased area has  year increased and more high areas have high value\n",
    "sns.relplot(x='year_built', y='tax_value', data=train, hue='area', kind='scatter')\n",
    "plt.xlabel('Year Built')\n",
    "plt.ylabel('House Tax Value')\n",
    "plt.show()"
   ]
  },
  {
   "cell_type": "markdown",
   "id": "92f43d41",
   "metadata": {},
   "source": [
    "### Notes:\n",
    "- Shows increased area are newer homes and have high value\n",
    "\n",
    "### Show correlation between year_built and value with fips"
   ]
  },
  {
   "cell_type": "code",
   "execution_count": null,
   "id": "e8df87e0",
   "metadata": {},
   "outputs": [],
   "source": [
    "# shows that 6037 has majority of properties, 6059 has more high value properties\n",
    "sns.relplot(x='year_built', y='tax_value', data=train, hue='fips', kind='scatter')\n",
    "plt.ylabel('House Tax Value')\n",
    "plt.xlabel('Year Built')\n",
    "plt.show()"
   ]
  },
  {
   "cell_type": "markdown",
   "id": "1c6100b8",
   "metadata": {},
   "source": [
    "### Notes:\n",
    "- shows that 6037 has majority of properties\n",
    "- show that 6059 abd 6111 has newer homes\n",
    "\n",
    "### Show correlation between area and value with fips"
   ]
  },
  {
   "cell_type": "code",
   "execution_count": null,
   "id": "04c59afb",
   "metadata": {},
   "outputs": [],
   "source": [
    "# compare area vs value by fips\n",
    "sns.relplot(x='area', y='tax_value', data=train, hue='fips', kind='scatter')\n",
    "plt.ylabel('House Tax Value')\n",
    "plt.xlabel('House Area in Sqft')\n",
    "plt.show()"
   ]
  },
  {
   "cell_type": "markdown",
   "id": "c16ed52e",
   "metadata": {},
   "source": [
    "### Notes:\n",
    "- Shows area and value correlate across fips\n",
    "\n",
    "### Plot Value to Lot Size by FIPS"
   ]
  },
  {
   "cell_type": "code",
   "execution_count": null,
   "id": "cddff1f7",
   "metadata": {},
   "outputs": [],
   "source": [
    "# compare lot size vs value by fips\n",
    "sns.relplot(x='lot_size', y='tax_value', data=train, hue='fips', kind='scatter')\n",
    "plt.ylabel('House Tax Value')\n",
    "plt.xlabel('Lot Size in Sqft')\n",
    "plt.show()"
   ]
  },
  {
   "cell_type": "markdown",
   "id": "38ccb929",
   "metadata": {},
   "source": [
    "### Notes:\n",
    "- 6059 has more smaller lots. Nothing significant toward value\n",
    "\n",
    "### Show Bar Plot for value vs area by fips (Stopped Loading)"
   ]
  },
  {
   "cell_type": "code",
   "execution_count": null,
   "id": "ecc3085c",
   "metadata": {},
   "outputs": [],
   "source": [
    "# Bar plot ford value vs area categoriezed by fips.\n",
    "# sns.barplot(data=train, y='tax_value', x='area')\n",
    "# plt.ylabel('House Tax Value')\n",
    "# plt.show()"
   ]
  },
  {
   "cell_type": "markdown",
   "id": "2a7ded11",
   "metadata": {},
   "source": [
    "### Note:\n",
    "- Show nothing new. value increases with area.\n",
    "\n",
    "### Show Strip Plot"
   ]
  },
  {
   "cell_type": "code",
   "execution_count": null,
   "id": "1ed2a1bb",
   "metadata": {},
   "outputs": [],
   "source": [
    "# sns.stripplot(x='bedrooms', y='tax_value', data=atrain)"
   ]
  },
  {
   "cell_type": "markdown",
   "id": "ea95b92f",
   "metadata": {},
   "source": [
    "### Note:\n",
    "- Stip Plot shows nothging readable\n",
    "\n",
    "## Summarize Exploration\n",
    "- We have 47,500 houses across three California counites of (Los Angeles, Ventura, and Orange)\n",
    "- Best Three drivers are Area, Bathrooms, and Bedrooms in that order\n",
    "- Los Angels County has a .2% higher tax rate than the other counties. It also had significantly more houses with a value distribution that peaks between 100-300K.\n",
    "- Ventura and Orange Counties have a lower tax rate and with significantly less houses that have a value distribution that peak between 300-500K.\n",
    "- More high value hosues are along the coast and in Orange County\n",
    "\n",
    "## Pre-Processing (Prep Data for Modeling)"
   ]
  },
  {
   "cell_type": "markdown",
   "id": "9e1ab6f1",
   "metadata": {},
   "source": [
    "### Drop Unusable and Unneeded Columns for Modeling"
   ]
  },
  {
   "cell_type": "code",
   "execution_count": null,
   "id": "4b8dc409",
   "metadata": {},
   "outputs": [],
   "source": [
    "# Drop columns not needed\n",
    "train = train.drop(columns=['tax_amount'])\n",
    "validate = validate.drop(columns=['tax_amount'])\n",
    "test = test.drop(columns=['tax_amount'])\n",
    "train.head()"
   ]
  },
  {
   "cell_type": "markdown",
   "id": "32fd7573",
   "metadata": {},
   "source": [
    "### Note:\n",
    "- Dropped tax_amount since it wil be data leakage during modeling\n",
    "\n",
    "# <font color = 'red'>Experiment with Models"
   ]
  },
  {
   "cell_type": "code",
   "execution_count": null,
   "id": "3162e55b",
   "metadata": {},
   "outputs": [],
   "source": [
    "# Filter sets by fips\n",
    "train = train[train.fips==6111]\n",
    "validate = train[train.fips==6111]\n",
    "test = train[train.fips==6111]"
   ]
  },
  {
   "cell_type": "markdown",
   "id": "4bc88562",
   "metadata": {},
   "source": [
    "## Results:\n",
    "- ???\n",
    "\n",
    "### Create y_train and X_train sets"
   ]
  },
  {
   "cell_type": "code",
   "execution_count": null,
   "id": "49578e9c",
   "metadata": {},
   "outputs": [],
   "source": [
    "# establish target column\n",
    "target = 'tax_value'\n",
    "\n",
    "# create X & y version of train, validate, test with y the target and X are the features. \n",
    "X_train = train.drop(columns=[target])\n",
    "y_train = train[target]\n",
    "\n",
    "X_validate = validate.drop(columns=[target])\n",
    "y_validate = validate[target]\n",
    "\n",
    "X_test = test.drop(columns=[target])\n",
    "y_test = test[target]"
   ]
  },
  {
   "cell_type": "code",
   "execution_count": null,
   "id": "ff43325f",
   "metadata": {},
   "outputs": [],
   "source": [
    "X_train.shape, X_validate.shape, X_test.shape, y_train.shape, y_validate.shape, y_test.shape"
   ]
  },
  {
   "cell_type": "markdown",
   "id": "913398ea",
   "metadata": {},
   "source": [
    "### Scale"
   ]
  },
  {
   "cell_type": "code",
   "execution_count": null,
   "id": "44e2a92c",
   "metadata": {},
   "outputs": [],
   "source": [
    "# Create the scale container\n",
    "scaler = sklearn.preprocessing.MinMaxScaler()\n",
    "\n",
    "\n",
    "# Fit the scaler to the features\n",
    "scaler.fit(X_train)\n",
    "\n",
    "# create scaled X versions \n",
    "X_train_scaled = scaler.transform(X_train)\n",
    "X_validate_scaled = scaler.transform(X_validate)\n",
    "X_test_scaled = scaler.transform(X_test)\n",
    "\n",
    "# Convert numpy array to pandas dataframe for feature Engineering\n",
    "X_train_scaled = pd.DataFrame(X_train_scaled, index=X_train.index, columns=X_train.columns.to_list())\n",
    "X_validate_scaled = pd.DataFrame(X_validate_scaled, index=X_validate.index, columns=X_validate.columns.to_list())\n",
    "X_test_scaled = pd.DataFrame(X_test_scaled, index=X_test.index, columns=X_test.columns.to_list())"
   ]
  },
  {
   "cell_type": "code",
   "execution_count": null,
   "id": "b2d14976",
   "metadata": {},
   "outputs": [],
   "source": [
    "X_train_scaled.head()"
   ]
  },
  {
   "cell_type": "markdown",
   "id": "082a6559",
   "metadata": {},
   "source": [
    "### Feature Engineering\n",
    "\n",
    "### Use Select K Best to find 3 Best Features\n"
   ]
  },
  {
   "cell_type": "code",
   "execution_count": null,
   "id": "9e89235d",
   "metadata": {},
   "outputs": [],
   "source": [
    "from sklearn.feature_selection import SelectKBest, f_regression\n",
    "\n",
    "# Use f_regression stats test each column to find best 3 features\n",
    "f_selector = SelectKBest(f_regression, k=3)\n",
    "\n",
    "# find tthe best correlations with y\n",
    "f_selector.fit(X_train_scaled, y_train)\n",
    "\n",
    "# Creaet boolean mask of the selected columns. \n",
    "feature_mask = f_selector.get_support()\n",
    "\n",
    "# get list of top K features. \n",
    "f_feature = X_train_scaled.iloc[:,feature_mask].columns.tolist()\n",
    "\n",
    "f_feature"
   ]
  },
  {
   "cell_type": "markdown",
   "id": "bd955aec",
   "metadata": {},
   "source": [
    "### Note:\n",
    "- Select K Best selected area, year_built, and bathrooms.\n",
    "\n",
    "### Use Recursive Feature Elemination to select 3 best features"
   ]
  },
  {
   "cell_type": "code",
   "execution_count": null,
   "id": "60a95c15",
   "metadata": {},
   "outputs": [],
   "source": [
    "from sklearn.linear_model import LinearRegression\n",
    "from sklearn.feature_selection import RFE\n",
    "\n",
    "# create the ML algorithm container\n",
    "lm = LinearRegression()\n",
    "\n",
    "# create the rfe container with the the number of features I want. \n",
    "rfe = RFE(lm, n_features_to_select=3)\n",
    "\n",
    "# fit RFE to the data\n",
    "rfe.fit(X_train_scaled,y_train)  \n",
    "\n",
    "# get the mask of the selected columns\n",
    "feature_mask = rfe.support_\n",
    "\n",
    "# get list of the column names. \n",
    "rfe_feature = X_train_scaled.iloc[:,feature_mask].columns.tolist()\n",
    "\n",
    "rfe_feature"
   ]
  },
  {
   "cell_type": "markdown",
   "id": "8dad55ab",
   "metadata": {},
   "source": [
    "### Notes:\n",
    "- RFE Select 3 Best Columns: area, latitude, longitude\n",
    "\n"
   ]
  },
  {
   "cell_type": "code",
   "execution_count": null,
   "id": "357056cb",
   "metadata": {},
   "outputs": [],
   "source": [
    "X_train_scaled.head()"
   ]
  },
  {
   "cell_type": "code",
   "execution_count": null,
   "id": "db79d66e",
   "metadata": {},
   "outputs": [],
   "source": [
    "# Remove Features before Modeling\n",
    "# X_train_scaled = X_train_scaled.drop(columns=['pools','lot_size','bedrooms','bathrooms'])\n",
    "# X_validate_scaled = X_validate_scaled.drop(columns=['pools','lot_size','bedrooms','bathrooms'])\n",
    "# X_test_scaled = X_test_scaled.drop(columns=['pools','lot_size','bedrooms','bathrooms'])"
   ]
  },
  {
   "cell_type": "markdown",
   "id": "b42e50d4",
   "metadata": {},
   "source": [
    "# <font color = 'red'>Modeling"
   ]
  },
  {
   "cell_type": "markdown",
   "id": "84199129",
   "metadata": {},
   "source": [
    "## Create Baseline & Evaluate with RMSE"
   ]
  },
  {
   "cell_type": "code",
   "execution_count": null,
   "id": "0582fb28",
   "metadata": {},
   "outputs": [],
   "source": [
    "# We need y_train and y_validate to be dataframes to append the new columns with predicted values. \n",
    "y_train = pd.DataFrame(y_train)\n",
    "y_validate = pd.DataFrame(y_validate)\n",
    "y_test = pd.DataFrame(y_test)\n",
    "y_train.head()"
   ]
  },
  {
   "cell_type": "code",
   "execution_count": null,
   "id": "0ad50c70",
   "metadata": {},
   "outputs": [],
   "source": [
    "# Add target mean column as baseline check\n",
    "y_train['mean_pred'] = y_train.tax_value.mean()\n",
    "y_validate['mean_pred'] = y_validate.tax_value.mean()\n",
    "\n",
    "# add target median column as baseline check\n",
    "y_train['median_pred'] = y_train.tax_value.median()\n",
    "y_validate['median_pred'] = y_validate.tax_value.median()"
   ]
  },
  {
   "cell_type": "code",
   "execution_count": null,
   "id": "0b678171",
   "metadata": {},
   "outputs": [],
   "source": [
    "# Create Baseline RMSE of target mean\n",
    "rmse_train = mean_squared_error(y_train.tax_value, y_train.mean_pred) ** .5\n",
    "rmse_validate = mean_squared_error(y_validate.tax_value, y_validate.mean_pred) ** .5"
   ]
  },
  {
   "cell_type": "code",
   "execution_count": null,
   "id": "2e024b77",
   "metadata": {},
   "outputs": [],
   "source": [
    "# Show RMSE Score for train and validate\n",
    "print(\"RMSE using Mean\\nTrain/In-Sample: \", round(rmse_train, 2), \n",
    "      \"\\nValidate/Out-of-Sample: \", round(rmse_validate, 2))"
   ]
  },
  {
   "cell_type": "code",
   "execution_count": null,
   "id": "172bb8d8",
   "metadata": {},
   "outputs": [],
   "source": [
    "# Create Baseline RMSE of target median\n",
    "rmse_train = mean_squared_error(y_train.tax_value, y_train.median_pred) ** .5\n",
    "rmse_validate = mean_squared_error(y_validate.tax_value, y_validate.median_pred) ** .5"
   ]
  },
  {
   "cell_type": "code",
   "execution_count": null,
   "id": "fe4638c9",
   "metadata": {},
   "outputs": [],
   "source": [
    "# Show RMSE Score for train and validate\n",
    "print(\"RMSE using Median\\nTrain/In-Sample: \", round(rmse_train, 2), \n",
    "      \"\\nValidate/Out-of-Sample: \", round(rmse_validate, 2))"
   ]
  },
  {
   "cell_type": "markdown",
   "id": "0fb9c0d7",
   "metadata": {},
   "source": [
    "### Notes:\n",
    "- Mean Baseline RMSE (258K) is better than Median Baseline RMSE (261K)\n",
    "\n",
    "### Create Metric Holder"
   ]
  },
  {
   "cell_type": "code",
   "execution_count": null,
   "id": "c92f24a3",
   "metadata": {},
   "outputs": [],
   "source": [
    "metric_df = pd.DataFrame(data=[\n",
    "            {\n",
    "                'model': 'mean_baseline', \n",
    "                'RMSE_train': rmse_train,\n",
    "                'RMSE_validate': rmse_validate\n",
    "                }\n",
    "            ])"
   ]
  },
  {
   "cell_type": "code",
   "execution_count": null,
   "id": "332bcbd9",
   "metadata": {},
   "outputs": [],
   "source": [
    "metric_df"
   ]
  },
  {
   "cell_type": "markdown",
   "id": "5d55d87c",
   "metadata": {},
   "source": [
    "## Develop Models "
   ]
  },
  {
   "cell_type": "markdown",
   "id": "2bf3d272",
   "metadata": {},
   "source": [
    "### Create Model 1 - Linear Regression (OLS) "
   ]
  },
  {
   "cell_type": "code",
   "execution_count": null,
   "id": "7ca5cee6",
   "metadata": {},
   "outputs": [],
   "source": [
    "# create, fit, predict ols model\n",
    "ols = LinearRegression()\n",
    "ols.fit(X_train_scaled, y_train.tax_value)\n",
    "y_train['ols_pred'] = ols.predict(X_train_scaled)"
   ]
  },
  {
   "cell_type": "code",
   "execution_count": null,
   "id": "146622b3",
   "metadata": {},
   "outputs": [],
   "source": [
    "ols.coef_"
   ]
  },
  {
   "cell_type": "code",
   "execution_count": null,
   "id": "47b8833f",
   "metadata": {},
   "outputs": [],
   "source": [
    "# create rmse\n",
    "rmse_train = mean_squared_error(y_train.tax_value, y_train.ols_pred) ** .5\n",
    "\n",
    "# predict validate\n",
    "y_validate['ols_pred'] = ols.predict(X_validate_scaled)\n",
    "\n",
    "# evaluate rmse of train and validate\n",
    "rmse_validate = mean_squared_error(y_validate.tax_value, y_validate.ols_pred) ** .5"
   ]
  },
  {
   "cell_type": "code",
   "execution_count": null,
   "id": "204447ca",
   "metadata": {},
   "outputs": [],
   "source": [
    "print(\"RMSE for OLS using LinearRegression\\nTraining/In-Sample: \", rmse_train, \n",
    "      \"\\nValidation/Out-of-Sample: \", rmse_validate)"
   ]
  },
  {
   "cell_type": "code",
   "execution_count": null,
   "id": "4770045b",
   "metadata": {},
   "outputs": [],
   "source": [
    "# add to eval to metric holder\n",
    "metric_df = metric_df.append({\n",
    "    'model': 'ols_egressor', \n",
    "    'RMSE_train': rmse_train,\n",
    "    'RMSE_validate': rmse_validate,\n",
    "    }, ignore_index=True)"
   ]
  },
  {
   "cell_type": "code",
   "execution_count": null,
   "id": "363a6ef7",
   "metadata": {},
   "outputs": [],
   "source": [
    "metric_df"
   ]
  },
  {
   "cell_type": "markdown",
   "id": "34c16373",
   "metadata": {},
   "source": [
    "### Notes:\n",
    "- RMSE of OLS is better than baseline by 44K\n",
    "\n",
    "### Create Model 2: Lassolars with Alpha = .01"
   ]
  },
  {
   "cell_type": "code",
   "execution_count": null,
   "id": "cd65927c",
   "metadata": {},
   "outputs": [],
   "source": [
    "# create object of model\n",
    "lars = LassoLars(alpha=0.01)\n",
    "\n",
    "# fit object to train data. Specify y_train column since it converted to a dataframe\n",
    "lars.fit(X_train_scaled, y_train.tax_value)\n",
    "\n",
    "# predict on train\n",
    "y_train['lars_pred'] = lars.predict(X_train_scaled)\n",
    "\n",
    "# create rmse\n",
    "rmse_train = mean_squared_error(y_train.tax_value, y_train.lars_pred) ** .5\n",
    "\n",
    "# predict validate\n",
    "y_validate['lars_pred'] = lars.predict(X_validate_scaled)\n",
    "\n",
    "# create rmse\n",
    "rmse_validate = mean_squared_error(y_validate.tax_value, y_validate.lars_pred) ** .5"
   ]
  },
  {
   "cell_type": "code",
   "execution_count": null,
   "id": "83a6164c",
   "metadata": {},
   "outputs": [],
   "source": [
    "print(\"RMSE for Lasso + Lars\\nTraining/In-Sample: \", rmse_train, \n",
    "      \"\\nValidation/Out-of-Sample: \", rmse_validate,\n",
    "     \"\\nDifference: \", rmse_validate - rmse_train)"
   ]
  },
  {
   "cell_type": "code",
   "execution_count": null,
   "id": "7c56e77d",
   "metadata": {},
   "outputs": [],
   "source": [
    "lars.coef_"
   ]
  },
  {
   "cell_type": "code",
   "execution_count": null,
   "id": "01262ecc",
   "metadata": {},
   "outputs": [],
   "source": [
    "metric_df = metric_df.append({\n",
    "    'model': 'lasso_alpha_.01', \n",
    "    'RMSE_train': rmse_train,\n",
    "    'RMSE_validate': rmse_validate,\n",
    "    }, ignore_index=True)"
   ]
  },
  {
   "cell_type": "code",
   "execution_count": null,
   "id": "fda7d3bd",
   "metadata": {},
   "outputs": [],
   "source": [
    "metric_df"
   ]
  },
  {
   "cell_type": "markdown",
   "id": "d2734d64",
   "metadata": {},
   "source": [
    "### Notes:\n",
    "- Lassolars RMSE is the same as OLS\n",
    "\n",
    "### Create Model 3: TweedieRegressor (GLM) General Linear Model with Power  = 1 (Poisson) and Alpha=.01"
   ]
  },
  {
   "cell_type": "code",
   "execution_count": null,
   "id": "b1fbda4e",
   "metadata": {},
   "outputs": [],
   "source": [
    "# create the model object\n",
    "glm = TweedieRegressor(power=1, alpha=.01)\n",
    "\n",
    "\n",
    "# fit the model train data. Specify y_train columns since it was converted to dataframe \n",
    "glm.fit(X_train_scaled, y_train.tax_value)\n",
    "\n",
    "# predict train\n",
    "y_train['glm_pred'] = glm.predict(X_train_scaled)\n",
    "\n",
    "# create rmse\n",
    "rmse_train = mean_squared_error(y_train.tax_value, y_train.glm_pred) ** .5\n",
    "\n",
    "# predict validate\n",
    "y_validate['glm_pred'] = glm.predict(X_validate_scaled)\n",
    "\n",
    "# evaluate train and validate rmse\n",
    "rmse_validate = mean_squared_error(y_validate.tax_value, y_validate.glm_pred) ** .5\n",
    "\n",
    "print(\"RMSE for GLM using Tweedie, power=1 & alpha=.01\\nTraining/In-Sample: \", rmse_train, \n",
    "      \"\\nValidation/Out-of-Sample: \", rmse_validate)"
   ]
  },
  {
   "cell_type": "code",
   "execution_count": null,
   "id": "0e88db5e",
   "metadata": {},
   "outputs": [],
   "source": [
    "# added to metric holder\n",
    "metric_df = metric_df.append({\n",
    "    'model': 'glm_poisson_.01', \n",
    "    'RMSE_train': rmse_train,\n",
    "    'RMSE_validate': rmse_validate,\n",
    "    }, ignore_index=True)"
   ]
  },
  {
   "cell_type": "code",
   "execution_count": null,
   "id": "8278c560",
   "metadata": {},
   "outputs": [],
   "source": [
    "metric_df"
   ]
  },
  {
   "cell_type": "markdown",
   "id": "98d9cceb",
   "metadata": {},
   "source": [
    "### Notes:\n",
    "- glm rmse is the same as ols and lassolars\n",
    "\n",
    "### Create Model 4 - Polynomial Regression"
   ]
  },
  {
   "cell_type": "code",
   "execution_count": null,
   "id": "298a990b",
   "metadata": {},
   "outputs": [],
   "source": [
    "# create polynomial features\n",
    "pf = PolynomialFeatures(degree=2)\n",
    "\n",
    "# fit and transform X_train_scaled\n",
    "X_train_degree2 = pf.fit_transform(X_train_scaled)\n",
    "\n",
    "# transform X_validate_scaled & X_test_scaled to new sets\n",
    "X_validate_degree2 = pf.transform(X_validate_scaled)\n",
    "X_test_degree2 =  pf.transform(X_test_scaled)"
   ]
  },
  {
   "cell_type": "code",
   "execution_count": null,
   "id": "1ccc7b9f",
   "metadata": {},
   "outputs": [],
   "source": [
    "# create the model object\n",
    "lm2 = LinearRegression()\n",
    "\n",
    "# fit the model train data. Specify y_train columns since it was converted to dataframe  \n",
    "lm2.fit(X_train_degree2, y_train.tax_value)\n",
    "\n",
    "# predict train\n",
    "y_train['lm2_pred'] = lm2.predict(X_train_degree2)\n",
    "\n",
    "# create rmse\n",
    "rmse_train = mean_squared_error(y_train.tax_value, y_train.lm2_pred) ** .5\n",
    "\n",
    "# predict validate\n",
    "y_validate['lm2_pred'] = lm2.predict(X_validate_degree2)\n",
    "\n",
    "# evaluate rmse\n",
    "rmse_validate = mean_squared_error(y_validate.tax_value, y_validate.lm2_pred) ** .5"
   ]
  },
  {
   "cell_type": "code",
   "execution_count": null,
   "id": "847d802c",
   "metadata": {},
   "outputs": [],
   "source": [
    "print(\"RMSE for Polynomial Model, degrees=2\\nTraining/In-Sample: \", rmse_train, \n",
    "      \"\\nValidation/Out-of-Sample: \", rmse_validate)"
   ]
  },
  {
   "cell_type": "code",
   "execution_count": null,
   "id": "c733d016",
   "metadata": {},
   "outputs": [],
   "source": [
    "# add to metric holder\n",
    "metric_df = metric_df.append({\n",
    "    'model': 'PolynomialRegressor', \n",
    "    'RMSE_train': rmse_train,\n",
    "    'RMSE_validate': rmse_validate,\n",
    "    }, ignore_index=True)"
   ]
  },
  {
   "cell_type": "code",
   "execution_count": null,
   "id": "3bdf8777",
   "metadata": {},
   "outputs": [],
   "source": [
    "metric_df"
   ]
  },
  {
   "cell_type": "markdown",
   "id": "2c4008ff",
   "metadata": {},
   "source": [
    "### Notes:\n",
    "- Polynomial Regression RMSE is better than ols and lassolars by 8K\n",
    "\n",
    "### Create Model 5 - New LassoLars with Alpha .0001\n",
    "- I changed alpha to .01 and RMSE didn't change"
   ]
  },
  {
   "cell_type": "code",
   "execution_count": null,
   "id": "1206aa8e",
   "metadata": {},
   "outputs": [],
   "source": [
    "# create object of model\n",
    "lars = LassoLars(alpha=0.0001)\n",
    "\n",
    "# fit object to train data. Specify y_train column since it converted to a dataframe\n",
    "lars.fit(X_train_scaled, y_train.tax_value)\n",
    "\n",
    "# predict on train\n",
    "y_train['lars_pred_.0001'] = lars.predict(X_train_scaled)\n",
    "\n",
    "# create rmse\n",
    "rmse_train = mean_squared_error(y_train.tax_value, y_train['lars_pred_.0001']) ** .5\n",
    "\n",
    "# predict validate\n",
    "y_validate['lars_pred_.0001'] = lars.predict(X_validate_scaled)\n",
    "\n",
    "# create rmse\n",
    "rmse_validate = mean_squared_error(y_validate.tax_value, y_validate['lars_pred_.0001']) ** .5\n",
    "\n",
    "print(\"RMSE for Lasso + Lars, alpha=.0001\\nTraining/In-Sample: \", rmse_train, \n",
    "      \"\\nValidation/Out-of-Sample: \", rmse_validate,\n",
    "     \"\\nDifference: \", rmse_validate - rmse_train)\n",
    "\n",
    "# add to metric holder\n",
    "metric_df = metric_df.append({\n",
    "    'model': 'LassoLars_.0001', \n",
    "    'RMSE_train': rmse_train,\n",
    "    'RMSE_validate': rmse_validate,\n",
    "    }, ignore_index=True)"
   ]
  },
  {
   "cell_type": "code",
   "execution_count": null,
   "id": "f843d3e8",
   "metadata": {},
   "outputs": [],
   "source": [
    "metric_df"
   ]
  },
  {
   "cell_type": "markdown",
   "id": "66abb50f",
   "metadata": {},
   "source": [
    "# Notes:\n",
    "- Still Around 230K\n",
    "\n",
    "### Create Model 6 - TweedieRegressor with Alpha = .0001 and Power = 1 (Poisson)"
   ]
  },
  {
   "cell_type": "code",
   "execution_count": null,
   "id": "de0c6f9e",
   "metadata": {},
   "outputs": [],
   "source": [
    "# create the model object\n",
    "glm = TweedieRegressor(power=1, alpha=.0001)\n",
    "\n",
    "\n",
    "# fit the model train data. Specify y_train columns since it was converted to dataframe \n",
    "glm.fit(X_train_scaled, y_train.tax_value)\n",
    "\n",
    "# predict train\n",
    "y_train['glm_pred_.0001'] = glm.predict(X_train_scaled)\n",
    "\n",
    "# create rmse\n",
    "rmse_train = mean_squared_error(y_train.tax_value, y_train['glm_pred_.0001']) ** .5\n",
    "\n",
    "# predict validate\n",
    "y_validate['glm_pred_.0001'] = glm.predict(X_validate_scaled)\n",
    "\n",
    "# evaluate train and validate rmse\n",
    "rmse_validate = mean_squared_error(y_validate.tax_value, y_validate['glm_pred_.0001']) ** .5\n",
    "\n",
    "print(\"RMSE for GLM using Tweedie, power=1 & alpha=.0001\\nTraining/In-Sample: \", rmse_train, \n",
    "      \"\\nValidation/Out-of-Sample: \", rmse_validate)\n",
    "\n",
    "# add to metric holder\n",
    "metric_df = metric_df.append({\n",
    "    'model': 'glm_poisson_.0001', \n",
    "    'RMSE_train': rmse_train,\n",
    "    'RMSE_validate': rmse_validate,\n",
    "    }, ignore_index=True)"
   ]
  },
  {
   "cell_type": "code",
   "execution_count": null,
   "id": "d1dfcf01",
   "metadata": {},
   "outputs": [],
   "source": [
    "metric_df"
   ]
  },
  {
   "cell_type": "markdown",
   "id": "0c4e85c1",
   "metadata": {},
   "source": [
    "### Notes:\n",
    "- Polynomial Regression performs the best at 209K, around 8K better\n",
    "- I experimented with reducing features: removed fips, then removed year_built with only change to Polynomial Regressor bringing it closer to others.Finally added features: lot_size, lat/long, pools.\n",
    "- GLM scored the worst at 266K, cose to baseline 270K, DO NOT USE (first iteration)\n",
    "- (2nd Run) All except PolyReg was the same scored at 217K\n",
    "- OLS and LassoLars scored around 230K (first run)"
   ]
  },
  {
   "cell_type": "markdown",
   "id": "1e913a75",
   "metadata": {},
   "source": [
    "## <font color = 'red' > Evaluate\n",
    "    \n",
    "### Plotting Actual vs Predicted Values"
   ]
  },
  {
   "cell_type": "code",
   "execution_count": null,
   "id": "c77ccc2d",
   "metadata": {},
   "outputs": [],
   "source": [
    "# y_validate.head()\n",
    "plt.figure(figsize=(16,8))\n",
    "plt.plot(y_validate.tax_value, y_validate.mean_pred, alpha=.5, color=\"gray\", label='_nolegend_')\n",
    "plt.annotate(\"Baseline: Predict Using Mean\", (16, 9.5))\n",
    "plt.plot(y_validate.tax_value, y_validate.tax_value, alpha=.5, color=\"blue\", label='_nolegend_')\n",
    "plt.annotate(\"The Ideal Line: Predicted = Actual\", (.5, 3.5), rotation=20)\n",
    "\n",
    "plt.scatter(y_validate.tax_value, y_validate.ols_pred, \n",
    "            alpha=.5, color=\"red\", s=100, label=\"Model: LinearRegression\")\n",
    "plt.scatter(y_validate.tax_value, y_validate.glm_pred, \n",
    "            alpha=.5, color=\"yellow\", s=100, label=\"Model: TweedieRegressor\")\n",
    "plt.scatter(y_validate.tax_value, y_validate.lm2_pred, \n",
    "            alpha=.5, color=\"green\", s=100, label=\"Model 2nd degree Polynomial\")\n",
    "plt.legend()\n",
    "plt.xlabel(\"Actual Tax Value\")\n",
    "plt.ylabel(\"Predicted Tax Value\")\n",
    "plt.title(\"Where are predictions more extreme? More modest?\")\n",
    "# plt.annotate(\"The polynomial model appears to overreact to noise\", (2.0, -10))\n",
    "# plt.annotate(\"The OLS model (LinearRegression)\\n appears to be most consistent\", (15.5, 3))\n",
    "plt.show()"
   ]
  },
  {
   "cell_type": "markdown",
   "id": "e853e25e",
   "metadata": {},
   "source": [
    "### Notes:\n",
    "- ????\n",
    "\n",
    "### Residual Plots: Plotting the Errors in Predictions"
   ]
  },
  {
   "cell_type": "code",
   "execution_count": null,
   "id": "bbed9e9b",
   "metadata": {},
   "outputs": [],
   "source": [
    "# y_validate.head()\n",
    "plt.figure(figsize=(16,8))\n",
    "plt.axhline(label=\"No Error\")\n",
    "plt.scatter(y_validate.tax_value, y_validate.ols_pred - y_validate.tax_value , \n",
    "            alpha=.5, color=\"red\", s=100, label=\"Model: LinearRegression\")\n",
    "plt.scatter(y_validate.tax_value, y_validate.glm_pred - y_validate.tax_value, \n",
    "            alpha=.5, color=\"yellow\", s=100, label=\"Model: TweedieRegressor\")\n",
    "plt.scatter(y_validate.tax_value, y_validate.lm2_pred - y_validate.tax_value, \n",
    "            alpha=.5, color=\"green\", s=100, label=\"Model 2nd degree Polynomial\")\n",
    "plt.legend()\n",
    "plt.xlabel(\"Actual Tax Value\")\n",
    "plt.ylabel(\"Residual/Error: Predicted Tax Value - Actual Tax Value\")\n",
    "# plt.title(\"Do the size of errors change as the actual value changes?\")\n",
    "# plt.annotate(\"The polynomial model appears to overreact to noise\", (2.0, -10))\n",
    "# plt.annotate(\"The OLS model (LinearRegression)\\n appears to be most consistent\", (15.5, 3))\n",
    "plt.show()"
   ]
  },
  {
   "cell_type": "markdown",
   "id": "e47d7681",
   "metadata": {},
   "source": [
    "### Notes:\n",
    "- ???\n",
    "\n",
    "### Histograms of Actuals vs Predicted Values"
   ]
  },
  {
   "cell_type": "code",
   "execution_count": null,
   "id": "f3510ce0",
   "metadata": {},
   "outputs": [],
   "source": [
    "# plot to visualize actual vs predicted. \n",
    "plt.figure(figsize=(16,8))\n",
    "plt.hist(y_validate.tax_value, color='blue', alpha=.5, label=\"Actual Tax Values\")\n",
    "plt.hist(y_validate.ols_pred, color='red', alpha=.5, label=\"Model: LinearRegression\")\n",
    "plt.hist(y_validate.glm_pred, color='yellow', alpha=.5, label=\"Model: TweedieRegressor\")\n",
    "plt.hist(y_validate.lm2_pred, color='green', alpha=.5, label=\"Model 2nd degree Polynomial\")\n",
    "plt.xlabel(\"Tax Values\")\n",
    "plt.ylabel(\"Number of Homes \")\n",
    "plt.title(\"Comparing the Distribution of Actual Tax Values to Distributions of Predicted Tax Values for the Top Models\")\n",
    "plt.legend()\n",
    "plt.show()"
   ]
  },
  {
   "cell_type": "markdown",
   "id": "2067f7ea",
   "metadata": {},
   "source": [
    "### Notes:\n",
    "- Models capture most of actual values distribution but miss the lower valued homes\n",
    "\n",
    "## Model Selection and Out-of-Sample Evaluatoin"
   ]
  },
  {
   "cell_type": "code",
   "execution_count": null,
   "id": "3093c4e2",
   "metadata": {},
   "outputs": [],
   "source": [
    "# predict train\n",
    "y_test['lm2_pred'] = lm2.predict(X_test_degree2)\n",
    "\n",
    "# create rmse\n",
    "rmse_test = mean_squared_error(y_test.tax_value, y_test.lm2_pred) ** .5\n",
    "\n",
    "print(\"RMSE for Polynomial Model, degrees=2\\nTest/Out-of-Sample: \", rmse_test)# add to metric holder"
   ]
  },
  {
   "cell_type": "code",
   "execution_count": null,
   "id": "b2316652",
   "metadata": {},
   "outputs": [],
   "source": [
    "metric_df"
   ]
  },
  {
   "cell_type": "markdown",
   "id": "616e1398",
   "metadata": {},
   "source": [
    "### Notes:\n",
    "- Polynomial Model RMSE is 18.6M indicating wrong model to use and/or overfit\n",
    "\n",
    "### Check with OLS"
   ]
  },
  {
   "cell_type": "code",
   "execution_count": null,
   "id": "02e9a8f1",
   "metadata": {},
   "outputs": [],
   "source": [
    "# predict test\n",
    "y_test['ols_pred'] = ols.predict(X_test_scaled)\n",
    "\n",
    "# evaluate rmse of train and validate\n",
    "rmse_test = mean_squared_error(y_test.tax_value, y_test.ols_pred) ** (1/2)\n",
    "\n",
    "print(\"RMSE for OLS using LinearRegression\\nTraining/In-Sample: \", rmse_test)"
   ]
  },
  {
   "cell_type": "markdown",
   "id": "1e02e590",
   "metadata": {},
   "source": [
    "### Note:\n",
    "- OLS performed worse than baseline on test data set"
   ]
  },
  {
   "cell_type": "markdown",
   "id": "81bd3584",
   "metadata": {},
   "source": [
    "# <font color = 'red'> Conclusion"
   ]
  },
  {
   "cell_type": "markdown",
   "id": "68596f8b",
   "metadata": {},
   "source": [
    "## Summary\n",
    "- \n",
    "\n",
    "## Recommendations\n",
    "- ???\n",
    "\n",
    "## Conclusion\n",
    "- ???"
   ]
  },
  {
   "cell_type": "markdown",
   "id": "d9eb8c04",
   "metadata": {},
   "source": [
    "### Project Description\n",
    "\n",
    "- A model that predicts property tax assessed values of single family properties based on 2017 transactions.\n",
    "- Identify ways to make a better model for Zillow.\n",
    "- Create new features out of existing features.\n",
    "- Try non-linear regression model or try a model for each count\n",
    "\n",
    "Deliver:\n",
    "1. Github Repo\n",
    "    - README.md\n",
    "    - Final Report\n",
    "    - Working Notebooks\n",
    "    - Acquire and Prepare Modules\n",
    "    - Misc Artifacts\n",
    "1. Regression Model (Linear or Non-Linear)\n",
    "2. Final Notebook with Recommendation\n",
    "    - 4 Visuals, 2 with stats tests\n",
    "        - Data Context of Target Variable (Distribution of values)\n",
    "    - 3 Best Models (show steps/code to fit/eval/select)\n",
    "    - Visual of how best Model performed\n",
    "3. Working Notebook:\n",
    "    - Reproducible comments\n",
    "    - Exploration with at least two stats test during exploration\n",
    "5. Presentation\n",
    "    - Findings\n",
    "    - Methodologies\n",
    "    - Conclusions\n",
    "\n",
    "### Initial Questions\n",
    "\n",
    "- What are the transactions are in 2017?\n",
    "- What states and counties are the properties located in?\n",
    "- What is the tax rate per county or fips? (might have to combine columns to calcualate)\n",
    "- What is the distribution of tax rates for each county?\n",
    "- What is the distribution of taxes across fips?\n",
    "- What are the drivers of single family property values?\n",
    "- Why do some properties have a much higher value than others when they are located so close to each other?\n",
    "- Why are some properties valued so differently from others when they have nearly the same physical attributes but only differ in location? \n",
    "- Is having 1 bathroom worse than having 2 bedrooms?"
   ]
  },
  {
   "cell_type": "markdown",
   "id": "279afc77",
   "metadata": {},
   "source": [
    "## Live Presentation\n",
    "\n",
    "- intro (live)\n",
    "- audience & setting  (live)\n",
    "- content (live)\n",
    "- Verbal Conclusion (findings, next steps, recommendations)  (live) \n",
    "- time (live) "
   ]
  },
  {
   "cell_type": "code",
   "execution_count": null,
   "id": "044f1bbc",
   "metadata": {},
   "outputs": [],
   "source": []
  },
  {
   "cell_type": "markdown",
   "id": "f97f62b0",
   "metadata": {},
   "source": [
    "## Deliver Predictions\n",
    "- Deliver predictions (.csv) "
   ]
  }
 ],
 "metadata": {
  "kernelspec": {
   "display_name": "Python 3",
   "language": "python",
   "name": "python3"
  },
  "language_info": {
   "codemirror_mode": {
    "name": "ipython",
    "version": 3
   },
   "file_extension": ".py",
   "mimetype": "text/x-python",
   "name": "python",
   "nbconvert_exporter": "python",
   "pygments_lexer": "ipython3",
   "version": "3.8.8"
  }
 },
 "nbformat": 4,
 "nbformat_minor": 5
}
