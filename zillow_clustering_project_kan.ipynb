{
 "cells": [
  {
   "cell_type": "markdown",
   "id": "0c03120d",
   "metadata": {},
   "source": [
    "# <font color ='blue'>Zillow Clustering Project - Working Copy\n",
    "    \n",
    "<img src=\"zillow_logo.png\" alt=\"Zillow Logo\" title=\"Zillow Logo\" width=\"300\" height=\"100\" align=\"right\"/>\n",
    "    \n",
    "    \n",
    "# <p style=\"font-size:50px\" align=\"center\">Zestimate Error</p> <sub>By Kaniela Denis - 13 Dec 2021</sub>"
   ]
  },
  {
   "cell_type": "code",
   "execution_count": 1,
   "id": "a41407df",
   "metadata": {},
   "outputs": [],
   "source": [
    "# import pandas and numpy to start coding\n",
    "import pandas as pd\n",
    "import numpy as np\n",
    "import matplotlib.pyplot as plt\n",
    "import seaborn as sns\n",
    "import scipy.stats as stats\n",
    "\n",
    "# prep methods\n",
    "from sklearn.model_selection import train_test_split\n",
    "\n",
    "# Feature Engineering methods\n",
    "import sklearn.linear_model\n",
    "import sklearn.feature_selection\n",
    "import sklearn.preprocessing\n",
    "\n",
    "# Modeling methods\n",
    "from sklearn.metrics import mean_squared_error\n",
    "from sklearn.linear_model import LinearRegression, LassoLars, TweedieRegressor\n",
    "from sklearn.preprocessing import PolynomialFeatures\n",
    "from sklearn.metrics import explained_variance_score\n",
    "\n",
    "import warnings\n",
    "warnings.filterwarnings(\"ignore\")"
   ]
  },
  {
   "cell_type": "markdown",
   "id": "088eb263",
   "metadata": {},
   "source": [
    "<hr style=\"border:2px solid blue\"> </hr>"
   ]
  },
  {
   "cell_type": "markdown",
   "id": "9adf48be",
   "metadata": {},
   "source": [
    "# <font color = 'red'>Planning"
   ]
  },
  {
   "cell_type": "markdown",
   "id": "02ccaade",
   "metadata": {},
   "source": [
    "### Project Goals\n",
    "\n",
    "- Predict logerror of Zestimate\n",
    "- Discover the drivers of the error in the Zcestimate\n",
    "- Compare four different clustering models\n",
    "- Conclude if clustering helps with discovering drivers\n",
    "- \n",
    "\n",
    "\n",
    "- A model that predicts property tax assessed values of single family properties based on 2017 transactions.\n",
    "- Identify ways to make a better model for Zillow.\n",
    "- Create new features out of existing features.\n",
    "- Try non-linear regression model or try a model for each county.\n",
    "\n",
    "\n",
    "### Project Description\n",
    "\n",
    "Deliver:\n",
    "1. Github Repo\n",
    "    - README.md\n",
    "    - Final Report\n",
    "    - Working Notebook\n",
    "    - Modules (Acquire, Prepare, Model)\n",
    "    - Misc Artifacts\n",
    "2. Further Requirements:\n",
    "    - Aquistion:\n",
    "        - SQL Query\n",
    "    - Prep:\n",
    "        - Columns have appropriate Data Types\n",
    "        - Missing values and Outliers are investigated/handled\n",
    "    - Explore:\n",
    "        - Use vizulization and statistical testing for target/independ variable interations\n",
    "        - Clustering is used to explore the data. Minumum of 3 combinations of features tried. A conclusion is made on whether clustering helped, supported by visualizations and statistical testing.\n",
    "    - Modeling: \n",
    "        - Minimum 4 different models created and performance compared\n",
    "3. Final Notebook with Recommendation\n",
    "    - 4 Visuals, 2 with stats tests\n",
    "        - Data Context of Target Variable (Distribution of values)\n",
    "    - 3 Best Models (show steps/code to fit/eval/select)\n",
    "    - Visual of how best Model performed\n",
    "4. Working Notebook:\n",
    "    - Reproducible comments\n",
    "    - Exploration with at least two stats test during exploration\n",
    "5. Presentation\n",
    "    - Findings\n",
    "    - Methodologies\n",
    "    - Conclusions\n",
    "\n",
    "### Initial Questions\n",
    "\n",
    "- What are the transactions are in 2017?\n",
    "- What states and counties are the properties located in?\n",
    "- What is the tax rate per county or fips? (might have to combine columns to calcualate)\n",
    "- What is the distribution of tax rates for each county?\n",
    "- What is the distribution of taxes across fips?\n",
    "- What are the drivers of single family property values?\n",
    "- Why do some properties have a much higher value than others when they are located so close to each other?\n",
    "- Why are some properties valued so differently from others when they have nearly the same physical attributes but only differ in location? \n",
    "- Is having 1 bathroom worse than having 2 bedrooms?"
   ]
  },
  {
   "cell_type": "markdown",
   "id": "8ff9f968",
   "metadata": {},
   "source": [
    "### Data Dictionary (Add to README)"
   ]
  },
  {
   "cell_type": "code",
   "execution_count": 2,
   "id": "784d3567",
   "metadata": {},
   "outputs": [
    {
     "data": {
      "text/html": [
       "<div>\n",
       "<style scoped>\n",
       "    .dataframe tbody tr th:only-of-type {\n",
       "        vertical-align: middle;\n",
       "    }\n",
       "\n",
       "    .dataframe tbody tr th {\n",
       "        vertical-align: top;\n",
       "    }\n",
       "\n",
       "    .dataframe thead th {\n",
       "        text-align: right;\n",
       "    }\n",
       "</style>\n",
       "<table border=\"1\" class=\"dataframe\">\n",
       "  <thead>\n",
       "    <tr style=\"text-align: right;\">\n",
       "      <th></th>\n",
       "      <th>Feature</th>\n",
       "      <th>Description</th>\n",
       "    </tr>\n",
       "  </thead>\n",
       "  <tbody>\n",
       "    <tr>\n",
       "      <th>0</th>\n",
       "      <td>'airconditioningtypeid'</td>\n",
       "      <td>Type of cooling system present in the home (i...</td>\n",
       "    </tr>\n",
       "    <tr>\n",
       "      <th>1</th>\n",
       "      <td>'architecturalstyletypeid'</td>\n",
       "      <td>Architectural style of the home (i.e. ranch, ...</td>\n",
       "    </tr>\n",
       "    <tr>\n",
       "      <th>2</th>\n",
       "      <td>'basementsqft'</td>\n",
       "      <td>Finished living area below or partially below...</td>\n",
       "    </tr>\n",
       "    <tr>\n",
       "      <th>3</th>\n",
       "      <td>'bathroomcnt'</td>\n",
       "      <td>Number of bathrooms in home including fractio...</td>\n",
       "    </tr>\n",
       "    <tr>\n",
       "      <th>4</th>\n",
       "      <td>'bedroomcnt'</td>\n",
       "      <td>Number of bedrooms in home</td>\n",
       "    </tr>\n",
       "  </tbody>\n",
       "</table>\n",
       "</div>"
      ],
      "text/plain": [
       "                      Feature  \\\n",
       "0     'airconditioningtypeid'   \n",
       "1  'architecturalstyletypeid'   \n",
       "2              'basementsqft'   \n",
       "3               'bathroomcnt'   \n",
       "4                'bedroomcnt'   \n",
       "\n",
       "                                         Description  \n",
       "0   Type of cooling system present in the home (i...  \n",
       "1   Architectural style of the home (i.e. ranch, ...  \n",
       "2   Finished living area below or partially below...  \n",
       "3   Number of bathrooms in home including fractio...  \n",
       "4                        Number of bedrooms in home   "
      ]
     },
     "execution_count": 2,
     "metadata": {},
     "output_type": "execute_result"
    }
   ],
   "source": [
    "# Read Data Dictionary from working directory\n",
    "dd = pd.read_excel('zillow_data_dictionary.xlsx')\n",
    "dd.head()"
   ]
  },
  {
   "cell_type": "code",
   "execution_count": 3,
   "id": "9fb11feb",
   "metadata": {},
   "outputs": [],
   "source": [
    "## References are available on my GitHub "
   ]
  },
  {
   "cell_type": "code",
   "execution_count": 4,
   "id": "0bb47697",
   "metadata": {},
   "outputs": [],
   "source": [
    "#[click me](https://github.com/kanieladenis/zillow_regression_project)"
   ]
  },
  {
   "cell_type": "markdown",
   "id": "9606164b",
   "metadata": {},
   "source": [
    "# <font color = 'red'> Acquisition (Get and Clean Data)"
   ]
  },
  {
   "cell_type": "markdown",
   "id": "16ba7abd",
   "metadata": {},
   "source": [
    "## <font color = 'red'>Get Data"
   ]
  },
  {
   "cell_type": "markdown",
   "id": "0b779f63",
   "metadata": {},
   "source": [
    "- Added env.py to the repo .gitignore file so env.py won't be pushed to github\n",
    "- Created an env file that contains my username, password, and host address fo the MySQL Server."
   ]
  },
  {
   "cell_type": "code",
   "execution_count": 5,
   "id": "349acee9",
   "metadata": {},
   "outputs": [],
   "source": [
    "# import env file for hostname, username, password, and db_name\n",
    "from env import host, user, password, db_name"
   ]
  },
  {
   "cell_type": "code",
   "execution_count": 6,
   "id": "3708fdfa",
   "metadata": {},
   "outputs": [],
   "source": [
    "# Pass env file authentication to container 'url'\n",
    "url = f'mysql+pymysql://{user}:{password}@{host}/{db_name}'"
   ]
  },
  {
   "cell_type": "markdown",
   "id": "04d5e784",
   "metadata": {},
   "source": [
    "### Pull records of houses with transactions from 2017"
   ]
  },
  {
   "cell_type": "code",
   "execution_count": 7,
   "id": "6b3aa512",
   "metadata": {},
   "outputs": [],
   "source": [
    "# define sql search for all records from all tables\n",
    "sql = \"\"\"\n",
    "SELECT prop.*,\n",
    "       pred.logerror, \n",
    "       pred.transactiondate, \n",
    "       air.airconditioningdesc, \n",
    "       arch.architecturalstyledesc, \n",
    "       build.buildingclassdesc, \n",
    "       heat.heatingorsystemdesc, \n",
    "       landuse.propertylandusedesc, \n",
    "       story.storydesc, \n",
    "       construct.typeconstructiondesc \n",
    "FROM   properties_2017 prop  \n",
    "JOIN (SELECT parcelid,\n",
    "                  logerror,\n",
    "                  Max(transactiondate) transactiondate \n",
    "           FROM   predictions_2017 \n",
    "           GROUP  BY parcelid, logerror) pred\n",
    "       USING (parcelid)\n",
    "JOIN propertylandusetype USING (propertylandusetypeid)\n",
    "LEFT JOIN airconditioningtype air USING (airconditioningtypeid) \n",
    "LEFT JOIN architecturalstyletype arch USING (architecturalstyletypeid) \n",
    "LEFT JOIN buildingclasstype build USING (buildingclasstypeid) \n",
    "LEFT JOIN heatingorsystemtype heat USING (heatingorsystemtypeid) \n",
    "LEFT JOIN propertylandusetype landuse USING (propertylandusetypeid) \n",
    "LEFT JOIN storytype story USING (storytypeid) \n",
    "LEFT JOIN typeconstructiontype construct USING (typeconstructiontypeid) \n",
    "WHERE  prop.latitude IS NOT NULL \n",
    "AND prop.longitude IS NOT NULL\n",
    "AND transactiondate < '2018-01-01' \n",
    "AND propertylandusetypeid = 261 \n",
    "\"\"\""
   ]
  },
  {
   "cell_type": "markdown",
   "id": "c2dec85b",
   "metadata": {},
   "source": [
    "### Note:\n",
    "- ????\n",
    "\n",
    "### Create Dataframe"
   ]
  },
  {
   "cell_type": "code",
   "execution_count": 8,
   "id": "45507e4d",
   "metadata": {},
   "outputs": [
    {
     "data": {
      "text/html": [
       "<div>\n",
       "<style scoped>\n",
       "    .dataframe tbody tr th:only-of-type {\n",
       "        vertical-align: middle;\n",
       "    }\n",
       "\n",
       "    .dataframe tbody tr th {\n",
       "        vertical-align: top;\n",
       "    }\n",
       "\n",
       "    .dataframe thead th {\n",
       "        text-align: right;\n",
       "    }\n",
       "</style>\n",
       "<table border=\"1\" class=\"dataframe\">\n",
       "  <thead>\n",
       "    <tr style=\"text-align: right;\">\n",
       "      <th></th>\n",
       "      <th>id</th>\n",
       "      <th>parcelid</th>\n",
       "      <th>airconditioningtypeid</th>\n",
       "      <th>architecturalstyletypeid</th>\n",
       "      <th>basementsqft</th>\n",
       "      <th>bathroomcnt</th>\n",
       "      <th>bedroomcnt</th>\n",
       "      <th>buildingclasstypeid</th>\n",
       "      <th>buildingqualitytypeid</th>\n",
       "      <th>calculatedbathnbr</th>\n",
       "      <th>...</th>\n",
       "      <th>censustractandblock</th>\n",
       "      <th>logerror</th>\n",
       "      <th>transactiondate</th>\n",
       "      <th>airconditioningdesc</th>\n",
       "      <th>architecturalstyledesc</th>\n",
       "      <th>buildingclassdesc</th>\n",
       "      <th>heatingorsystemdesc</th>\n",
       "      <th>propertylandusedesc</th>\n",
       "      <th>storydesc</th>\n",
       "      <th>typeconstructiondesc</th>\n",
       "    </tr>\n",
       "  </thead>\n",
       "  <tbody>\n",
       "    <tr>\n",
       "      <th>0</th>\n",
       "      <td>1727539</td>\n",
       "      <td>14297519</td>\n",
       "      <td>NaN</td>\n",
       "      <td>NaN</td>\n",
       "      <td>NaN</td>\n",
       "      <td>3.5</td>\n",
       "      <td>4.0</td>\n",
       "      <td>NaN</td>\n",
       "      <td>NaN</td>\n",
       "      <td>3.5</td>\n",
       "      <td>...</td>\n",
       "      <td>6.059063e+13</td>\n",
       "      <td>0.025595</td>\n",
       "      <td>2017-01-01</td>\n",
       "      <td>NaN</td>\n",
       "      <td>NaN</td>\n",
       "      <td>NaN</td>\n",
       "      <td>NaN</td>\n",
       "      <td>Single Family Residential</td>\n",
       "      <td>NaN</td>\n",
       "      <td>NaN</td>\n",
       "    </tr>\n",
       "    <tr>\n",
       "      <th>1</th>\n",
       "      <td>1387261</td>\n",
       "      <td>17052889</td>\n",
       "      <td>NaN</td>\n",
       "      <td>NaN</td>\n",
       "      <td>NaN</td>\n",
       "      <td>1.0</td>\n",
       "      <td>2.0</td>\n",
       "      <td>NaN</td>\n",
       "      <td>NaN</td>\n",
       "      <td>1.0</td>\n",
       "      <td>...</td>\n",
       "      <td>6.111001e+13</td>\n",
       "      <td>0.055619</td>\n",
       "      <td>2017-01-01</td>\n",
       "      <td>NaN</td>\n",
       "      <td>NaN</td>\n",
       "      <td>NaN</td>\n",
       "      <td>NaN</td>\n",
       "      <td>Single Family Residential</td>\n",
       "      <td>NaN</td>\n",
       "      <td>NaN</td>\n",
       "    </tr>\n",
       "    <tr>\n",
       "      <th>2</th>\n",
       "      <td>11677</td>\n",
       "      <td>14186244</td>\n",
       "      <td>NaN</td>\n",
       "      <td>NaN</td>\n",
       "      <td>NaN</td>\n",
       "      <td>2.0</td>\n",
       "      <td>3.0</td>\n",
       "      <td>NaN</td>\n",
       "      <td>NaN</td>\n",
       "      <td>2.0</td>\n",
       "      <td>...</td>\n",
       "      <td>6.059022e+13</td>\n",
       "      <td>0.005383</td>\n",
       "      <td>2017-01-01</td>\n",
       "      <td>NaN</td>\n",
       "      <td>NaN</td>\n",
       "      <td>NaN</td>\n",
       "      <td>NaN</td>\n",
       "      <td>Single Family Residential</td>\n",
       "      <td>NaN</td>\n",
       "      <td>NaN</td>\n",
       "    </tr>\n",
       "    <tr>\n",
       "      <th>3</th>\n",
       "      <td>2288172</td>\n",
       "      <td>12177905</td>\n",
       "      <td>NaN</td>\n",
       "      <td>NaN</td>\n",
       "      <td>NaN</td>\n",
       "      <td>3.0</td>\n",
       "      <td>4.0</td>\n",
       "      <td>NaN</td>\n",
       "      <td>8.0</td>\n",
       "      <td>3.0</td>\n",
       "      <td>...</td>\n",
       "      <td>6.037300e+13</td>\n",
       "      <td>-0.103410</td>\n",
       "      <td>2017-01-01</td>\n",
       "      <td>NaN</td>\n",
       "      <td>NaN</td>\n",
       "      <td>NaN</td>\n",
       "      <td>Central</td>\n",
       "      <td>Single Family Residential</td>\n",
       "      <td>NaN</td>\n",
       "      <td>NaN</td>\n",
       "    </tr>\n",
       "    <tr>\n",
       "      <th>4</th>\n",
       "      <td>781532</td>\n",
       "      <td>12095076</td>\n",
       "      <td>1.0</td>\n",
       "      <td>NaN</td>\n",
       "      <td>NaN</td>\n",
       "      <td>3.0</td>\n",
       "      <td>4.0</td>\n",
       "      <td>NaN</td>\n",
       "      <td>9.0</td>\n",
       "      <td>3.0</td>\n",
       "      <td>...</td>\n",
       "      <td>6.037461e+13</td>\n",
       "      <td>-0.001011</td>\n",
       "      <td>2017-01-01</td>\n",
       "      <td>Central</td>\n",
       "      <td>NaN</td>\n",
       "      <td>NaN</td>\n",
       "      <td>Central</td>\n",
       "      <td>Single Family Residential</td>\n",
       "      <td>NaN</td>\n",
       "      <td>NaN</td>\n",
       "    </tr>\n",
       "  </tbody>\n",
       "</table>\n",
       "<p>5 rows × 68 columns</p>\n",
       "</div>"
      ],
      "text/plain": [
       "        id  parcelid  airconditioningtypeid  architecturalstyletypeid  \\\n",
       "0  1727539  14297519                    NaN                       NaN   \n",
       "1  1387261  17052889                    NaN                       NaN   \n",
       "2    11677  14186244                    NaN                       NaN   \n",
       "3  2288172  12177905                    NaN                       NaN   \n",
       "4   781532  12095076                    1.0                       NaN   \n",
       "\n",
       "   basementsqft  bathroomcnt  bedroomcnt  buildingclasstypeid  \\\n",
       "0           NaN          3.5         4.0                  NaN   \n",
       "1           NaN          1.0         2.0                  NaN   \n",
       "2           NaN          2.0         3.0                  NaN   \n",
       "3           NaN          3.0         4.0                  NaN   \n",
       "4           NaN          3.0         4.0                  NaN   \n",
       "\n",
       "   buildingqualitytypeid  calculatedbathnbr  ...  censustractandblock  \\\n",
       "0                    NaN                3.5  ...         6.059063e+13   \n",
       "1                    NaN                1.0  ...         6.111001e+13   \n",
       "2                    NaN                2.0  ...         6.059022e+13   \n",
       "3                    8.0                3.0  ...         6.037300e+13   \n",
       "4                    9.0                3.0  ...         6.037461e+13   \n",
       "\n",
       "   logerror  transactiondate  airconditioningdesc  architecturalstyledesc  \\\n",
       "0  0.025595       2017-01-01                  NaN                     NaN   \n",
       "1  0.055619       2017-01-01                  NaN                     NaN   \n",
       "2  0.005383       2017-01-01                  NaN                     NaN   \n",
       "3 -0.103410       2017-01-01                  NaN                     NaN   \n",
       "4 -0.001011       2017-01-01              Central                     NaN   \n",
       "\n",
       "   buildingclassdesc  heatingorsystemdesc        propertylandusedesc  \\\n",
       "0                NaN                  NaN  Single Family Residential   \n",
       "1                NaN                  NaN  Single Family Residential   \n",
       "2                NaN                  NaN  Single Family Residential   \n",
       "3                NaN              Central  Single Family Residential   \n",
       "4                NaN              Central  Single Family Residential   \n",
       "\n",
       "   storydesc  typeconstructiondesc  \n",
       "0        NaN                   NaN  \n",
       "1        NaN                   NaN  \n",
       "2        NaN                   NaN  \n",
       "3        NaN                   NaN  \n",
       "4        NaN                   NaN  \n",
       "\n",
       "[5 rows x 68 columns]"
      ]
     },
     "execution_count": 8,
     "metadata": {},
     "output_type": "execute_result"
    }
   ],
   "source": [
    "# load zillow data from saved csv or pull from sql server and save to csv\n",
    "import os\n",
    "file = 'zillow_data.csv'\n",
    "if os.path.isfile(file):\n",
    "    df = pd.read_csv(file, index_col=0)\n",
    "else:\n",
    "    df = pd.read_sql(sql,url)\n",
    "    df.to_csv(file)\n",
    "df.head()"
   ]
  },
  {
   "cell_type": "markdown",
   "id": "5e2764fd",
   "metadata": {},
   "source": [
    "### Show df info()"
   ]
  },
  {
   "cell_type": "code",
   "execution_count": 9,
   "id": "349a6908",
   "metadata": {},
   "outputs": [
    {
     "name": "stdout",
     "output_type": "stream",
     "text": [
      "<class 'pandas.core.frame.DataFrame'>\n",
      "Int64Index: 52438 entries, 0 to 52437\n",
      "Data columns (total 68 columns):\n",
      " #   Column                        Non-Null Count  Dtype  \n",
      "---  ------                        --------------  -----  \n",
      " 0   id                            52438 non-null  int64  \n",
      " 1   parcelid                      52438 non-null  int64  \n",
      " 2   airconditioningtypeid         13638 non-null  float64\n",
      " 3   architecturalstyletypeid      70 non-null     float64\n",
      " 4   basementsqft                  47 non-null     float64\n",
      " 5   bathroomcnt                   52438 non-null  float64\n",
      " 6   bedroomcnt                    52438 non-null  float64\n",
      " 7   buildingclasstypeid           0 non-null      float64\n",
      " 8   buildingqualitytypeid         33739 non-null  float64\n",
      " 9   calculatedbathnbr             52301 non-null  float64\n",
      " 10  decktypeid                    389 non-null    float64\n",
      " 11  finishedfloor1squarefeet      4379 non-null   float64\n",
      " 12  calculatedfinishedsquarefeet  52356 non-null  float64\n",
      " 13  finishedsquarefeet12          52191 non-null  float64\n",
      " 14  finishedsquarefeet13          0 non-null      float64\n",
      " 15  finishedsquarefeet15          0 non-null      float64\n",
      " 16  finishedsquarefeet50          4379 non-null   float64\n",
      " 17  finishedsquarefeet6           165 non-null    float64\n",
      " 18  fips                          52438 non-null  float64\n",
      " 19  fireplacecnt                  7241 non-null   float64\n",
      " 20  fullbathcnt                   52301 non-null  float64\n",
      " 21  garagecarcnt                  18013 non-null  float64\n",
      " 22  garagetotalsqft               18013 non-null  float64\n",
      " 23  hashottuborspa                1515 non-null   float64\n",
      " 24  heatingorsystemtypeid         33934 non-null  float64\n",
      " 25  latitude                      52438 non-null  float64\n",
      " 26  longitude                     52438 non-null  float64\n",
      " 27  lotsizesquarefeet             52069 non-null  float64\n",
      " 28  poolcnt                       11096 non-null  float64\n",
      " 29  poolsizesum                   867 non-null    float64\n",
      " 30  pooltypeid10                  444 non-null    float64\n",
      " 31  pooltypeid2                   1071 non-null   float64\n",
      " 32  pooltypeid7                   10009 non-null  float64\n",
      " 33  propertycountylandusecode     52438 non-null  object \n",
      " 34  propertylandusetypeid         52438 non-null  float64\n",
      " 35  propertyzoningdesc            33847 non-null  object \n",
      " 36  rawcensustractandblock        52438 non-null  float64\n",
      " 37  regionidcity                  51401 non-null  float64\n",
      " 38  regionidcounty                52438 non-null  float64\n",
      " 39  regionidneighborhood          19033 non-null  float64\n",
      " 40  regionidzip                   52412 non-null  float64\n",
      " 41  roomcnt                       52438 non-null  float64\n",
      " 42  storytypeid                   47 non-null     float64\n",
      " 43  threequarterbathnbr           6724 non-null   float64\n",
      " 44  typeconstructiontypeid        76 non-null     float64\n",
      " 45  unitcnt                       33846 non-null  float64\n",
      " 46  yardbuildingsqft17            1937 non-null   float64\n",
      " 47  yardbuildingsqft26            63 non-null     float64\n",
      " 48  yearbuilt                     52322 non-null  float64\n",
      " 49  numberofstories               14559 non-null  float64\n",
      " 50  fireplaceflag                 81 non-null     float64\n",
      " 51  structuretaxvaluedollarcnt    52354 non-null  float64\n",
      " 52  taxvaluedollarcnt             52437 non-null  float64\n",
      " 53  assessmentyear                52438 non-null  float64\n",
      " 54  landtaxvaluedollarcnt         52437 non-null  float64\n",
      " 55  taxamount                     52434 non-null  float64\n",
      " 56  taxdelinquencyflag            2079 non-null   object \n",
      " 57  taxdelinquencyyear            2079 non-null   float64\n",
      " 58  censustractandblock           52315 non-null  float64\n",
      " 59  logerror                      52438 non-null  float64\n",
      " 60  transactiondate               52438 non-null  object \n",
      " 61  airconditioningdesc           13638 non-null  object \n",
      " 62  architecturalstyledesc        70 non-null     object \n",
      " 63  buildingclassdesc             0 non-null      float64\n",
      " 64  heatingorsystemdesc           33934 non-null  object \n",
      " 65  propertylandusedesc           52438 non-null  object \n",
      " 66  storydesc                     47 non-null     object \n",
      " 67  typeconstructiondesc          76 non-null     object \n",
      "dtypes: float64(56), int64(2), object(10)\n",
      "memory usage: 27.6+ MB\n"
     ]
    }
   ],
   "source": [
    "df.info()"
   ]
  },
  {
   "cell_type": "code",
   "execution_count": 10,
   "id": "e41d6b45",
   "metadata": {},
   "outputs": [
    {
     "data": {
      "text/plain": [
       "(52438, 68)"
      ]
     },
     "execution_count": 10,
     "metadata": {},
     "output_type": "execute_result"
    }
   ],
   "source": [
    "# df shape\n",
    "df.shape"
   ]
  },
  {
   "cell_type": "code",
   "execution_count": 11,
   "id": "5bea919d",
   "metadata": {},
   "outputs": [
    {
     "data": {
      "text/plain": [
       "118"
      ]
     },
     "execution_count": 11,
     "metadata": {},
     "output_type": "execute_result"
    }
   ],
   "source": [
    "# Show duplicated observations even with SQL filter\n",
    "df.parcelid.duplicated().sum()"
   ]
  },
  {
   "cell_type": "code",
   "execution_count": 12,
   "id": "96879bb9",
   "metadata": {},
   "outputs": [
    {
     "data": {
      "text/html": [
       "<div>\n",
       "<style scoped>\n",
       "    .dataframe tbody tr th:only-of-type {\n",
       "        vertical-align: middle;\n",
       "    }\n",
       "\n",
       "    .dataframe tbody tr th {\n",
       "        vertical-align: top;\n",
       "    }\n",
       "\n",
       "    .dataframe thead th {\n",
       "        text-align: right;\n",
       "    }\n",
       "</style>\n",
       "<table border=\"1\" class=\"dataframe\">\n",
       "  <thead>\n",
       "    <tr style=\"text-align: right;\">\n",
       "      <th></th>\n",
       "      <th>id</th>\n",
       "      <th>parcelid</th>\n",
       "      <th>airconditioningtypeid</th>\n",
       "      <th>architecturalstyletypeid</th>\n",
       "      <th>basementsqft</th>\n",
       "      <th>bathroomcnt</th>\n",
       "      <th>bedroomcnt</th>\n",
       "      <th>buildingclasstypeid</th>\n",
       "      <th>buildingqualitytypeid</th>\n",
       "      <th>calculatedbathnbr</th>\n",
       "      <th>...</th>\n",
       "      <th>censustractandblock</th>\n",
       "      <th>logerror</th>\n",
       "      <th>transactiondate</th>\n",
       "      <th>airconditioningdesc</th>\n",
       "      <th>architecturalstyledesc</th>\n",
       "      <th>buildingclassdesc</th>\n",
       "      <th>heatingorsystemdesc</th>\n",
       "      <th>propertylandusedesc</th>\n",
       "      <th>storydesc</th>\n",
       "      <th>typeconstructiondesc</th>\n",
       "    </tr>\n",
       "  </thead>\n",
       "  <tbody>\n",
       "    <tr>\n",
       "      <th>37223</th>\n",
       "      <td>1087254</td>\n",
       "      <td>10711855</td>\n",
       "      <td>NaN</td>\n",
       "      <td>NaN</td>\n",
       "      <td>NaN</td>\n",
       "      <td>2.0</td>\n",
       "      <td>3.0</td>\n",
       "      <td>NaN</td>\n",
       "      <td>8.0</td>\n",
       "      <td>2.0</td>\n",
       "      <td>...</td>\n",
       "      <td>6.037113e+13</td>\n",
       "      <td>-0.007357</td>\n",
       "      <td>2017-07-07</td>\n",
       "      <td>NaN</td>\n",
       "      <td>NaN</td>\n",
       "      <td>NaN</td>\n",
       "      <td>Central</td>\n",
       "      <td>Single Family Residential</td>\n",
       "      <td>NaN</td>\n",
       "      <td>NaN</td>\n",
       "    </tr>\n",
       "    <tr>\n",
       "      <th>48246</th>\n",
       "      <td>1072280</td>\n",
       "      <td>10711877</td>\n",
       "      <td>1.0</td>\n",
       "      <td>NaN</td>\n",
       "      <td>NaN</td>\n",
       "      <td>2.0</td>\n",
       "      <td>4.0</td>\n",
       "      <td>NaN</td>\n",
       "      <td>8.0</td>\n",
       "      <td>2.0</td>\n",
       "      <td>...</td>\n",
       "      <td>6.037113e+13</td>\n",
       "      <td>0.021066</td>\n",
       "      <td>2017-08-29</td>\n",
       "      <td>Central</td>\n",
       "      <td>NaN</td>\n",
       "      <td>NaN</td>\n",
       "      <td>Central</td>\n",
       "      <td>Single Family Residential</td>\n",
       "      <td>NaN</td>\n",
       "      <td>NaN</td>\n",
       "    </tr>\n",
       "    <tr>\n",
       "      <th>15536</th>\n",
       "      <td>1340933</td>\n",
       "      <td>10711888</td>\n",
       "      <td>1.0</td>\n",
       "      <td>NaN</td>\n",
       "      <td>NaN</td>\n",
       "      <td>2.0</td>\n",
       "      <td>4.0</td>\n",
       "      <td>NaN</td>\n",
       "      <td>8.0</td>\n",
       "      <td>2.0</td>\n",
       "      <td>...</td>\n",
       "      <td>6.037113e+13</td>\n",
       "      <td>0.077174</td>\n",
       "      <td>2017-04-04</td>\n",
       "      <td>Central</td>\n",
       "      <td>NaN</td>\n",
       "      <td>NaN</td>\n",
       "      <td>Central</td>\n",
       "      <td>Single Family Residential</td>\n",
       "      <td>NaN</td>\n",
       "      <td>NaN</td>\n",
       "    </tr>\n",
       "    <tr>\n",
       "      <th>12106</th>\n",
       "      <td>1878109</td>\n",
       "      <td>10711910</td>\n",
       "      <td>NaN</td>\n",
       "      <td>NaN</td>\n",
       "      <td>NaN</td>\n",
       "      <td>2.0</td>\n",
       "      <td>3.0</td>\n",
       "      <td>NaN</td>\n",
       "      <td>8.0</td>\n",
       "      <td>2.0</td>\n",
       "      <td>...</td>\n",
       "      <td>6.037113e+13</td>\n",
       "      <td>-0.041238</td>\n",
       "      <td>2017-03-17</td>\n",
       "      <td>NaN</td>\n",
       "      <td>NaN</td>\n",
       "      <td>NaN</td>\n",
       "      <td>Central</td>\n",
       "      <td>Single Family Residential</td>\n",
       "      <td>NaN</td>\n",
       "      <td>NaN</td>\n",
       "    </tr>\n",
       "    <tr>\n",
       "      <th>13666</th>\n",
       "      <td>2190858</td>\n",
       "      <td>10711923</td>\n",
       "      <td>NaN</td>\n",
       "      <td>NaN</td>\n",
       "      <td>NaN</td>\n",
       "      <td>2.0</td>\n",
       "      <td>4.0</td>\n",
       "      <td>NaN</td>\n",
       "      <td>8.0</td>\n",
       "      <td>2.0</td>\n",
       "      <td>...</td>\n",
       "      <td>6.037113e+13</td>\n",
       "      <td>-0.009496</td>\n",
       "      <td>2017-03-24</td>\n",
       "      <td>NaN</td>\n",
       "      <td>NaN</td>\n",
       "      <td>NaN</td>\n",
       "      <td>Central</td>\n",
       "      <td>Single Family Residential</td>\n",
       "      <td>NaN</td>\n",
       "      <td>NaN</td>\n",
       "    </tr>\n",
       "  </tbody>\n",
       "</table>\n",
       "<p>5 rows × 68 columns</p>\n",
       "</div>"
      ],
      "text/plain": [
       "            id  parcelid  airconditioningtypeid  architecturalstyletypeid  \\\n",
       "37223  1087254  10711855                    NaN                       NaN   \n",
       "48246  1072280  10711877                    1.0                       NaN   \n",
       "15536  1340933  10711888                    1.0                       NaN   \n",
       "12106  1878109  10711910                    NaN                       NaN   \n",
       "13666  2190858  10711923                    NaN                       NaN   \n",
       "\n",
       "       basementsqft  bathroomcnt  bedroomcnt  buildingclasstypeid  \\\n",
       "37223           NaN          2.0         3.0                  NaN   \n",
       "48246           NaN          2.0         4.0                  NaN   \n",
       "15536           NaN          2.0         4.0                  NaN   \n",
       "12106           NaN          2.0         3.0                  NaN   \n",
       "13666           NaN          2.0         4.0                  NaN   \n",
       "\n",
       "       buildingqualitytypeid  calculatedbathnbr  ...  censustractandblock  \\\n",
       "37223                    8.0                2.0  ...         6.037113e+13   \n",
       "48246                    8.0                2.0  ...         6.037113e+13   \n",
       "15536                    8.0                2.0  ...         6.037113e+13   \n",
       "12106                    8.0                2.0  ...         6.037113e+13   \n",
       "13666                    8.0                2.0  ...         6.037113e+13   \n",
       "\n",
       "       logerror  transactiondate  airconditioningdesc  architecturalstyledesc  \\\n",
       "37223 -0.007357       2017-07-07                  NaN                     NaN   \n",
       "48246  0.021066       2017-08-29              Central                     NaN   \n",
       "15536  0.077174       2017-04-04              Central                     NaN   \n",
       "12106 -0.041238       2017-03-17                  NaN                     NaN   \n",
       "13666 -0.009496       2017-03-24                  NaN                     NaN   \n",
       "\n",
       "       buildingclassdesc  heatingorsystemdesc        propertylandusedesc  \\\n",
       "37223                NaN              Central  Single Family Residential   \n",
       "48246                NaN              Central  Single Family Residential   \n",
       "15536                NaN              Central  Single Family Residential   \n",
       "12106                NaN              Central  Single Family Residential   \n",
       "13666                NaN              Central  Single Family Residential   \n",
       "\n",
       "       storydesc  typeconstructiondesc  \n",
       "37223        NaN                   NaN  \n",
       "48246        NaN                   NaN  \n",
       "15536        NaN                   NaN  \n",
       "12106        NaN                   NaN  \n",
       "13666        NaN                   NaN  \n",
       "\n",
       "[5 rows x 68 columns]"
      ]
     },
     "execution_count": 12,
     "metadata": {},
     "output_type": "execute_result"
    }
   ],
   "source": [
    "# Sort df by parcelid and then by transaction date to group by parcelid and to make sure transaction date is last\n",
    "df = df.sort_values(by=['parcelid','transactiondate'])\n",
    "df.head()"
   ]
  },
  {
   "cell_type": "code",
   "execution_count": 13,
   "id": "34545e6d",
   "metadata": {},
   "outputs": [
    {
     "data": {
      "text/html": [
       "<div>\n",
       "<style scoped>\n",
       "    .dataframe tbody tr th:only-of-type {\n",
       "        vertical-align: middle;\n",
       "    }\n",
       "\n",
       "    .dataframe tbody tr th {\n",
       "        vertical-align: top;\n",
       "    }\n",
       "\n",
       "    .dataframe thead th {\n",
       "        text-align: right;\n",
       "    }\n",
       "</style>\n",
       "<table border=\"1\" class=\"dataframe\">\n",
       "  <thead>\n",
       "    <tr style=\"text-align: right;\">\n",
       "      <th></th>\n",
       "      <th>id</th>\n",
       "      <th>parcelid</th>\n",
       "      <th>airconditioningtypeid</th>\n",
       "      <th>architecturalstyletypeid</th>\n",
       "      <th>basementsqft</th>\n",
       "      <th>bathroomcnt</th>\n",
       "      <th>bedroomcnt</th>\n",
       "      <th>buildingclasstypeid</th>\n",
       "      <th>buildingqualitytypeid</th>\n",
       "      <th>calculatedbathnbr</th>\n",
       "      <th>...</th>\n",
       "      <th>censustractandblock</th>\n",
       "      <th>logerror</th>\n",
       "      <th>transactiondate</th>\n",
       "      <th>airconditioningdesc</th>\n",
       "      <th>architecturalstyledesc</th>\n",
       "      <th>buildingclassdesc</th>\n",
       "      <th>heatingorsystemdesc</th>\n",
       "      <th>propertylandusedesc</th>\n",
       "      <th>storydesc</th>\n",
       "      <th>typeconstructiondesc</th>\n",
       "    </tr>\n",
       "  </thead>\n",
       "  <tbody>\n",
       "    <tr>\n",
       "      <th>9384</th>\n",
       "      <td>16179</td>\n",
       "      <td>10722858</td>\n",
       "      <td>NaN</td>\n",
       "      <td>NaN</td>\n",
       "      <td>NaN</td>\n",
       "      <td>2.0</td>\n",
       "      <td>4.0</td>\n",
       "      <td>NaN</td>\n",
       "      <td>6.0</td>\n",
       "      <td>2.0</td>\n",
       "      <td>...</td>\n",
       "      <td>6.037135e+13</td>\n",
       "      <td>0.095171</td>\n",
       "      <td>2017-03-02</td>\n",
       "      <td>NaN</td>\n",
       "      <td>NaN</td>\n",
       "      <td>NaN</td>\n",
       "      <td>Central</td>\n",
       "      <td>Single Family Residential</td>\n",
       "      <td>NaN</td>\n",
       "      <td>NaN</td>\n",
       "    </tr>\n",
       "    <tr>\n",
       "      <th>9385</th>\n",
       "      <td>16179</td>\n",
       "      <td>10722858</td>\n",
       "      <td>NaN</td>\n",
       "      <td>NaN</td>\n",
       "      <td>NaN</td>\n",
       "      <td>2.0</td>\n",
       "      <td>4.0</td>\n",
       "      <td>NaN</td>\n",
       "      <td>6.0</td>\n",
       "      <td>2.0</td>\n",
       "      <td>...</td>\n",
       "      <td>6.037135e+13</td>\n",
       "      <td>-0.172843</td>\n",
       "      <td>2017-07-28</td>\n",
       "      <td>NaN</td>\n",
       "      <td>NaN</td>\n",
       "      <td>NaN</td>\n",
       "      <td>Central</td>\n",
       "      <td>Single Family Residential</td>\n",
       "      <td>NaN</td>\n",
       "      <td>NaN</td>\n",
       "    </tr>\n",
       "    <tr>\n",
       "      <th>9306</th>\n",
       "      <td>1836115</td>\n",
       "      <td>10732347</td>\n",
       "      <td>NaN</td>\n",
       "      <td>NaN</td>\n",
       "      <td>NaN</td>\n",
       "      <td>2.0</td>\n",
       "      <td>4.0</td>\n",
       "      <td>NaN</td>\n",
       "      <td>8.0</td>\n",
       "      <td>2.0</td>\n",
       "      <td>...</td>\n",
       "      <td>6.037137e+13</td>\n",
       "      <td>0.077198</td>\n",
       "      <td>2017-03-01</td>\n",
       "      <td>NaN</td>\n",
       "      <td>NaN</td>\n",
       "      <td>NaN</td>\n",
       "      <td>Central</td>\n",
       "      <td>Single Family Residential</td>\n",
       "      <td>NaN</td>\n",
       "      <td>NaN</td>\n",
       "    </tr>\n",
       "    <tr>\n",
       "      <th>9307</th>\n",
       "      <td>1836115</td>\n",
       "      <td>10732347</td>\n",
       "      <td>NaN</td>\n",
       "      <td>NaN</td>\n",
       "      <td>NaN</td>\n",
       "      <td>2.0</td>\n",
       "      <td>4.0</td>\n",
       "      <td>NaN</td>\n",
       "      <td>8.0</td>\n",
       "      <td>2.0</td>\n",
       "      <td>...</td>\n",
       "      <td>6.037137e+13</td>\n",
       "      <td>-0.221145</td>\n",
       "      <td>2017-07-25</td>\n",
       "      <td>NaN</td>\n",
       "      <td>NaN</td>\n",
       "      <td>NaN</td>\n",
       "      <td>Central</td>\n",
       "      <td>Single Family Residential</td>\n",
       "      <td>NaN</td>\n",
       "      <td>NaN</td>\n",
       "    </tr>\n",
       "    <tr>\n",
       "      <th>1940</th>\n",
       "      <td>2119208</td>\n",
       "      <td>10739478</td>\n",
       "      <td>1.0</td>\n",
       "      <td>NaN</td>\n",
       "      <td>NaN</td>\n",
       "      <td>3.0</td>\n",
       "      <td>4.0</td>\n",
       "      <td>NaN</td>\n",
       "      <td>8.0</td>\n",
       "      <td>3.0</td>\n",
       "      <td>...</td>\n",
       "      <td>6.037800e+13</td>\n",
       "      <td>0.083280</td>\n",
       "      <td>2017-01-13</td>\n",
       "      <td>Central</td>\n",
       "      <td>NaN</td>\n",
       "      <td>NaN</td>\n",
       "      <td>Central</td>\n",
       "      <td>Single Family Residential</td>\n",
       "      <td>NaN</td>\n",
       "      <td>NaN</td>\n",
       "    </tr>\n",
       "  </tbody>\n",
       "</table>\n",
       "<p>5 rows × 68 columns</p>\n",
       "</div>"
      ],
      "text/plain": [
       "           id  parcelid  airconditioningtypeid  architecturalstyletypeid  \\\n",
       "9384    16179  10722858                    NaN                       NaN   \n",
       "9385    16179  10722858                    NaN                       NaN   \n",
       "9306  1836115  10732347                    NaN                       NaN   \n",
       "9307  1836115  10732347                    NaN                       NaN   \n",
       "1940  2119208  10739478                    1.0                       NaN   \n",
       "\n",
       "      basementsqft  bathroomcnt  bedroomcnt  buildingclasstypeid  \\\n",
       "9384           NaN          2.0         4.0                  NaN   \n",
       "9385           NaN          2.0         4.0                  NaN   \n",
       "9306           NaN          2.0         4.0                  NaN   \n",
       "9307           NaN          2.0         4.0                  NaN   \n",
       "1940           NaN          3.0         4.0                  NaN   \n",
       "\n",
       "      buildingqualitytypeid  calculatedbathnbr  ...  censustractandblock  \\\n",
       "9384                    6.0                2.0  ...         6.037135e+13   \n",
       "9385                    6.0                2.0  ...         6.037135e+13   \n",
       "9306                    8.0                2.0  ...         6.037137e+13   \n",
       "9307                    8.0                2.0  ...         6.037137e+13   \n",
       "1940                    8.0                3.0  ...         6.037800e+13   \n",
       "\n",
       "      logerror  transactiondate  airconditioningdesc  architecturalstyledesc  \\\n",
       "9384  0.095171       2017-03-02                  NaN                     NaN   \n",
       "9385 -0.172843       2017-07-28                  NaN                     NaN   \n",
       "9306  0.077198       2017-03-01                  NaN                     NaN   \n",
       "9307 -0.221145       2017-07-25                  NaN                     NaN   \n",
       "1940  0.083280       2017-01-13              Central                     NaN   \n",
       "\n",
       "      buildingclassdesc  heatingorsystemdesc        propertylandusedesc  \\\n",
       "9384                NaN              Central  Single Family Residential   \n",
       "9385                NaN              Central  Single Family Residential   \n",
       "9306                NaN              Central  Single Family Residential   \n",
       "9307                NaN              Central  Single Family Residential   \n",
       "1940                NaN              Central  Single Family Residential   \n",
       "\n",
       "      storydesc  typeconstructiondesc  \n",
       "9384        NaN                   NaN  \n",
       "9385        NaN                   NaN  \n",
       "9306        NaN                   NaN  \n",
       "9307        NaN                   NaN  \n",
       "1940        NaN                   NaN  \n",
       "\n",
       "[5 rows x 68 columns]"
      ]
     },
     "execution_count": 13,
     "metadata": {},
     "output_type": "execute_result"
    }
   ],
   "source": [
    "# Show duplicated parcel id\n",
    "df[df.duplicated(subset='parcelid', keep=False)].head()"
   ]
  },
  {
   "cell_type": "code",
   "execution_count": 14,
   "id": "3ff7754c",
   "metadata": {},
   "outputs": [],
   "source": [
    "# drop dulicates  but keep last transaction date\n",
    "df = df.drop_duplicates(subset='parcelid', keep='last')"
   ]
  },
  {
   "cell_type": "code",
   "execution_count": 15,
   "id": "676bc568",
   "metadata": {},
   "outputs": [
    {
     "data": {
      "text/html": [
       "<div>\n",
       "<style scoped>\n",
       "    .dataframe tbody tr th:only-of-type {\n",
       "        vertical-align: middle;\n",
       "    }\n",
       "\n",
       "    .dataframe tbody tr th {\n",
       "        vertical-align: top;\n",
       "    }\n",
       "\n",
       "    .dataframe thead th {\n",
       "        text-align: right;\n",
       "    }\n",
       "</style>\n",
       "<table border=\"1\" class=\"dataframe\">\n",
       "  <thead>\n",
       "    <tr style=\"text-align: right;\">\n",
       "      <th></th>\n",
       "      <th>id</th>\n",
       "      <th>parcelid</th>\n",
       "      <th>airconditioningtypeid</th>\n",
       "      <th>architecturalstyletypeid</th>\n",
       "      <th>basementsqft</th>\n",
       "      <th>bathroomcnt</th>\n",
       "      <th>bedroomcnt</th>\n",
       "      <th>buildingclasstypeid</th>\n",
       "      <th>buildingqualitytypeid</th>\n",
       "      <th>calculatedbathnbr</th>\n",
       "      <th>...</th>\n",
       "      <th>censustractandblock</th>\n",
       "      <th>logerror</th>\n",
       "      <th>transactiondate</th>\n",
       "      <th>airconditioningdesc</th>\n",
       "      <th>architecturalstyledesc</th>\n",
       "      <th>buildingclassdesc</th>\n",
       "      <th>heatingorsystemdesc</th>\n",
       "      <th>propertylandusedesc</th>\n",
       "      <th>storydesc</th>\n",
       "      <th>typeconstructiondesc</th>\n",
       "    </tr>\n",
       "  </thead>\n",
       "  <tbody>\n",
       "  </tbody>\n",
       "</table>\n",
       "<p>0 rows × 68 columns</p>\n",
       "</div>"
      ],
      "text/plain": [
       "Empty DataFrame\n",
       "Columns: [id, parcelid, airconditioningtypeid, architecturalstyletypeid, basementsqft, bathroomcnt, bedroomcnt, buildingclasstypeid, buildingqualitytypeid, calculatedbathnbr, decktypeid, finishedfloor1squarefeet, calculatedfinishedsquarefeet, finishedsquarefeet12, finishedsquarefeet13, finishedsquarefeet15, finishedsquarefeet50, finishedsquarefeet6, fips, fireplacecnt, fullbathcnt, garagecarcnt, garagetotalsqft, hashottuborspa, heatingorsystemtypeid, latitude, longitude, lotsizesquarefeet, poolcnt, poolsizesum, pooltypeid10, pooltypeid2, pooltypeid7, propertycountylandusecode, propertylandusetypeid, propertyzoningdesc, rawcensustractandblock, regionidcity, regionidcounty, regionidneighborhood, regionidzip, roomcnt, storytypeid, threequarterbathnbr, typeconstructiontypeid, unitcnt, yardbuildingsqft17, yardbuildingsqft26, yearbuilt, numberofstories, fireplaceflag, structuretaxvaluedollarcnt, taxvaluedollarcnt, assessmentyear, landtaxvaluedollarcnt, taxamount, taxdelinquencyflag, taxdelinquencyyear, censustractandblock, logerror, transactiondate, airconditioningdesc, architecturalstyledesc, buildingclassdesc, heatingorsystemdesc, propertylandusedesc, storydesc, typeconstructiondesc]\n",
       "Index: []\n",
       "\n",
       "[0 rows x 68 columns]"
      ]
     },
     "execution_count": 15,
     "metadata": {},
     "output_type": "execute_result"
    }
   ],
   "source": [
    "# Show duplicated parcel id\n",
    "df[df.duplicated(subset='parcelid', keep=False)].head()"
   ]
  },
  {
   "cell_type": "code",
   "execution_count": 16,
   "id": "3ad8a46a",
   "metadata": {},
   "outputs": [
    {
     "data": {
      "text/plain": [
       "0"
      ]
     },
     "execution_count": 16,
     "metadata": {},
     "output_type": "execute_result"
    }
   ],
   "source": [
    "# confirm duplicated parcel id removed\n",
    "df.parcelid.duplicated().sum()"
   ]
  },
  {
   "cell_type": "code",
   "execution_count": 17,
   "id": "a749455a",
   "metadata": {},
   "outputs": [
    {
     "data": {
      "text/plain": [
       "(52320, 68)"
      ]
     },
     "execution_count": 17,
     "metadata": {},
     "output_type": "execute_result"
    }
   ],
   "source": [
    "# check new shape\n",
    "df.shape"
   ]
  },
  {
   "cell_type": "code",
   "execution_count": 18,
   "id": "a222e24a",
   "metadata": {},
   "outputs": [],
   "source": [
    "# Replace blank values with NaN\n",
    "df = df.replace('',np.nan)"
   ]
  },
  {
   "cell_type": "code",
   "execution_count": null,
   "id": "41e1e5da",
   "metadata": {},
   "outputs": [],
   "source": [
    "# check if long/lat columns have nulls\n",
    "df.longitude.isnull().sum(), df.latitude.isnull().sum()"
   ]
  },
  {
   "cell_type": "code",
   "execution_count": 24,
   "id": "e1b2f83f",
   "metadata": {},
   "outputs": [
    {
     "data": {
      "text/plain": [
       "id                              0\n",
       "parcelid                        0\n",
       "airconditioningtypeid       38705\n",
       "architecturalstyletypeid    52250\n",
       "basementsqft                52273\n",
       "                            ...  \n",
       "buildingclassdesc           52320\n",
       "heatingorsystemdesc         18470\n",
       "propertylandusedesc             0\n",
       "storydesc                   52273\n",
       "typeconstructiondesc        52244\n",
       "Length: 68, dtype: int64"
      ]
     },
     "execution_count": 24,
     "metadata": {},
     "output_type": "execute_result"
    }
   ],
   "source": [
    "# number of nulls per column\n",
    "df.isna().sum()"
   ]
  },
  {
   "cell_type": "code",
   "execution_count": 28,
   "id": "5d335682",
   "metadata": {},
   "outputs": [
    {
     "data": {
      "text/plain": [
       "id                          0.000000\n",
       "parcelid                    0.000000\n",
       "airconditioningtypeid       0.739774\n",
       "architecturalstyletypeid    0.998662\n",
       "basementsqft                0.999102\n",
       "                              ...   \n",
       "buildingclassdesc           1.000000\n",
       "heatingorsystemdesc         0.353020\n",
       "propertylandusedesc         0.000000\n",
       "storydesc                   0.999102\n",
       "typeconstructiondesc        0.998547\n",
       "Length: 68, dtype: float64"
      ]
     },
     "execution_count": 28,
     "metadata": {},
     "output_type": "execute_result"
    }
   ],
   "source": [
    "# percent of nulls per column\n",
    "df.isna().mean()"
   ]
  },
  {
   "cell_type": "code",
   "execution_count": 25,
   "id": "945723cf",
   "metadata": {},
   "outputs": [
    {
     "data": {
      "text/plain": [
       "37223    31\n",
       "48246    29\n",
       "15536    31\n",
       "12106    31\n",
       "13666    31\n",
       "         ..\n",
       "42306    35\n",
       "31148    36\n",
       "23911    36\n",
       "9001     48\n",
       "28113    48\n",
       "Length: 52320, dtype: int64"
      ]
     },
     "execution_count": 25,
     "metadata": {},
     "output_type": "execute_result"
    }
   ],
   "source": [
    "df.isna().sum(axis=1)"
   ]
  },
  {
   "cell_type": "code",
   "execution_count": 26,
   "id": "f04a53ee",
   "metadata": {},
   "outputs": [
    {
     "data": {
      "text/plain": [
       "<bound method IndexOpsMixin.value_counts of 37223    31\n",
       "48246    29\n",
       "15536    31\n",
       "12106    31\n",
       "13666    31\n",
       "         ..\n",
       "42306    35\n",
       "31148    36\n",
       "23911    36\n",
       "9001     48\n",
       "28113    48\n",
       "Length: 52320, dtype: int64>"
      ]
     },
     "execution_count": 26,
     "metadata": {},
     "output_type": "execute_result"
    }
   ],
   "source": [
    "df.isna().sum(axis=1).value_counts"
   ]
  },
  {
   "cell_type": "code",
   "execution_count": 29,
   "id": "a4131907",
   "metadata": {},
   "outputs": [
    {
     "data": {
      "text/html": [
       "<div>\n",
       "<style scoped>\n",
       "    .dataframe tbody tr th:only-of-type {\n",
       "        vertical-align: middle;\n",
       "    }\n",
       "\n",
       "    .dataframe tbody tr th {\n",
       "        vertical-align: top;\n",
       "    }\n",
       "\n",
       "    .dataframe thead th {\n",
       "        text-align: right;\n",
       "    }\n",
       "</style>\n",
       "<table border=\"1\" class=\"dataframe\">\n",
       "  <thead>\n",
       "    <tr style=\"text-align: right;\">\n",
       "      <th></th>\n",
       "      <th>0</th>\n",
       "    </tr>\n",
       "  </thead>\n",
       "  <tbody>\n",
       "    <tr>\n",
       "      <th>0</th>\n",
       "      <td>id</td>\n",
       "    </tr>\n",
       "    <tr>\n",
       "      <th>1</th>\n",
       "      <td>parcelid</td>\n",
       "    </tr>\n",
       "    <tr>\n",
       "      <th>2</th>\n",
       "      <td>airconditioningtypeid</td>\n",
       "    </tr>\n",
       "    <tr>\n",
       "      <th>3</th>\n",
       "      <td>architecturalstyletypeid</td>\n",
       "    </tr>\n",
       "    <tr>\n",
       "      <th>4</th>\n",
       "      <td>basementsqft</td>\n",
       "    </tr>\n",
       "    <tr>\n",
       "      <th>...</th>\n",
       "      <td>...</td>\n",
       "    </tr>\n",
       "    <tr>\n",
       "      <th>63</th>\n",
       "      <td>buildingclassdesc</td>\n",
       "    </tr>\n",
       "    <tr>\n",
       "      <th>64</th>\n",
       "      <td>heatingorsystemdesc</td>\n",
       "    </tr>\n",
       "    <tr>\n",
       "      <th>65</th>\n",
       "      <td>propertylandusedesc</td>\n",
       "    </tr>\n",
       "    <tr>\n",
       "      <th>66</th>\n",
       "      <td>storydesc</td>\n",
       "    </tr>\n",
       "    <tr>\n",
       "      <th>67</th>\n",
       "      <td>typeconstructiondesc</td>\n",
       "    </tr>\n",
       "  </tbody>\n",
       "</table>\n",
       "<p>68 rows × 1 columns</p>\n",
       "</div>"
      ],
      "text/plain": [
       "                           0\n",
       "0                         id\n",
       "1                   parcelid\n",
       "2      airconditioningtypeid\n",
       "3   architecturalstyletypeid\n",
       "4               basementsqft\n",
       "..                       ...\n",
       "63         buildingclassdesc\n",
       "64       heatingorsystemdesc\n",
       "65       propertylandusedesc\n",
       "66                 storydesc\n",
       "67      typeconstructiondesc\n",
       "\n",
       "[68 rows x 1 columns]"
      ]
     },
     "execution_count": 29,
     "metadata": {},
     "output_type": "execute_result"
    }
   ],
   "source": [
    "# create dataframe that has column name as first column\n",
    "col_nulls = pd.DataFrame(df.isna().sum().index, columsn)\n",
    "col_nulls"
   ]
  },
  {
   "cell_type": "code",
   "execution_count": null,
   "id": "f9e2a2b8",
   "metadata": {},
   "outputs": [],
   "source": []
  },
  {
   "cell_type": "code",
   "execution_count": null,
   "id": "bf44b84c",
   "metadata": {},
   "outputs": [],
   "source": []
  },
  {
   "cell_type": "code",
   "execution_count": null,
   "id": "cffa5d54",
   "metadata": {},
   "outputs": [],
   "source": []
  },
  {
   "cell_type": "code",
   "execution_count": null,
   "id": "9f141cef",
   "metadata": {},
   "outputs": [],
   "source": []
  },
  {
   "cell_type": "code",
   "execution_count": null,
   "id": "f9b466fd",
   "metadata": {},
   "outputs": [],
   "source": []
  },
  {
   "cell_type": "code",
   "execution_count": null,
   "id": "ca91642b",
   "metadata": {},
   "outputs": [],
   "source": []
  },
  {
   "cell_type": "code",
   "execution_count": null,
   "id": "0c044574",
   "metadata": {},
   "outputs": [],
   "source": []
  },
  {
   "cell_type": "markdown",
   "id": "b692cb13",
   "metadata": {},
   "source": [
    "### Take Aways:\n",
    "- ???K records"
   ]
  },
  {
   "cell_type": "code",
   "execution_count": 19,
   "id": "ea008649",
   "metadata": {},
   "outputs": [
    {
     "data": {
      "text/plain": [
       "id                              0\n",
       "parcelid                        0\n",
       "airconditioningtypeid       38705\n",
       "architecturalstyletypeid    52250\n",
       "basementsqft                52273\n",
       "                            ...  \n",
       "buildingclassdesc           52320\n",
       "heatingorsystemdesc         18470\n",
       "propertylandusedesc             0\n",
       "storydesc                   52273\n",
       "typeconstructiondesc        52244\n",
       "Length: 68, dtype: int64"
      ]
     },
     "execution_count": 19,
     "metadata": {},
     "output_type": "execute_result"
    }
   ],
   "source": [
    "df.isnull().sum()"
   ]
  },
  {
   "cell_type": "markdown",
   "id": "afc20095",
   "metadata": {},
   "source": [
    "### Take Aways:\n",
    "- Too many nulls in neighborhood, pools, fireplace, garage\n",
    "### What is the range of the transaction date? Found that "
   ]
  },
  {
   "cell_type": "code",
   "execution_count": 20,
   "id": "8cf9d2ce",
   "metadata": {},
   "outputs": [
    {
     "data": {
      "text/plain": [
       "('2017-01-01', '2017-09-25')"
      ]
     },
     "execution_count": 20,
     "metadata": {},
     "output_type": "execute_result"
    }
   ],
   "source": [
    "df.transactiondate.min(), df.transactiondate.max()"
   ]
  },
  {
   "cell_type": "markdown",
   "id": "75da0d08",
   "metadata": {},
   "source": [
    "- Found that 2018 transactions exist\n",
    "### What are the 2018 Transactions?"
   ]
  },
  {
   "cell_type": "code",
   "execution_count": 21,
   "id": "9cdc1494",
   "metadata": {},
   "outputs": [
    {
     "data": {
      "text/html": [
       "<div>\n",
       "<style scoped>\n",
       "    .dataframe tbody tr th:only-of-type {\n",
       "        vertical-align: middle;\n",
       "    }\n",
       "\n",
       "    .dataframe tbody tr th {\n",
       "        vertical-align: top;\n",
       "    }\n",
       "\n",
       "    .dataframe thead th {\n",
       "        text-align: right;\n",
       "    }\n",
       "</style>\n",
       "<table border=\"1\" class=\"dataframe\">\n",
       "  <thead>\n",
       "    <tr style=\"text-align: right;\">\n",
       "      <th></th>\n",
       "      <th>id</th>\n",
       "      <th>parcelid</th>\n",
       "      <th>airconditioningtypeid</th>\n",
       "      <th>architecturalstyletypeid</th>\n",
       "      <th>basementsqft</th>\n",
       "      <th>bathroomcnt</th>\n",
       "      <th>bedroomcnt</th>\n",
       "      <th>buildingclasstypeid</th>\n",
       "      <th>buildingqualitytypeid</th>\n",
       "      <th>calculatedbathnbr</th>\n",
       "      <th>...</th>\n",
       "      <th>censustractandblock</th>\n",
       "      <th>logerror</th>\n",
       "      <th>transactiondate</th>\n",
       "      <th>airconditioningdesc</th>\n",
       "      <th>architecturalstyledesc</th>\n",
       "      <th>buildingclassdesc</th>\n",
       "      <th>heatingorsystemdesc</th>\n",
       "      <th>propertylandusedesc</th>\n",
       "      <th>storydesc</th>\n",
       "      <th>typeconstructiondesc</th>\n",
       "    </tr>\n",
       "  </thead>\n",
       "  <tbody>\n",
       "  </tbody>\n",
       "</table>\n",
       "<p>0 rows × 68 columns</p>\n",
       "</div>"
      ],
      "text/plain": [
       "Empty DataFrame\n",
       "Columns: [id, parcelid, airconditioningtypeid, architecturalstyletypeid, basementsqft, bathroomcnt, bedroomcnt, buildingclasstypeid, buildingqualitytypeid, calculatedbathnbr, decktypeid, finishedfloor1squarefeet, calculatedfinishedsquarefeet, finishedsquarefeet12, finishedsquarefeet13, finishedsquarefeet15, finishedsquarefeet50, finishedsquarefeet6, fips, fireplacecnt, fullbathcnt, garagecarcnt, garagetotalsqft, hashottuborspa, heatingorsystemtypeid, latitude, longitude, lotsizesquarefeet, poolcnt, poolsizesum, pooltypeid10, pooltypeid2, pooltypeid7, propertycountylandusecode, propertylandusetypeid, propertyzoningdesc, rawcensustractandblock, regionidcity, regionidcounty, regionidneighborhood, regionidzip, roomcnt, storytypeid, threequarterbathnbr, typeconstructiontypeid, unitcnt, yardbuildingsqft17, yardbuildingsqft26, yearbuilt, numberofstories, fireplaceflag, structuretaxvaluedollarcnt, taxvaluedollarcnt, assessmentyear, landtaxvaluedollarcnt, taxamount, taxdelinquencyflag, taxdelinquencyyear, censustractandblock, logerror, transactiondate, airconditioningdesc, architecturalstyledesc, buildingclassdesc, heatingorsystemdesc, propertylandusedesc, storydesc, typeconstructiondesc]\n",
       "Index: []\n",
       "\n",
       "[0 rows x 68 columns]"
      ]
     },
     "execution_count": 21,
     "metadata": {},
     "output_type": "execute_result"
    }
   ],
   "source": [
    "df[df.transactiondate.str.contains('2018')]"
   ]
  },
  {
   "cell_type": "markdown",
   "id": "b44fa9bf",
   "metadata": {},
   "source": [
    "- Found one record\n",
    "### Remove record from df"
   ]
  },
  {
   "cell_type": "code",
   "execution_count": 22,
   "id": "875a8d90",
   "metadata": {},
   "outputs": [
    {
     "ename": "KeyError",
     "evalue": "'[52441] not found in axis'",
     "output_type": "error",
     "traceback": [
      "\u001b[0;31m---------------------------------------------------------------------------\u001b[0m",
      "\u001b[0;31mKeyError\u001b[0m                                  Traceback (most recent call last)",
      "\u001b[0;32m<ipython-input-22-0d50b0adedbf>\u001b[0m in \u001b[0;36m<module>\u001b[0;34m\u001b[0m\n\u001b[0;32m----> 1\u001b[0;31m \u001b[0mdf\u001b[0m \u001b[0;34m=\u001b[0m \u001b[0mdf\u001b[0m\u001b[0;34m.\u001b[0m\u001b[0mdrop\u001b[0m\u001b[0;34m(\u001b[0m\u001b[0mindex\u001b[0m\u001b[0;34m=\u001b[0m\u001b[0;36m52441\u001b[0m\u001b[0;34m)\u001b[0m\u001b[0;34m\u001b[0m\u001b[0;34m\u001b[0m\u001b[0m\n\u001b[0m\u001b[1;32m      2\u001b[0m \u001b[0mdf\u001b[0m\u001b[0;34m[\u001b[0m\u001b[0mdf\u001b[0m\u001b[0;34m.\u001b[0m\u001b[0mtransactiondate\u001b[0m\u001b[0;34m.\u001b[0m\u001b[0mstr\u001b[0m\u001b[0;34m.\u001b[0m\u001b[0mcontains\u001b[0m\u001b[0;34m(\u001b[0m\u001b[0;34m'2018'\u001b[0m\u001b[0;34m)\u001b[0m\u001b[0;34m]\u001b[0m\u001b[0;34m\u001b[0m\u001b[0;34m\u001b[0m\u001b[0m\n",
      "\u001b[0;32m/opt/homebrew/anaconda3/lib/python3.8/site-packages/pandas/core/frame.py\u001b[0m in \u001b[0;36mdrop\u001b[0;34m(self, labels, axis, index, columns, level, inplace, errors)\u001b[0m\n\u001b[1;32m   4306\u001b[0m                 \u001b[0mweight\u001b[0m  \u001b[0;36m1.0\u001b[0m     \u001b[0;36m0.8\u001b[0m\u001b[0;34m\u001b[0m\u001b[0;34m\u001b[0m\u001b[0m\n\u001b[1;32m   4307\u001b[0m         \"\"\"\n\u001b[0;32m-> 4308\u001b[0;31m         return super().drop(\n\u001b[0m\u001b[1;32m   4309\u001b[0m             \u001b[0mlabels\u001b[0m\u001b[0;34m=\u001b[0m\u001b[0mlabels\u001b[0m\u001b[0;34m,\u001b[0m\u001b[0;34m\u001b[0m\u001b[0;34m\u001b[0m\u001b[0m\n\u001b[1;32m   4310\u001b[0m             \u001b[0maxis\u001b[0m\u001b[0;34m=\u001b[0m\u001b[0maxis\u001b[0m\u001b[0;34m,\u001b[0m\u001b[0;34m\u001b[0m\u001b[0;34m\u001b[0m\u001b[0m\n",
      "\u001b[0;32m/opt/homebrew/anaconda3/lib/python3.8/site-packages/pandas/core/generic.py\u001b[0m in \u001b[0;36mdrop\u001b[0;34m(self, labels, axis, index, columns, level, inplace, errors)\u001b[0m\n\u001b[1;32m   4151\u001b[0m         \u001b[0;32mfor\u001b[0m \u001b[0maxis\u001b[0m\u001b[0;34m,\u001b[0m \u001b[0mlabels\u001b[0m \u001b[0;32min\u001b[0m \u001b[0maxes\u001b[0m\u001b[0;34m.\u001b[0m\u001b[0mitems\u001b[0m\u001b[0;34m(\u001b[0m\u001b[0;34m)\u001b[0m\u001b[0;34m:\u001b[0m\u001b[0;34m\u001b[0m\u001b[0;34m\u001b[0m\u001b[0m\n\u001b[1;32m   4152\u001b[0m             \u001b[0;32mif\u001b[0m \u001b[0mlabels\u001b[0m \u001b[0;32mis\u001b[0m \u001b[0;32mnot\u001b[0m \u001b[0;32mNone\u001b[0m\u001b[0;34m:\u001b[0m\u001b[0;34m\u001b[0m\u001b[0;34m\u001b[0m\u001b[0m\n\u001b[0;32m-> 4153\u001b[0;31m                 \u001b[0mobj\u001b[0m \u001b[0;34m=\u001b[0m \u001b[0mobj\u001b[0m\u001b[0;34m.\u001b[0m\u001b[0m_drop_axis\u001b[0m\u001b[0;34m(\u001b[0m\u001b[0mlabels\u001b[0m\u001b[0;34m,\u001b[0m \u001b[0maxis\u001b[0m\u001b[0;34m,\u001b[0m \u001b[0mlevel\u001b[0m\u001b[0;34m=\u001b[0m\u001b[0mlevel\u001b[0m\u001b[0;34m,\u001b[0m \u001b[0merrors\u001b[0m\u001b[0;34m=\u001b[0m\u001b[0merrors\u001b[0m\u001b[0;34m)\u001b[0m\u001b[0;34m\u001b[0m\u001b[0;34m\u001b[0m\u001b[0m\n\u001b[0m\u001b[1;32m   4154\u001b[0m \u001b[0;34m\u001b[0m\u001b[0m\n\u001b[1;32m   4155\u001b[0m         \u001b[0;32mif\u001b[0m \u001b[0minplace\u001b[0m\u001b[0;34m:\u001b[0m\u001b[0;34m\u001b[0m\u001b[0;34m\u001b[0m\u001b[0m\n",
      "\u001b[0;32m/opt/homebrew/anaconda3/lib/python3.8/site-packages/pandas/core/generic.py\u001b[0m in \u001b[0;36m_drop_axis\u001b[0;34m(self, labels, axis, level, errors)\u001b[0m\n\u001b[1;32m   4186\u001b[0m                 \u001b[0mnew_axis\u001b[0m \u001b[0;34m=\u001b[0m \u001b[0maxis\u001b[0m\u001b[0;34m.\u001b[0m\u001b[0mdrop\u001b[0m\u001b[0;34m(\u001b[0m\u001b[0mlabels\u001b[0m\u001b[0;34m,\u001b[0m \u001b[0mlevel\u001b[0m\u001b[0;34m=\u001b[0m\u001b[0mlevel\u001b[0m\u001b[0;34m,\u001b[0m \u001b[0merrors\u001b[0m\u001b[0;34m=\u001b[0m\u001b[0merrors\u001b[0m\u001b[0;34m)\u001b[0m\u001b[0;34m\u001b[0m\u001b[0;34m\u001b[0m\u001b[0m\n\u001b[1;32m   4187\u001b[0m             \u001b[0;32melse\u001b[0m\u001b[0;34m:\u001b[0m\u001b[0;34m\u001b[0m\u001b[0;34m\u001b[0m\u001b[0m\n\u001b[0;32m-> 4188\u001b[0;31m                 \u001b[0mnew_axis\u001b[0m \u001b[0;34m=\u001b[0m \u001b[0maxis\u001b[0m\u001b[0;34m.\u001b[0m\u001b[0mdrop\u001b[0m\u001b[0;34m(\u001b[0m\u001b[0mlabels\u001b[0m\u001b[0;34m,\u001b[0m \u001b[0merrors\u001b[0m\u001b[0;34m=\u001b[0m\u001b[0merrors\u001b[0m\u001b[0;34m)\u001b[0m\u001b[0;34m\u001b[0m\u001b[0;34m\u001b[0m\u001b[0m\n\u001b[0m\u001b[1;32m   4189\u001b[0m             \u001b[0mresult\u001b[0m \u001b[0;34m=\u001b[0m \u001b[0mself\u001b[0m\u001b[0;34m.\u001b[0m\u001b[0mreindex\u001b[0m\u001b[0;34m(\u001b[0m\u001b[0;34m**\u001b[0m\u001b[0;34m{\u001b[0m\u001b[0maxis_name\u001b[0m\u001b[0;34m:\u001b[0m \u001b[0mnew_axis\u001b[0m\u001b[0;34m}\u001b[0m\u001b[0;34m)\u001b[0m\u001b[0;34m\u001b[0m\u001b[0;34m\u001b[0m\u001b[0m\n\u001b[1;32m   4190\u001b[0m \u001b[0;34m\u001b[0m\u001b[0m\n",
      "\u001b[0;32m/opt/homebrew/anaconda3/lib/python3.8/site-packages/pandas/core/indexes/base.py\u001b[0m in \u001b[0;36mdrop\u001b[0;34m(self, labels, errors)\u001b[0m\n\u001b[1;32m   5589\u001b[0m         \u001b[0;32mif\u001b[0m \u001b[0mmask\u001b[0m\u001b[0;34m.\u001b[0m\u001b[0many\u001b[0m\u001b[0;34m(\u001b[0m\u001b[0;34m)\u001b[0m\u001b[0;34m:\u001b[0m\u001b[0;34m\u001b[0m\u001b[0;34m\u001b[0m\u001b[0m\n\u001b[1;32m   5590\u001b[0m             \u001b[0;32mif\u001b[0m \u001b[0merrors\u001b[0m \u001b[0;34m!=\u001b[0m \u001b[0;34m\"ignore\"\u001b[0m\u001b[0;34m:\u001b[0m\u001b[0;34m\u001b[0m\u001b[0;34m\u001b[0m\u001b[0m\n\u001b[0;32m-> 5591\u001b[0;31m                 \u001b[0;32mraise\u001b[0m \u001b[0mKeyError\u001b[0m\u001b[0;34m(\u001b[0m\u001b[0;34mf\"{labels[mask]} not found in axis\"\u001b[0m\u001b[0;34m)\u001b[0m\u001b[0;34m\u001b[0m\u001b[0;34m\u001b[0m\u001b[0m\n\u001b[0m\u001b[1;32m   5592\u001b[0m             \u001b[0mindexer\u001b[0m \u001b[0;34m=\u001b[0m \u001b[0mindexer\u001b[0m\u001b[0;34m[\u001b[0m\u001b[0;34m~\u001b[0m\u001b[0mmask\u001b[0m\u001b[0;34m]\u001b[0m\u001b[0;34m\u001b[0m\u001b[0;34m\u001b[0m\u001b[0m\n\u001b[1;32m   5593\u001b[0m         \u001b[0;32mreturn\u001b[0m \u001b[0mself\u001b[0m\u001b[0;34m.\u001b[0m\u001b[0mdelete\u001b[0m\u001b[0;34m(\u001b[0m\u001b[0mindexer\u001b[0m\u001b[0;34m)\u001b[0m\u001b[0;34m\u001b[0m\u001b[0;34m\u001b[0m\u001b[0m\n",
      "\u001b[0;31mKeyError\u001b[0m: '[52441] not found in axis'"
     ]
    }
   ],
   "source": [
    "df = df.drop(index=52441)\n",
    "df[df.transactiondate.str.contains('2018')]"
   ]
  },
  {
   "cell_type": "markdown",
   "id": "fdbf0e59",
   "metadata": {},
   "source": [
    "- Confirmed 2018 record was remove"
   ]
  },
  {
   "cell_type": "markdown",
   "id": "96c519d0",
   "metadata": {},
   "source": [
    "### Create Functions to Get Zillow Data"
   ]
  },
  {
   "cell_type": "markdown",
   "id": "f4919b62",
   "metadata": {},
   "source": [
    "## <font color = 'red'> Clean Data"
   ]
  },
  {
   "cell_type": "code",
   "execution_count": null,
   "id": "50171bdb",
   "metadata": {},
   "outputs": [],
   "source": [
    "df.head()"
   ]
  },
  {
   "cell_type": "markdown",
   "id": "970631fd",
   "metadata": {},
   "source": [
    "### Rename columns for Readability"
   ]
  },
  {
   "cell_type": "code",
   "execution_count": null,
   "id": "b9ea9c03",
   "metadata": {},
   "outputs": [],
   "source": [
    "df.columns.to_list()"
   ]
  },
  {
   "cell_type": "code",
   "execution_count": null,
   "id": "3f1117cf",
   "metadata": {},
   "outputs": [],
   "source": [
    "# rename columns for readability\n",
    "df = df.rename(columns = {'parcelid':'parcel_id',\n",
    "                          'calculatedfinishedsquarefeet':'area',\n",
    "                          'yearbuilt':'year_built',\n",
    "                          'bedroomcnt':'bedrooms', \n",
    "                          'bathroomcnt':'bathrooms',\n",
    "                          'taxvaluedollarcnt':'tax_value',\n",
    "                          'taxamount':'tax_amount',\n",
    "                          'transactiondate':'transaction_date',\n",
    "                          'regionidzip':'zipcode',\n",
    "                             'regionidneighborhood':'neighborhood',\n",
    "                             'poolcnt':'pools',\n",
    "                             'lotsizesquarefeet':'lot_size',\n",
    "                          'garagecarcnt':'garages'\n",
    "                         })"
   ]
  },
  {
   "cell_type": "markdown",
   "id": "35cbce13",
   "metadata": {},
   "source": [
    "### Check Columns Names Changed"
   ]
  },
  {
   "cell_type": "code",
   "execution_count": null,
   "id": "426ccd2a",
   "metadata": {},
   "outputs": [],
   "source": [
    "df.columns"
   ]
  },
  {
   "cell_type": "markdown",
   "id": "1d4d7b63",
   "metadata": {},
   "source": [
    "### Dropping transaction_date, and parcel_id columns since it doens't help with explore or modeling"
   ]
  },
  {
   "cell_type": "code",
   "execution_count": null,
   "id": "ba58cf9b",
   "metadata": {},
   "outputs": [],
   "source": [
    "df = df.drop(columns=['transaction_date', 'parcel_id'])\n",
    "df.columns"
   ]
  },
  {
   "cell_type": "markdown",
   "id": "746e1c36",
   "metadata": {},
   "source": [
    "### Show describe without scientific notation"
   ]
  },
  {
   "cell_type": "code",
   "execution_count": null,
   "id": "410a27a0",
   "metadata": {
    "scrolled": true
   },
   "outputs": [],
   "source": [
    "df.describe().apply(lambda s: s.apply(lambda x: format(x, 'g')))"
   ]
  },
  {
   "cell_type": "markdown",
   "id": "806580cd",
   "metadata": {},
   "source": [
    "### Take Away: \n",
    "- Huge Skew in tax value, area, lot_size\n",
    "- Counts are off in multiple columns\n",
    "- bedrooms and bathroom contain zero\n",
    "### Change Blanks to Nulls"
   ]
  },
  {
   "cell_type": "code",
   "execution_count": null,
   "id": "5d72d618",
   "metadata": {},
   "outputs": [],
   "source": [
    "# replace banks with NaN \n",
    "df = df.replace('', np.nan)"
   ]
  },
  {
   "cell_type": "markdown",
   "id": "f4f87b5a",
   "metadata": {},
   "source": [
    "### Check for Nulls"
   ]
  },
  {
   "cell_type": "code",
   "execution_count": null,
   "id": "851f48c8",
   "metadata": {},
   "outputs": [],
   "source": [
    "df.isnull().sum()"
   ]
  },
  {
   "cell_type": "code",
   "execution_count": null,
   "id": "2d36bb92",
   "metadata": {},
   "outputs": [],
   "source": [
    "value_cols = df.drop(columns=['area','year_built','tax_value','lot_size'])\n",
    "for col in value_cols:\n",
    "    print(f'----------------{col}--------------------')\n",
    "    print(df[col].value_counts())"
   ]
  },
  {
   "cell_type": "code",
   "execution_count": null,
   "id": "8433f877",
   "metadata": {},
   "outputs": [],
   "source": [
    "df.isna().sum()"
   ]
  },
  {
   "cell_type": "code",
   "execution_count": null,
   "id": "1d907fe6",
   "metadata": {},
   "outputs": [],
   "source": [
    "df.shape"
   ]
  },
  {
   "cell_type": "markdown",
   "id": "4b2c1989",
   "metadata": {},
   "source": [
    "### Replaced Pool NaN with 0"
   ]
  },
  {
   "cell_type": "code",
   "execution_count": null,
   "id": "faf73954",
   "metadata": {},
   "outputs": [],
   "source": [
    "# replace pool, lot_size, l nan with 0\n",
    "df.pools = df.pools.replace(np.nan, 0)"
   ]
  },
  {
   "cell_type": "code",
   "execution_count": null,
   "id": "99e9a103",
   "metadata": {},
   "outputs": [],
   "source": [
    "df.pools.isna().sum()"
   ]
  },
  {
   "cell_type": "code",
   "execution_count": null,
   "id": "87384a3e",
   "metadata": {},
   "outputs": [],
   "source": [
    "df.shape"
   ]
  },
  {
   "cell_type": "markdown",
   "id": "6224e959",
   "metadata": {},
   "source": [
    "### Replace lot_size with median, 6,384"
   ]
  },
  {
   "cell_type": "code",
   "execution_count": null,
   "id": "2c522187",
   "metadata": {},
   "outputs": [],
   "source": [
    "df[df.lot_size < 13000].lot_size.hist()"
   ]
  },
  {
   "cell_type": "code",
   "execution_count": null,
   "id": "57eb4885",
   "metadata": {},
   "outputs": [],
   "source": [
    "# replace lot_size, lot_size, l nan with meian\n",
    "df.lot_size = df.lot_size.replace(np.nan, df.lot_size.mean())\n",
    "df.lot_size.isna().sum()"
   ]
  },
  {
   "cell_type": "code",
   "execution_count": null,
   "id": "d640ce36",
   "metadata": {},
   "outputs": [],
   "source": [
    "df.shape"
   ]
  },
  {
   "cell_type": "markdown",
   "id": "303a7ff1",
   "metadata": {},
   "source": [
    "### Replace Zipcode NaN"
   ]
  },
  {
   "cell_type": "code",
   "execution_count": null,
   "id": "83a73b1a",
   "metadata": {},
   "outputs": [],
   "source": [
    "df.zipcode.describe()"
   ]
  },
  {
   "cell_type": "code",
   "execution_count": null,
   "id": "4b0da9f1",
   "metadata": {},
   "outputs": [],
   "source": [
    "df[df.zipcode < 96995].zipcode.hist()"
   ]
  },
  {
   "cell_type": "code",
   "execution_count": null,
   "id": "3f6dc860",
   "metadata": {},
   "outputs": [],
   "source": [
    "df[(df.zipcode > 96600) & (df.zipcode < 97000)].zipcode.hist()"
   ]
  },
  {
   "cell_type": "code",
   "execution_count": null,
   "id": "c609964f",
   "metadata": {},
   "outputs": [],
   "source": [
    "df[(df.zipcode > 96206) & (df.zipcode < 96995)].zipcode.hist()"
   ]
  },
  {
   "cell_type": "markdown",
   "id": "9cfad361",
   "metadata": {},
   "source": [
    "### Drop records with zipcode NaN, not useful \n",
    "\n",
    "### Replace year_built"
   ]
  },
  {
   "cell_type": "code",
   "execution_count": null,
   "id": "ec1be0be",
   "metadata": {},
   "outputs": [],
   "source": [
    "df.year_built.hist()"
   ]
  },
  {
   "cell_type": "code",
   "execution_count": null,
   "id": "253cd318",
   "metadata": {},
   "outputs": [],
   "source": [
    "df.year_built.describe()"
   ]
  },
  {
   "cell_type": "code",
   "execution_count": null,
   "id": "b9fa188e",
   "metadata": {},
   "outputs": [],
   "source": [
    "df.year_built.value_counts()"
   ]
  },
  {
   "cell_type": "code",
   "execution_count": null,
   "id": "ef05a5f6",
   "metadata": {},
   "outputs": [],
   "source": [
    "#Set year_built to 1955, most used year\n",
    "df.year_built = df.year_built.replace(np.nan, 1955)"
   ]
  },
  {
   "cell_type": "code",
   "execution_count": null,
   "id": "3079e773",
   "metadata": {},
   "outputs": [],
   "source": [
    "df.isna().sum()"
   ]
  },
  {
   "cell_type": "markdown",
   "id": "c797c7cf",
   "metadata": {},
   "source": [
    "### Replace area NaN with most used "
   ]
  },
  {
   "cell_type": "code",
   "execution_count": null,
   "id": "c8b41c32",
   "metadata": {},
   "outputs": [],
   "source": [
    "df.area.describe()"
   ]
  },
  {
   "cell_type": "code",
   "execution_count": null,
   "id": "d4985d30",
   "metadata": {},
   "outputs": [],
   "source": [
    "df.area.hist()"
   ]
  },
  {
   "cell_type": "code",
   "execution_count": null,
   "id": "82ccecf0",
   "metadata": {},
   "outputs": [],
   "source": [
    "df[df.area < 3000].area.hist()"
   ]
  },
  {
   "cell_type": "code",
   "execution_count": null,
   "id": "ad1e4448",
   "metadata": {},
   "outputs": [],
   "source": [
    "df[(df.area > 1268) & (df.area < 2306)].area.hist()"
   ]
  },
  {
   "cell_type": "code",
   "execution_count": null,
   "id": "d51727fa",
   "metadata": {},
   "outputs": [],
   "source": [
    "df.area.value_counts()"
   ]
  },
  {
   "cell_type": "markdown",
   "id": "b0dac9d9",
   "metadata": {},
   "source": [
    "### Replace Area NaN with Most Used 1120"
   ]
  },
  {
   "cell_type": "code",
   "execution_count": null,
   "id": "7c021aa1",
   "metadata": {},
   "outputs": [],
   "source": [
    "# replace area Nan with most used area (1120)\n",
    "df.area = df.area.replace(np.nan, 1120)\n",
    "df.isna().sum()"
   ]
  },
  {
   "cell_type": "markdown",
   "id": "36eb111b",
   "metadata": {},
   "source": [
    "### Drop columns garage and neighborhood, too many missing NaN and not usefult"
   ]
  },
  {
   "cell_type": "code",
   "execution_count": null,
   "id": "80f7c882",
   "metadata": {},
   "outputs": [],
   "source": [
    "# Drop garages and neighborhood, too many NaN in garage and neighborhoo\n",
    "df = df.drop(columns=['garages','neighborhood'])\n",
    "df.isna().sum()"
   ]
  },
  {
   "cell_type": "markdown",
   "id": "46521f59",
   "metadata": {},
   "source": [
    "### Drop Null from the rest beause recordes are few"
   ]
  },
  {
   "cell_type": "code",
   "execution_count": null,
   "id": "74b9bfbe",
   "metadata": {},
   "outputs": [],
   "source": [
    "# NaN left are few, dropping all NaNs\n",
    "df = df.dropna()\n",
    "df.shape"
   ]
  },
  {
   "cell_type": "markdown",
   "id": "38846d9b",
   "metadata": {},
   "source": [
    "### Nulls are removed\n",
    "### Check Data Typ and change data type from float to int"
   ]
  },
  {
   "cell_type": "code",
   "execution_count": null,
   "id": "0bf0e736",
   "metadata": {},
   "outputs": [],
   "source": [
    "df.info()"
   ]
  },
  {
   "cell_type": "code",
   "execution_count": null,
   "id": "d4f2d159",
   "metadata": {},
   "outputs": [],
   "source": [
    "df.head()"
   ]
  },
  {
   "cell_type": "code",
   "execution_count": null,
   "id": "7ab4c466",
   "metadata": {},
   "outputs": [],
   "source": [
    "# convert all columnst to integer for readability\n",
    "df = df.astype('int')"
   ]
  },
  {
   "cell_type": "markdown",
   "id": "5bf228ac",
   "metadata": {},
   "source": [
    "### Confirm Data Type Changed to Integer for readabilityh"
   ]
  },
  {
   "cell_type": "code",
   "execution_count": null,
   "id": "0da464e9",
   "metadata": {},
   "outputs": [],
   "source": [
    "df.info()"
   ]
  },
  {
   "cell_type": "code",
   "execution_count": null,
   "id": "dd35cd8a",
   "metadata": {},
   "outputs": [],
   "source": [
    "df.head()"
   ]
  },
  {
   "cell_type": "markdown",
   "id": "387f9ba8",
   "metadata": {},
   "source": [
    "### Data Type changed to integer\n",
    "## Visualizing Distributions and Outliers"
   ]
  },
  {
   "cell_type": "markdown",
   "id": "82046533",
   "metadata": {},
   "source": [
    "### Plot Histograms"
   ]
  },
  {
   "cell_type": "code",
   "execution_count": null,
   "id": "47e8dc76",
   "metadata": {
    "scrolled": false
   },
   "outputs": [],
   "source": [
    "plt.figure(figsize=(15, 5))\n",
    "\n",
    "# List of columns\n",
    "cols = [col for col in df.columns.drop(['fips']).to_list()]\n",
    "\n",
    "for i, col in enumerate(cols,1):\n",
    "\n",
    "    # i starts at 0, but plot nos should start at 1\n",
    "    plot_number = i\n",
    "\n",
    "    # Create subplot.\n",
    "    plt.subplot(1, len(cols), plot_number)\n",
    "\n",
    "    # Title with column name.\n",
    "    plt.title(col)\n",
    "\n",
    "    # Display histogram for column.\n",
    "    df[col].hist()\n",
    "\n",
    "    # Hide gridlines.\n",
    "    plt.grid()\n",
    "    \n",
    "    # turn off scientific notation\n",
    "    #plt.ticklabel_format(useOffset=False)\n",
    "    \n",
    "plt.show()"
   ]
  },
  {
   "cell_type": "markdown",
   "id": "2145845e",
   "metadata": {},
   "source": [
    "### Take Aways\n",
    "- x axis range is showing with no values meaning they are skewed\n",
    "- tax_value has sever skew since its x-axis got to 1e7 \n",
    "- area has skew"
   ]
  },
  {
   "cell_type": "markdown",
   "id": "81ea64ef",
   "metadata": {},
   "source": [
    "### Plot Box Plots"
   ]
  },
  {
   "cell_type": "code",
   "execution_count": null,
   "id": "522fa2f9",
   "metadata": {},
   "outputs": [],
   "source": [
    "# plot box plots for columns except fips\n",
    "plt.figure(figsize=(15,8))\n",
    "plt.ticklabel_format(useOffset=False, style='plain')\n",
    "sns.boxplot(data=df.drop(columns=['fips']))\n",
    "plt.show()"
   ]
  },
  {
   "cell_type": "markdown",
   "id": "a5a82f18",
   "metadata": {},
   "source": [
    "### Take Aways\n",
    "- tax_value has a severe skew making the other columsn unreadable"
   ]
  },
  {
   "cell_type": "markdown",
   "id": "6498564f",
   "metadata": {},
   "source": [
    "### Visualize Columns with Larger Box Plots"
   ]
  },
  {
   "cell_type": "code",
   "execution_count": null,
   "id": "2ebfac84",
   "metadata": {},
   "outputs": [],
   "source": [
    "plt.figure(figsize=(15, 20))\n",
    "\n",
    "# List of columns\n",
    "cols = [col for col in df.columns.drop(['fips']).to_list()]\n",
    "\n",
    "for i, col in enumerate(cols,1):\n",
    "\n",
    "    # i starts at 0, but plot nos should start at 1\n",
    "    plot_number = i\n",
    "\n",
    "    # Create subplot.\n",
    "    plt.subplot(1, len(cols), plot_number)\n",
    "\n",
    "    # Title with column name.\n",
    "    plt.title(col)\n",
    "\n",
    "    # Display histogram for column.\n",
    "    sns.boxplot(data=df[col])\n",
    "\n",
    "    # Hide gridlines.\n",
    "    plt.grid()\n",
    "    \n",
    "    # turn off scientific notation\n",
    "    #plt.ticklabel_format(useOffset=False)\n",
    "    \n",
    "plt.show()"
   ]
  },
  {
   "cell_type": "markdown",
   "id": "05fd57b8",
   "metadata": {},
   "source": [
    "### Take Aways\n",
    "- Lager Plot Boxesshow many outliers with a huge skew for tax_value"
   ]
  },
  {
   "cell_type": "markdown",
   "id": "0e7fa131",
   "metadata": {},
   "source": [
    "# <font color = 'red'>Prep Data (Tidy, Wrangle, Split)"
   ]
  },
  {
   "cell_type": "markdown",
   "id": "c5ebeef4",
   "metadata": {},
   "source": [
    "## Tidy Data\n",
    "### Remove Outliers"
   ]
  },
  {
   "cell_type": "markdown",
   "id": "6eb7ae70",
   "metadata": {},
   "source": [
    "### Create List of columns to remove outliers from"
   ]
  },
  {
   "cell_type": "code",
   "execution_count": null,
   "id": "aded6bf2",
   "metadata": {},
   "outputs": [],
   "source": [
    "# prep for outlier removal: not including categories fips, pools, zipcode\n",
    "cols_list = df.drop(columns=['fips','zipcode', 'pools'])\n",
    "cols_list.head()"
   ]
  },
  {
   "cell_type": "markdown",
   "id": "9215da3a",
   "metadata": {},
   "source": [
    "### Check Shape and Row Count"
   ]
  },
  {
   "cell_type": "code",
   "execution_count": null,
   "id": "a97b2d43",
   "metadata": {
    "scrolled": true
   },
   "outputs": [],
   "source": [
    "df.shape"
   ]
  },
  {
   "cell_type": "markdown",
   "id": "c1a3df1f",
   "metadata": {},
   "source": [
    "### Find quartile points for upper / lower bounds and remove outliers"
   ]
  },
  {
   "cell_type": "code",
   "execution_count": null,
   "id": "196d9ec4",
   "metadata": {},
   "outputs": [],
   "source": [
    " for col in cols_list:\n",
    "\n",
    "        q1, q3 = df[col].quantile([.25, .75])  # get quartiles\n",
    "        \n",
    "        iqr = q3 - q1   # calculate interquartile range\n",
    "        \n",
    "        upper_bound = q3 + 2 * iqr   # get upper bound\n",
    "        lower_bound = q1 - 2 * iqr   # get lower bound\n",
    "\n",
    "        # return dataframe without outliers\n",
    "        \n",
    "        df = df[(df[col] > lower_bound) & (df[col] < upper_bound)]"
   ]
  },
  {
   "cell_type": "markdown",
   "id": "e005f196",
   "metadata": {},
   "source": [
    "\n",
    "### Check shape and confirmed lost around 5K records"
   ]
  },
  {
   "cell_type": "code",
   "execution_count": null,
   "id": "3400bc3e",
   "metadata": {},
   "outputs": [],
   "source": [
    "df.shape"
   ]
  },
  {
   "cell_type": "markdown",
   "id": "cd0589e2",
   "metadata": {},
   "source": [
    "### Display Box Plots to visualize new ranges"
   ]
  },
  {
   "cell_type": "code",
   "execution_count": null,
   "id": "22e815f3",
   "metadata": {},
   "outputs": [],
   "source": [
    "plt.figure(figsize=(15, 20))\n",
    "\n",
    "# List of columns\n",
    "cols = [col for col in df.columns.drop(['fips']).to_list()]\n",
    "\n",
    "for i, col in enumerate(cols,1):\n",
    "\n",
    "    # i starts at 0, but plot nos should start at 1\n",
    "    plot_number = i\n",
    "\n",
    "    # Create subplot.\n",
    "    plt.subplot(1, len(cols), plot_number)\n",
    "\n",
    "    # Title with column name.\n",
    "    plt.title(col)\n",
    "\n",
    "    # Display histogram for column.\n",
    "    sns.boxplot(data=df[col])\n",
    "\n",
    "    # Hide gridlines.\n",
    "    plt.grid()\n",
    "    \n",
    "    # turn off scientific notation\n",
    "    #plt.ticklabel_format(useOffset=False)\n",
    "    \n",
    "plt.show()"
   ]
  },
  {
   "cell_type": "markdown",
   "id": "fd3779a1",
   "metadata": {},
   "source": [
    "### Take Away:\n",
    "- Box Plot outliers are more visual and boxes are clear\n",
    "### Display historgrams to visualize distributions"
   ]
  },
  {
   "cell_type": "code",
   "execution_count": null,
   "id": "12ce9297",
   "metadata": {},
   "outputs": [],
   "source": [
    "plt.figure(figsize=(15, 5))\n",
    "\n",
    "# List of columns\n",
    "cols = [col for col in df.columns.drop(['fips']).to_list()]\n",
    "\n",
    "for i, col in enumerate(cols,1):\n",
    "\n",
    "    # i starts at 0, but plot nos should start at 1\n",
    "    plot_number = i\n",
    "\n",
    "    # Create subplot.\n",
    "    plt.subplot(1, len(cols), plot_number)\n",
    "\n",
    "    # Title with column name.\n",
    "    plt.title(col)\n",
    "\n",
    "    # Display histogram for column.\n",
    "    df[col].hist()\n",
    "\n",
    "    # Hide gridlines.\n",
    "    plt.grid()\n",
    "    \n",
    "    # turn off scientific notation\n",
    "    #plt.ticklabel_format(useOffset=False)\n",
    "    \n",
    "plt.show()"
   ]
  },
  {
   "cell_type": "markdown",
   "id": "a5c7e027",
   "metadata": {},
   "source": [
    "### Take Away:\n",
    "- Distribution looks good, no more large blanks along the x-axis\n",
    "- Tax_value x-axis has skew but I lowering the limit bounds doens't change\n",
    "- Long/Lat has skew but I don't want to change the values\n",
    "- End with 47.5K records"
   ]
  },
  {
   "cell_type": "markdown",
   "id": "420b9d8d",
   "metadata": {},
   "source": [
    "## Univariate Analysis"
   ]
  },
  {
   "cell_type": "markdown",
   "id": "05b3dda0",
   "metadata": {},
   "source": [
    "### Closer look at columns with histograph"
   ]
  },
  {
   "cell_type": "code",
   "execution_count": null,
   "id": "1530ee83",
   "metadata": {},
   "outputs": [],
   "source": [
    "\n",
    "for col in df.columns:\n",
    "    plt.figure(figsize=(15,5))\n",
    "    plt.hist(df[col])\n",
    "    plt.title(col)\n"
   ]
  },
  {
   "cell_type": "code",
   "execution_count": null,
   "id": "8f6783eb",
   "metadata": {
    "scrolled": true
   },
   "outputs": [],
   "source": [
    "df.info()"
   ]
  },
  {
   "cell_type": "code",
   "execution_count": null,
   "id": "8d79131d",
   "metadata": {},
   "outputs": [],
   "source": [
    "df.describe().apply(lambda s: s.apply(lambda x: format(x, 'g')))"
   ]
  },
  {
   "cell_type": "code",
   "execution_count": null,
   "id": "784402e6",
   "metadata": {},
   "outputs": [],
   "source": [
    "# perform value counts for each column\n",
    "for col in df.columns:\n",
    "    print(f'----------------{col}--------------------')\n",
    "    print(df[col].value_counts())"
   ]
  },
  {
   "cell_type": "markdown",
   "id": "38adcccf",
   "metadata": {},
   "source": [
    "## Data Context\n",
    "- 43.8K records\n",
    "- lowest tax_value is 3.3K\n",
    "- highest tax_value is 1.37M\n",
    "- mean tax_value is about 343.2K\n",
    "- most tax_value below 400K\n",
    "- \n",
    "- bedroom counts: 2,3,4,5 (most have 3)\n",
    "- bathroom counts: 1,2,3,4 (most have 2)\n",
    "- most lot_size between 5K-7K sqft\n",
    "- most house area between 1K and 1.75K sqft\n",
    "- fips (county): 6037 (Los Angeles County),6059 (Orange County) , 6111 (Ventura County)\n",
    "- most houses in fips6037\n",
    "- most houses between latitude 33600000 and 34300000\n",
    "- most houses between longitude -118600000 and -117600000"
   ]
  },
  {
   "cell_type": "markdown",
   "id": "7faad9e9",
   "metadata": {},
   "source": [
    "## Split Data"
   ]
  },
  {
   "cell_type": "code",
   "execution_count": null,
   "id": "310b6b4b",
   "metadata": {},
   "outputs": [],
   "source": [
    " # train/validate/test split\n",
    "train_validate, test = train_test_split(df, test_size=.2, random_state=123)\n",
    "train, validate = train_test_split(train_validate, test_size=.3, random_state=123)"
   ]
  },
  {
   "cell_type": "code",
   "execution_count": null,
   "id": "37107759",
   "metadata": {},
   "outputs": [],
   "source": [
    "df.shape, train.shape, validate.shape, test.shape"
   ]
  },
  {
   "cell_type": "code",
   "execution_count": null,
   "id": "3498ebc4",
   "metadata": {},
   "outputs": [],
   "source": []
  },
  {
   "cell_type": "markdown",
   "id": "26daad51",
   "metadata": {},
   "source": [
    "# <font color ='red'> Exploration and Pre-Processing"
   ]
  },
  {
   "cell_type": "markdown",
   "id": "344b1c78",
   "metadata": {},
   "source": [
    "## Explore Train Data"
   ]
  },
  {
   "cell_type": "markdown",
   "id": "3cd8c2d4",
   "metadata": {},
   "source": [
    "### What are the questions:\n",
    "- What are the transactions are in 2017?\n",
    "    - Started with 52.5K houses, removed 5K for outliers/nulls, 47.5K houses remaining\n",
    "- What states and counties are the properties located in?\n",
    "    - California,. Counties: Los Angeles, Ventura, Orange\n",
    "- What is the tax rate per county? (might have to combine columns to calcualate)\n",
    "    - Los Angele County Tax Rate: 1.42%\n",
    "    - Orange County Tax Rate: 1.21%\n",
    "    - Vetura County Tax Rate: 1.18%\n",
    "- What is the distribution of tax_value for each county?\n",
    "    - LA County has the most houses with most of those peaking between 100-300K\n",
    "    - Ventura and Orange County have less houses and peak between 300-500K\n",
    "- What are the drivers of single family property values?\n",
    "    - Drivers indicated: Area, Bathrooms, Bedrooms\n",
    "- Why do some properties have a much higher value than others when they are located so close to each other?\n",
    "    - ???\n",
    "- Why are some properties valued so differently from others when they have nearly the same physical attributes but only differ in location? \n",
    "    - ???\n",
    "- Is having 1 bathroom worse than having 2 bedrooms?\n",
    "    - Bathroom seems to be more important than bedrooms"
   ]
  },
  {
   "cell_type": "markdown",
   "id": "22bf1fe7",
   "metadata": {},
   "source": [
    "### What is the tax rate per county?"
   ]
  },
  {
   "cell_type": "code",
   "execution_count": null,
   "id": "1dbedc3d",
   "metadata": {},
   "outputs": [],
   "source": [
    "((train[train.fips==6037].tax_amount) / (train[train.fips==6037].tax_value)).mean()"
   ]
  },
  {
   "cell_type": "code",
   "execution_count": null,
   "id": "648d5a95",
   "metadata": {},
   "outputs": [],
   "source": [
    "((train[train.fips==6059].tax_amount) / (train[train.fips==6059].tax_value)).mean()"
   ]
  },
  {
   "cell_type": "code",
   "execution_count": null,
   "id": "c22840eb",
   "metadata": {},
   "outputs": [],
   "source": [
    "((train[train.fips==6111].tax_amount) / (train[train.fips==6111].tax_value)).mean()"
   ]
  },
  {
   "cell_type": "markdown",
   "id": "5bd769ef",
   "metadata": {},
   "source": [
    "## Multivariate Analysis"
   ]
  },
  {
   "cell_type": "markdown",
   "id": "b842f5ed",
   "metadata": {},
   "source": [
    "### What are house values with pools"
   ]
  },
  {
   "cell_type": "code",
   "execution_count": null,
   "id": "5af16cd9",
   "metadata": {},
   "outputs": [],
   "source": [
    "sns.relplot(data=train, x='lot_size', y='tax_value', hue='pools')"
   ]
  },
  {
   "cell_type": "markdown",
   "id": "a83fdba8",
   "metadata": {},
   "source": [
    "### Note: \n",
    "- Pools increase with lot_size\n",
    "\n",
    "### Show value by area with pools"
   ]
  },
  {
   "cell_type": "code",
   "execution_count": null,
   "id": "d1b39605",
   "metadata": {},
   "outputs": [],
   "source": [
    "sns.relplot(data=train, x='area', y='tax_value', hue='pools')"
   ]
  },
  {
   "cell_type": "markdown",
   "id": "62de6879",
   "metadata": {},
   "source": [
    "### Slight correlationo with pools and house value\n",
    "\n",
    "### Show house values by coorinates"
   ]
  },
  {
   "cell_type": "code",
   "execution_count": null,
   "id": "8f6c5376",
   "metadata": {},
   "outputs": [],
   "source": [
    "sns.relplot(data=train, x='longitude', y='latitude', hue='tax_value')\n",
    "plt.show()"
   ]
  },
  {
   "cell_type": "code",
   "execution_count": null,
   "id": "dcbdf089",
   "metadata": {},
   "outputs": [],
   "source": [
    "train.tax_value.describe()"
   ]
  },
  {
   "cell_type": "code",
   "execution_count": null,
   "id": "89e0eb50",
   "metadata": {},
   "outputs": [],
   "source": [
    "# Show house vlaues create than mean by coorindates, shows a map\n",
    "value_map = df[df.tax_value > df.tax_value.mean()]\n",
    "sns.relplot(data=value_map, x='longitude', y='latitude', hue='tax_value', height=5, aspect=2)\n",
    "plt.show()"
   ]
  },
  {
   "cell_type": "code",
   "execution_count": null,
   "id": "362b46a1",
   "metadata": {},
   "outputs": [],
   "source": [
    "# Show relplot of long/lat coords to show map of homes valued at twice the mean\n",
    "value_map = df[df.tax_value > (df.tax_value.mean() * 2)]\n",
    "sns.relplot(data=value_map, x='longitude', y='latitude', hue='tax_value', height=5, aspect=2)\n",
    "plt.show()"
   ]
  },
  {
   "cell_type": "markdown",
   "id": "9b454602",
   "metadata": {},
   "source": [
    "### Notes:\n",
    "- Highest values alongm the coast and "
   ]
  },
  {
   "cell_type": "markdown",
   "id": "c70e5e6c",
   "metadata": {},
   "source": [
    "### What is the distribution of tax_value across counties\n",
    "### Show Average Tax Amounts across Counties"
   ]
  },
  {
   "cell_type": "code",
   "execution_count": null,
   "id": "32a92b84",
   "metadata": {},
   "outputs": [],
   "source": [
    "# Show Average House Tax Amounts Aross Counties\n",
    "plt.figure(figsize=(15,5))\n",
    "sns.barplot(x=train.fips, y=train.tax_amount)\n",
    "plt.axhline(y=train.tax_amount.mean(), color='r')\n",
    "plt.xlabel('County Identifer')\n",
    "plt.ylabel('Average Tax Amount')\n",
    "plt.show()"
   ]
  },
  {
   "cell_type": "markdown",
   "id": "3b9dc1dd",
   "metadata": {},
   "source": [
    "### Notes:\n",
    "- Tax Amounts across counties don't have significant difference\n",
    "### Shows Average Tax Value Across Counties"
   ]
  },
  {
   "cell_type": "code",
   "execution_count": null,
   "id": "d52d3272",
   "metadata": {},
   "outputs": [],
   "source": [
    "# Show Average Tax Value across counties\n",
    "plt.figure(figsize=(15,5))\n",
    "sns.barplot(x=train.fips, y=train.tax_value)\n",
    "plt.axhline(y=train.tax_value.mean(), color='red')\n",
    "plt.xlabel('County Identifer')\n",
    "plt.ylabel('Average Tax Value')\n",
    "plt.show()"
   ]
  },
  {
   "cell_type": "markdown",
   "id": "a39eff74",
   "metadata": {},
   "source": [
    "### Notes:\n",
    "- No significant differnce of tax values between counties however 6037 does drop\n",
    "\n",
    "### T-Test: Is avg tax_value in fips 6059 > avg tax_value in fips 6111\n",
    "- H0: fips 6059 avg tax value <= fips 6111 avg tax_value\n",
    "- H1: fips 6059 avg tax value > fips 6111 avg tax_value"
   ]
  },
  {
   "cell_type": "code",
   "execution_count": null,
   "id": "6bad5ac8",
   "metadata": {},
   "outputs": [],
   "source": [
    "fips_6059 = train[train.fips==6059].tax_value\n",
    "fips_6111 = train[train.fips==6111].tax_value"
   ]
  },
  {
   "cell_type": "code",
   "execution_count": null,
   "id": "52acba26",
   "metadata": {},
   "outputs": [],
   "source": [
    "alpha = .05\n",
    "t,p = stats.ttest_ind(fips_6059, fips_6111)\n",
    "t, p, alpha"
   ]
  },
  {
   "cell_type": "markdown",
   "id": "de6d689b",
   "metadata": {},
   "source": [
    "### Notes:\n",
    "- p < alpha, reject H0, fips 6059 is signficant increase\n",
    "\n",
    "### T-Test: Is avg tax_value in fips 6059 > avg tax-value of all fips\n",
    "- H0: fips 6059 avg tax value <= avg tax_value of all fips\n",
    "- H1: fips 6059 avg tax value > avg tax_value of all fips"
   ]
  },
  {
   "cell_type": "code",
   "execution_count": null,
   "id": "aa538b32",
   "metadata": {},
   "outputs": [],
   "source": [
    "fips_6059 = train[train.fips==6059].tax_value\n",
    "fips_mean = train.tax_value.mean()"
   ]
  },
  {
   "cell_type": "code",
   "execution_count": null,
   "id": "526aad67",
   "metadata": {},
   "outputs": [],
   "source": [
    "alpha = .05\n",
    "t,p = stats.ttest_1samp(fips_6059, fips_mean)\n",
    "t, p, alpha"
   ]
  },
  {
   "cell_type": "markdown",
   "id": "8635b0bf",
   "metadata": {},
   "source": [
    "### Notes:\n",
    "- p > alpha, reject H0, fips 6059 is greater than avg of tax_values across fips\n",
    "\n",
    "### What is the distribution of Value for each Countya"
   ]
  },
  {
   "cell_type": "code",
   "execution_count": null,
   "id": "47c3da6e",
   "metadata": {},
   "outputs": [],
   "source": [
    "# Show distribution of House Values for each county\n",
    "sns.displot(x=train.tax_value, hue=train.fips, height=5, aspect=2.5)\n",
    "plt.xlabel('Home Tax Value')\n",
    "plt.ylabel('Home Count')\n",
    "plt.show()"
   ]
  },
  {
   "cell_type": "markdown",
   "id": "63df58aa",
   "metadata": {},
   "source": [
    "### Note:\n",
    "- In County 6037, More houses are around 100-300K\n",
    "- In other counties, most house around 400K\n",
    "\n",
    "### What is the tax amount distribution across counties?"
   ]
  },
  {
   "cell_type": "markdown",
   "id": "c55c6241",
   "metadata": {},
   "source": [
    "### Note:\n",
    "- county 6037, most around 3K\n",
    "- other counties, most around 4-5K"
   ]
  },
  {
   "cell_type": "markdown",
   "id": "3cf3aca3",
   "metadata": {},
   "source": [
    "### Use Pair Plot to find correlation"
   ]
  },
  {
   "cell_type": "code",
   "execution_count": null,
   "id": "1c5ef40c",
   "metadata": {},
   "outputs": [],
   "source": [
    "#sns.pairplot(train)"
   ]
  },
  {
   "cell_type": "markdown",
   "id": "15ce3032",
   "metadata": {},
   "source": [
    "### Notes:\n",
    "- Nothing siginficant to show\n",
    "### Show Heatmap to find correlation between columns"
   ]
  },
  {
   "cell_type": "code",
   "execution_count": null,
   "id": "9eff21d7",
   "metadata": {},
   "outputs": [],
   "source": [
    "corr_table = train.drop(columns=['fips']).corr()\n",
    "plt.figure(figsize=(10,8))\n",
    "sns.heatmap(corr_table, cmap='Purples', annot=True, linewidth=0.5, mask= np.triu(corr_table))\n",
    "plt.show()"
   ]
  },
  {
   "cell_type": "markdown",
   "id": "7ab5f6d5",
   "metadata": {},
   "source": [
    "### Notes:\n",
    "- tax_value:area = .50\n",
    "- tax_value:bathrooms = .39\n",
    "- tax_value:year_built = .25\n",
    "- tax_value:bedrooms = .22\n",
    "- area:bathrooms = .77\n",
    "- area:bedrooms = .61\n",
    "- area:year_built = .49\n",
    "- bathroom:bedrooms = .58\n",
    "- bathroom:year_built = .51\n",
    "### Largest Correlations to Value is Area. Area to Bathrooms and Bedrooms.\n",
    "\n",
    "### Show correlation between year_built and area with tax_value"
   ]
  },
  {
   "cell_type": "code",
   "execution_count": null,
   "id": "1d67b0cc",
   "metadata": {},
   "outputs": [],
   "source": [
    "# Shows that value increases with area & year_built\n",
    "sns.relplot(x='year_built', y='area', data=train,  hue='tax_value', kind='scatter')\n",
    "plt.xlabel('Year Built')\n",
    "plt.ylabel('House Tax Value')\n",
    "plt.show()"
   ]
  },
  {
   "cell_type": "markdown",
   "id": "2032404a",
   "metadata": {},
   "source": [
    "### Notes:\n",
    "- Show tax_value increases with area increase but year_built has little impact\n",
    "\n",
    "### Show correlation between tax_value and area with bathrooms"
   ]
  },
  {
   "cell_type": "code",
   "execution_count": null,
   "id": "8fedb2b0",
   "metadata": {},
   "outputs": [],
   "source": [
    "#shows that increasd area tends to have increases bathrooms. Slight correlation to increased value.\n",
    "sns.relplot(x='area', y='tax_value', data=train, hue='bathrooms', kind='scatter')\n",
    "plt.xlabel('House Area in Sqft')\n",
    "plt.ylabel('House Tax Value')\n",
    "plt.show()"
   ]
  },
  {
   "cell_type": "markdown",
   "id": "55dca9b1",
   "metadata": {},
   "source": [
    "### Notes:\n",
    "- Shows that increased area has correlatioin with increased  bathroms but little impact to price\n",
    "\n",
    "### Show correlation between area and tax_value with bedrooms"
   ]
  },
  {
   "cell_type": "code",
   "execution_count": null,
   "id": "5c92681a",
   "metadata": {},
   "outputs": [],
   "source": [
    "# Shows that bedrooms does not associate to value. Mostly to area.\n",
    "plt.figure(figsize=(10,10))\n",
    "sns.relplot(x='area', y='tax_value', data=train, hue='bedrooms', kind='scatter')\n",
    "plt.ylabel('House Tax Value')"
   ]
  },
  {
   "cell_type": "markdown",
   "id": "ebc2b278",
   "metadata": {},
   "source": [
    "### Notes:\n",
    "- Show that bedrooms have slight correlatoin to area but not as much as bathroom. And little impact to value\n",
    "\n",
    "### Show correlation between year_built and tax_value with bathrooms"
   ]
  },
  {
   "cell_type": "code",
   "execution_count": null,
   "id": "e9c93076",
   "metadata": {},
   "outputs": [],
   "source": [
    "plt.figure(figsize=(10,10))\n",
    "sns.relplot(x='year_built', y='tax_value', data=train, hue='bathrooms', kind='scatter')\n",
    "plt.ylabel('House Tax Value')"
   ]
  },
  {
   "cell_type": "markdown",
   "id": "8858267c",
   "metadata": {},
   "source": [
    "### Notes:\n",
    "- Show later years have more bathrooms which also have higher tax_value\n",
    "\n",
    "### Show correlation between year_built and tax_value with bedrooms"
   ]
  },
  {
   "cell_type": "code",
   "execution_count": null,
   "id": "43e054a8",
   "metadata": {},
   "outputs": [],
   "source": [
    "# Shows that later years have more bedrooms but seem to impact value\n",
    "plt.figure(figsize=(10,20))\n",
    "sns.relplot(x='year_built', y='tax_value', data=train, hue='bedrooms', kind='scatter')\n",
    "plt.ylabel('House Tax Value')\n",
    "plt.show()"
   ]
  },
  {
   "cell_type": "markdown",
   "id": "85648786",
   "metadata": {},
   "source": [
    "### Notes:\n",
    "- Slight correlation with inceasd bedrooms and new homes which increases value. Most likely because increased bedrooms means increased area.\n",
    "\n",
    "### Show correlation between year_built and value with area"
   ]
  },
  {
   "cell_type": "code",
   "execution_count": null,
   "id": "12a71038",
   "metadata": {},
   "outputs": [],
   "source": [
    "# Shows increased area has  year increased and more high areas have high value\n",
    "sns.relplot(x='year_built', y='tax_value', data=train, hue='area', kind='scatter')\n",
    "plt.xlabel('Year Built')\n",
    "plt.ylabel('House Tax Value')\n",
    "plt.show()"
   ]
  },
  {
   "cell_type": "markdown",
   "id": "92f43d41",
   "metadata": {},
   "source": [
    "### Notes:\n",
    "- Shows increased area are newer homes and have high value\n",
    "\n",
    "### Show correlation between year_built and value with fips"
   ]
  },
  {
   "cell_type": "code",
   "execution_count": null,
   "id": "e8df87e0",
   "metadata": {},
   "outputs": [],
   "source": [
    "# shows that 6037 has majority of properties, 6059 has more high value properties\n",
    "sns.relplot(x='year_built', y='tax_value', data=train, hue='fips', kind='scatter')\n",
    "plt.ylabel('House Tax Value')\n",
    "plt.xlabel('Year Built')\n",
    "plt.show()"
   ]
  },
  {
   "cell_type": "markdown",
   "id": "1c6100b8",
   "metadata": {},
   "source": [
    "### Notes:\n",
    "- shows that 6037 has majority of properties\n",
    "- show that 6059 abd 6111 has newer homes\n",
    "\n",
    "### Show correlation between area and value with fips"
   ]
  },
  {
   "cell_type": "code",
   "execution_count": null,
   "id": "04c59afb",
   "metadata": {},
   "outputs": [],
   "source": [
    "# compare area vs value by fips\n",
    "sns.relplot(x='area', y='tax_value', data=train, hue='fips', kind='scatter')\n",
    "plt.ylabel('House Tax Value')\n",
    "plt.xlabel('House Area in Sqft')\n",
    "plt.show()"
   ]
  },
  {
   "cell_type": "markdown",
   "id": "c16ed52e",
   "metadata": {},
   "source": [
    "### Notes:\n",
    "- Shows area and value correlate across fips\n",
    "\n",
    "### Plot Value to Lot Size by FIPS"
   ]
  },
  {
   "cell_type": "code",
   "execution_count": null,
   "id": "cddff1f7",
   "metadata": {},
   "outputs": [],
   "source": [
    "# compare lot size vs value by fips\n",
    "sns.relplot(x='lot_size', y='tax_value', data=train, hue='fips', kind='scatter')\n",
    "plt.ylabel('House Tax Value')\n",
    "plt.xlabel('Lot Size in Sqft')\n",
    "plt.show()"
   ]
  },
  {
   "cell_type": "markdown",
   "id": "38ccb929",
   "metadata": {},
   "source": [
    "### Notes:\n",
    "- 6059 has more smaller lots. Nothing significant toward value\n",
    "\n",
    "### Show Bar Plot for value vs area by fips (Stopped Loading)"
   ]
  },
  {
   "cell_type": "code",
   "execution_count": null,
   "id": "ecc3085c",
   "metadata": {},
   "outputs": [],
   "source": [
    "# Bar plot ford value vs area categoriezed by fips.\n",
    "# sns.barplot(data=train, y='tax_value', x='area')\n",
    "# plt.ylabel('House Tax Value')\n",
    "# plt.show()"
   ]
  },
  {
   "cell_type": "markdown",
   "id": "2a7ded11",
   "metadata": {},
   "source": [
    "### Note:\n",
    "- Show nothing new. value increases with area.\n",
    "\n",
    "### Show Strip Plot"
   ]
  },
  {
   "cell_type": "code",
   "execution_count": null,
   "id": "1ed2a1bb",
   "metadata": {},
   "outputs": [],
   "source": [
    "# sns.stripplot(x='bedrooms', y='tax_value', data=atrain)"
   ]
  },
  {
   "cell_type": "markdown",
   "id": "ea95b92f",
   "metadata": {},
   "source": [
    "### Note:\n",
    "- Stip Plot shows nothging readable\n",
    "\n",
    "## Summarize Exploration\n",
    "- We have 47,500 houses across three California counites of (Los Angeles, Ventura, and Orange)\n",
    "- Best Three drivers are Area, Bathrooms, and Bedrooms in that order\n",
    "- Los Angels County has a .2% higher tax rate than the other counties. It also had significantly more houses with a value distribution that peaks between 100-300K.\n",
    "- Ventura and Orange Counties have a lower tax rate and with significantly less houses that have a value distribution that peak between 300-500K.\n",
    "- More high value hosues are along the coast and in Orange County\n",
    "\n",
    "## Pre-Processing (Prep Data for Modeling)"
   ]
  },
  {
   "cell_type": "markdown",
   "id": "9e1ab6f1",
   "metadata": {},
   "source": [
    "### Drop Unusable and Unneeded Columns for Modeling"
   ]
  },
  {
   "cell_type": "code",
   "execution_count": null,
   "id": "4b8dc409",
   "metadata": {},
   "outputs": [],
   "source": [
    "# Drop columns not needed\n",
    "train = train.drop(columns=['tax_amount'])\n",
    "validate = validate.drop(columns=['tax_amount'])\n",
    "test = test.drop(columns=['tax_amount'])\n",
    "train.head()"
   ]
  },
  {
   "cell_type": "markdown",
   "id": "32fd7573",
   "metadata": {},
   "source": [
    "### Note:\n",
    "- Dropped tax_amount since it wil be data leakage during modeling\n",
    "\n",
    "# <font color = 'red'>Experiment with Models"
   ]
  },
  {
   "cell_type": "code",
   "execution_count": null,
   "id": "3162e55b",
   "metadata": {},
   "outputs": [],
   "source": [
    "# Filter sets by fips\n",
    "train = train[train.fips==6111]\n",
    "validate = train[train.fips==6111]\n",
    "test = train[train.fips==6111]"
   ]
  },
  {
   "cell_type": "markdown",
   "id": "4bc88562",
   "metadata": {},
   "source": [
    "## Results:\n",
    "- ???\n",
    "\n",
    "### Create y_train and X_train sets"
   ]
  },
  {
   "cell_type": "code",
   "execution_count": null,
   "id": "49578e9c",
   "metadata": {},
   "outputs": [],
   "source": [
    "# establish target column\n",
    "target = 'tax_value'\n",
    "\n",
    "# create X & y version of train, validate, test with y the target and X are the features. \n",
    "X_train = train.drop(columns=[target])\n",
    "y_train = train[target]\n",
    "\n",
    "X_validate = validate.drop(columns=[target])\n",
    "y_validate = validate[target]\n",
    "\n",
    "X_test = test.drop(columns=[target])\n",
    "y_test = test[target]"
   ]
  },
  {
   "cell_type": "code",
   "execution_count": null,
   "id": "ff43325f",
   "metadata": {},
   "outputs": [],
   "source": [
    "X_train.shape, X_validate.shape, X_test.shape, y_train.shape, y_validate.shape, y_test.shape"
   ]
  },
  {
   "cell_type": "markdown",
   "id": "913398ea",
   "metadata": {},
   "source": [
    "### Scale"
   ]
  },
  {
   "cell_type": "code",
   "execution_count": null,
   "id": "44e2a92c",
   "metadata": {},
   "outputs": [],
   "source": [
    "# Create the scale container\n",
    "scaler = sklearn.preprocessing.MinMaxScaler()\n",
    "\n",
    "\n",
    "# Fit the scaler to the features\n",
    "scaler.fit(X_train)\n",
    "\n",
    "# create scaled X versions \n",
    "X_train_scaled = scaler.transform(X_train)\n",
    "X_validate_scaled = scaler.transform(X_validate)\n",
    "X_test_scaled = scaler.transform(X_test)\n",
    "\n",
    "# Convert numpy array to pandas dataframe for feature Engineering\n",
    "X_train_scaled = pd.DataFrame(X_train_scaled, index=X_train.index, columns=X_train.columns.to_list())\n",
    "X_validate_scaled = pd.DataFrame(X_validate_scaled, index=X_validate.index, columns=X_validate.columns.to_list())\n",
    "X_test_scaled = pd.DataFrame(X_test_scaled, index=X_test.index, columns=X_test.columns.to_list())"
   ]
  },
  {
   "cell_type": "code",
   "execution_count": null,
   "id": "b2d14976",
   "metadata": {},
   "outputs": [],
   "source": [
    "X_train_scaled.head()"
   ]
  },
  {
   "cell_type": "markdown",
   "id": "082a6559",
   "metadata": {},
   "source": [
    "### Feature Engineering\n",
    "\n",
    "### Use Select K Best to find 3 Best Features\n"
   ]
  },
  {
   "cell_type": "code",
   "execution_count": null,
   "id": "9e89235d",
   "metadata": {},
   "outputs": [],
   "source": [
    "from sklearn.feature_selection import SelectKBest, f_regression\n",
    "\n",
    "# Use f_regression stats test each column to find best 3 features\n",
    "f_selector = SelectKBest(f_regression, k=3)\n",
    "\n",
    "# find tthe best correlations with y\n",
    "f_selector.fit(X_train_scaled, y_train)\n",
    "\n",
    "# Creaet boolean mask of the selected columns. \n",
    "feature_mask = f_selector.get_support()\n",
    "\n",
    "# get list of top K features. \n",
    "f_feature = X_train_scaled.iloc[:,feature_mask].columns.tolist()\n",
    "\n",
    "f_feature"
   ]
  },
  {
   "cell_type": "markdown",
   "id": "bd955aec",
   "metadata": {},
   "source": [
    "### Note:\n",
    "- Select K Best selected area, year_built, and bathrooms.\n",
    "\n",
    "### Use Recursive Feature Elemination to select 3 best features"
   ]
  },
  {
   "cell_type": "code",
   "execution_count": null,
   "id": "60a95c15",
   "metadata": {},
   "outputs": [],
   "source": [
    "from sklearn.linear_model import LinearRegression\n",
    "from sklearn.feature_selection import RFE\n",
    "\n",
    "# create the ML algorithm container\n",
    "lm = LinearRegression()\n",
    "\n",
    "# create the rfe container with the the number of features I want. \n",
    "rfe = RFE(lm, n_features_to_select=3)\n",
    "\n",
    "# fit RFE to the data\n",
    "rfe.fit(X_train_scaled,y_train)  \n",
    "\n",
    "# get the mask of the selected columns\n",
    "feature_mask = rfe.support_\n",
    "\n",
    "# get list of the column names. \n",
    "rfe_feature = X_train_scaled.iloc[:,feature_mask].columns.tolist()\n",
    "\n",
    "rfe_feature"
   ]
  },
  {
   "cell_type": "markdown",
   "id": "8dad55ab",
   "metadata": {},
   "source": [
    "### Notes:\n",
    "- RFE Select 3 Best Columns: area, latitude, longitude\n",
    "\n"
   ]
  },
  {
   "cell_type": "code",
   "execution_count": null,
   "id": "357056cb",
   "metadata": {},
   "outputs": [],
   "source": [
    "X_train_scaled.head()"
   ]
  },
  {
   "cell_type": "code",
   "execution_count": null,
   "id": "db79d66e",
   "metadata": {},
   "outputs": [],
   "source": [
    "# Remove Features before Modeling\n",
    "# X_train_scaled = X_train_scaled.drop(columns=['pools','lot_size','bedrooms','bathrooms'])\n",
    "# X_validate_scaled = X_validate_scaled.drop(columns=['pools','lot_size','bedrooms','bathrooms'])\n",
    "# X_test_scaled = X_test_scaled.drop(columns=['pools','lot_size','bedrooms','bathrooms'])"
   ]
  },
  {
   "cell_type": "markdown",
   "id": "b42e50d4",
   "metadata": {},
   "source": [
    "# <font color = 'red'>Modeling"
   ]
  },
  {
   "cell_type": "markdown",
   "id": "84199129",
   "metadata": {},
   "source": [
    "## Create Baseline & Evaluate with RMSE"
   ]
  },
  {
   "cell_type": "code",
   "execution_count": null,
   "id": "0582fb28",
   "metadata": {},
   "outputs": [],
   "source": [
    "# We need y_train and y_validate to be dataframes to append the new columns with predicted values. \n",
    "y_train = pd.DataFrame(y_train)\n",
    "y_validate = pd.DataFrame(y_validate)\n",
    "y_test = pd.DataFrame(y_test)\n",
    "y_train.head()"
   ]
  },
  {
   "cell_type": "code",
   "execution_count": null,
   "id": "0ad50c70",
   "metadata": {},
   "outputs": [],
   "source": [
    "# Add target mean column as baseline check\n",
    "y_train['mean_pred'] = y_train.tax_value.mean()\n",
    "y_validate['mean_pred'] = y_validate.tax_value.mean()\n",
    "\n",
    "# add target median column as baseline check\n",
    "y_train['median_pred'] = y_train.tax_value.median()\n",
    "y_validate['median_pred'] = y_validate.tax_value.median()"
   ]
  },
  {
   "cell_type": "code",
   "execution_count": null,
   "id": "0b678171",
   "metadata": {},
   "outputs": [],
   "source": [
    "# Create Baseline RMSE of target mean\n",
    "rmse_train = mean_squared_error(y_train.tax_value, y_train.mean_pred) ** .5\n",
    "rmse_validate = mean_squared_error(y_validate.tax_value, y_validate.mean_pred) ** .5"
   ]
  },
  {
   "cell_type": "code",
   "execution_count": null,
   "id": "2e024b77",
   "metadata": {},
   "outputs": [],
   "source": [
    "# Show RMSE Score for train and validate\n",
    "print(\"RMSE using Mean\\nTrain/In-Sample: \", round(rmse_train, 2), \n",
    "      \"\\nValidate/Out-of-Sample: \", round(rmse_validate, 2))"
   ]
  },
  {
   "cell_type": "code",
   "execution_count": null,
   "id": "172bb8d8",
   "metadata": {},
   "outputs": [],
   "source": [
    "# Create Baseline RMSE of target median\n",
    "rmse_train = mean_squared_error(y_train.tax_value, y_train.median_pred) ** .5\n",
    "rmse_validate = mean_squared_error(y_validate.tax_value, y_validate.median_pred) ** .5"
   ]
  },
  {
   "cell_type": "code",
   "execution_count": null,
   "id": "fe4638c9",
   "metadata": {},
   "outputs": [],
   "source": [
    "# Show RMSE Score for train and validate\n",
    "print(\"RMSE using Median\\nTrain/In-Sample: \", round(rmse_train, 2), \n",
    "      \"\\nValidate/Out-of-Sample: \", round(rmse_validate, 2))"
   ]
  },
  {
   "cell_type": "markdown",
   "id": "0fb9c0d7",
   "metadata": {},
   "source": [
    "### Notes:\n",
    "- Mean Baseline RMSE (258K) is better than Median Baseline RMSE (261K)\n",
    "\n",
    "### Create Metric Holder"
   ]
  },
  {
   "cell_type": "code",
   "execution_count": null,
   "id": "c92f24a3",
   "metadata": {},
   "outputs": [],
   "source": [
    "metric_df = pd.DataFrame(data=[\n",
    "            {\n",
    "                'model': 'mean_baseline', \n",
    "                'RMSE_train': rmse_train,\n",
    "                'RMSE_validate': rmse_validate\n",
    "                }\n",
    "            ])"
   ]
  },
  {
   "cell_type": "code",
   "execution_count": null,
   "id": "332bcbd9",
   "metadata": {},
   "outputs": [],
   "source": [
    "metric_df"
   ]
  },
  {
   "cell_type": "markdown",
   "id": "5d55d87c",
   "metadata": {},
   "source": [
    "## Develop Models "
   ]
  },
  {
   "cell_type": "markdown",
   "id": "2bf3d272",
   "metadata": {},
   "source": [
    "### Create Model 1 - Linear Regression (OLS) "
   ]
  },
  {
   "cell_type": "code",
   "execution_count": null,
   "id": "7ca5cee6",
   "metadata": {},
   "outputs": [],
   "source": [
    "# create, fit, predict ols model\n",
    "ols = LinearRegression()\n",
    "ols.fit(X_train_scaled, y_train.tax_value)\n",
    "y_train['ols_pred'] = ols.predict(X_train_scaled)"
   ]
  },
  {
   "cell_type": "code",
   "execution_count": null,
   "id": "146622b3",
   "metadata": {},
   "outputs": [],
   "source": [
    "ols.coef_"
   ]
  },
  {
   "cell_type": "code",
   "execution_count": null,
   "id": "47b8833f",
   "metadata": {},
   "outputs": [],
   "source": [
    "# create rmse\n",
    "rmse_train = mean_squared_error(y_train.tax_value, y_train.ols_pred) ** .5\n",
    "\n",
    "# predict validate\n",
    "y_validate['ols_pred'] = ols.predict(X_validate_scaled)\n",
    "\n",
    "# evaluate rmse of train and validate\n",
    "rmse_validate = mean_squared_error(y_validate.tax_value, y_validate.ols_pred) ** .5"
   ]
  },
  {
   "cell_type": "code",
   "execution_count": null,
   "id": "204447ca",
   "metadata": {},
   "outputs": [],
   "source": [
    "print(\"RMSE for OLS using LinearRegression\\nTraining/In-Sample: \", rmse_train, \n",
    "      \"\\nValidation/Out-of-Sample: \", rmse_validate)"
   ]
  },
  {
   "cell_type": "code",
   "execution_count": null,
   "id": "4770045b",
   "metadata": {},
   "outputs": [],
   "source": [
    "# add to eval to metric holder\n",
    "metric_df = metric_df.append({\n",
    "    'model': 'ols_egressor', \n",
    "    'RMSE_train': rmse_train,\n",
    "    'RMSE_validate': rmse_validate,\n",
    "    }, ignore_index=True)"
   ]
  },
  {
   "cell_type": "code",
   "execution_count": null,
   "id": "363a6ef7",
   "metadata": {},
   "outputs": [],
   "source": [
    "metric_df"
   ]
  },
  {
   "cell_type": "markdown",
   "id": "34c16373",
   "metadata": {},
   "source": [
    "### Notes:\n",
    "- RMSE of OLS is better than baseline by 44K\n",
    "\n",
    "### Create Model 2: Lassolars with Alpha = .01"
   ]
  },
  {
   "cell_type": "code",
   "execution_count": null,
   "id": "cd65927c",
   "metadata": {},
   "outputs": [],
   "source": [
    "# create object of model\n",
    "lars = LassoLars(alpha=0.01)\n",
    "\n",
    "# fit object to train data. Specify y_train column since it converted to a dataframe\n",
    "lars.fit(X_train_scaled, y_train.tax_value)\n",
    "\n",
    "# predict on train\n",
    "y_train['lars_pred'] = lars.predict(X_train_scaled)\n",
    "\n",
    "# create rmse\n",
    "rmse_train = mean_squared_error(y_train.tax_value, y_train.lars_pred) ** .5\n",
    "\n",
    "# predict validate\n",
    "y_validate['lars_pred'] = lars.predict(X_validate_scaled)\n",
    "\n",
    "# create rmse\n",
    "rmse_validate = mean_squared_error(y_validate.tax_value, y_validate.lars_pred) ** .5"
   ]
  },
  {
   "cell_type": "code",
   "execution_count": null,
   "id": "83a6164c",
   "metadata": {},
   "outputs": [],
   "source": [
    "print(\"RMSE for Lasso + Lars\\nTraining/In-Sample: \", rmse_train, \n",
    "      \"\\nValidation/Out-of-Sample: \", rmse_validate,\n",
    "     \"\\nDifference: \", rmse_validate - rmse_train)"
   ]
  },
  {
   "cell_type": "code",
   "execution_count": null,
   "id": "7c56e77d",
   "metadata": {},
   "outputs": [],
   "source": [
    "lars.coef_"
   ]
  },
  {
   "cell_type": "code",
   "execution_count": null,
   "id": "01262ecc",
   "metadata": {},
   "outputs": [],
   "source": [
    "metric_df = metric_df.append({\n",
    "    'model': 'lasso_alpha_.01', \n",
    "    'RMSE_train': rmse_train,\n",
    "    'RMSE_validate': rmse_validate,\n",
    "    }, ignore_index=True)"
   ]
  },
  {
   "cell_type": "code",
   "execution_count": null,
   "id": "fda7d3bd",
   "metadata": {},
   "outputs": [],
   "source": [
    "metric_df"
   ]
  },
  {
   "cell_type": "markdown",
   "id": "d2734d64",
   "metadata": {},
   "source": [
    "### Notes:\n",
    "- Lassolars RMSE is the same as OLS\n",
    "\n",
    "### Create Model 3: TweedieRegressor (GLM) General Linear Model with Power  = 1 (Poisson) and Alpha=.01"
   ]
  },
  {
   "cell_type": "code",
   "execution_count": null,
   "id": "b1fbda4e",
   "metadata": {},
   "outputs": [],
   "source": [
    "# create the model object\n",
    "glm = TweedieRegressor(power=1, alpha=.01)\n",
    "\n",
    "\n",
    "# fit the model train data. Specify y_train columns since it was converted to dataframe \n",
    "glm.fit(X_train_scaled, y_train.tax_value)\n",
    "\n",
    "# predict train\n",
    "y_train['glm_pred'] = glm.predict(X_train_scaled)\n",
    "\n",
    "# create rmse\n",
    "rmse_train = mean_squared_error(y_train.tax_value, y_train.glm_pred) ** .5\n",
    "\n",
    "# predict validate\n",
    "y_validate['glm_pred'] = glm.predict(X_validate_scaled)\n",
    "\n",
    "# evaluate train and validate rmse\n",
    "rmse_validate = mean_squared_error(y_validate.tax_value, y_validate.glm_pred) ** .5\n",
    "\n",
    "print(\"RMSE for GLM using Tweedie, power=1 & alpha=.01\\nTraining/In-Sample: \", rmse_train, \n",
    "      \"\\nValidation/Out-of-Sample: \", rmse_validate)"
   ]
  },
  {
   "cell_type": "code",
   "execution_count": null,
   "id": "0e88db5e",
   "metadata": {},
   "outputs": [],
   "source": [
    "# added to metric holder\n",
    "metric_df = metric_df.append({\n",
    "    'model': 'glm_poisson_.01', \n",
    "    'RMSE_train': rmse_train,\n",
    "    'RMSE_validate': rmse_validate,\n",
    "    }, ignore_index=True)"
   ]
  },
  {
   "cell_type": "code",
   "execution_count": null,
   "id": "8278c560",
   "metadata": {},
   "outputs": [],
   "source": [
    "metric_df"
   ]
  },
  {
   "cell_type": "markdown",
   "id": "98d9cceb",
   "metadata": {},
   "source": [
    "### Notes:\n",
    "- glm rmse is the same as ols and lassolars\n",
    "\n",
    "### Create Model 4 - Polynomial Regression"
   ]
  },
  {
   "cell_type": "code",
   "execution_count": null,
   "id": "298a990b",
   "metadata": {},
   "outputs": [],
   "source": [
    "# create polynomial features\n",
    "pf = PolynomialFeatures(degree=2)\n",
    "\n",
    "# fit and transform X_train_scaled\n",
    "X_train_degree2 = pf.fit_transform(X_train_scaled)\n",
    "\n",
    "# transform X_validate_scaled & X_test_scaled to new sets\n",
    "X_validate_degree2 = pf.transform(X_validate_scaled)\n",
    "X_test_degree2 =  pf.transform(X_test_scaled)"
   ]
  },
  {
   "cell_type": "code",
   "execution_count": null,
   "id": "1ccc7b9f",
   "metadata": {},
   "outputs": [],
   "source": [
    "# create the model object\n",
    "lm2 = LinearRegression()\n",
    "\n",
    "# fit the model train data. Specify y_train columns since it was converted to dataframe  \n",
    "lm2.fit(X_train_degree2, y_train.tax_value)\n",
    "\n",
    "# predict train\n",
    "y_train['lm2_pred'] = lm2.predict(X_train_degree2)\n",
    "\n",
    "# create rmse\n",
    "rmse_train = mean_squared_error(y_train.tax_value, y_train.lm2_pred) ** .5\n",
    "\n",
    "# predict validate\n",
    "y_validate['lm2_pred'] = lm2.predict(X_validate_degree2)\n",
    "\n",
    "# evaluate rmse\n",
    "rmse_validate = mean_squared_error(y_validate.tax_value, y_validate.lm2_pred) ** .5"
   ]
  },
  {
   "cell_type": "code",
   "execution_count": null,
   "id": "847d802c",
   "metadata": {},
   "outputs": [],
   "source": [
    "print(\"RMSE for Polynomial Model, degrees=2\\nTraining/In-Sample: \", rmse_train, \n",
    "      \"\\nValidation/Out-of-Sample: \", rmse_validate)"
   ]
  },
  {
   "cell_type": "code",
   "execution_count": null,
   "id": "c733d016",
   "metadata": {},
   "outputs": [],
   "source": [
    "# add to metric holder\n",
    "metric_df = metric_df.append({\n",
    "    'model': 'PolynomialRegressor', \n",
    "    'RMSE_train': rmse_train,\n",
    "    'RMSE_validate': rmse_validate,\n",
    "    }, ignore_index=True)"
   ]
  },
  {
   "cell_type": "code",
   "execution_count": null,
   "id": "3bdf8777",
   "metadata": {},
   "outputs": [],
   "source": [
    "metric_df"
   ]
  },
  {
   "cell_type": "markdown",
   "id": "2c4008ff",
   "metadata": {},
   "source": [
    "### Notes:\n",
    "- Polynomial Regression RMSE is better than ols and lassolars by 8K\n",
    "\n",
    "### Create Model 5 - New LassoLars with Alpha .0001\n",
    "- I changed alpha to .01 and RMSE didn't change"
   ]
  },
  {
   "cell_type": "code",
   "execution_count": null,
   "id": "1206aa8e",
   "metadata": {},
   "outputs": [],
   "source": [
    "# create object of model\n",
    "lars = LassoLars(alpha=0.0001)\n",
    "\n",
    "# fit object to train data. Specify y_train column since it converted to a dataframe\n",
    "lars.fit(X_train_scaled, y_train.tax_value)\n",
    "\n",
    "# predict on train\n",
    "y_train['lars_pred_.0001'] = lars.predict(X_train_scaled)\n",
    "\n",
    "# create rmse\n",
    "rmse_train = mean_squared_error(y_train.tax_value, y_train['lars_pred_.0001']) ** .5\n",
    "\n",
    "# predict validate\n",
    "y_validate['lars_pred_.0001'] = lars.predict(X_validate_scaled)\n",
    "\n",
    "# create rmse\n",
    "rmse_validate = mean_squared_error(y_validate.tax_value, y_validate['lars_pred_.0001']) ** .5\n",
    "\n",
    "print(\"RMSE for Lasso + Lars, alpha=.0001\\nTraining/In-Sample: \", rmse_train, \n",
    "      \"\\nValidation/Out-of-Sample: \", rmse_validate,\n",
    "     \"\\nDifference: \", rmse_validate - rmse_train)\n",
    "\n",
    "# add to metric holder\n",
    "metric_df = metric_df.append({\n",
    "    'model': 'LassoLars_.0001', \n",
    "    'RMSE_train': rmse_train,\n",
    "    'RMSE_validate': rmse_validate,\n",
    "    }, ignore_index=True)"
   ]
  },
  {
   "cell_type": "code",
   "execution_count": null,
   "id": "f843d3e8",
   "metadata": {},
   "outputs": [],
   "source": [
    "metric_df"
   ]
  },
  {
   "cell_type": "markdown",
   "id": "66abb50f",
   "metadata": {},
   "source": [
    "# Notes:\n",
    "- Still Around 230K\n",
    "\n",
    "### Create Model 6 - TweedieRegressor with Alpha = .0001 and Power = 1 (Poisson)"
   ]
  },
  {
   "cell_type": "code",
   "execution_count": null,
   "id": "de0c6f9e",
   "metadata": {},
   "outputs": [],
   "source": [
    "# create the model object\n",
    "glm = TweedieRegressor(power=1, alpha=.0001)\n",
    "\n",
    "\n",
    "# fit the model train data. Specify y_train columns since it was converted to dataframe \n",
    "glm.fit(X_train_scaled, y_train.tax_value)\n",
    "\n",
    "# predict train\n",
    "y_train['glm_pred_.0001'] = glm.predict(X_train_scaled)\n",
    "\n",
    "# create rmse\n",
    "rmse_train = mean_squared_error(y_train.tax_value, y_train['glm_pred_.0001']) ** .5\n",
    "\n",
    "# predict validate\n",
    "y_validate['glm_pred_.0001'] = glm.predict(X_validate_scaled)\n",
    "\n",
    "# evaluate train and validate rmse\n",
    "rmse_validate = mean_squared_error(y_validate.tax_value, y_validate['glm_pred_.0001']) ** .5\n",
    "\n",
    "print(\"RMSE for GLM using Tweedie, power=1 & alpha=.0001\\nTraining/In-Sample: \", rmse_train, \n",
    "      \"\\nValidation/Out-of-Sample: \", rmse_validate)\n",
    "\n",
    "# add to metric holder\n",
    "metric_df = metric_df.append({\n",
    "    'model': 'glm_poisson_.0001', \n",
    "    'RMSE_train': rmse_train,\n",
    "    'RMSE_validate': rmse_validate,\n",
    "    }, ignore_index=True)"
   ]
  },
  {
   "cell_type": "code",
   "execution_count": null,
   "id": "d1dfcf01",
   "metadata": {},
   "outputs": [],
   "source": [
    "metric_df"
   ]
  },
  {
   "cell_type": "markdown",
   "id": "0c4e85c1",
   "metadata": {},
   "source": [
    "### Notes:\n",
    "- Polynomial Regression performs the best at 209K, around 8K better\n",
    "- I experimented with reducing features: removed fips, then removed year_built with only change to Polynomial Regressor bringing it closer to others.Finally added features: lot_size, lat/long, pools.\n",
    "- GLM scored the worst at 266K, cose to baseline 270K, DO NOT USE (first iteration)\n",
    "- (2nd Run) All except PolyReg was the same scored at 217K\n",
    "- OLS and LassoLars scored around 230K (first run)"
   ]
  },
  {
   "cell_type": "markdown",
   "id": "1e913a75",
   "metadata": {},
   "source": [
    "## <font color = 'red' > Evaluate\n",
    "    \n",
    "### Plotting Actual vs Predicted Values"
   ]
  },
  {
   "cell_type": "code",
   "execution_count": null,
   "id": "c77ccc2d",
   "metadata": {},
   "outputs": [],
   "source": [
    "# y_validate.head()\n",
    "plt.figure(figsize=(16,8))\n",
    "plt.plot(y_validate.tax_value, y_validate.mean_pred, alpha=.5, color=\"gray\", label='_nolegend_')\n",
    "plt.annotate(\"Baseline: Predict Using Mean\", (16, 9.5))\n",
    "plt.plot(y_validate.tax_value, y_validate.tax_value, alpha=.5, color=\"blue\", label='_nolegend_')\n",
    "plt.annotate(\"The Ideal Line: Predicted = Actual\", (.5, 3.5), rotation=20)\n",
    "\n",
    "plt.scatter(y_validate.tax_value, y_validate.ols_pred, \n",
    "            alpha=.5, color=\"red\", s=100, label=\"Model: LinearRegression\")\n",
    "plt.scatter(y_validate.tax_value, y_validate.glm_pred, \n",
    "            alpha=.5, color=\"yellow\", s=100, label=\"Model: TweedieRegressor\")\n",
    "plt.scatter(y_validate.tax_value, y_validate.lm2_pred, \n",
    "            alpha=.5, color=\"green\", s=100, label=\"Model 2nd degree Polynomial\")\n",
    "plt.legend()\n",
    "plt.xlabel(\"Actual Tax Value\")\n",
    "plt.ylabel(\"Predicted Tax Value\")\n",
    "plt.title(\"Where are predictions more extreme? More modest?\")\n",
    "# plt.annotate(\"The polynomial model appears to overreact to noise\", (2.0, -10))\n",
    "# plt.annotate(\"The OLS model (LinearRegression)\\n appears to be most consistent\", (15.5, 3))\n",
    "plt.show()"
   ]
  },
  {
   "cell_type": "markdown",
   "id": "e853e25e",
   "metadata": {},
   "source": [
    "### Notes:\n",
    "- ????\n",
    "\n",
    "### Residual Plots: Plotting the Errors in Predictions"
   ]
  },
  {
   "cell_type": "code",
   "execution_count": null,
   "id": "bbed9e9b",
   "metadata": {},
   "outputs": [],
   "source": [
    "# y_validate.head()\n",
    "plt.figure(figsize=(16,8))\n",
    "plt.axhline(label=\"No Error\")\n",
    "plt.scatter(y_validate.tax_value, y_validate.ols_pred - y_validate.tax_value , \n",
    "            alpha=.5, color=\"red\", s=100, label=\"Model: LinearRegression\")\n",
    "plt.scatter(y_validate.tax_value, y_validate.glm_pred - y_validate.tax_value, \n",
    "            alpha=.5, color=\"yellow\", s=100, label=\"Model: TweedieRegressor\")\n",
    "plt.scatter(y_validate.tax_value, y_validate.lm2_pred - y_validate.tax_value, \n",
    "            alpha=.5, color=\"green\", s=100, label=\"Model 2nd degree Polynomial\")\n",
    "plt.legend()\n",
    "plt.xlabel(\"Actual Tax Value\")\n",
    "plt.ylabel(\"Residual/Error: Predicted Tax Value - Actual Tax Value\")\n",
    "# plt.title(\"Do the size of errors change as the actual value changes?\")\n",
    "# plt.annotate(\"The polynomial model appears to overreact to noise\", (2.0, -10))\n",
    "# plt.annotate(\"The OLS model (LinearRegression)\\n appears to be most consistent\", (15.5, 3))\n",
    "plt.show()"
   ]
  },
  {
   "cell_type": "markdown",
   "id": "e47d7681",
   "metadata": {},
   "source": [
    "### Notes:\n",
    "- ???\n",
    "\n",
    "### Histograms of Actuals vs Predicted Values"
   ]
  },
  {
   "cell_type": "code",
   "execution_count": null,
   "id": "f3510ce0",
   "metadata": {},
   "outputs": [],
   "source": [
    "# plot to visualize actual vs predicted. \n",
    "plt.figure(figsize=(16,8))\n",
    "plt.hist(y_validate.tax_value, color='blue', alpha=.5, label=\"Actual Tax Values\")\n",
    "plt.hist(y_validate.ols_pred, color='red', alpha=.5, label=\"Model: LinearRegression\")\n",
    "plt.hist(y_validate.glm_pred, color='yellow', alpha=.5, label=\"Model: TweedieRegressor\")\n",
    "plt.hist(y_validate.lm2_pred, color='green', alpha=.5, label=\"Model 2nd degree Polynomial\")\n",
    "plt.xlabel(\"Tax Values\")\n",
    "plt.ylabel(\"Number of Homes \")\n",
    "plt.title(\"Comparing the Distribution of Actual Tax Values to Distributions of Predicted Tax Values for the Top Models\")\n",
    "plt.legend()\n",
    "plt.show()"
   ]
  },
  {
   "cell_type": "markdown",
   "id": "2067f7ea",
   "metadata": {},
   "source": [
    "### Notes:\n",
    "- Models capture most of actual values distribution but miss the lower valued homes\n",
    "\n",
    "## Model Selection and Out-of-Sample Evaluatoin"
   ]
  },
  {
   "cell_type": "code",
   "execution_count": null,
   "id": "3093c4e2",
   "metadata": {},
   "outputs": [],
   "source": [
    "# predict train\n",
    "y_test['lm2_pred'] = lm2.predict(X_test_degree2)\n",
    "\n",
    "# create rmse\n",
    "rmse_test = mean_squared_error(y_test.tax_value, y_test.lm2_pred) ** .5\n",
    "\n",
    "print(\"RMSE for Polynomial Model, degrees=2\\nTest/Out-of-Sample: \", rmse_test)# add to metric holder"
   ]
  },
  {
   "cell_type": "code",
   "execution_count": null,
   "id": "b2316652",
   "metadata": {},
   "outputs": [],
   "source": [
    "metric_df"
   ]
  },
  {
   "cell_type": "markdown",
   "id": "616e1398",
   "metadata": {},
   "source": [
    "### Notes:\n",
    "- Polynomial Model RMSE is 18.6M indicating wrong model to use and/or overfit\n",
    "\n",
    "### Check with OLS"
   ]
  },
  {
   "cell_type": "code",
   "execution_count": null,
   "id": "02e9a8f1",
   "metadata": {},
   "outputs": [],
   "source": [
    "# predict test\n",
    "y_test['ols_pred'] = ols.predict(X_test_scaled)\n",
    "\n",
    "# evaluate rmse of train and validate\n",
    "rmse_test = mean_squared_error(y_test.tax_value, y_test.ols_pred) ** (1/2)\n",
    "\n",
    "print(\"RMSE for OLS using LinearRegression\\nTraining/In-Sample: \", rmse_test)"
   ]
  },
  {
   "cell_type": "markdown",
   "id": "1e02e590",
   "metadata": {},
   "source": [
    "### Note:\n",
    "- OLS performed worse than baseline on test data set"
   ]
  },
  {
   "cell_type": "markdown",
   "id": "81bd3584",
   "metadata": {},
   "source": [
    "# <font color = 'red'> Conclusion"
   ]
  },
  {
   "cell_type": "markdown",
   "id": "68596f8b",
   "metadata": {},
   "source": [
    "## Summary\n",
    "- \n",
    "\n",
    "## Recommendations\n",
    "- ???\n",
    "\n",
    "## Conclusion\n",
    "- ???"
   ]
  },
  {
   "cell_type": "markdown",
   "id": "d9eb8c04",
   "metadata": {},
   "source": [
    "### Project Description\n",
    "\n",
    "- A model that predicts property tax assessed values of single family properties based on 2017 transactions.\n",
    "- Identify ways to make a better model for Zillow.\n",
    "- Create new features out of existing features.\n",
    "- Try non-linear regression model or try a model for each count\n",
    "\n",
    "Deliver:\n",
    "1. Github Repo\n",
    "    - README.md\n",
    "    - Final Report\n",
    "    - Working Notebooks\n",
    "    - Acquire and Prepare Modules\n",
    "    - Misc Artifacts\n",
    "1. Regression Model (Linear or Non-Linear)\n",
    "2. Final Notebook with Recommendation\n",
    "    - 4 Visuals, 2 with stats tests\n",
    "        - Data Context of Target Variable (Distribution of values)\n",
    "    - 3 Best Models (show steps/code to fit/eval/select)\n",
    "    - Visual of how best Model performed\n",
    "3. Working Notebook:\n",
    "    - Reproducible comments\n",
    "    - Exploration with at least two stats test during exploration\n",
    "5. Presentation\n",
    "    - Findings\n",
    "    - Methodologies\n",
    "    - Conclusions\n",
    "\n",
    "### Initial Questions\n",
    "\n",
    "- What are the transactions are in 2017?\n",
    "- What states and counties are the properties located in?\n",
    "- What is the tax rate per county or fips? (might have to combine columns to calcualate)\n",
    "- What is the distribution of tax rates for each county?\n",
    "- What is the distribution of taxes across fips?\n",
    "- What are the drivers of single family property values?\n",
    "- Why do some properties have a much higher value than others when they are located so close to each other?\n",
    "- Why are some properties valued so differently from others when they have nearly the same physical attributes but only differ in location? \n",
    "- Is having 1 bathroom worse than having 2 bedrooms?"
   ]
  },
  {
   "cell_type": "markdown",
   "id": "279afc77",
   "metadata": {},
   "source": [
    "## Live Presentation\n",
    "\n",
    "- intro (live)\n",
    "- audience & setting  (live)\n",
    "- content (live)\n",
    "- Verbal Conclusion (findings, next steps, recommendations)  (live) \n",
    "- time (live) "
   ]
  },
  {
   "cell_type": "markdown",
   "id": "f97f62b0",
   "metadata": {},
   "source": [
    "## Deliver Predictions\n",
    "- Deliver predictions (.csv) "
   ]
  }
 ],
 "metadata": {
  "kernelspec": {
   "display_name": "Python 3",
   "language": "python",
   "name": "python3"
  },
  "language_info": {
   "codemirror_mode": {
    "name": "ipython",
    "version": 3
   },
   "file_extension": ".py",
   "mimetype": "text/x-python",
   "name": "python",
   "nbconvert_exporter": "python",
   "pygments_lexer": "ipython3",
   "version": "3.8.8"
  }
 },
 "nbformat": 4,
 "nbformat_minor": 5
}
